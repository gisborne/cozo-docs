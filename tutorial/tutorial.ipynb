{
 "cells": [
  {
   "cell_type": "markdown",
   "metadata": {},
   "source": [
    "# Tutorial\n",
    "\n",
    "This tutorial will teach you the basics of using the Cozo database.\n",
    "\n",
    "There are several ways you can run the queries in this tutorial:\n",
    "\n",
    "* You can run the examples in your browser without installing anything: just open [Cozo in Wasm](https://www.cozodb.org/wasm-demo/)\n",
    "and you are ready to go.\n",
    "* You can download the appropriate `cozo-*` executable for your operating system from the [release page](https://github.com/cozodb/cozo/releases), uncompress, rename to `cozo`, and run the REPL mode by running in a terminal `cozo repl` and follow along.\n",
    "* If you are familiar with the Python datascience stack, you should following the instruction [here](https://github.com/cozodb/pycozo) instead to run this notebook in Jupyter Lab, with the [notebook file](https://github.com/cozodb/cozo-docs/blob/main/source/tutorial.ipynb).\n",
    "* There are [many other ways](https://github.com/cozodb/cozo#Install), but the above ones are the easiest.\n",
    "\n",
    "The following cell is to set up Jupyter. Ignore if you are using other methods.\n",
    "##%%\n"
   ]
  },
  {
   "cell_type": "code",
   "execution_count": 1,
   "metadata": {},
   "outputs": [],
   "source": [
    "%load_ext pycozo.ipyext_direct"
   ]
  },
  {
   "cell_type": "markdown",
   "metadata": {},
   "source": [
    "## Introduction\n",
    "\n",
    "Datalog is pattern matching for your data.\n",
    "\n",
    "This sort of thing (Ruby):\n",
    "\n",
    "```\n",
    "config = {db: {user: 'admin', password: 'abc123'}}\n",
    "\n",
    "case config\n",
    "in db: {user:} # matches subhash and puts matched value in variable user\n",
    "  puts \"Connect with user '#{user}'\"\n",
    "in connection: {username: }\n",
    "  puts \"Connect with user '#{username}'\"\n",
    "else\n",
    "  puts \"Unrecognized structure of config\"\n",
    "end\n",
    "# Prints: \"Connect with user 'admin'\"\n",
    "```\n",
    "Broadly speaking, you provide some values and variables that constitute a pattern for pulling apart some data structure. The matching simultaneously chooses an execution path and gets values of the variables that match out of the data structure.\n",
    "\n",
    "## First steps\n",
    "\n",
    "Cozo is a relational database. Relations are similar to tables in SQL. The difference is that you can't have duplicate rows in a relation.\n",
    "\n",
    "You can define and then retrieve all the rows from a relation in Cozo like this:"
   ]
  },
  {
   "cell_type": "code",
   "execution_count": 2,
   "metadata": {},
   "outputs": [
    {
     "data": {
      "text/html": [
       "<style type=\"text/css\">\n",
       "#T_1a4d6_row0_col0, #T_1a4d6_row0_col1, #T_1a4d6_row0_col2 {\n",
       "  color: black;\n",
       "}\n",
       "</style>\n",
       "<table id=\"T_1a4d6\">\n",
       "  <thead>\n",
       "    <tr>\n",
       "      <th class=\"blank level0\" >&nbsp;</th>\n",
       "      <th id=\"T_1a4d6_level0_col0\" class=\"col_heading level0 col0\" >_0</th>\n",
       "      <th id=\"T_1a4d6_level0_col1\" class=\"col_heading level0 col1\" >_1</th>\n",
       "      <th id=\"T_1a4d6_level0_col2\" class=\"col_heading level0 col2\" >_2</th>\n",
       "    </tr>\n",
       "  </thead>\n",
       "  <tbody>\n",
       "    <tr>\n",
       "      <th id=\"T_1a4d6_level0_row0\" class=\"row_heading level0 row0\" >0</th>\n",
       "      <td id=\"T_1a4d6_row0_col0\" class=\"data row0 col0\" >hello</td>\n",
       "      <td id=\"T_1a4d6_row0_col1\" class=\"data row0 col1\" >world</td>\n",
       "      <td id=\"T_1a4d6_row0_col2\" class=\"data row0 col2\" >Cozo!</td>\n",
       "    </tr>\n",
       "  </tbody>\n",
       "</table>\n"
      ],
      "text/plain": [
       "<pandas.io.formats.style.Styler at 0x1062ad570>"
      ]
     },
     "execution_count": 2,
     "metadata": {},
     "output_type": "execute_result"
    }
   ],
   "source": [
    "?[] <- [['hello', 'world', 'Cozo!']]"
   ]
  },
  {
   "cell_type": "markdown",
   "metadata": {},
   "source": [
    "This is a rule. The <- separates the head of the rule on the left from the body on the right. The `[] <-` acts like SELECT * in SQL. The above query in SQL would look something like:\n",
    "```\n",
    "SELECT * FROM (VALUES(‘hello’, ‘world’, ‘sql’)) as unnecessary_alias;\n",
    "```\n",
    "(a hint here of Datalog’s freedom from the endless ceremony that plagues SQL)\n",
    "\n",
    "You can have multiple rows:"
   ]
  },
  {
   "cell_type": "code",
   "execution_count": 3,
   "metadata": {},
   "outputs": [
    {
     "data": {
      "text/html": [
       "<style type=\"text/css\">\n",
       "#T_dd8c1_row0_col0, #T_dd8c1_row0_col1, #T_dd8c1_row0_col2 {\n",
       "  color: #307fc1;\n",
       "}\n",
       "#T_dd8c1_row1_col0, #T_dd8c1_row1_col1, #T_dd8c1_row1_col2 {\n",
       "  color: black;\n",
       "}\n",
       "</style>\n",
       "<table id=\"T_dd8c1\">\n",
       "  <thead>\n",
       "    <tr>\n",
       "      <th class=\"blank level0\" >&nbsp;</th>\n",
       "      <th id=\"T_dd8c1_level0_col0\" class=\"col_heading level0 col0\" >_0</th>\n",
       "      <th id=\"T_dd8c1_level0_col1\" class=\"col_heading level0 col1\" >_1</th>\n",
       "      <th id=\"T_dd8c1_level0_col2\" class=\"col_heading level0 col2\" >_2</th>\n",
       "    </tr>\n",
       "  </thead>\n",
       "  <tbody>\n",
       "    <tr>\n",
       "      <th id=\"T_dd8c1_level0_row0\" class=\"row_heading level0 row0\" >0</th>\n",
       "      <td id=\"T_dd8c1_row0_col0\" class=\"data row0 col0\" >1</td>\n",
       "      <td id=\"T_dd8c1_row0_col1\" class=\"data row0 col1\" >2</td>\n",
       "      <td id=\"T_dd8c1_row0_col2\" class=\"data row0 col2\" >3</td>\n",
       "    </tr>\n",
       "    <tr>\n",
       "      <th id=\"T_dd8c1_level0_row1\" class=\"row_heading level0 row1\" >1</th>\n",
       "      <td id=\"T_dd8c1_row1_col0\" class=\"data row1 col0\" >a</td>\n",
       "      <td id=\"T_dd8c1_row1_col1\" class=\"data row1 col1\" >b</td>\n",
       "      <td id=\"T_dd8c1_row1_col2\" class=\"data row1 col2\" >c</td>\n",
       "    </tr>\n",
       "  </tbody>\n",
       "</table>\n"
      ],
      "text/plain": [
       "<pandas.io.formats.style.Styler at 0x11f53bdf0>"
      ]
     },
     "execution_count": 3,
     "metadata": {},
     "output_type": "execute_result"
    }
   ],
   "source": [
    "?[] <- [[1, 2, 3], ['a', 'b', 'c']]"
   ]
  },
  {
   "cell_type": "markdown",
   "metadata": {},
   "source": [
    "You can have the usual sorts of types:"
   ]
  },
  {
   "cell_type": "code",
   "execution_count": 4,
   "metadata": {},
   "outputs": [
    {
     "data": {
      "text/html": [
       "<style type=\"text/css\">\n",
       "#T_cd2ad_row0_col0, #T_cd2ad_row0_col1, #T_cd2ad_row0_col3, #T_cd2ad_row1_col0, #T_cd2ad_row1_col1, #T_cd2ad_row1_col2, #T_cd2ad_row1_col3, #T_cd2ad_row1_col4 {\n",
       "  color: #307fc1;\n",
       "}\n",
       "#T_cd2ad_row0_col2 {\n",
       "  color: #bf5b3d;\n",
       "}\n",
       "#T_cd2ad_row0_col4, #T_cd2ad_row2_col0, #T_cd2ad_row2_col1, #T_cd2ad_row2_col2, #T_cd2ad_row2_col3, #T_cd2ad_row2_col4 {\n",
       "  color: black;\n",
       "}\n",
       "</style>\n",
       "<table id=\"T_cd2ad\">\n",
       "  <thead>\n",
       "    <tr>\n",
       "      <th class=\"blank level0\" >&nbsp;</th>\n",
       "      <th id=\"T_cd2ad_level0_col0\" class=\"col_heading level0 col0\" >_0</th>\n",
       "      <th id=\"T_cd2ad_level0_col1\" class=\"col_heading level0 col1\" >_1</th>\n",
       "      <th id=\"T_cd2ad_level0_col2\" class=\"col_heading level0 col2\" >_2</th>\n",
       "      <th id=\"T_cd2ad_level0_col3\" class=\"col_heading level0 col3\" >_3</th>\n",
       "      <th id=\"T_cd2ad_level0_col4\" class=\"col_heading level0 col4\" >_4</th>\n",
       "    </tr>\n",
       "  </thead>\n",
       "  <tbody>\n",
       "    <tr>\n",
       "      <th id=\"T_cd2ad_level0_row0\" class=\"row_heading level0 row0\" >0</th>\n",
       "      <td id=\"T_cd2ad_row0_col0\" class=\"data row0 col0\" >True</td>\n",
       "      <td id=\"T_cd2ad_row0_col1\" class=\"data row0 col1\" >False</td>\n",
       "      <td id=\"T_cd2ad_row0_col2\" class=\"data row0 col2\" >None</td>\n",
       "      <td id=\"T_cd2ad_row0_col3\" class=\"data row0 col3\" >-0.014000</td>\n",
       "      <td id=\"T_cd2ad_row0_col4\" class=\"data row0 col4\" >A string with double quotes</td>\n",
       "    </tr>\n",
       "    <tr>\n",
       "      <th id=\"T_cd2ad_level0_row1\" class=\"row_heading level0 row1\" >1</th>\n",
       "      <td id=\"T_cd2ad_row1_col0\" class=\"data row1 col0\" >1.500000</td>\n",
       "      <td id=\"T_cd2ad_row1_col1\" class=\"data row1 col1\" >2.500000</td>\n",
       "      <td id=\"T_cd2ad_row1_col2\" class=\"data row1 col2\" >3</td>\n",
       "      <td id=\"T_cd2ad_row1_col3\" class=\"data row1 col3\" >4</td>\n",
       "      <td id=\"T_cd2ad_row1_col4\" class=\"data row1 col4\" >5.500000</td>\n",
       "    </tr>\n",
       "    <tr>\n",
       "      <th id=\"T_cd2ad_level0_row2\" class=\"row_heading level0 row2\" >2</th>\n",
       "      <td id=\"T_cd2ad_row2_col0\" class=\"data row2 col0\" >aA</td>\n",
       "      <td id=\"T_cd2ad_row2_col1\" class=\"data row2 col1\" >bB</td>\n",
       "      <td id=\"T_cd2ad_row2_col2\" class=\"data row2 col2\" >cC</td>\n",
       "      <td id=\"T_cd2ad_row2_col3\" class=\"data row2 col3\" >dD</td>\n",
       "      <td id=\"T_cd2ad_row2_col4\" class=\"data row2 col4\" >eE</td>\n",
       "    </tr>\n",
       "  </tbody>\n",
       "</table>\n"
      ],
      "text/plain": [
       "<pandas.io.formats.style.Styler at 0x1062acfa0>"
      ]
     },
     "execution_count": 4,
     "metadata": {},
     "output_type": "execute_result"
    }
   ],
   "source": [
    "?[] <- [[1.5, 2.5, 3, 4, 5.5], \n",
    "        ['aA', 'bB', 'cC', 'dD', 'eE'], \n",
    "        [true, false, null, -1.4e-2, \"A string with double quotes\"]]"
   ]
  },
  {
   "cell_type": "markdown",
   "metadata": {},
   "source": [
    "The input literal representations are similar to those in JavaScript. \n",
    "In particular, strings in double quotes are guaranteed to be interpreted in the same way as in JSON.\n",
    "The output are in JSON, but how they appear on your screen depends on your setup.\n",
    "For example, if you are using a Python setup, booleans are displayed as `True` and `False` instead of in lowercase,\n",
    "since they are converted to the native Python datatypes for display.\n",
    "\n",
    "In the last example, you may have noticed that the returned order is not the same as the input order.\n",
    "This is because in Cozo relations are always stored as trees, and trees are always sorted.\n",
    "\n",
    "Another consequence of relations as trees is that you can have no duplicate rows:"
   ]
  },
  {
   "cell_type": "code",
   "execution_count": 5,
   "metadata": {},
   "outputs": [
    {
     "data": {
      "text/html": [
       "<style type=\"text/css\">\n",
       "#T_de3da_row0_col0, #T_de3da_row1_col0 {\n",
       "  color: #307fc1;\n",
       "}\n",
       "</style>\n",
       "<table id=\"T_de3da\">\n",
       "  <thead>\n",
       "    <tr>\n",
       "      <th class=\"blank level0\" >&nbsp;</th>\n",
       "      <th id=\"T_de3da_level0_col0\" class=\"col_heading level0 col0\" >_0</th>\n",
       "    </tr>\n",
       "  </thead>\n",
       "  <tbody>\n",
       "    <tr>\n",
       "      <th id=\"T_de3da_level0_row0\" class=\"row_heading level0 row0\" >0</th>\n",
       "      <td id=\"T_de3da_row0_col0\" class=\"data row0 col0\" >1</td>\n",
       "    </tr>\n",
       "    <tr>\n",
       "      <th id=\"T_de3da_level0_row1\" class=\"row_heading level0 row1\" >1</th>\n",
       "      <td id=\"T_de3da_row1_col0\" class=\"data row1 col0\" >2</td>\n",
       "    </tr>\n",
       "  </tbody>\n",
       "</table>\n"
      ],
      "text/plain": [
       "<pandas.io.formats.style.Styler at 0x1062ad510>"
      ]
     },
     "execution_count": 5,
     "metadata": {},
     "output_type": "execute_result"
    }
   ],
   "source": [
    "?[] <- [[1], [2], [1], [2], [1]]"
   ]
  },
  {
   "cell_type": "markdown",
   "metadata": {},
   "source": [
    "## Expressions\n",
    "\n",
    "The next example shows the use of various expressions and comments:"
   ]
  },
  {
   "cell_type": "code",
   "execution_count": 6,
   "metadata": {},
   "outputs": [
    {
     "data": {
      "text/html": [
       "<style type=\"text/css\">\n",
       "#T_822e0_row0_col0, #T_822e0_row0_col1, #T_822e0_row0_col2, #T_822e0_row0_col3, #T_822e0_row0_col4, #T_822e0_row0_col5, #T_822e0_row0_col7 {\n",
       "  color: #307fc1;\n",
       "}\n",
       "#T_822e0_row0_col6 {\n",
       "  color: black;\n",
       "}\n",
       "#T_822e0_row0_col8 {\n",
       "  color: #bf5b3d;\n",
       "}\n",
       "</style>\n",
       "<table id=\"T_822e0\">\n",
       "  <thead>\n",
       "    <tr>\n",
       "      <th class=\"blank level0\" >&nbsp;</th>\n",
       "      <th id=\"T_822e0_level0_col0\" class=\"col_heading level0 col0\" >_0</th>\n",
       "      <th id=\"T_822e0_level0_col1\" class=\"col_heading level0 col1\" >_1</th>\n",
       "      <th id=\"T_822e0_level0_col2\" class=\"col_heading level0 col2\" >_2</th>\n",
       "      <th id=\"T_822e0_level0_col3\" class=\"col_heading level0 col3\" >_3</th>\n",
       "      <th id=\"T_822e0_level0_col4\" class=\"col_heading level0 col4\" >_4</th>\n",
       "      <th id=\"T_822e0_level0_col5\" class=\"col_heading level0 col5\" >_5</th>\n",
       "      <th id=\"T_822e0_level0_col6\" class=\"col_heading level0 col6\" >_6</th>\n",
       "      <th id=\"T_822e0_level0_col7\" class=\"col_heading level0 col7\" >_7</th>\n",
       "      <th id=\"T_822e0_level0_col8\" class=\"col_heading level0 col8\" >_8</th>\n",
       "    </tr>\n",
       "  </thead>\n",
       "  <tbody>\n",
       "    <tr>\n",
       "      <th id=\"T_822e0_level0_row0\" class=\"row_heading level0 row0\" >0</th>\n",
       "      <td id=\"T_822e0_row0_col0\" class=\"data row0 col0\" >3</td>\n",
       "      <td id=\"T_822e0_row0_col1\" class=\"data row0 col1\" >0.750000</td>\n",
       "      <td id=\"T_822e0_row0_col2\" class=\"data row0 col2\" >False</td>\n",
       "      <td id=\"T_822e0_row0_col3\" class=\"data row0 col3\" >False</td>\n",
       "      <td id=\"T_822e0_row0_col4\" class=\"data row0 col4\" >True</td>\n",
       "      <td id=\"T_822e0_row0_col5\" class=\"data row0 col5\" >False</td>\n",
       "      <td id=\"T_822e0_row0_col6\" class=\"data row0 col6\" >hello</td>\n",
       "      <td id=\"T_822e0_row0_col7\" class=\"data row0 col7\" >0.364268</td>\n",
       "      <td id=\"T_822e0_row0_col8\" class=\"data row0 col8\" >[1, 2, 3, 4, 5, 6, 7]</td>\n",
       "    </tr>\n",
       "  </tbody>\n",
       "</table>\n"
      ],
      "text/plain": [
       "<pandas.io.formats.style.Styler at 0x1062afa90>"
      ]
     },
     "execution_count": 6,
     "metadata": {},
     "output_type": "execute_result"
    }
   ],
   "source": [
    "?[] <- [[\n",
    "            1 + 2, # addition\n",
    "            3 / 4, # division\n",
    "            5 == 6, # equality\n",
    "            7 > 8, # greater\n",
    "            true || false, # or\n",
    "            false && true, # and\n",
    "            lowercase('HELLO'), # function\n",
    "            rand_float(), # function taking no argument\n",
    "            union([1, 2, 3], [3, 4, 5], [5, 6, 7]), # variadic function\n",
    "        ]]"
   ]
  },
  {
   "cell_type": "markdown",
   "metadata": {},
   "source": [
    "Cozo has a pretty robust set of [built-in functions and operators](functions.rst).\n",
    "\n",
    "## Find values for these variables\n",
    "\n",
    "More complex queries proceed by providing some expressions with values and variables, much like pattern matching in your favourite language.\n",
    "\n",
    "Cozo tries to find all the sets of rows that match the given values, including values for the variables that also match across all the expressions. Some examples will make this clearer."
   ]
  },
  {
   "cell_type": "code",
   "execution_count": 7,
   "metadata": {},
   "outputs": [
    {
     "data": {
      "text/html": [
       "<style type=\"text/css\">\n",
       "#T_ee68d_row0_col0, #T_ee68d_row0_col1, #T_ee68d_row0_col2 {\n",
       "  color: #307fc1;\n",
       "}\n",
       "#T_ee68d_row1_col0, #T_ee68d_row1_col1, #T_ee68d_row1_col2 {\n",
       "  color: black;\n",
       "}\n",
       "</style>\n",
       "<table id=\"T_ee68d\">\n",
       "  <thead>\n",
       "    <tr>\n",
       "      <th class=\"blank level0\" >&nbsp;</th>\n",
       "      <th id=\"T_ee68d_level0_col0\" class=\"col_heading level0 col0\" >first</th>\n",
       "      <th id=\"T_ee68d_level0_col1\" class=\"col_heading level0 col1\" >second</th>\n",
       "      <th id=\"T_ee68d_level0_col2\" class=\"col_heading level0 col2\" >third</th>\n",
       "    </tr>\n",
       "  </thead>\n",
       "  <tbody>\n",
       "    <tr>\n",
       "      <th id=\"T_ee68d_level0_row0\" class=\"row_heading level0 row0\" >0</th>\n",
       "      <td id=\"T_ee68d_row0_col0\" class=\"data row0 col0\" >1</td>\n",
       "      <td id=\"T_ee68d_row0_col1\" class=\"data row0 col1\" >2</td>\n",
       "      <td id=\"T_ee68d_row0_col2\" class=\"data row0 col2\" >3</td>\n",
       "    </tr>\n",
       "    <tr>\n",
       "      <th id=\"T_ee68d_level0_row1\" class=\"row_heading level0 row1\" >1</th>\n",
       "      <td id=\"T_ee68d_row1_col0\" class=\"data row1 col0\" >a</td>\n",
       "      <td id=\"T_ee68d_row1_col1\" class=\"data row1 col1\" >b</td>\n",
       "      <td id=\"T_ee68d_row1_col2\" class=\"data row1 col2\" >c</td>\n",
       "    </tr>\n",
       "  </tbody>\n",
       "</table>\n"
      ],
      "text/plain": [
       "<pandas.io.formats.style.Styler at 0x1062ad3f0>"
      ]
     },
     "execution_count": 7,
     "metadata": {},
     "output_type": "execute_result"
    }
   ],
   "source": [
    "?[first, second, third] <- [[1, 2, 3], ['a', 'b', 'c']]"
   ]
  },
  {
   "cell_type": "markdown",
   "metadata": {},
   "source": [
    "Here in the _head_ of the rule, we’ve just provided named variables for the values coming back.\n",
    "\n",
    "You have to do obvious things, like not having different numbers of columns within one relation. Typing can be strict or loose as you choose (so far, it’s all been loose; we’ll see examples of strict typing shortly).\n",
    "\n",
    "For `<-` (called _constant_) rules, the number of bindings must match the actual data (the _arity_), otherwise, you will get an error:"
   ]
  },
  {
   "cell_type": "code",
   "execution_count": 8,
   "metadata": {},
   "outputs": [
    {
     "data": {
      "text/plain": [
       "\u001b[31mparser::fixed_rule_head_arity_mismatch\u001b[0m\n",
       "\n",
       "  \u001b[31m×\u001b[0m Fixed rule head arity mismatch\n",
       "   ╭────\n",
       " \u001b[2m1\u001b[0m │ ?[first, second] <- [[1, 2, 3], ['a', 'b', 'c']]\n",
       "   · \u001b[35;1m─────────────────────────────────────────────────\u001b[0m\n",
       "   ╰────\n",
       "\u001b[36m  help: \u001b[0mExpected arity: 3, number of arguments given: 2\n"
      ]
     },
     "execution_count": 8,
     "metadata": {},
     "output_type": "execute_result"
    }
   ],
   "source": [
    "?[first, second] <- [[1, 2, 3], ['a', 'b', 'c']]"
   ]
  },
  {
   "cell_type": "markdown",
   "metadata": {},
   "source": [
    "Now let's define rules that _apply_ (use) other rules:"
   ]
  },
  {
   "cell_type": "code",
   "execution_count": 9,
   "metadata": {},
   "outputs": [
    {
     "data": {
      "text/html": [
       "<style type=\"text/css\">\n",
       "#T_77f95_row0_col0, #T_77f95_row0_col1, #T_77f95_row0_col2 {\n",
       "  color: #307fc1;\n",
       "}\n",
       "#T_77f95_row1_col0, #T_77f95_row1_col1, #T_77f95_row1_col2 {\n",
       "  color: black;\n",
       "}\n",
       "</style>\n",
       "<table id=\"T_77f95\">\n",
       "  <thead>\n",
       "    <tr>\n",
       "      <th class=\"blank level0\" >&nbsp;</th>\n",
       "      <th id=\"T_77f95_level0_col0\" class=\"col_heading level0 col0\" >a</th>\n",
       "      <th id=\"T_77f95_level0_col1\" class=\"col_heading level0 col1\" >b</th>\n",
       "      <th id=\"T_77f95_level0_col2\" class=\"col_heading level0 col2\" >c</th>\n",
       "    </tr>\n",
       "  </thead>\n",
       "  <tbody>\n",
       "    <tr>\n",
       "      <th id=\"T_77f95_level0_row0\" class=\"row_heading level0 row0\" >0</th>\n",
       "      <td id=\"T_77f95_row0_col0\" class=\"data row0 col0\" >1</td>\n",
       "      <td id=\"T_77f95_row0_col1\" class=\"data row0 col1\" >2</td>\n",
       "      <td id=\"T_77f95_row0_col2\" class=\"data row0 col2\" >3</td>\n",
       "    </tr>\n",
       "    <tr>\n",
       "      <th id=\"T_77f95_level0_row1\" class=\"row_heading level0 row1\" >1</th>\n",
       "      <td id=\"T_77f95_row1_col0\" class=\"data row1 col0\" >a</td>\n",
       "      <td id=\"T_77f95_row1_col1\" class=\"data row1 col1\" >b</td>\n",
       "      <td id=\"T_77f95_row1_col2\" class=\"data row1 col2\" >c</td>\n",
       "    </tr>\n",
       "  </tbody>\n",
       "</table>\n"
      ],
      "text/plain": [
       "<pandas.io.formats.style.Styler at 0x11f53bac0>"
      ]
     },
     "execution_count": 9,
     "metadata": {},
     "output_type": "execute_result"
    }
   ],
   "source": [
    "rule[first, second, third] <- [[1, 2, 3], ['a', 'b', 'c']]\n",
    "?[a, b, c] := rule[a, b, c]"
   ]
  },
  {
   "cell_type": "markdown",
   "metadata": {},
   "source": [
    "You’ll notice the two different connectors. The first, `<-`, is actually syntactic sugar for `<~`, which is used for invoking functions on the right hand side (as well as any of Cozo's many built-in functions, you can write your own in the host language). `<-` is invoking a Constant function that looks like `rule[first, second, third] <~ Constant(data: [[1, 2, 3], ['a', 'b', 'c']])` `<-` and `<~` rules are called _constant rules_.\n",
    "\n",
    "The second rule is an _inline_ rule, meaning it’s not invoking anything external to the current code, like a local variable a SQL script. Note that because it is named `?`, it is the _result_ of the query.\n",
    "\n",
    "Also note how in the second line, we match a, b, c to the first, second, third in the first rule.\n",
    "\n",
    "We don’t have to use all the variables from the body in an inline rule:"
   ]
  },
  {
   "cell_type": "code",
   "execution_count": 10,
   "metadata": {},
   "outputs": [
    {
     "data": {
      "text/html": [
       "<style type=\"text/css\">\n",
       "#T_9e903_row0_col0, #T_9e903_row0_col1 {\n",
       "  color: #307fc1;\n",
       "}\n",
       "#T_9e903_row1_col0, #T_9e903_row1_col1 {\n",
       "  color: black;\n",
       "}\n",
       "</style>\n",
       "<table id=\"T_9e903\">\n",
       "  <thead>\n",
       "    <tr>\n",
       "      <th class=\"blank level0\" >&nbsp;</th>\n",
       "      <th id=\"T_9e903_level0_col0\" class=\"col_heading level0 col0\" >c</th>\n",
       "      <th id=\"T_9e903_level0_col1\" class=\"col_heading level0 col1\" >b</th>\n",
       "    </tr>\n",
       "  </thead>\n",
       "  <tbody>\n",
       "    <tr>\n",
       "      <th id=\"T_9e903_level0_row0\" class=\"row_heading level0 row0\" >0</th>\n",
       "      <td id=\"T_9e903_row0_col0\" class=\"data row0 col0\" >3</td>\n",
       "      <td id=\"T_9e903_row0_col1\" class=\"data row0 col1\" >2</td>\n",
       "    </tr>\n",
       "    <tr>\n",
       "      <th id=\"T_9e903_level0_row1\" class=\"row_heading level0 row1\" >1</th>\n",
       "      <td id=\"T_9e903_row1_col0\" class=\"data row1 col0\" >c</td>\n",
       "      <td id=\"T_9e903_row1_col1\" class=\"data row1 col1\" >b</td>\n",
       "    </tr>\n",
       "  </tbody>\n",
       "</table>\n"
      ],
      "text/plain": [
       "<pandas.io.formats.style.Styler at 0x11f53b970>"
      ]
     },
     "execution_count": 10,
     "metadata": {},
     "output_type": "execute_result"
    }
   ],
   "source": [
    "rule[first, second, third] <- [[1, 2, 3], ['a', 'b', 'c']]\n",
    "?[c, b] := rule[a, b, c]"
   ]
  },
  {
   "cell_type": "markdown",
   "metadata": {},
   "source": [
    "Let's get a bit fancier:"
   ]
  },
  {
   "cell_type": "code",
   "execution_count": 11,
   "metadata": {},
   "outputs": [
    {
     "data": {
      "text/html": [
       "<style type=\"text/css\">\n",
       "#T_f66a2_row0_col0, #T_f66a2_row0_col1 {\n",
       "  color: #307fc1;\n",
       "}\n",
       "</style>\n",
       "<table id=\"T_f66a2\">\n",
       "  <thead>\n",
       "    <tr>\n",
       "      <th class=\"blank level0\" >&nbsp;</th>\n",
       "      <th id=\"T_f66a2_level0_col0\" class=\"col_heading level0 col0\" >c</th>\n",
       "      <th id=\"T_f66a2_level0_col1\" class=\"col_heading level0 col1\" >b</th>\n",
       "    </tr>\n",
       "  </thead>\n",
       "  <tbody>\n",
       "    <tr>\n",
       "      <th id=\"T_f66a2_level0_row0\" class=\"row_heading level0 row0\" >0</th>\n",
       "      <td id=\"T_f66a2_row0_col0\" class=\"data row0 col0\" >3</td>\n",
       "      <td id=\"T_f66a2_row0_col1\" class=\"data row0 col1\" >2</td>\n",
       "    </tr>\n",
       "  </tbody>\n",
       "</table>\n"
      ],
      "text/plain": [
       "<pandas.io.formats.style.Styler at 0x11f5381c0>"
      ]
     },
     "execution_count": 11,
     "metadata": {},
     "output_type": "execute_result"
    }
   ],
   "source": [
    "?[c, b] := rule[a, b, c], is_num(a)\n",
    "rule[first, second, third] <- [[1, 2, 3], ['a', 'b', 'c']]"
   ]
  },
  {
   "cell_type": "markdown",
   "metadata": {},
   "source": [
    "The pattern in the head on the second line matches only rows with an 'a' for the first field value.\n",
    "\n",
    "You can have multiple rules with the same _head_ name, which is like joining their bodies with `OR`.\n",
    "##%% md\n",
    "```\n",
    "important[a] := recent[a], unread[a], not deleted[a]\n",
    "important[a] := flagged[a], not deleted[a]\n",
    "```\n",
    "\n",
    "This means _a_ is important if it isn’t deleted, and it’s either flagged, or recent and unread. You can also use 'and', 'or', 'not' and parentheses, although the style above is usually more idiomatic.\n",
    "\n",
    "We can just directly set a value as part of the query, using '=':"
   ]
  },
  {
   "cell_type": "code",
   "execution_count": 12,
   "metadata": {},
   "outputs": [],
   "source": [
    "rule[first, second, third] <- [[1, 2, 3], ['a', 'b', 'c']]\n",
    "?[c, b, d] := rule[a, b, c], is_num(a), d = a + b + 2*c"
   ]
  },
  {
   "cell_type": "markdown",
   "metadata": {},
   "source": [
    "The unification operator `=` unifies with a single value. Use `in` to unify with each value within a list in turn:"
   ]
  },
  {
   "cell_type": "code",
   "execution_count": null,
   "metadata": {},
   "outputs": [],
   "source": [
    "?[x, y] := x in [1, 2, 3], y in ['x', 'y']"
   ]
  },
  {
   "cell_type": "markdown",
   "metadata": {},
   "source": [
    "Having multiple rule applications in the body generates every combination of the bindings:"
   ]
  },
  {
   "cell_type": "markdown",
   "metadata": {},
   "source": [
    "Having multiple rule applications in the body generates every combination of the bindings:"
   ]
  },
  {
   "cell_type": "code",
   "execution_count": 14,
   "metadata": {},
   "outputs": [
    {
     "data": {
      "text/html": [
       "<style type=\"text/css\">\n",
       "#T_e7f49_row0_col0, #T_e7f49_row0_col1, #T_e7f49_row1_col0, #T_e7f49_row1_col1, #T_e7f49_row2_col0, #T_e7f49_row2_col1, #T_e7f49_row3_col0, #T_e7f49_row3_col1 {\n",
       "  color: black;\n",
       "}\n",
       "</style>\n",
       "<table id=\"T_e7f49\">\n",
       "  <thead>\n",
       "    <tr>\n",
       "      <th class=\"blank level0\" >&nbsp;</th>\n",
       "      <th id=\"T_e7f49_level0_col0\" class=\"col_heading level0 col0\" >l1</th>\n",
       "      <th id=\"T_e7f49_level0_col1\" class=\"col_heading level0 col1\" >l2</th>\n",
       "    </tr>\n",
       "  </thead>\n",
       "  <tbody>\n",
       "    <tr>\n",
       "      <th id=\"T_e7f49_level0_row0\" class=\"row_heading level0 row0\" >0</th>\n",
       "      <td id=\"T_e7f49_row0_col0\" class=\"data row0 col0\" >a</td>\n",
       "      <td id=\"T_e7f49_row0_col1\" class=\"data row0 col1\" >B</td>\n",
       "    </tr>\n",
       "    <tr>\n",
       "      <th id=\"T_e7f49_level0_row1\" class=\"row_heading level0 row1\" >1</th>\n",
       "      <td id=\"T_e7f49_row1_col0\" class=\"data row1 col0\" >a</td>\n",
       "      <td id=\"T_e7f49_row1_col1\" class=\"data row1 col1\" >C</td>\n",
       "    </tr>\n",
       "    <tr>\n",
       "      <th id=\"T_e7f49_level0_row2\" class=\"row_heading level0 row2\" >2</th>\n",
       "      <td id=\"T_e7f49_row2_col0\" class=\"data row2 col0\" >b</td>\n",
       "      <td id=\"T_e7f49_row2_col1\" class=\"data row2 col1\" >B</td>\n",
       "    </tr>\n",
       "    <tr>\n",
       "      <th id=\"T_e7f49_level0_row3\" class=\"row_heading level0 row3\" >3</th>\n",
       "      <td id=\"T_e7f49_row3_col0\" class=\"data row3 col0\" >b</td>\n",
       "      <td id=\"T_e7f49_row3_col1\" class=\"data row3 col1\" >C</td>\n",
       "    </tr>\n",
       "  </tbody>\n",
       "</table>\n"
      ],
      "text/plain": [
       "<pandas.io.formats.style.Styler at 0x11f539360>"
      ]
     },
     "execution_count": 14,
     "metadata": {},
     "output_type": "execute_result"
    }
   ],
   "source": [
    "r1[] <- [[1, 'a'], [2, 'b']]\n",
    "r2[] <- [[2, 'B'], [3, 'C']]\n",
    "\n",
    "?[l1, l2] := r1[a, l1], \n",
    "             r2[b, l2]"
   ]
  },
  {
   "cell_type": "markdown",
   "metadata": {},
   "source": [
    "This is a cross join in SQL\n",
    "\n",
    "We’ve now seen enough of the basics to start looking at some more complex operations.\n",
    "\n",
    "## Joins, made easy"
   ]
  },
  {
   "cell_type": "code",
   "execution_count": null,
   "metadata": {},
   "outputs": [],
   "source": [
    "r1[] <- [[1, 'a'], [2, 'b']]\n",
    "r2[] <- [[2, 'B'], [3, 'C']]\n",
    "\n",
    "?[l1, l2] := r1[a, l1], \n",
    "             r2[a, l2] # reused `a`"
   ]
  },
  {
   "cell_type": "markdown",
   "metadata": {},
   "source": [
    "A join is as simple as using the same variable in different relations. Here, we are asking for a single value of `a` that matches a row in each of the sources at the same time.\n",
    "\n",
    "Compare the above with the SQL for the same operation:\n",
    "\n",
    "```\n",
    "WITH\n",
    "\tr1 AS SELECT * FROM (VALUES (1, ‘a’), (2, ‘b’)) as t(c1, c2),\n",
    "\tr2 AS SELECT * FROM (VALUES(2, ‘B’), (3, ‘C’)) as u(d1, d2)\n",
    "SELECT\n",
    "\tr1.c2, r2.d2 FROM r1 JOIN r2 ON (r1.c1 = r2.c2);\n",
    "```\n",
    "\n",
    "An outer join is done by considering the cases separately:"
   ]
  },
  {
   "cell_type": "code",
   "execution_count": null,
   "metadata": {},
   "outputs": [],
   "source": [
    "a[x, y] <- [[1, 2], [3, 4]]\n",
    "b[y, z] <- [[2, 3], [2, 4]]\n",
    "?[x, y, z] := a[x, y], b[y, z]\n",
    "?[x, y, z] := a[x, y], not b[y, _], z = null"
   ]
  },
  {
   "cell_type": "markdown",
   "metadata": {},
   "source": [
    "Note that we still only have a single output `?` rule here; it is split into two parts effectively joining the right sides with `or` as we discussed previously."
   ]
  },
  {
   "cell_type": "markdown",
   "metadata": {},
   "source": [
    "## Stored relations\n",
    "\n",
    "The relations we've seen so far were created on the fly as constant rules, and only persist for the duration of the query.\n",
    "\n",
    "You can of course also persist data. To do this, you first declare the relation:"
   ]
  },
  {
   "cell_type": "code",
   "execution_count": 18,
   "metadata": {},
   "outputs": [],
   "source": [
    ":create stored {c1, c2}"
   ]
  },
  {
   "cell_type": "markdown",
   "metadata": {},
   "source": [
    "This creates a relation called 'stored' with two columns that will take any type. Here we create\\a fully typed relation:"
   ]
  },
  {
   "cell_type": "code",
   "execution_count": 18,
   "metadata": {},
   "outputs": [],
   "source": [
    ":create dept_info {\n",
    "    company_name: String,\n",
    "    department_name: String,\n",
    "    =>\n",
    "    head_count: Int default 0,\n",
    "    address: String,\n",
    "}"
   ]
  },
  {
   "cell_type": "markdown",
   "metadata": {},
   "source": [
    "This should be fairly obvious, except for the `=>` in the middle. This symbol separates the columns in the primary key before the `=>` from the other columns. If the `=>` isn’t present, all of the columns are considered part of the primary key.\n",
    "\n",
    "We can also create rows in a relation as we define it:"
   ]
  },
  {
   "cell_type": "code",
   "execution_count": 18,
   "metadata": {},
   "outputs": [],
   "source": [
    "?[a, b, c] <- [[1, 'a', 'A'],\n",
    "[2, 'b', 'B'],\n",
    "[3, 'c', 'C'],\n",
    "[4, 'd', 'D']]\n",
    "\n",
    ":create fd {a, b => c}"
   ]
  },
  {
   "cell_type": "code",
   "execution_count": 18,
   "metadata": {},
   "outputs": [],
   "source": [
    "?[a, b, c] := *fd[a, b, c]"
   ]
  },
  {
   "cell_type": "markdown",
   "metadata": {},
   "source": [
    "Here, we've retrieved rows from our stored relation. Note that we put a `*` in front of the relation's name when it's stored here.\n",
    "\n",
    "In Cozo terms, the fields _after_ the => are _functionally dependent_ on the ones before. Those before determine identity, which lets the :put operation function as (_upsert_)[https://wiki.postgresql.org/wiki/UPSERT](update-or-insert)."
   ]
  },
  {
   "cell_type": "markdown",
   "metadata": {},
   "source": [
    "?[a, b, c] <- [[3, 'c', 'CCCCCCC']]\n",
    "\n",
    ":put fd {a, b => c}"
   ]
  },
  {
   "cell_type": "code",
   "execution_count": null,
   "metadata": {},
   "outputs": [],
   "source": [
    "?[a, b, c] := *fd[a, b, c]"
   ]
  },
  {
   "cell_type": "markdown",
   "metadata": {},
   "source": [
    "Note that the name of the stored relation should not start with an underscore `_`. You will get no error if you use a name starting with an underscore, but you will discover that the relation won't be persisted. What you are dealing with is actually what is called an [_ephemeral relation_](stored.rst).\n",
    "\n",
    "You can see the stored relations in your system by running a _system op_:"
   ]
  },
  {
   "cell_type": "code",
   "execution_count": 19,
   "metadata": {},
   "outputs": [
    {
     "data": {
      "text/html": [
       "<style type=\"text/css\">\n",
       "#T_99368_row0_col0, #T_99368_row0_col2 {\n",
       "  color: black;\n",
       "}\n",
       "#T_99368_row0_col1, #T_99368_row0_col3, #T_99368_row0_col4, #T_99368_row0_col5, #T_99368_row0_col6, #T_99368_row0_col7 {\n",
       "  color: #307fc1;\n",
       "}\n",
       "</style>\n",
       "<table id=\"T_99368\">\n",
       "  <thead>\n",
       "    <tr>\n",
       "      <th class=\"blank level0\" >&nbsp;</th>\n",
       "      <th id=\"T_99368_level0_col0\" class=\"col_heading level0 col0\" >name</th>\n",
       "      <th id=\"T_99368_level0_col1\" class=\"col_heading level0 col1\" >arity</th>\n",
       "      <th id=\"T_99368_level0_col2\" class=\"col_heading level0 col2\" >access_level</th>\n",
       "      <th id=\"T_99368_level0_col3\" class=\"col_heading level0 col3\" >n_keys</th>\n",
       "      <th id=\"T_99368_level0_col4\" class=\"col_heading level0 col4\" >n_non_keys</th>\n",
       "      <th id=\"T_99368_level0_col5\" class=\"col_heading level0 col5\" >n_put_triggers</th>\n",
       "      <th id=\"T_99368_level0_col6\" class=\"col_heading level0 col6\" >n_rm_triggers</th>\n",
       "      <th id=\"T_99368_level0_col7\" class=\"col_heading level0 col7\" >n_replace_triggers</th>\n",
       "    </tr>\n",
       "  </thead>\n",
       "  <tbody>\n",
       "    <tr>\n",
       "      <th id=\"T_99368_level0_row0\" class=\"row_heading level0 row0\" >0</th>\n",
       "      <td id=\"T_99368_row0_col0\" class=\"data row0 col0\" >stored</td>\n",
       "      <td id=\"T_99368_row0_col1\" class=\"data row0 col1\" >2</td>\n",
       "      <td id=\"T_99368_row0_col2\" class=\"data row0 col2\" >normal</td>\n",
       "      <td id=\"T_99368_row0_col3\" class=\"data row0 col3\" >2</td>\n",
       "      <td id=\"T_99368_row0_col4\" class=\"data row0 col4\" >0</td>\n",
       "      <td id=\"T_99368_row0_col5\" class=\"data row0 col5\" >0</td>\n",
       "      <td id=\"T_99368_row0_col6\" class=\"data row0 col6\" >0</td>\n",
       "      <td id=\"T_99368_row0_col7\" class=\"data row0 col7\" >0</td>\n",
       "    </tr>\n",
       "  </tbody>\n",
       "</table>\n"
      ],
      "text/plain": [
       "<pandas.io.formats.style.Styler at 0x11f54c070>"
      ]
     },
     "execution_count": 19,
     "metadata": {},
     "output_type": "execute_result"
    }
   ],
   "source": [
    "::relations"
   ]
  },
  {
   "cell_type": "markdown",
   "metadata": {},
   "source": [
    "Note that we have regular operations like `:create` that start with a :, and system operations with a ::.\n",
    "\n",
    "We can investigate the columns of the stored relation:"
   ]
  },
  {
   "cell_type": "code",
   "execution_count": 20,
   "metadata": {},
   "outputs": [
    {
     "data": {
      "text/html": [
       "<style type=\"text/css\">\n",
       "#T_a8ba8_row0_col0, #T_a8ba8_row0_col3, #T_a8ba8_row1_col0, #T_a8ba8_row1_col3 {\n",
       "  color: black;\n",
       "}\n",
       "#T_a8ba8_row0_col1, #T_a8ba8_row0_col2, #T_a8ba8_row0_col4, #T_a8ba8_row1_col1, #T_a8ba8_row1_col2, #T_a8ba8_row1_col4 {\n",
       "  color: #307fc1;\n",
       "}\n",
       "</style>\n",
       "<table id=\"T_a8ba8\">\n",
       "  <thead>\n",
       "    <tr>\n",
       "      <th class=\"blank level0\" >&nbsp;</th>\n",
       "      <th id=\"T_a8ba8_level0_col0\" class=\"col_heading level0 col0\" >column</th>\n",
       "      <th id=\"T_a8ba8_level0_col1\" class=\"col_heading level0 col1\" >is_key</th>\n",
       "      <th id=\"T_a8ba8_level0_col2\" class=\"col_heading level0 col2\" >index</th>\n",
       "      <th id=\"T_a8ba8_level0_col3\" class=\"col_heading level0 col3\" >type</th>\n",
       "      <th id=\"T_a8ba8_level0_col4\" class=\"col_heading level0 col4\" >has_default</th>\n",
       "    </tr>\n",
       "  </thead>\n",
       "  <tbody>\n",
       "    <tr>\n",
       "      <th id=\"T_a8ba8_level0_row0\" class=\"row_heading level0 row0\" >0</th>\n",
       "      <td id=\"T_a8ba8_row0_col0\" class=\"data row0 col0\" >l1</td>\n",
       "      <td id=\"T_a8ba8_row0_col1\" class=\"data row0 col1\" >True</td>\n",
       "      <td id=\"T_a8ba8_row0_col2\" class=\"data row0 col2\" >0</td>\n",
       "      <td id=\"T_a8ba8_row0_col3\" class=\"data row0 col3\" >Any?</td>\n",
       "      <td id=\"T_a8ba8_row0_col4\" class=\"data row0 col4\" >False</td>\n",
       "    </tr>\n",
       "    <tr>\n",
       "      <th id=\"T_a8ba8_level0_row1\" class=\"row_heading level0 row1\" >1</th>\n",
       "      <td id=\"T_a8ba8_row1_col0\" class=\"data row1 col0\" >l2</td>\n",
       "      <td id=\"T_a8ba8_row1_col1\" class=\"data row1 col1\" >True</td>\n",
       "      <td id=\"T_a8ba8_row1_col2\" class=\"data row1 col2\" >1</td>\n",
       "      <td id=\"T_a8ba8_row1_col3\" class=\"data row1 col3\" >Any?</td>\n",
       "      <td id=\"T_a8ba8_row1_col4\" class=\"data row1 col4\" >False</td>\n",
       "    </tr>\n",
       "  </tbody>\n",
       "</table>\n"
      ],
      "text/plain": [
       "<pandas.io.formats.style.Styler at 0x11f54c820>"
      ]
     },
     "execution_count": 20,
     "metadata": {},
     "output_type": "execute_result"
    }
   ],
   "source": [
    "::columns stored "
   ]
  },
  {
   "cell_type": "markdown",
   "metadata": {},
   "source": [
    "Unlike relations defined inline, the columns of stored relations have fixed names. \n",
    "You can take advantage of this by selectively referring to columns by name,\n",
    "especially if you have a lot of columns:"
   ]
  },
  {
   "cell_type": "code",
   "execution_count": 22,
   "metadata": {},
   "outputs": [
    {
     "data": {
      "text/html": [
       "<style type=\"text/css\">\n",
       "#T_aeb93_row0_col0, #T_aeb93_row0_col1 {\n",
       "  color: black;\n",
       "}\n",
       "</style>\n",
       "<table id=\"T_aeb93\">\n",
       "  <thead>\n",
       "    <tr>\n",
       "      <th class=\"blank level0\" >&nbsp;</th>\n",
       "      <th id=\"T_aeb93_level0_col0\" class=\"col_heading level0 col0\" >a</th>\n",
       "      <th id=\"T_aeb93_level0_col1\" class=\"col_heading level0 col1\" >b</th>\n",
       "    </tr>\n",
       "  </thead>\n",
       "  <tbody>\n",
       "    <tr>\n",
       "      <th id=\"T_aeb93_level0_row0\" class=\"row_heading level0 row0\" >0</th>\n",
       "      <td id=\"T_aeb93_row0_col0\" class=\"data row0 col0\" >b</td>\n",
       "      <td id=\"T_aeb93_row0_col1\" class=\"data row0 col1\" >B</td>\n",
       "    </tr>\n",
       "  </tbody>\n",
       "</table>\n"
      ],
      "text/plain": [
       "<pandas.io.formats.style.Styler at 0x11f54e080>"
      ]
     },
     "execution_count": 22,
     "metadata": {},
     "output_type": "execute_result"
    }
   ],
   "source": [
    "?[a, b] := *stored{l2: b, l1: a}"
   ]
  },
  {
   "cell_type": "markdown",
   "metadata": {},
   "source": [
    "If the binding is the same as the column name, you can omit the binding:"
   ]
  },
  {
   "cell_type": "code",
   "execution_count": 23,
   "metadata": {},
   "outputs": [
    {
     "data": {
      "text/html": [
       "<style type=\"text/css\">\n",
       "#T_0c395_row0_col0 {\n",
       "  color: black;\n",
       "}\n",
       "</style>\n",
       "<table id=\"T_0c395\">\n",
       "  <thead>\n",
       "    <tr>\n",
       "      <th class=\"blank level0\" >&nbsp;</th>\n",
       "      <th id=\"T_0c395_level0_col0\" class=\"col_heading level0 col0\" >l2</th>\n",
       "    </tr>\n",
       "  </thead>\n",
       "  <tbody>\n",
       "    <tr>\n",
       "      <th id=\"T_0c395_level0_row0\" class=\"row_heading level0 row0\" >0</th>\n",
       "      <td id=\"T_0c395_row0_col0\" class=\"data row0 col0\" >B</td>\n",
       "    </tr>\n",
       "  </tbody>\n",
       "</table>\n"
      ],
      "text/plain": [
       "<pandas.io.formats.style.Styler at 0x11f53abf0>"
      ]
     },
     "execution_count": 23,
     "metadata": {},
     "output_type": "execute_result"
    }
   ],
   "source": [
    "?[l2] := *stored{l2}"
   ]
  },
  {
   "cell_type": "markdown",
   "metadata": {},
   "source": [
    "Use `:rm` to remove data:"
   ]
  },
  {
   "cell_type": "code",
   "execution_count": 26,
   "metadata": {},
   "outputs": [
    {
     "data": {
      "text/html": [
       "<style type=\"text/css\">\n",
       "#T_f99b4_row0_col0 {\n",
       "  color: black;\n",
       "}\n",
       "</style>\n",
       "<table id=\"T_f99b4\">\n",
       "  <thead>\n",
       "    <tr>\n",
       "      <th class=\"blank level0\" >&nbsp;</th>\n",
       "      <th id=\"T_f99b4_level0_col0\" class=\"col_heading level0 col0\" >status</th>\n",
       "    </tr>\n",
       "  </thead>\n",
       "  <tbody>\n",
       "    <tr>\n",
       "      <th id=\"T_f99b4_level0_row0\" class=\"row_heading level0 row0\" >0</th>\n",
       "      <td id=\"T_f99b4_row0_col0\" class=\"data row0 col0\" >OK</td>\n",
       "    </tr>\n",
       "  </tbody>\n",
       "</table>\n"
      ],
      "text/plain": [
       "<pandas.io.formats.style.Styler at 0x11f53b670>"
      ]
     },
     "execution_count": 26,
     "metadata": {},
     "output_type": "execute_result"
    }
   ],
   "source": [
    "?[l1, l2] <- [['e', 'E']]\n",
    "    \n",
    ":rm stored {l1, l2}"
   ]
  },
  {
   "cell_type": "code",
   "execution_count": 27,
   "metadata": {},
   "outputs": [
    {
     "data": {
      "text/html": [
       "<style type=\"text/css\">\n",
       "#T_6641a_row0_col0, #T_6641a_row0_col1 {\n",
       "  color: black;\n",
       "}\n",
       "</style>\n",
       "<table id=\"T_6641a\">\n",
       "  <thead>\n",
       "    <tr>\n",
       "      <th class=\"blank level0\" >&nbsp;</th>\n",
       "      <th id=\"T_6641a_level0_col0\" class=\"col_heading level0 col0\" >l1</th>\n",
       "      <th id=\"T_6641a_level0_col1\" class=\"col_heading level0 col1\" >l2</th>\n",
       "    </tr>\n",
       "  </thead>\n",
       "  <tbody>\n",
       "    <tr>\n",
       "      <th id=\"T_6641a_level0_row0\" class=\"row_heading level0 row0\" >0</th>\n",
       "      <td id=\"T_6641a_row0_col0\" class=\"data row0 col0\" >b</td>\n",
       "      <td id=\"T_6641a_row0_col1\" class=\"data row0 col1\" >B</td>\n",
       "    </tr>\n",
       "  </tbody>\n",
       "</table>\n"
      ],
      "text/plain": [
       "<pandas.io.formats.style.Styler at 0x11f54e590>"
      ]
     },
     "execution_count": 27,
     "metadata": {},
     "output_type": "execute_result"
    }
   ],
   "source": [
    "?[l1, l2] := *stored[l1, l2]"
   ]
  },
  {
   "cell_type": "markdown",
   "metadata": {},
   "source": [
    "Use `::remove` (double colon!) to get rid of a stored relation:"
   ]
  },
  {
   "cell_type": "code",
   "execution_count": 28,
   "metadata": {},
   "outputs": [
    {
     "data": {
      "text/html": [
       "<style type=\"text/css\">\n",
       "#T_d381c_row0_col0 {\n",
       "  color: black;\n",
       "}\n",
       "</style>\n",
       "<table id=\"T_d381c\">\n",
       "  <thead>\n",
       "    <tr>\n",
       "      <th class=\"blank level0\" >&nbsp;</th>\n",
       "      <th id=\"T_d381c_level0_col0\" class=\"col_heading level0 col0\" >status</th>\n",
       "    </tr>\n",
       "  </thead>\n",
       "  <tbody>\n",
       "    <tr>\n",
       "      <th id=\"T_d381c_level0_row0\" class=\"row_heading level0 row0\" >0</th>\n",
       "      <td id=\"T_d381c_row0_col0\" class=\"data row0 col0\" >OK</td>\n",
       "    </tr>\n",
       "  </tbody>\n",
       "</table>\n"
      ],
      "text/plain": [
       "<pandas.io.formats.style.Styler at 0x11f54ece0>"
      ]
     },
     "execution_count": 28,
     "metadata": {},
     "output_type": "execute_result"
    }
   ],
   "source": [
    "::remove stored"
   ]
  },
  {
   "cell_type": "code",
   "execution_count": 29,
   "metadata": {},
   "outputs": [
    {
     "data": {
      "text/html": [
       "<style type=\"text/css\">\n",
       "</style>\n",
       "<table id=\"T_b40e8\">\n",
       "  <thead>\n",
       "    <tr>\n",
       "      <th class=\"blank level0\" >&nbsp;</th>\n",
       "      <th id=\"T_b40e8_level0_col0\" class=\"col_heading level0 col0\" >name</th>\n",
       "      <th id=\"T_b40e8_level0_col1\" class=\"col_heading level0 col1\" >arity</th>\n",
       "      <th id=\"T_b40e8_level0_col2\" class=\"col_heading level0 col2\" >access_level</th>\n",
       "      <th id=\"T_b40e8_level0_col3\" class=\"col_heading level0 col3\" >n_keys</th>\n",
       "      <th id=\"T_b40e8_level0_col4\" class=\"col_heading level0 col4\" >n_non_keys</th>\n",
       "      <th id=\"T_b40e8_level0_col5\" class=\"col_heading level0 col5\" >n_put_triggers</th>\n",
       "      <th id=\"T_b40e8_level0_col6\" class=\"col_heading level0 col6\" >n_rm_triggers</th>\n",
       "      <th id=\"T_b40e8_level0_col7\" class=\"col_heading level0 col7\" >n_replace_triggers</th>\n",
       "    </tr>\n",
       "  </thead>\n",
       "  <tbody>\n",
       "  </tbody>\n",
       "</table>\n"
      ],
      "text/plain": [
       "<pandas.io.formats.style.Styler at 0x11f4df9a0>"
      ]
     },
     "execution_count": 29,
     "metadata": {},
     "output_type": "execute_result"
    }
   ],
   "source": [
    "::relations"
   ]
  },
  {
   "cell_type": "markdown",
   "metadata": {},
   "source": [
    "We've now seen a variety of Cozo queries. They all have one or more rules, one of which will have the name ? which determines which variables are the _result_ of the query.\n",
    "\n",
    "A query can also have one or more operations such as :put, which are executed after the query and can use its results. These operations might also change the query in some way, by limiting the number of results, sorting, paginating and so on.\n",
    "\n",
    "Before continuing, let's remove the stored relation we introduced:"
   ]
  },
  {
   "cell_type": "code",
   "execution_count": null,
   "metadata": {},
   "outputs": [],
   "source": [
    "::remove fd"
   ]
  },
  {
   "cell_type": "markdown",
   "metadata": {},
   "source": [
    "## Command blocks\n",
    "\n",
    "Cozo executes the entire script you send to it in a single transaction. You can do multiple query-command blocks by wrapping each block in curly braces. The blocks are executed in sequence and either all of them succeed or none of them do and the state rolls back. The result returned to a client is whatever is in the last block. Like this:"
   ]
  },
  {
   "cell_type": "code",
   "execution_count": 29,
   "metadata": {},
   "outputs": [],
   "source": [
    "{?[a] <- [[1], [2], [3]]; :replace test {a}}\n",
    "{?[a] <- []; :replace test2 {a}}\n",
    "%return test"
   ]
  },
  {
   "cell_type": "markdown",
   "metadata": {},
   "source": [
    "There are certain commands that can be provided between, before or after the blocks. These start with a %. Here, the contents of the `test` relation are the results returned from the entire script."
   ]
  },
  {
   "cell_type": "markdown",
   "metadata": {},
   "source": [
    "## Graphs\n",
    "\n",
    "Now let's consider a graph stored as a relation:"
   ]
  },
  {
   "cell_type": "code",
   "execution_count": 36,
   "metadata": {},
   "outputs": [
    {
     "data": {
      "text/html": [
       "<style type=\"text/css\">\n",
       "#T_6b102_row0_col0 {\n",
       "  color: black;\n",
       "}\n",
       "</style>\n",
       "<table id=\"T_6b102\">\n",
       "  <thead>\n",
       "    <tr>\n",
       "      <th class=\"blank level0\" >&nbsp;</th>\n",
       "      <th id=\"T_6b102_level0_col0\" class=\"col_heading level0 col0\" >status</th>\n",
       "    </tr>\n",
       "  </thead>\n",
       "  <tbody>\n",
       "    <tr>\n",
       "      <th id=\"T_6b102_level0_row0\" class=\"row_heading level0 row0\" >0</th>\n",
       "      <td id=\"T_6b102_row0_col0\" class=\"data row0 col0\" >OK</td>\n",
       "    </tr>\n",
       "  </tbody>\n",
       "</table>\n"
      ],
      "text/plain": [
       "<pandas.io.formats.style.Styler at 0x11f54e410>"
      ]
     },
     "execution_count": 36,
     "metadata": {},
     "output_type": "execute_result"
    }
   ],
   "source": [
    "?[loving, loved] <- [['alice', 'eve'],\n",
    "                     ['bob', 'alice'],\n",
    "                     ['eve', 'alice'],\n",
    "                     ['eve', 'bob'],\n",
    "                     ['eve', 'charlie'],\n",
    "                     ['charlie', 'eve'],\n",
    "                     ['david', 'george'],\n",
    "                     ['george', 'george']]\n",
    "\n",
    ":replace love {loving, loved}"
   ]
  },
  {
   "cell_type": "markdown",
   "metadata": {},
   "source": [
    "The graph we have created reads like \"Alice loves Eve, Bob loves Alice\", \"nobody loves David, David loves George, but George only loves himself\", and so on. \n",
    "Here we used `:replace` instead of `:create`. The difference is that if `love` already exists, it will be wiped and replaced with the new data given.\n",
    "\n",
    "We can investigate competing interests:"
   ]
  },
  {
   "cell_type": "code",
   "execution_count": 37,
   "metadata": {},
   "outputs": [
    {
     "data": {
      "text/html": [
       "<style type=\"text/css\">\n",
       "#T_98ba6_row0_col0 {\n",
       "  color: black;\n",
       "}\n",
       "</style>\n",
       "<table id=\"T_98ba6\">\n",
       "  <thead>\n",
       "    <tr>\n",
       "      <th class=\"blank level0\" >&nbsp;</th>\n",
       "      <th id=\"T_98ba6_level0_col0\" class=\"col_heading level0 col0\" >loved_by_b_e</th>\n",
       "    </tr>\n",
       "  </thead>\n",
       "  <tbody>\n",
       "    <tr>\n",
       "      <th id=\"T_98ba6_level0_row0\" class=\"row_heading level0 row0\" >0</th>\n",
       "      <td id=\"T_98ba6_row0_col0\" class=\"data row0 col0\" >alice</td>\n",
       "    </tr>\n",
       "  </tbody>\n",
       "</table>\n"
      ],
      "text/plain": [
       "<pandas.io.formats.style.Styler at 0x11f54f910>"
      ]
     },
     "execution_count": 37,
     "metadata": {},
     "output_type": "execute_result"
    }
   ],
   "source": [
    "?[loved_by_b_e] := *love['eve', loved_by_b_e], *love['bob', loved_by_b_e]"
   ]
  },
  {
   "cell_type": "markdown",
   "metadata": {},
   "source": [
    "So far we rule bodies consist of _conjunction_ of atoms only. Disjunction is also available, by using the `or` keyword:"
   ]
  },
  {
   "cell_type": "code",
   "execution_count": 38,
   "metadata": {},
   "outputs": [
    {
     "data": {
      "text/html": [
       "<style type=\"text/css\">\n",
       "#T_b1fdb_row0_col0, #T_b1fdb_row1_col0 {\n",
       "  color: black;\n",
       "}\n",
       "</style>\n",
       "<table id=\"T_b1fdb\">\n",
       "  <thead>\n",
       "    <tr>\n",
       "      <th class=\"blank level0\" >&nbsp;</th>\n",
       "      <th id=\"T_b1fdb_level0_col0\" class=\"col_heading level0 col0\" >loved_by_b_e</th>\n",
       "    </tr>\n",
       "  </thead>\n",
       "  <tbody>\n",
       "    <tr>\n",
       "      <th id=\"T_b1fdb_level0_row0\" class=\"row_heading level0 row0\" >0</th>\n",
       "      <td id=\"T_b1fdb_row0_col0\" class=\"data row0 col0\" >alice</td>\n",
       "    </tr>\n",
       "    <tr>\n",
       "      <th id=\"T_b1fdb_level0_row1\" class=\"row_heading level0 row1\" >1</th>\n",
       "      <td id=\"T_b1fdb_row1_col0\" class=\"data row1 col0\" >charlie</td>\n",
       "    </tr>\n",
       "  </tbody>\n",
       "</table>\n"
      ],
      "text/plain": [
       "<pandas.io.formats.style.Styler at 0x11f4dfb20>"
      ]
     },
     "execution_count": 38,
     "metadata": {},
     "output_type": "execute_result"
    }
   ],
   "source": [
    "?[loved_by_b_e] := *love['eve', loved_by_b_e] or *love['bob', loved_by_b_e], \n",
    "                   loved_by_b_e != 'bob', \n",
    "                   loved_by_b_e != 'eve'"
   ]
  },
  {
   "cell_type": "markdown",
   "metadata": {},
   "source": [
    "Compare this with multiple rule definitions under the same name:"
   ]
  },
  {
   "cell_type": "code",
   "execution_count": 39,
   "metadata": {},
   "outputs": [
    {
     "data": {
      "text/html": [
       "<style type=\"text/css\">\n",
       "#T_70121_row0_col0, #T_70121_row1_col0 {\n",
       "  color: black;\n",
       "}\n",
       "</style>\n",
       "<table id=\"T_70121\">\n",
       "  <thead>\n",
       "    <tr>\n",
       "      <th class=\"blank level0\" >&nbsp;</th>\n",
       "      <th id=\"T_70121_level0_col0\" class=\"col_heading level0 col0\" >loved_by_b_e</th>\n",
       "    </tr>\n",
       "  </thead>\n",
       "  <tbody>\n",
       "    <tr>\n",
       "      <th id=\"T_70121_level0_row0\" class=\"row_heading level0 row0\" >0</th>\n",
       "      <td id=\"T_70121_row0_col0\" class=\"data row0 col0\" >alice</td>\n",
       "    </tr>\n",
       "    <tr>\n",
       "      <th id=\"T_70121_level0_row1\" class=\"row_heading level0 row1\" >1</th>\n",
       "      <td id=\"T_70121_row1_col0\" class=\"data row1 col0\" >charlie</td>\n",
       "    </tr>\n",
       "  </tbody>\n",
       "</table>\n"
      ],
      "text/plain": [
       "<pandas.io.formats.style.Styler at 0x11f55de70>"
      ]
     },
     "execution_count": 39,
     "metadata": {},
     "output_type": "execute_result"
    }
   ],
   "source": [
    "?[loved_by_b_e] := *love['eve', loved_by_b_e], \n",
    "                   loved_by_b_e != 'bob', \n",
    "                   loved_by_b_e != 'eve'\n",
    "?[loved_by_b_e] := *love['bob', loved_by_b_e], \n",
    "                   loved_by_b_e != 'bob', \n",
    "                   loved_by_b_e != 'eve'"
   ]
  },
  {
   "cell_type": "markdown",
   "metadata": {},
   "source": [
    "When you have multiple definitions of the same inline rule, the rule heads must be compatible. Only inline rules can have multiple definitions.\n",
    "\n",
    "## Negation\n",
    "\n",
    "Negation of _expressions_ should be familiar:"
   ]
  },
  {
   "cell_type": "code",
   "execution_count": 40,
   "metadata": {},
   "outputs": [
    {
     "data": {
      "text/html": [
       "<style type=\"text/css\">\n",
       "#T_559bf_row0_col0, #T_559bf_row1_col0 {\n",
       "  color: black;\n",
       "}\n",
       "</style>\n",
       "<table id=\"T_559bf\">\n",
       "  <thead>\n",
       "    <tr>\n",
       "      <th class=\"blank level0\" >&nbsp;</th>\n",
       "      <th id=\"T_559bf_level0_col0\" class=\"col_heading level0 col0\" >loved</th>\n",
       "    </tr>\n",
       "  </thead>\n",
       "  <tbody>\n",
       "    <tr>\n",
       "      <th id=\"T_559bf_level0_row0\" class=\"row_heading level0 row0\" >0</th>\n",
       "      <td id=\"T_559bf_row0_col0\" class=\"data row0 col0\" >alice</td>\n",
       "    </tr>\n",
       "    <tr>\n",
       "      <th id=\"T_559bf_level0_row1\" class=\"row_heading level0 row1\" >1</th>\n",
       "      <td id=\"T_559bf_row1_col0\" class=\"data row1 col0\" >george</td>\n",
       "    </tr>\n",
       "  </tbody>\n",
       "</table>\n"
      ],
      "text/plain": [
       "<pandas.io.formats.style.Styler at 0x11f55e170>"
      ]
     },
     "execution_count": 40,
     "metadata": {},
     "output_type": "execute_result"
    }
   ],
   "source": [
    "?[loved] := *love[person, loved], !ends_with(person, 'e')"
   ]
  },
  {
   "cell_type": "markdown",
   "metadata": {},
   "source": [
    "Rule applications can also be negated, not with the `!` operator, but with the `not` keyword:"
   ]
  },
  {
   "cell_type": "code",
   "execution_count": 41,
   "metadata": {},
   "outputs": [
    {
     "data": {
      "text/html": [
       "<style type=\"text/css\">\n",
       "#T_ca9c7_row0_col0, #T_ca9c7_row1_col0 {\n",
       "  color: black;\n",
       "}\n",
       "</style>\n",
       "<table id=\"T_ca9c7\">\n",
       "  <thead>\n",
       "    <tr>\n",
       "      <th class=\"blank level0\" >&nbsp;</th>\n",
       "      <th id=\"T_ca9c7_level0_col0\" class=\"col_heading level0 col0\" >loved_by_e_not_b</th>\n",
       "    </tr>\n",
       "  </thead>\n",
       "  <tbody>\n",
       "    <tr>\n",
       "      <th id=\"T_ca9c7_level0_row0\" class=\"row_heading level0 row0\" >0</th>\n",
       "      <td id=\"T_ca9c7_row0_col0\" class=\"data row0 col0\" >bob</td>\n",
       "    </tr>\n",
       "    <tr>\n",
       "      <th id=\"T_ca9c7_level0_row1\" class=\"row_heading level0 row1\" >1</th>\n",
       "      <td id=\"T_ca9c7_row1_col0\" class=\"data row1 col0\" >charlie</td>\n",
       "    </tr>\n",
       "  </tbody>\n",
       "</table>\n"
      ],
      "text/plain": [
       "<pandas.io.formats.style.Styler at 0x11f55e380>"
      ]
     },
     "execution_count": 41,
     "metadata": {},
     "output_type": "execute_result"
    }
   ],
   "source": [
    "?[loved_by_e_not_b] := *love['eve', loved_by_e_not_b], not *love['bob', loved_by_e_not_b]"
   ]
  },
  {
   "cell_type": "markdown",
   "metadata": {},
   "source": [
    "There are two sets of logical operations in Cozo, one set that acts on the level of expressions, and another set that acts on the level of atoms:\n",
    "\n",
    "* For atoms: `,` or `and` (conjunction), `or` (disjunction), `not` (negation)\n",
    "* For expressions: `&&` (conjunction), `||` (disjunction), `!` (negation)\n",
    "\n",
    "The difference between `,` and `and` is operator precedence: `and` has higher precedence than `or`, whereas `,` has lower precedence than `or`.\n",
    "\n",
    "There is a _safety rule_ for negation:"
   ]
  },
  {
   "cell_type": "code",
   "execution_count": 42,
   "metadata": {},
   "outputs": [
    {
     "data": {
      "text/plain": [
       "\u001b[31meval::unbound_symb_in_head\u001b[0m\n",
       "\n",
       "  \u001b[31m×\u001b[0m Symbol 'not_loved_by_b' in rule head is unbound\n",
       "   ╭────\n",
       " \u001b[2m1\u001b[0m │ ?[not_loved_by_b] := not *love['bob', not_loved_by_b]\n",
       "   · \u001b[35;1m  ──────────────\u001b[0m\n",
       "   ╰────\n",
       "\u001b[36m  help: \u001b[0mNote that symbols occurring only in negated positions are not considered bound\n"
      ]
     },
     "execution_count": 42,
     "metadata": {},
     "output_type": "execute_result"
    }
   ],
   "source": [
    "?[not_loved_by_b] := not *love['bob', not_loved_by_b]"
   ]
  },
  {
   "cell_type": "markdown",
   "metadata": {},
   "source": [
    "This query is forbidden because the resulting relation is infinite.\n",
    "For example, 'gold' should be in the result, since _according to the facts stored in the database_, \n",
    "Bob has no interest in 'gold'.\n",
    "\n",
    "To make our query finite, we have to explicitly give our query a _closed world_:"
   ]
  },
  {
   "cell_type": "code",
   "execution_count": 43,
   "metadata": {},
   "outputs": [
    {
     "data": {
      "text/html": [
       "<style type=\"text/css\">\n",
       "#T_7b9b7_row0_col0, #T_7b9b7_row1_col0, #T_7b9b7_row2_col0, #T_7b9b7_row3_col0, #T_7b9b7_row4_col0 {\n",
       "  color: black;\n",
       "}\n",
       "</style>\n",
       "<table id=\"T_7b9b7\">\n",
       "  <thead>\n",
       "    <tr>\n",
       "      <th class=\"blank level0\" >&nbsp;</th>\n",
       "      <th id=\"T_7b9b7_level0_col0\" class=\"col_heading level0 col0\" >not_loved_by_b</th>\n",
       "    </tr>\n",
       "  </thead>\n",
       "  <tbody>\n",
       "    <tr>\n",
       "      <th id=\"T_7b9b7_level0_row0\" class=\"row_heading level0 row0\" >0</th>\n",
       "      <td id=\"T_7b9b7_row0_col0\" class=\"data row0 col0\" >bob</td>\n",
       "    </tr>\n",
       "    <tr>\n",
       "      <th id=\"T_7b9b7_level0_row1\" class=\"row_heading level0 row1\" >1</th>\n",
       "      <td id=\"T_7b9b7_row1_col0\" class=\"data row1 col0\" >charlie</td>\n",
       "    </tr>\n",
       "    <tr>\n",
       "      <th id=\"T_7b9b7_level0_row2\" class=\"row_heading level0 row2\" >2</th>\n",
       "      <td id=\"T_7b9b7_row2_col0\" class=\"data row2 col0\" >david</td>\n",
       "    </tr>\n",
       "    <tr>\n",
       "      <th id=\"T_7b9b7_level0_row3\" class=\"row_heading level0 row3\" >3</th>\n",
       "      <td id=\"T_7b9b7_row3_col0\" class=\"data row3 col0\" >eve</td>\n",
       "    </tr>\n",
       "    <tr>\n",
       "      <th id=\"T_7b9b7_level0_row4\" class=\"row_heading level0 row4\" >4</th>\n",
       "      <td id=\"T_7b9b7_row4_col0\" class=\"data row4 col0\" >george</td>\n",
       "    </tr>\n",
       "  </tbody>\n",
       "</table>\n"
      ],
      "text/plain": [
       "<pandas.io.formats.style.Styler at 0x11f54e170>"
      ]
     },
     "execution_count": 43,
     "metadata": {},
     "output_type": "execute_result"
    }
   ],
   "source": [
    "the_population[p] := *love[p, _a]\n",
    "the_population[p] := *love[_a, p]\n",
    "\n",
    "?[not_loved_by_b] := the_population[not_loved_by_b], not *love['bob', not_loved_by_b]"
   ]
  },
  {
   "cell_type": "markdown",
   "metadata": {},
   "source": [
    "## Recursion\n",
    "\n",
    "The single greatest advantage of Datalog over SQL is that recursive/graph queries area much simpler. \n",
    "\n",
    "Inline rules can applying other rules, and can have multiple definitions. If you combine these two, you get recursions:"
   ]
  },
  {
   "cell_type": "code",
   "execution_count": 44,
   "metadata": {},
   "outputs": [
    {
     "data": {
      "text/html": [
       "<style type=\"text/css\">\n",
       "#T_1f997_row0_col0, #T_1f997_row1_col0, #T_1f997_row2_col0, #T_1f997_row3_col0 {\n",
       "  color: black;\n",
       "}\n",
       "</style>\n",
       "<table id=\"T_1f997\">\n",
       "  <thead>\n",
       "    <tr>\n",
       "      <th class=\"blank level0\" >&nbsp;</th>\n",
       "      <th id=\"T_1f997_level0_col0\" class=\"col_heading level0 col0\" >chained</th>\n",
       "    </tr>\n",
       "  </thead>\n",
       "  <tbody>\n",
       "    <tr>\n",
       "      <th id=\"T_1f997_level0_row0\" class=\"row_heading level0 row0\" >0</th>\n",
       "      <td id=\"T_1f997_row0_col0\" class=\"data row0 col0\" >alice</td>\n",
       "    </tr>\n",
       "    <tr>\n",
       "      <th id=\"T_1f997_level0_row1\" class=\"row_heading level0 row1\" >1</th>\n",
       "      <td id=\"T_1f997_row1_col0\" class=\"data row1 col0\" >bob</td>\n",
       "    </tr>\n",
       "    <tr>\n",
       "      <th id=\"T_1f997_level0_row2\" class=\"row_heading level0 row2\" >2</th>\n",
       "      <td id=\"T_1f997_row2_col0\" class=\"data row2 col0\" >charlie</td>\n",
       "    </tr>\n",
       "    <tr>\n",
       "      <th id=\"T_1f997_level0_row3\" class=\"row_heading level0 row3\" >3</th>\n",
       "      <td id=\"T_1f997_row3_col0\" class=\"data row3 col0\" >eve</td>\n",
       "    </tr>\n",
       "  </tbody>\n",
       "</table>\n"
      ],
      "text/plain": [
       "<pandas.io.formats.style.Styler at 0x11f54df30>"
      ]
     },
     "execution_count": 44,
     "metadata": {},
     "output_type": "execute_result"
    }
   ],
   "source": [
    "alice_love_chain[person] := *love['alice', person]\n",
    "alice_love_chain[person] := alice_love_chain[in_person], *love[in_person, person]\n",
    "\n",
    "?[chained] := alice_love_chain[chained]"
   ]
  },
  {
   "cell_type": "markdown",
   "metadata": {},
   "source": [
    "You may object that you only need to be able to apply other rules to have recursion, \n",
    "without multiple definitions. \n",
    "Technically correct, but the resulting queries are not useful::"
   ]
  },
  {
   "cell_type": "code",
   "execution_count": 45,
   "metadata": {},
   "outputs": [
    {
     "data": {
      "text/html": [
       "<style type=\"text/css\">\n",
       "</style>\n",
       "<table id=\"T_ed901\">\n",
       "  <thead>\n",
       "    <tr>\n",
       "      <th class=\"blank level0\" >&nbsp;</th>\n",
       "      <th id=\"T_ed901_level0_col0\" class=\"col_heading level0 col0\" >chained</th>\n",
       "    </tr>\n",
       "  </thead>\n",
       "  <tbody>\n",
       "  </tbody>\n",
       "</table>\n"
      ],
      "text/plain": [
       "<pandas.io.formats.style.Styler at 0x11f55ded0>"
      ]
     },
     "execution_count": 45,
     "metadata": {},
     "output_type": "execute_result"
    }
   ],
   "source": [
    "alice_love_chain[person] := alice_love_chain[in_person], *love[in_person, person]\n",
    "\n",
    "?[chained] := alice_love_chain[chained]"
   ]
  },
  {
   "cell_type": "markdown",
   "metadata": {},
   "source": [
    "Similar to the negation case, if there is no way to _deduce_ a fact from the given facts, \n",
    "then the fact itself is considered false. \n",
    "You need multiple definitions to \"bootstrap\" the query.\n",
    "\n",
    "## Aggregation\n",
    "\n",
    "_Aggregations_ are usually used to compute statistics. In Cozo, aggregations are applied in the head of inline rules:"
   ]
  },
  {
   "cell_type": "code",
   "execution_count": 46,
   "metadata": {},
   "outputs": [
    {
     "data": {
      "text/html": [
       "<style type=\"text/css\">\n",
       "#T_5c7db_row0_col0, #T_5c7db_row1_col0, #T_5c7db_row2_col0, #T_5c7db_row3_col0, #T_5c7db_row4_col0 {\n",
       "  color: black;\n",
       "}\n",
       "#T_5c7db_row0_col1, #T_5c7db_row1_col1, #T_5c7db_row2_col1, #T_5c7db_row3_col1, #T_5c7db_row4_col1 {\n",
       "  color: #307fc1;\n",
       "}\n",
       "</style>\n",
       "<table id=\"T_5c7db\">\n",
       "  <thead>\n",
       "    <tr>\n",
       "      <th class=\"blank level0\" >&nbsp;</th>\n",
       "      <th id=\"T_5c7db_level0_col0\" class=\"col_heading level0 col0\" >person</th>\n",
       "      <th id=\"T_5c7db_level0_col1\" class=\"col_heading level0 col1\" >count(loved_by)</th>\n",
       "    </tr>\n",
       "  </thead>\n",
       "  <tbody>\n",
       "    <tr>\n",
       "      <th id=\"T_5c7db_level0_row0\" class=\"row_heading level0 row0\" >0</th>\n",
       "      <td id=\"T_5c7db_row0_col0\" class=\"data row0 col0\" >alice</td>\n",
       "      <td id=\"T_5c7db_row0_col1\" class=\"data row0 col1\" >2</td>\n",
       "    </tr>\n",
       "    <tr>\n",
       "      <th id=\"T_5c7db_level0_row1\" class=\"row_heading level0 row1\" >1</th>\n",
       "      <td id=\"T_5c7db_row1_col0\" class=\"data row1 col0\" >bob</td>\n",
       "      <td id=\"T_5c7db_row1_col1\" class=\"data row1 col1\" >1</td>\n",
       "    </tr>\n",
       "    <tr>\n",
       "      <th id=\"T_5c7db_level0_row2\" class=\"row_heading level0 row2\" >2</th>\n",
       "      <td id=\"T_5c7db_row2_col0\" class=\"data row2 col0\" >charlie</td>\n",
       "      <td id=\"T_5c7db_row2_col1\" class=\"data row2 col1\" >1</td>\n",
       "    </tr>\n",
       "    <tr>\n",
       "      <th id=\"T_5c7db_level0_row3\" class=\"row_heading level0 row3\" >3</th>\n",
       "      <td id=\"T_5c7db_row3_col0\" class=\"data row3 col0\" >eve</td>\n",
       "      <td id=\"T_5c7db_row3_col1\" class=\"data row3 col1\" >2</td>\n",
       "    </tr>\n",
       "    <tr>\n",
       "      <th id=\"T_5c7db_level0_row4\" class=\"row_heading level0 row4\" >4</th>\n",
       "      <td id=\"T_5c7db_row4_col0\" class=\"data row4 col0\" >george</td>\n",
       "      <td id=\"T_5c7db_row4_col1\" class=\"data row4 col1\" >2</td>\n",
       "    </tr>\n",
       "  </tbody>\n",
       "</table>\n"
      ],
      "text/plain": [
       "<pandas.io.formats.style.Styler at 0x11f54d0f0>"
      ]
     },
     "execution_count": 46,
     "metadata": {},
     "output_type": "execute_result"
    }
   ],
   "source": [
    "?[person, count(loved_by)] := *love[loved_by, person]"
   ]
  },
  {
   "cell_type": "markdown",
   "metadata": {},
   "source": [
    "The usual `sum`, `mean`, etc. are all available. \n",
    "Aggregations in the head instead of in the body may seem strange, but is powerful, as we will see later.\n",
    "\n",
    "Here is the [full list](https://cozodb.github.io/current/manual/aggregations.html) of aggregations for you to play with.\n",
    "\n",
    "## Query options\n",
    "\n",
    "We have seem query options like `:create`, `:put`, `:rm` for manipulating stored relations. \n",
    "There are also query options for controlling what is returned:"
   ]
  },
  {
   "cell_type": "code",
   "execution_count": 47,
   "metadata": {},
   "outputs": [
    {
     "data": {
      "text/html": [
       "<style type=\"text/css\">\n",
       "#T_52228_row0_col0, #T_52228_row0_col1 {\n",
       "  color: black;\n",
       "}\n",
       "</style>\n",
       "<table id=\"T_52228\">\n",
       "  <thead>\n",
       "    <tr>\n",
       "      <th class=\"blank level0\" >&nbsp;</th>\n",
       "      <th id=\"T_52228_level0_col0\" class=\"col_heading level0 col0\" >loving</th>\n",
       "      <th id=\"T_52228_level0_col1\" class=\"col_heading level0 col1\" >loved</th>\n",
       "    </tr>\n",
       "  </thead>\n",
       "  <tbody>\n",
       "    <tr>\n",
       "      <th id=\"T_52228_level0_row0\" class=\"row_heading level0 row0\" >0</th>\n",
       "      <td id=\"T_52228_row0_col0\" class=\"data row0 col0\" >alice</td>\n",
       "      <td id=\"T_52228_row0_col1\" class=\"data row0 col1\" >eve</td>\n",
       "    </tr>\n",
       "  </tbody>\n",
       "</table>\n"
      ],
      "text/plain": [
       "<pandas.io.formats.style.Styler at 0x11f54edd0>"
      ]
     },
     "execution_count": 47,
     "metadata": {},
     "output_type": "execute_result"
    }
   ],
   "source": [
    "?[loving, loved] := *love{ loving, loved }\n",
    "\n",
    ":limit 1"
   ]
  },
  {
   "cell_type": "markdown",
   "metadata": {},
   "source": [
    "Next we want the result to be sorted by `loved` in descending order, then `loving` in ascending order, and skip the first row:"
   ]
  },
  {
   "cell_type": "code",
   "execution_count": 48,
   "metadata": {},
   "outputs": [
    {
     "data": {
      "text/html": [
       "<style type=\"text/css\">\n",
       "#T_851ca_row0_col0, #T_851ca_row0_col1, #T_851ca_row1_col0, #T_851ca_row1_col1, #T_851ca_row2_col0, #T_851ca_row2_col1, #T_851ca_row3_col0, #T_851ca_row3_col1, #T_851ca_row4_col0, #T_851ca_row4_col1, #T_851ca_row5_col0, #T_851ca_row5_col1, #T_851ca_row6_col0, #T_851ca_row6_col1 {\n",
       "  color: black;\n",
       "}\n",
       "</style>\n",
       "<table id=\"T_851ca\">\n",
       "  <thead>\n",
       "    <tr>\n",
       "      <th class=\"blank level0\" >&nbsp;</th>\n",
       "      <th id=\"T_851ca_level0_col0\" class=\"col_heading level0 col0\" >loving</th>\n",
       "      <th id=\"T_851ca_level0_col1\" class=\"col_heading level0 col1\" >loved</th>\n",
       "    </tr>\n",
       "  </thead>\n",
       "  <tbody>\n",
       "    <tr>\n",
       "      <th id=\"T_851ca_level0_row0\" class=\"row_heading level0 row0\" >0</th>\n",
       "      <td id=\"T_851ca_row0_col0\" class=\"data row0 col0\" >george</td>\n",
       "      <td id=\"T_851ca_row0_col1\" class=\"data row0 col1\" >george</td>\n",
       "    </tr>\n",
       "    <tr>\n",
       "      <th id=\"T_851ca_level0_row1\" class=\"row_heading level0 row1\" >1</th>\n",
       "      <td id=\"T_851ca_row1_col0\" class=\"data row1 col0\" >alice</td>\n",
       "      <td id=\"T_851ca_row1_col1\" class=\"data row1 col1\" >eve</td>\n",
       "    </tr>\n",
       "    <tr>\n",
       "      <th id=\"T_851ca_level0_row2\" class=\"row_heading level0 row2\" >2</th>\n",
       "      <td id=\"T_851ca_row2_col0\" class=\"data row2 col0\" >charlie</td>\n",
       "      <td id=\"T_851ca_row2_col1\" class=\"data row2 col1\" >eve</td>\n",
       "    </tr>\n",
       "    <tr>\n",
       "      <th id=\"T_851ca_level0_row3\" class=\"row_heading level0 row3\" >3</th>\n",
       "      <td id=\"T_851ca_row3_col0\" class=\"data row3 col0\" >eve</td>\n",
       "      <td id=\"T_851ca_row3_col1\" class=\"data row3 col1\" >charlie</td>\n",
       "    </tr>\n",
       "    <tr>\n",
       "      <th id=\"T_851ca_level0_row4\" class=\"row_heading level0 row4\" >4</th>\n",
       "      <td id=\"T_851ca_row4_col0\" class=\"data row4 col0\" >eve</td>\n",
       "      <td id=\"T_851ca_row4_col1\" class=\"data row4 col1\" >bob</td>\n",
       "    </tr>\n",
       "    <tr>\n",
       "      <th id=\"T_851ca_level0_row5\" class=\"row_heading level0 row5\" >5</th>\n",
       "      <td id=\"T_851ca_row5_col0\" class=\"data row5 col0\" >bob</td>\n",
       "      <td id=\"T_851ca_row5_col1\" class=\"data row5 col1\" >alice</td>\n",
       "    </tr>\n",
       "    <tr>\n",
       "      <th id=\"T_851ca_level0_row6\" class=\"row_heading level0 row6\" >6</th>\n",
       "      <td id=\"T_851ca_row6_col0\" class=\"data row6 col0\" >eve</td>\n",
       "      <td id=\"T_851ca_row6_col1\" class=\"data row6 col1\" >alice</td>\n",
       "    </tr>\n",
       "  </tbody>\n",
       "</table>\n"
      ],
      "text/plain": [
       "<pandas.io.formats.style.Styler at 0x11f55fdc0>"
      ]
     },
     "execution_count": 48,
     "metadata": {},
     "output_type": "execute_result"
    }
   ],
   "source": [
    "?[loving, loved] := *love{ loving, loved }\n",
    "\n",
    ":order -loved, loving\n",
    ":offset 1"
   ]
  },
  {
   "cell_type": "markdown",
   "metadata": {},
   "source": [
    "Putting `-` in front of variables in `:order` clause denotes reverse order. Nothing or `+` denotes the ascending order.\n",
    "\n",
    "The full list of query options are explained [here](https://cozodb.github.io/current/manual/queries.html#query-options).\n",
    "\n",
    "## Fixed rules\n",
    "\n",
    "The `<-` syntax for constant rules is syntax sugar. The full syntax is:"
   ]
  },
  {
   "cell_type": "code",
   "execution_count": 49,
   "metadata": {},
   "outputs": [
    {
     "data": {
      "text/html": [
       "<style type=\"text/css\">\n",
       "#T_bfc5d_row0_col0, #T_bfc5d_row0_col1, #T_bfc5d_row0_col2 {\n",
       "  color: black;\n",
       "}\n",
       "</style>\n",
       "<table id=\"T_bfc5d\">\n",
       "  <thead>\n",
       "    <tr>\n",
       "      <th class=\"blank level0\" >&nbsp;</th>\n",
       "      <th id=\"T_bfc5d_level0_col0\" class=\"col_heading level0 col0\" >_0</th>\n",
       "      <th id=\"T_bfc5d_level0_col1\" class=\"col_heading level0 col1\" >_1</th>\n",
       "      <th id=\"T_bfc5d_level0_col2\" class=\"col_heading level0 col2\" >_2</th>\n",
       "    </tr>\n",
       "  </thead>\n",
       "  <tbody>\n",
       "    <tr>\n",
       "      <th id=\"T_bfc5d_level0_row0\" class=\"row_heading level0 row0\" >0</th>\n",
       "      <td id=\"T_bfc5d_row0_col0\" class=\"data row0 col0\" >hello</td>\n",
       "      <td id=\"T_bfc5d_row0_col1\" class=\"data row0 col1\" >world</td>\n",
       "      <td id=\"T_bfc5d_row0_col2\" class=\"data row0 col2\" >Cozo!</td>\n",
       "    </tr>\n",
       "  </tbody>\n",
       "</table>\n"
      ],
      "text/plain": [
       "<pandas.io.formats.style.Styler at 0x11f54fbb0>"
      ]
     },
     "execution_count": 49,
     "metadata": {},
     "output_type": "execute_result"
    }
   ],
   "source": [
    "?[] <~ Constant(data: [['hello', 'world', 'Cozo!']])"
   ]
  },
  {
   "cell_type": "markdown",
   "metadata": {},
   "source": [
    "Here we are using the _fixed rule_ `Constant`, which takes one _option_ named `data`. The curly tail `<~` denotes a fixed rule.\n",
    "\n",
    "Fixed rules take input relations as arguments, apply custom logic to them and produce its output relation. \n",
    "The `Constant` fixed rule take zero input relations.\n",
    "\n",
    "If you are using Cozo in browser, `Constant` is the only fixed rule you can use. In all other cases your Cozo would have the graph algorithms module enabled, and all graph algorithms are implemented as fixed rules. As an example, let's find out who is most popular in the `love` graph by using the [PageRank](https://en.wikipedia.org/wiki/PageRank) algorithm:"
   ]
  },
  {
   "cell_type": "code",
   "execution_count": 52,
   "metadata": {},
   "outputs": [
    {
     "data": {
      "text/html": [
       "<style type=\"text/css\">\n",
       "#T_e644b_row0_col0, #T_e644b_row1_col0, #T_e644b_row2_col0, #T_e644b_row3_col0, #T_e644b_row4_col0, #T_e644b_row5_col0 {\n",
       "  color: black;\n",
       "}\n",
       "#T_e644b_row0_col1, #T_e644b_row1_col1, #T_e644b_row2_col1, #T_e644b_row3_col1, #T_e644b_row4_col1, #T_e644b_row5_col1 {\n",
       "  color: #307fc1;\n",
       "}\n",
       "</style>\n",
       "<table id=\"T_e644b\">\n",
       "  <thead>\n",
       "    <tr>\n",
       "      <th class=\"blank level0\" >&nbsp;</th>\n",
       "      <th id=\"T_e644b_level0_col0\" class=\"col_heading level0 col0\" >person</th>\n",
       "      <th id=\"T_e644b_level0_col1\" class=\"col_heading level0 col1\" >page_rank</th>\n",
       "    </tr>\n",
       "  </thead>\n",
       "  <tbody>\n",
       "    <tr>\n",
       "      <th id=\"T_e644b_level0_row0\" class=\"row_heading level0 row0\" >0</th>\n",
       "      <td id=\"T_e644b_row0_col0\" class=\"data row0 col0\" >george</td>\n",
       "      <td id=\"T_e644b_row0_col1\" class=\"data row0 col1\" >0.280443</td>\n",
       "    </tr>\n",
       "    <tr>\n",
       "      <th id=\"T_e644b_level0_row1\" class=\"row_heading level0 row1\" >1</th>\n",
       "      <td id=\"T_e644b_row1_col0\" class=\"data row1 col0\" >eve</td>\n",
       "      <td id=\"T_e644b_row1_col1\" class=\"data row1 col1\" >0.275376</td>\n",
       "    </tr>\n",
       "    <tr>\n",
       "      <th id=\"T_e644b_level0_row2\" class=\"row_heading level0 row2\" >2</th>\n",
       "      <td id=\"T_e644b_row2_col0\" class=\"data row2 col0\" >alice</td>\n",
       "      <td id=\"T_e644b_row2_col1\" class=\"data row2 col1\" >0.191205</td>\n",
       "    </tr>\n",
       "    <tr>\n",
       "      <th id=\"T_e644b_level0_row3\" class=\"row_heading level0 row3\" >3</th>\n",
       "      <td id=\"T_e644b_row3_col0\" class=\"data row3 col0\" >bob</td>\n",
       "      <td id=\"T_e644b_row3_col1\" class=\"data row3 col1\" >0.103023</td>\n",
       "    </tr>\n",
       "    <tr>\n",
       "      <th id=\"T_e644b_level0_row4\" class=\"row_heading level0 row4\" >4</th>\n",
       "      <td id=\"T_e644b_row4_col0\" class=\"data row4 col0\" >charlie</td>\n",
       "      <td id=\"T_e644b_row4_col1\" class=\"data row4 col1\" >0.103023</td>\n",
       "    </tr>\n",
       "    <tr>\n",
       "      <th id=\"T_e644b_level0_row5\" class=\"row_heading level0 row5\" >5</th>\n",
       "      <td id=\"T_e644b_row5_col0\" class=\"data row5 col0\" >david</td>\n",
       "      <td id=\"T_e644b_row5_col1\" class=\"data row5 col1\" >0.025000</td>\n",
       "    </tr>\n",
       "  </tbody>\n",
       "</table>\n"
      ],
      "text/plain": [
       "<pandas.io.formats.style.Styler at 0x11f55e050>"
      ]
     },
     "execution_count": 52,
     "metadata": {},
     "output_type": "execute_result"
    }
   ],
   "source": [
    "?[person, page_rank] <~ PageRank(*love[])\n",
    "\n",
    ":order -page_rank"
   ]
  },
  {
   "cell_type": "markdown",
   "metadata": {},
   "source": [
    "Here the input relation is the stored relation `*love` (as noted above, you will receive an error if you run this in the WASM implementation).\n",
    "\n",
    "Each fixed rule is different. Read [this](https://cozodb.github.io/current/manual/algorithms.html) to learn how to use them."
   ]
  },
  {
   "cell_type": "code",
   "execution_count": 53,
   "metadata": {},
   "outputs": [
    {
     "data": {
      "text/html": [
       "<style type=\"text/css\">\n",
       "#T_0dbb8_row0_col0 {\n",
       "  color: black;\n",
       "}\n",
       "</style>\n",
       "<table id=\"T_0dbb8\">\n",
       "  <thead>\n",
       "    <tr>\n",
       "      <th class=\"blank level0\" >&nbsp;</th>\n",
       "      <th id=\"T_0dbb8_level0_col0\" class=\"col_heading level0 col0\" >status</th>\n",
       "    </tr>\n",
       "  </thead>\n",
       "  <tbody>\n",
       "    <tr>\n",
       "      <th id=\"T_0dbb8_level0_row0\" class=\"row_heading level0 row0\" >0</th>\n",
       "      <td id=\"T_0dbb8_row0_col0\" class=\"data row0 col0\" >OK</td>\n",
       "    </tr>\n",
       "  </tbody>\n",
       "</table>\n"
      ],
      "text/plain": [
       "<pandas.io.formats.style.Styler at 0x11f57f1f0>"
      ]
     },
     "execution_count": 53,
     "metadata": {},
     "output_type": "execute_result"
    }
   ],
   "source": [
    "::remove love"
   ]
  },
  {
   "cell_type": "markdown",
   "metadata": {},
   "source": [
    "# Part 2: The continuing"
   ]
  },
  {
   "cell_type": "markdown",
   "metadata": {},
   "source": [
    "## Command blocks\n",
    "\n",
    "Cozo executes the entire script you send to it in a single transaction. You can do multiple query-command blocks by wrapping each block in curly braces. The blocks are executed in sequence and either all of them succeed or none of them do and the state rolls back. The result returned to a client is whatever is in the last block. Like this:"
   ]
  },
  {
   "cell_type": "code",
   "execution_count": 29,
   "metadata": {},
   "outputs": [],
   "source": [
    "{?[a] <- [[1], [2], [3]]; :replace test {a}}\n",
    "{?[a] <- []; :replace test2 {a}}\n",
    "%return test"
   ]
  },
  {
   "cell_type": "markdown",
   "metadata": {},
   "source": [
    "There are certain commands that can be provided between, before or after the blocks. These start with a %. Here, the contents of the `test` relation are the results returned from the entire script."
   ]
  },
  {
   "cell_type": "markdown",
   "metadata": {},
   "source": [
    "## Graphs\n",
    "\n",
    "Now let's consider a graph stored as a relation:"
   ]
  },
  {
   "cell_type": "code",
   "execution_count": 36,
   "metadata": {},
   "outputs": [
    {
     "data": {
      "text/html": [
       "<style type=\"text/css\">\n",
       "#T_6b102_row0_col0 {\n",
       "  color: black;\n",
       "}\n",
       "</style>\n",
       "<table id=\"T_6b102\">\n",
       "  <thead>\n",
       "    <tr>\n",
       "      <th class=\"blank level0\" >&nbsp;</th>\n",
       "      <th id=\"T_6b102_level0_col0\" class=\"col_heading level0 col0\" >status</th>\n",
       "    </tr>\n",
       "  </thead>\n",
       "  <tbody>\n",
       "    <tr>\n",
       "      <th id=\"T_6b102_level0_row0\" class=\"row_heading level0 row0\" >0</th>\n",
       "      <td id=\"T_6b102_row0_col0\" class=\"data row0 col0\" >OK</td>\n",
       "    </tr>\n",
       "  </tbody>\n",
       "</table>\n"
      ],
      "text/plain": [
       "<pandas.io.formats.style.Styler at 0x11f54e410>"
      ]
     },
     "execution_count": 36,
     "metadata": {},
     "output_type": "execute_result"
    }
   ],
   "source": [
    "?[loving, loved] <- [['alice', 'eve'],\n",
    "                     ['bob', 'alice'],\n",
    "                     ['eve', 'alice'],\n",
    "                     ['eve', 'bob'],\n",
    "                     ['eve', 'charlie'],\n",
    "                     ['charlie', 'eve'],\n",
    "                     ['david', 'george'],\n",
    "                     ['george', 'george']]\n",
    "\n",
    ":replace love {loving, loved}"
   ]
  },
  {
   "cell_type": "markdown",
   "metadata": {},
   "source": [
    "The graph we have created reads like \"Alice loves Eve, Bob loves Alice\", \"nobody loves David, David loves George, but George only loves himself\", and so on. \n",
    "Here we used `:replace` instead of `:create`. The difference is that if `love` already exists, it will be wiped and replaced with the new data given.\n",
    "\n",
    "We can investigate competing interests:"
   ]
  },
  {
   "cell_type": "code",
   "execution_count": 37,
   "metadata": {},
   "outputs": [
    {
     "data": {
      "text/html": [
       "<style type=\"text/css\">\n",
       "#T_98ba6_row0_col0 {\n",
       "  color: black;\n",
       "}\n",
       "</style>\n",
       "<table id=\"T_98ba6\">\n",
       "  <thead>\n",
       "    <tr>\n",
       "      <th class=\"blank level0\" >&nbsp;</th>\n",
       "      <th id=\"T_98ba6_level0_col0\" class=\"col_heading level0 col0\" >loved_by_b_e</th>\n",
       "    </tr>\n",
       "  </thead>\n",
       "  <tbody>\n",
       "    <tr>\n",
       "      <th id=\"T_98ba6_level0_row0\" class=\"row_heading level0 row0\" >0</th>\n",
       "      <td id=\"T_98ba6_row0_col0\" class=\"data row0 col0\" >alice</td>\n",
       "    </tr>\n",
       "  </tbody>\n",
       "</table>\n"
      ],
      "text/plain": [
       "<pandas.io.formats.style.Styler at 0x11f54f910>"
      ]
     },
     "execution_count": 37,
     "metadata": {},
     "output_type": "execute_result"
    }
   ],
   "source": [
    "?[loved_by_b_e] := *love['eve', loved_by_b_e], *love['bob', loved_by_b_e]"
   ]
  },
  {
   "cell_type": "markdown",
   "metadata": {},
   "source": [
    "So far we rule bodies consist of _conjunction_ of atoms only. Disjunction is also available, by using the `or` keyword:"
   ]
  },
  {
   "cell_type": "code",
   "execution_count": 38,
   "metadata": {},
   "outputs": [
    {
     "data": {
      "text/html": [
       "<style type=\"text/css\">\n",
       "#T_b1fdb_row0_col0, #T_b1fdb_row1_col0 {\n",
       "  color: black;\n",
       "}\n",
       "</style>\n",
       "<table id=\"T_b1fdb\">\n",
       "  <thead>\n",
       "    <tr>\n",
       "      <th class=\"blank level0\" >&nbsp;</th>\n",
       "      <th id=\"T_b1fdb_level0_col0\" class=\"col_heading level0 col0\" >loved_by_b_e</th>\n",
       "    </tr>\n",
       "  </thead>\n",
       "  <tbody>\n",
       "    <tr>\n",
       "      <th id=\"T_b1fdb_level0_row0\" class=\"row_heading level0 row0\" >0</th>\n",
       "      <td id=\"T_b1fdb_row0_col0\" class=\"data row0 col0\" >alice</td>\n",
       "    </tr>\n",
       "    <tr>\n",
       "      <th id=\"T_b1fdb_level0_row1\" class=\"row_heading level0 row1\" >1</th>\n",
       "      <td id=\"T_b1fdb_row1_col0\" class=\"data row1 col0\" >charlie</td>\n",
       "    </tr>\n",
       "  </tbody>\n",
       "</table>\n"
      ],
      "text/plain": [
       "<pandas.io.formats.style.Styler at 0x11f4dfb20>"
      ]
     },
     "execution_count": 38,
     "metadata": {},
     "output_type": "execute_result"
    }
   ],
   "source": [
    "?[loved_by_b_e] := *love['eve', loved_by_b_e] or *love['bob', loved_by_b_e], \n",
    "                   loved_by_b_e != 'bob', \n",
    "                   loved_by_b_e != 'eve'"
   ]
  },
  {
   "cell_type": "markdown",
   "metadata": {},
   "source": [
    "Compare this with multiple rule definitions under the same name:"
   ]
  },
  {
   "cell_type": "code",
   "execution_count": 39,
   "metadata": {},
   "outputs": [
    {
     "data": {
      "text/html": [
       "<style type=\"text/css\">\n",
       "#T_70121_row0_col0, #T_70121_row1_col0 {\n",
       "  color: black;\n",
       "}\n",
       "</style>\n",
       "<table id=\"T_70121\">\n",
       "  <thead>\n",
       "    <tr>\n",
       "      <th class=\"blank level0\" >&nbsp;</th>\n",
       "      <th id=\"T_70121_level0_col0\" class=\"col_heading level0 col0\" >loved_by_b_e</th>\n",
       "    </tr>\n",
       "  </thead>\n",
       "  <tbody>\n",
       "    <tr>\n",
       "      <th id=\"T_70121_level0_row0\" class=\"row_heading level0 row0\" >0</th>\n",
       "      <td id=\"T_70121_row0_col0\" class=\"data row0 col0\" >alice</td>\n",
       "    </tr>\n",
       "    <tr>\n",
       "      <th id=\"T_70121_level0_row1\" class=\"row_heading level0 row1\" >1</th>\n",
       "      <td id=\"T_70121_row1_col0\" class=\"data row1 col0\" >charlie</td>\n",
       "    </tr>\n",
       "  </tbody>\n",
       "</table>\n"
      ],
      "text/plain": [
       "<pandas.io.formats.style.Styler at 0x11f55de70>"
      ]
     },
     "execution_count": 39,
     "metadata": {},
     "output_type": "execute_result"
    }
   ],
   "source": [
    "?[loved_by_b_e] := *love['eve', loved_by_b_e], \n",
    "                   loved_by_b_e != 'bob', \n",
    "                   loved_by_b_e != 'eve'\n",
    "?[loved_by_b_e] := *love['bob', loved_by_b_e], \n",
    "                   loved_by_b_e != 'bob', \n",
    "                   loved_by_b_e != 'eve'"
   ]
  },
  {
   "cell_type": "markdown",
   "metadata": {},
   "source": [
    "When you have multiple definitions of the same inline rule, the rule heads must be compatible. Only inline rules can have multiple definitions.\n",
    "\n",
    "## Negation\n",
    "\n",
    "Negation of _expressions_ should be familiar:"
   ]
  },
  {
   "cell_type": "code",
   "execution_count": 40,
   "metadata": {},
   "outputs": [
    {
     "data": {
      "text/html": [
       "<style type=\"text/css\">\n",
       "#T_559bf_row0_col0, #T_559bf_row1_col0 {\n",
       "  color: black;\n",
       "}\n",
       "</style>\n",
       "<table id=\"T_559bf\">\n",
       "  <thead>\n",
       "    <tr>\n",
       "      <th class=\"blank level0\" >&nbsp;</th>\n",
       "      <th id=\"T_559bf_level0_col0\" class=\"col_heading level0 col0\" >loved</th>\n",
       "    </tr>\n",
       "  </thead>\n",
       "  <tbody>\n",
       "    <tr>\n",
       "      <th id=\"T_559bf_level0_row0\" class=\"row_heading level0 row0\" >0</th>\n",
       "      <td id=\"T_559bf_row0_col0\" class=\"data row0 col0\" >alice</td>\n",
       "    </tr>\n",
       "    <tr>\n",
       "      <th id=\"T_559bf_level0_row1\" class=\"row_heading level0 row1\" >1</th>\n",
       "      <td id=\"T_559bf_row1_col0\" class=\"data row1 col0\" >george</td>\n",
       "    </tr>\n",
       "  </tbody>\n",
       "</table>\n"
      ],
      "text/plain": [
       "<pandas.io.formats.style.Styler at 0x11f55e170>"
      ]
     },
     "execution_count": 40,
     "metadata": {},
     "output_type": "execute_result"
    }
   ],
   "source": [
    "?[loved] := *love[person, loved], !ends_with(person, 'e')"
   ]
  },
  {
   "cell_type": "markdown",
   "metadata": {},
   "source": [
    "Rule applications can also be negated, not with the `!` operator, but with the `not` keyword:"
   ]
  },
  {
   "cell_type": "code",
   "execution_count": 41,
   "metadata": {},
   "outputs": [
    {
     "data": {
      "text/html": [
       "<style type=\"text/css\">\n",
       "#T_ca9c7_row0_col0, #T_ca9c7_row1_col0 {\n",
       "  color: black;\n",
       "}\n",
       "</style>\n",
       "<table id=\"T_ca9c7\">\n",
       "  <thead>\n",
       "    <tr>\n",
       "      <th class=\"blank level0\" >&nbsp;</th>\n",
       "      <th id=\"T_ca9c7_level0_col0\" class=\"col_heading level0 col0\" >loved_by_e_not_b</th>\n",
       "    </tr>\n",
       "  </thead>\n",
       "  <tbody>\n",
       "    <tr>\n",
       "      <th id=\"T_ca9c7_level0_row0\" class=\"row_heading level0 row0\" >0</th>\n",
       "      <td id=\"T_ca9c7_row0_col0\" class=\"data row0 col0\" >bob</td>\n",
       "    </tr>\n",
       "    <tr>\n",
       "      <th id=\"T_ca9c7_level0_row1\" class=\"row_heading level0 row1\" >1</th>\n",
       "      <td id=\"T_ca9c7_row1_col0\" class=\"data row1 col0\" >charlie</td>\n",
       "    </tr>\n",
       "  </tbody>\n",
       "</table>\n"
      ],
      "text/plain": [
       "<pandas.io.formats.style.Styler at 0x11f55e380>"
      ]
     },
     "execution_count": 41,
     "metadata": {},
     "output_type": "execute_result"
    }
   ],
   "source": [
    "?[loved_by_e_not_b] := *love['eve', loved_by_e_not_b], not *love['bob', loved_by_e_not_b]"
   ]
  },
  {
   "cell_type": "markdown",
   "metadata": {},
   "source": [
    "There are two sets of logical operations in Cozo, one set that acts on the level of expressions, and another set that acts on the level of atoms:\n",
    "\n",
    "* For atoms: `,` or `and` (conjunction), `or` (disjunction), `not` (negation)\n",
    "* For expressions: `&&` (conjunction), `||` (disjunction), `!` (negation)\n",
    "\n",
    "The difference between `,` and `and` is operator precedence: `and` has higher precedence than `or`, whereas `,` has lower precedence than `or`.\n",
    "\n",
    "There is a _safety rule_ for negation:"
   ]
  },
  {
   "cell_type": "code",
   "execution_count": 42,
   "metadata": {},
   "outputs": [
    {
     "data": {
      "text/plain": [
       "\u001b[31meval::unbound_symb_in_head\u001b[0m\n",
       "\n",
       "  \u001b[31m×\u001b[0m Symbol 'not_loved_by_b' in rule head is unbound\n",
       "   ╭────\n",
       " \u001b[2m1\u001b[0m │ ?[not_loved_by_b] := not *love['bob', not_loved_by_b]\n",
       "   · \u001b[35;1m  ──────────────\u001b[0m\n",
       "   ╰────\n",
       "\u001b[36m  help: \u001b[0mNote that symbols occurring only in negated positions are not considered bound\n"
      ]
     },
     "execution_count": 42,
     "metadata": {},
     "output_type": "execute_result"
    }
   ],
   "source": [
    "?[not_loved_by_b] := not *love['bob', not_loved_by_b]"
   ]
  },
  {
   "cell_type": "markdown",
   "metadata": {},
   "source": [
    "This query is forbidden because the resulting relation is infinite.\n",
    "For example, 'gold' should be in the result, since _according to the facts stored in the database_, \n",
    "Bob has no interest in 'gold'.\n",
    "\n",
    "To make our query finite, we have to explicitly give our query a _closed world_:"
   ]
  },
  {
   "cell_type": "code",
   "execution_count": 43,
   "metadata": {},
   "outputs": [
    {
     "data": {
      "text/html": [
       "<style type=\"text/css\">\n",
       "#T_7b9b7_row0_col0, #T_7b9b7_row1_col0, #T_7b9b7_row2_col0, #T_7b9b7_row3_col0, #T_7b9b7_row4_col0 {\n",
       "  color: black;\n",
       "}\n",
       "</style>\n",
       "<table id=\"T_7b9b7\">\n",
       "  <thead>\n",
       "    <tr>\n",
       "      <th class=\"blank level0\" >&nbsp;</th>\n",
       "      <th id=\"T_7b9b7_level0_col0\" class=\"col_heading level0 col0\" >not_loved_by_b</th>\n",
       "    </tr>\n",
       "  </thead>\n",
       "  <tbody>\n",
       "    <tr>\n",
       "      <th id=\"T_7b9b7_level0_row0\" class=\"row_heading level0 row0\" >0</th>\n",
       "      <td id=\"T_7b9b7_row0_col0\" class=\"data row0 col0\" >bob</td>\n",
       "    </tr>\n",
       "    <tr>\n",
       "      <th id=\"T_7b9b7_level0_row1\" class=\"row_heading level0 row1\" >1</th>\n",
       "      <td id=\"T_7b9b7_row1_col0\" class=\"data row1 col0\" >charlie</td>\n",
       "    </tr>\n",
       "    <tr>\n",
       "      <th id=\"T_7b9b7_level0_row2\" class=\"row_heading level0 row2\" >2</th>\n",
       "      <td id=\"T_7b9b7_row2_col0\" class=\"data row2 col0\" >david</td>\n",
       "    </tr>\n",
       "    <tr>\n",
       "      <th id=\"T_7b9b7_level0_row3\" class=\"row_heading level0 row3\" >3</th>\n",
       "      <td id=\"T_7b9b7_row3_col0\" class=\"data row3 col0\" >eve</td>\n",
       "    </tr>\n",
       "    <tr>\n",
       "      <th id=\"T_7b9b7_level0_row4\" class=\"row_heading level0 row4\" >4</th>\n",
       "      <td id=\"T_7b9b7_row4_col0\" class=\"data row4 col0\" >george</td>\n",
       "    </tr>\n",
       "  </tbody>\n",
       "</table>\n"
      ],
      "text/plain": [
       "<pandas.io.formats.style.Styler at 0x11f54e170>"
      ]
     },
     "execution_count": 43,
     "metadata": {},
     "output_type": "execute_result"
    }
   ],
   "source": [
    "the_population[p] := *love[p, _a]\n",
    "the_population[p] := *love[_a, p]\n",
    "\n",
    "?[not_loved_by_b] := the_population[not_loved_by_b], not *love['bob', not_loved_by_b]"
   ]
  },
  {
   "cell_type": "markdown",
   "metadata": {},
   "source": [
    "## Recursion\n",
    "\n",
    "The single greatest advantage of Datalog over SQL is that recursive/graph queries area much simpler. \n",
    "\n",
    "Inline rules can applying other rules, and can have multiple definitions. If you combine these two, you get recursions:"
   ]
  },
  {
   "cell_type": "code",
   "execution_count": 44,
   "metadata": {},
   "outputs": [
    {
     "data": {
      "text/html": [
       "<style type=\"text/css\">\n",
       "#T_1f997_row0_col0, #T_1f997_row1_col0, #T_1f997_row2_col0, #T_1f997_row3_col0 {\n",
       "  color: black;\n",
       "}\n",
       "</style>\n",
       "<table id=\"T_1f997\">\n",
       "  <thead>\n",
       "    <tr>\n",
       "      <th class=\"blank level0\" >&nbsp;</th>\n",
       "      <th id=\"T_1f997_level0_col0\" class=\"col_heading level0 col0\" >chained</th>\n",
       "    </tr>\n",
       "  </thead>\n",
       "  <tbody>\n",
       "    <tr>\n",
       "      <th id=\"T_1f997_level0_row0\" class=\"row_heading level0 row0\" >0</th>\n",
       "      <td id=\"T_1f997_row0_col0\" class=\"data row0 col0\" >alice</td>\n",
       "    </tr>\n",
       "    <tr>\n",
       "      <th id=\"T_1f997_level0_row1\" class=\"row_heading level0 row1\" >1</th>\n",
       "      <td id=\"T_1f997_row1_col0\" class=\"data row1 col0\" >bob</td>\n",
       "    </tr>\n",
       "    <tr>\n",
       "      <th id=\"T_1f997_level0_row2\" class=\"row_heading level0 row2\" >2</th>\n",
       "      <td id=\"T_1f997_row2_col0\" class=\"data row2 col0\" >charlie</td>\n",
       "    </tr>\n",
       "    <tr>\n",
       "      <th id=\"T_1f997_level0_row3\" class=\"row_heading level0 row3\" >3</th>\n",
       "      <td id=\"T_1f997_row3_col0\" class=\"data row3 col0\" >eve</td>\n",
       "    </tr>\n",
       "  </tbody>\n",
       "</table>\n"
      ],
      "text/plain": [
       "<pandas.io.formats.style.Styler at 0x11f54df30>"
      ]
     },
     "execution_count": 44,
     "metadata": {},
     "output_type": "execute_result"
    }
   ],
   "source": [
    "alice_love_chain[person] := *love['alice', person]\n",
    "alice_love_chain[person] := alice_love_chain[in_person], *love[in_person, person]\n",
    "\n",
    "?[chained] := alice_love_chain[chained]"
   ]
  },
  {
   "cell_type": "markdown",
   "metadata": {},
   "source": [
    "You may object that you only need to be able to apply other rules to have recursion, \n",
    "without multiple definitions. \n",
    "Technically correct, but the resulting queries are not useful::"
   ]
  },
  {
   "cell_type": "code",
   "execution_count": 45,
   "metadata": {},
   "outputs": [
    {
     "data": {
      "text/html": [
       "<style type=\"text/css\">\n",
       "</style>\n",
       "<table id=\"T_ed901\">\n",
       "  <thead>\n",
       "    <tr>\n",
       "      <th class=\"blank level0\" >&nbsp;</th>\n",
       "      <th id=\"T_ed901_level0_col0\" class=\"col_heading level0 col0\" >chained</th>\n",
       "    </tr>\n",
       "  </thead>\n",
       "  <tbody>\n",
       "  </tbody>\n",
       "</table>\n"
      ],
      "text/plain": [
       "<pandas.io.formats.style.Styler at 0x11f55ded0>"
      ]
     },
     "execution_count": 45,
     "metadata": {},
     "output_type": "execute_result"
    }
   ],
   "source": [
    "alice_love_chain[person] := alice_love_chain[in_person], *love[in_person, person]\n",
    "\n",
    "?[chained] := alice_love_chain[chained]"
   ]
  },
  {
   "cell_type": "markdown",
   "metadata": {},
   "source": [
    "Similar to the negation case, if there is no way to _deduce_ a fact from the given facts, \n",
    "then the fact itself is considered false. \n",
    "You need multiple definitions to \"bootstrap\" the query.\n",
    "\n",
    "## Aggregation\n",
    "\n",
    "_Aggregations_ are usually used to compute statistics. In Cozo, aggregations are applied in the head of inline rules:"
   ]
  },
  {
   "cell_type": "code",
   "execution_count": 46,
   "metadata": {},
   "outputs": [
    {
     "data": {
      "text/html": [
       "<style type=\"text/css\">\n",
       "#T_5c7db_row0_col0, #T_5c7db_row1_col0, #T_5c7db_row2_col0, #T_5c7db_row3_col0, #T_5c7db_row4_col0 {\n",
       "  color: black;\n",
       "}\n",
       "#T_5c7db_row0_col1, #T_5c7db_row1_col1, #T_5c7db_row2_col1, #T_5c7db_row3_col1, #T_5c7db_row4_col1 {\n",
       "  color: #307fc1;\n",
       "}\n",
       "</style>\n",
       "<table id=\"T_5c7db\">\n",
       "  <thead>\n",
       "    <tr>\n",
       "      <th class=\"blank level0\" >&nbsp;</th>\n",
       "      <th id=\"T_5c7db_level0_col0\" class=\"col_heading level0 col0\" >person</th>\n",
       "      <th id=\"T_5c7db_level0_col1\" class=\"col_heading level0 col1\" >count(loved_by)</th>\n",
       "    </tr>\n",
       "  </thead>\n",
       "  <tbody>\n",
       "    <tr>\n",
       "      <th id=\"T_5c7db_level0_row0\" class=\"row_heading level0 row0\" >0</th>\n",
       "      <td id=\"T_5c7db_row0_col0\" class=\"data row0 col0\" >alice</td>\n",
       "      <td id=\"T_5c7db_row0_col1\" class=\"data row0 col1\" >2</td>\n",
       "    </tr>\n",
       "    <tr>\n",
       "      <th id=\"T_5c7db_level0_row1\" class=\"row_heading level0 row1\" >1</th>\n",
       "      <td id=\"T_5c7db_row1_col0\" class=\"data row1 col0\" >bob</td>\n",
       "      <td id=\"T_5c7db_row1_col1\" class=\"data row1 col1\" >1</td>\n",
       "    </tr>\n",
       "    <tr>\n",
       "      <th id=\"T_5c7db_level0_row2\" class=\"row_heading level0 row2\" >2</th>\n",
       "      <td id=\"T_5c7db_row2_col0\" class=\"data row2 col0\" >charlie</td>\n",
       "      <td id=\"T_5c7db_row2_col1\" class=\"data row2 col1\" >1</td>\n",
       "    </tr>\n",
       "    <tr>\n",
       "      <th id=\"T_5c7db_level0_row3\" class=\"row_heading level0 row3\" >3</th>\n",
       "      <td id=\"T_5c7db_row3_col0\" class=\"data row3 col0\" >eve</td>\n",
       "      <td id=\"T_5c7db_row3_col1\" class=\"data row3 col1\" >2</td>\n",
       "    </tr>\n",
       "    <tr>\n",
       "      <th id=\"T_5c7db_level0_row4\" class=\"row_heading level0 row4\" >4</th>\n",
       "      <td id=\"T_5c7db_row4_col0\" class=\"data row4 col0\" >george</td>\n",
       "      <td id=\"T_5c7db_row4_col1\" class=\"data row4 col1\" >2</td>\n",
       "    </tr>\n",
       "  </tbody>\n",
       "</table>\n"
      ],
      "text/plain": [
       "<pandas.io.formats.style.Styler at 0x11f54d0f0>"
      ]
     },
     "execution_count": 46,
     "metadata": {},
     "output_type": "execute_result"
    }
   ],
   "source": [
    "?[person, count(loved_by)] := *love[loved_by, person]"
   ]
  },
  {
   "cell_type": "markdown",
   "metadata": {},
   "source": [
    "The usual `sum`, `mean`, etc. are all available. \n",
    "Aggregations in the head instead of in the body may seem strange, but is powerful, as we will see later.\n",
    "\n",
    "Here is the [full list](https://cozodb.github.io/current/manual/aggregations.html) of aggregations for you to play with.\n",
    "\n",
    "## Query options\n",
    "\n",
    "We have seem query options like `:create`, `:put`, `:rm` for manipulating stored relations. \n",
    "There are also query options for controlling what is returned:"
   ]
  },
  {
   "cell_type": "code",
   "execution_count": 47,
   "metadata": {},
   "outputs": [
    {
     "data": {
      "text/html": [
       "<style type=\"text/css\">\n",
       "#T_52228_row0_col0, #T_52228_row0_col1 {\n",
       "  color: black;\n",
       "}\n",
       "</style>\n",
       "<table id=\"T_52228\">\n",
       "  <thead>\n",
       "    <tr>\n",
       "      <th class=\"blank level0\" >&nbsp;</th>\n",
       "      <th id=\"T_52228_level0_col0\" class=\"col_heading level0 col0\" >loving</th>\n",
       "      <th id=\"T_52228_level0_col1\" class=\"col_heading level0 col1\" >loved</th>\n",
       "    </tr>\n",
       "  </thead>\n",
       "  <tbody>\n",
       "    <tr>\n",
       "      <th id=\"T_52228_level0_row0\" class=\"row_heading level0 row0\" >0</th>\n",
       "      <td id=\"T_52228_row0_col0\" class=\"data row0 col0\" >alice</td>\n",
       "      <td id=\"T_52228_row0_col1\" class=\"data row0 col1\" >eve</td>\n",
       "    </tr>\n",
       "  </tbody>\n",
       "</table>\n"
      ],
      "text/plain": [
       "<pandas.io.formats.style.Styler at 0x11f54edd0>"
      ]
     },
     "execution_count": 47,
     "metadata": {},
     "output_type": "execute_result"
    }
   ],
   "source": [
    "?[loving, loved] := *love{ loving, loved }\n",
    "\n",
    ":limit 1"
   ]
  },
  {
   "cell_type": "markdown",
   "metadata": {},
   "source": [
    "Next we want the result to be sorted by `loved` in descending order, then `loving` in ascending order, and skip the first row:"
   ]
  },
  {
   "cell_type": "code",
   "execution_count": 48,
   "metadata": {},
   "outputs": [
    {
     "data": {
      "text/html": [
       "<style type=\"text/css\">\n",
       "#T_851ca_row0_col0, #T_851ca_row0_col1, #T_851ca_row1_col0, #T_851ca_row1_col1, #T_851ca_row2_col0, #T_851ca_row2_col1, #T_851ca_row3_col0, #T_851ca_row3_col1, #T_851ca_row4_col0, #T_851ca_row4_col1, #T_851ca_row5_col0, #T_851ca_row5_col1, #T_851ca_row6_col0, #T_851ca_row6_col1 {\n",
       "  color: black;\n",
       "}\n",
       "</style>\n",
       "<table id=\"T_851ca\">\n",
       "  <thead>\n",
       "    <tr>\n",
       "      <th class=\"blank level0\" >&nbsp;</th>\n",
       "      <th id=\"T_851ca_level0_col0\" class=\"col_heading level0 col0\" >loving</th>\n",
       "      <th id=\"T_851ca_level0_col1\" class=\"col_heading level0 col1\" >loved</th>\n",
       "    </tr>\n",
       "  </thead>\n",
       "  <tbody>\n",
       "    <tr>\n",
       "      <th id=\"T_851ca_level0_row0\" class=\"row_heading level0 row0\" >0</th>\n",
       "      <td id=\"T_851ca_row0_col0\" class=\"data row0 col0\" >george</td>\n",
       "      <td id=\"T_851ca_row0_col1\" class=\"data row0 col1\" >george</td>\n",
       "    </tr>\n",
       "    <tr>\n",
       "      <th id=\"T_851ca_level0_row1\" class=\"row_heading level0 row1\" >1</th>\n",
       "      <td id=\"T_851ca_row1_col0\" class=\"data row1 col0\" >alice</td>\n",
       "      <td id=\"T_851ca_row1_col1\" class=\"data row1 col1\" >eve</td>\n",
       "    </tr>\n",
       "    <tr>\n",
       "      <th id=\"T_851ca_level0_row2\" class=\"row_heading level0 row2\" >2</th>\n",
       "      <td id=\"T_851ca_row2_col0\" class=\"data row2 col0\" >charlie</td>\n",
       "      <td id=\"T_851ca_row2_col1\" class=\"data row2 col1\" >eve</td>\n",
       "    </tr>\n",
       "    <tr>\n",
       "      <th id=\"T_851ca_level0_row3\" class=\"row_heading level0 row3\" >3</th>\n",
       "      <td id=\"T_851ca_row3_col0\" class=\"data row3 col0\" >eve</td>\n",
       "      <td id=\"T_851ca_row3_col1\" class=\"data row3 col1\" >charlie</td>\n",
       "    </tr>\n",
       "    <tr>\n",
       "      <th id=\"T_851ca_level0_row4\" class=\"row_heading level0 row4\" >4</th>\n",
       "      <td id=\"T_851ca_row4_col0\" class=\"data row4 col0\" >eve</td>\n",
       "      <td id=\"T_851ca_row4_col1\" class=\"data row4 col1\" >bob</td>\n",
       "    </tr>\n",
       "    <tr>\n",
       "      <th id=\"T_851ca_level0_row5\" class=\"row_heading level0 row5\" >5</th>\n",
       "      <td id=\"T_851ca_row5_col0\" class=\"data row5 col0\" >bob</td>\n",
       "      <td id=\"T_851ca_row5_col1\" class=\"data row5 col1\" >alice</td>\n",
       "    </tr>\n",
       "    <tr>\n",
       "      <th id=\"T_851ca_level0_row6\" class=\"row_heading level0 row6\" >6</th>\n",
       "      <td id=\"T_851ca_row6_col0\" class=\"data row6 col0\" >eve</td>\n",
       "      <td id=\"T_851ca_row6_col1\" class=\"data row6 col1\" >alice</td>\n",
       "    </tr>\n",
       "  </tbody>\n",
       "</table>\n"
      ],
      "text/plain": [
       "<pandas.io.formats.style.Styler at 0x11f55fdc0>"
      ]
     },
     "execution_count": 48,
     "metadata": {},
     "output_type": "execute_result"
    }
   ],
   "source": [
    "?[loving, loved] := *love{ loving, loved }\n",
    "\n",
    ":order -loved, loving\n",
    ":offset 1"
   ]
  },
  {
   "cell_type": "markdown",
   "metadata": {},
   "source": [
    "Putting `-` in front of variables in `:order` clause denotes reverse order. Nothing or `+` denotes the ascending order.\n",
    "\n",
    "The full list of query options are explained [here](https://cozodb.github.io/current/manual/queries.html#query-options).\n",
    "\n",
    "## Fixed rules\n",
    "\n",
    "The `<-` syntax for constant rules is syntax sugar. The full syntax is:"
   ]
  },
  {
   "cell_type": "code",
   "execution_count": 49,
   "metadata": {},
   "outputs": [
    {
     "data": {
      "text/html": [
       "<style type=\"text/css\">\n",
       "#T_bfc5d_row0_col0, #T_bfc5d_row0_col1, #T_bfc5d_row0_col2 {\n",
       "  color: black;\n",
       "}\n",
       "</style>\n",
       "<table id=\"T_bfc5d\">\n",
       "  <thead>\n",
       "    <tr>\n",
       "      <th class=\"blank level0\" >&nbsp;</th>\n",
       "      <th id=\"T_bfc5d_level0_col0\" class=\"col_heading level0 col0\" >_0</th>\n",
       "      <th id=\"T_bfc5d_level0_col1\" class=\"col_heading level0 col1\" >_1</th>\n",
       "      <th id=\"T_bfc5d_level0_col2\" class=\"col_heading level0 col2\" >_2</th>\n",
       "    </tr>\n",
       "  </thead>\n",
       "  <tbody>\n",
       "    <tr>\n",
       "      <th id=\"T_bfc5d_level0_row0\" class=\"row_heading level0 row0\" >0</th>\n",
       "      <td id=\"T_bfc5d_row0_col0\" class=\"data row0 col0\" >hello</td>\n",
       "      <td id=\"T_bfc5d_row0_col1\" class=\"data row0 col1\" >world</td>\n",
       "      <td id=\"T_bfc5d_row0_col2\" class=\"data row0 col2\" >Cozo!</td>\n",
       "    </tr>\n",
       "  </tbody>\n",
       "</table>\n"
      ],
      "text/plain": [
       "<pandas.io.formats.style.Styler at 0x11f54fbb0>"
      ]
     },
     "execution_count": 49,
     "metadata": {},
     "output_type": "execute_result"
    }
   ],
   "source": [
    "?[] <~ Constant(data: [['hello', 'world', 'Cozo!']])"
   ]
  },
  {
   "cell_type": "markdown",
   "metadata": {},
   "source": [
    "Here we are using the _fixed rule_ `Constant`, which takes one _option_ named `data`. The curly tail `<~` denotes a fixed rule.\n",
    "\n",
    "Fixed rules take input relations as arguments, apply custom logic to them and produce its output relation. \n",
    "The `Constant` fixed rule take zero input relations.\n",
    "\n",
    "If you are using Cozo in browser, `Constant` is the only fixed rule you can use. In all other cases your Cozo would have the graph algorithms module enabled, and all graph algorithms are implemented as fixed rules. As an example, let's find out who is most popular in the `love` graph by using the [PageRank](https://en.wikipedia.org/wiki/PageRank) algorithm:"
   ]
  },
  {
   "cell_type": "code",
   "execution_count": 52,
   "metadata": {},
   "outputs": [
    {
     "data": {
      "text/html": [
       "<style type=\"text/css\">\n",
       "#T_e644b_row0_col0, #T_e644b_row1_col0, #T_e644b_row2_col0, #T_e644b_row3_col0, #T_e644b_row4_col0, #T_e644b_row5_col0 {\n",
       "  color: black;\n",
       "}\n",
       "#T_e644b_row0_col1, #T_e644b_row1_col1, #T_e644b_row2_col1, #T_e644b_row3_col1, #T_e644b_row4_col1, #T_e644b_row5_col1 {\n",
       "  color: #307fc1;\n",
       "}\n",
       "</style>\n",
       "<table id=\"T_e644b\">\n",
       "  <thead>\n",
       "    <tr>\n",
       "      <th class=\"blank level0\" >&nbsp;</th>\n",
       "      <th id=\"T_e644b_level0_col0\" class=\"col_heading level0 col0\" >person</th>\n",
       "      <th id=\"T_e644b_level0_col1\" class=\"col_heading level0 col1\" >page_rank</th>\n",
       "    </tr>\n",
       "  </thead>\n",
       "  <tbody>\n",
       "    <tr>\n",
       "      <th id=\"T_e644b_level0_row0\" class=\"row_heading level0 row0\" >0</th>\n",
       "      <td id=\"T_e644b_row0_col0\" class=\"data row0 col0\" >george</td>\n",
       "      <td id=\"T_e644b_row0_col1\" class=\"data row0 col1\" >0.280443</td>\n",
       "    </tr>\n",
       "    <tr>\n",
       "      <th id=\"T_e644b_level0_row1\" class=\"row_heading level0 row1\" >1</th>\n",
       "      <td id=\"T_e644b_row1_col0\" class=\"data row1 col0\" >eve</td>\n",
       "      <td id=\"T_e644b_row1_col1\" class=\"data row1 col1\" >0.275376</td>\n",
       "    </tr>\n",
       "    <tr>\n",
       "      <th id=\"T_e644b_level0_row2\" class=\"row_heading level0 row2\" >2</th>\n",
       "      <td id=\"T_e644b_row2_col0\" class=\"data row2 col0\" >alice</td>\n",
       "      <td id=\"T_e644b_row2_col1\" class=\"data row2 col1\" >0.191205</td>\n",
       "    </tr>\n",
       "    <tr>\n",
       "      <th id=\"T_e644b_level0_row3\" class=\"row_heading level0 row3\" >3</th>\n",
       "      <td id=\"T_e644b_row3_col0\" class=\"data row3 col0\" >bob</td>\n",
       "      <td id=\"T_e644b_row3_col1\" class=\"data row3 col1\" >0.103023</td>\n",
       "    </tr>\n",
       "    <tr>\n",
       "      <th id=\"T_e644b_level0_row4\" class=\"row_heading level0 row4\" >4</th>\n",
       "      <td id=\"T_e644b_row4_col0\" class=\"data row4 col0\" >charlie</td>\n",
       "      <td id=\"T_e644b_row4_col1\" class=\"data row4 col1\" >0.103023</td>\n",
       "    </tr>\n",
       "    <tr>\n",
       "      <th id=\"T_e644b_level0_row5\" class=\"row_heading level0 row5\" >5</th>\n",
       "      <td id=\"T_e644b_row5_col0\" class=\"data row5 col0\" >david</td>\n",
       "      <td id=\"T_e644b_row5_col1\" class=\"data row5 col1\" >0.025000</td>\n",
       "    </tr>\n",
       "  </tbody>\n",
       "</table>\n"
      ],
      "text/plain": [
       "<pandas.io.formats.style.Styler at 0x11f55e050>"
      ]
     },
     "execution_count": 52,
     "metadata": {},
     "output_type": "execute_result"
    }
   ],
   "source": [
    "?[person, page_rank] <~ PageRank(*love[])\n",
    "\n",
    ":order -page_rank"
   ]
  },
  {
   "cell_type": "markdown",
   "metadata": {},
   "source": [
    "Here the input relation is the stored relation `*love` (as noted above, you will receive an error if you run this in the WASM implementation).\n",
    "\n",
    "Each fixed rule is different. Read [this](https://cozodb.github.io/current/manual/algorithms.html) to learn how to use them."
   ]
  },
  {
   "cell_type": "code",
   "execution_count": 53,
   "metadata": {},
   "outputs": [
    {
     "data": {
      "text/html": [
       "<style type=\"text/css\">\n",
       "#T_0dbb8_row0_col0 {\n",
       "  color: black;\n",
       "}\n",
       "</style>\n",
       "<table id=\"T_0dbb8\">\n",
       "  <thead>\n",
       "    <tr>\n",
       "      <th class=\"blank level0\" >&nbsp;</th>\n",
       "      <th id=\"T_0dbb8_level0_col0\" class=\"col_heading level0 col0\" >status</th>\n",
       "    </tr>\n",
       "  </thead>\n",
       "  <tbody>\n",
       "    <tr>\n",
       "      <th id=\"T_0dbb8_level0_row0\" class=\"row_heading level0 row0\" >0</th>\n",
       "      <td id=\"T_0dbb8_row0_col0\" class=\"data row0 col0\" >OK</td>\n",
       "    </tr>\n",
       "  </tbody>\n",
       "</table>\n"
      ],
      "text/plain": [
       "<pandas.io.formats.style.Styler at 0x11f57f1f0>"
      ]
     },
     "execution_count": 53,
     "metadata": {},
     "output_type": "execute_result"
    }
   ],
   "source": [
    "::remove love"
   ]
  },
  {
   "cell_type": "markdown",
   "metadata": {
    "ExecuteTime": {
     "start_time": "2023-08-30T03:59:24.631135Z"
    }
   },
   "source": [
    "## Time travel\n",
    "\n",
    "A very useful capability of Cozo is the ability to time travel in a stored relation.\n",
    "Usually when you `:put` into a relation, the old value is overwritten; and when you `:rm`, the row is\n",
    "completely gone. But the old values can be of great value — we have a [short story](releases/v0.4.md) about it.\n",
    "\n",
    "In this case, _time travel_ is the solution: instead of storing _current_ facts, the stored relation stores the complete history of facts, at least all the available history as history itself unfolds.\n",
    "\n",
    "If you believe that you don't want this functionality at all, you can skip to the next section.\n",
    "At Cozo we adopt the \"zero-cost, zero-mental-overhead abstraction\" philosophy:\n",
    "if you don't use a functionality, you don't pay the performance or cognitive overhead.\n",
    "\n",
    "Let's have a simple example: storing the head of state of countries.\n",
    "First we have to create a new stored relation:"
   ]
  },
  {
   "cell_type": "code",
   "execution_count": 3,
   "metadata": {
    "ExecuteTime": {
     "end_time": "2023-08-30T05:12:16.285249Z",
     "start_time": "2023-08-30T05:12:15.519673Z"
    }
   },
   "outputs": [
    {
     "ename": "SyntaxError",
     "evalue": "invalid syntax (<ipython-input-3-5a20a6d3c9bd>, line 1)",
     "output_type": "error",
     "traceback": [
      "\u001b[0;36m  File \u001b[0;32m\"<ipython-input-3-5a20a6d3c9bd>\"\u001b[0;36m, line \u001b[0;32m1\u001b[0m\n\u001b[0;31m    :create hos {state: String, year: Validity => hos: String}\u001b[0m\n\u001b[0m    ^\u001b[0m\n\u001b[0;31mSyntaxError\u001b[0m\u001b[0;31m:\u001b[0m invalid syntax\n"
     ]
    }
   ],
   "source": [
    ":create hos {state: String, year: Validity => hos: String}"
   ]
  },
  {
   "cell_type": "markdown",
   "metadata": {
    "ExecuteTime": {
     "start_time": "2023-08-30T03:59:24.644642Z"
    }
   },
   "source": [
    "`hos` is shorthand for \"head of state\". The only thing different about this relation is that we are giving `year` the type `Validity`.\n",
    "You can think of validity as a list of two elements, the first element being an integer and the second element being a boolean.\n",
    "The integer indicates the \"time\" of the fact recorded by the row, the boolean, if _true_, indicates that the new version of the row holds starting from the indicated time; if the boolean is _false_, the row is deleted at this time.\n",
    "\n",
    "Note that the integer only identifies a temporal sequence to Cozo. What sequence you use is up to you. UNIX _Epoch_ is the default, as we will see.\n",
    "\n",
    "Now let's insert some data:"
   ]
  },
  {
   "cell_type": "code",
   "execution_count": 4,
   "metadata": {
    "ExecuteTime": {
     "start_time": "2023-08-30T05:12:15.532748Z"
    }
   },
   "outputs": [
    {
     "ename": "IndentationError",
     "evalue": "unexpected indent (<ipython-input-4-7ea50d23d9ee>, line 2)",
     "output_type": "error",
     "traceback": [
      "\u001b[0;36m  File \u001b[0;32m\"<ipython-input-4-7ea50d23d9ee>\"\u001b[0;36m, line \u001b[0;32m2\u001b[0m\n\u001b[0;31m    ['US', [2005, true], 'Bush'],\u001b[0m\n\u001b[0m    ^\u001b[0m\n\u001b[0;31mIndentationError\u001b[0m\u001b[0;31m:\u001b[0m unexpected indent\n"
     ]
    }
   ],
   "source": [
    "?[state, year, hos] <- [['US', [2001, true], 'Bush'],\n",
    "                        ['US', [2005, true], 'Bush'],\n",
    "                        ['US', [2009, true], 'Obama'],\n",
    "                        ['US', [2013, true], 'Obama'],\n",
    "                        ['US', [2017, true], 'Trump'],\n",
    "                        ['US', [2021, true], 'Biden']]\n",
    "\n",
    ":put hos {state, year => hos}"
   ]
  },
  {
   "cell_type": "markdown",
   "metadata": {
    "ExecuteTime": {
     "start_time": "2023-08-30T03:59:24.657887Z"
    }
   },
   "source": [
    "It is OK to assert a still valid fact again, as we have done above. You can use this relation like a normal relation:"
   ]
  },
  {
   "cell_type": "code",
   "execution_count": 5,
   "metadata": {
    "ExecuteTime": {
     "end_time": "2023-08-30T05:12:16.317547Z",
     "start_time": "2023-08-30T05:12:15.549714Z"
    }
   },
   "outputs": [
    {
     "name": "stdout",
     "output_type": "stream",
     "text": [
      "Object `` not found.\n"
     ]
    }
   ],
   "source": [
    "?[state, year, hos] := *hos{state, year, hos}"
   ]
  },
  {
   "cell_type": "markdown",
   "metadata": {
    "ExecuteTime": {
     "start_time": "2023-08-30T03:59:24.671148Z"
    }
   },
   "source": [
    "The curious thing is that it is sorted _descendingly_ by year. Validity sorts descendingly.\n",
    "\n",
    "For any stored relation that has type `Validity` at the _last_ slot of the key, the time-travel capability is enabled. \n",
    "Say you have forgotten who the president of the US was in 2019. Easy:"
   ]
  },
  {
   "cell_type": "code",
   "execution_count": 6,
   "metadata": {
    "ExecuteTime": {
     "end_time": "2023-08-30T05:12:16.379802Z",
     "start_time": "2023-08-30T05:12:15.563466Z"
    }
   },
   "outputs": [
    {
     "name": "stdout",
     "output_type": "stream",
     "text": [
      "Object `` not found.\n"
     ]
    }
   ],
   "source": [
    "?[hos, year] := *hos{state: 'US', year, hos @ 2019}"
   ]
  },
  {
   "cell_type": "markdown",
   "metadata": {
    "ExecuteTime": {
     "start_time": "2023-08-30T03:59:24.684557Z"
    }
   },
   "source": [
    "In your answer you also got the year that this fact was last known to be true.\n",
    "\n",
    "You also don't know about the year 2099:"
   ]
  },
  {
   "cell_type": "code",
   "execution_count": 7,
   "metadata": {
    "ExecuteTime": {
     "end_time": "2023-08-30T05:12:16.426742Z",
     "start_time": "2023-08-30T05:12:15.578962Z"
    }
   },
   "outputs": [
    {
     "name": "stdout",
     "output_type": "stream",
     "text": [
      "Object `` not found.\n"
     ]
    }
   ],
   "source": [
    "?[hos, year] := *hos{state: 'US', year, hos @ 2099}"
   ]
  },
  {
   "cell_type": "markdown",
   "metadata": {
    "ExecuteTime": {
     "start_time": "2023-08-30T03:59:24.697935Z"
    }
   },
   "source": [
    "That certainly doesn't look right. Let's fix it by _retracting_ facts on or after 2025, and only inserting them back when we have the sure facts:"
   ]
  },
  {
   "cell_type": "code",
   "execution_count": 8,
   "metadata": {
    "ExecuteTime": {
     "start_time": "2023-08-30T05:12:15.593946Z"
    }
   },
   "outputs": [
    {
     "ename": "SyntaxError",
     "evalue": "invalid syntax (<ipython-input-8-a146750195d8>, line 3)",
     "output_type": "error",
     "traceback": [
      "\u001b[0;36m  File \u001b[0;32m\"<ipython-input-8-a146750195d8>\"\u001b[0;36m, line \u001b[0;32m3\u001b[0m\n\u001b[0;31m    :put hos {state, year => hos}\u001b[0m\n\u001b[0m    ^\u001b[0m\n\u001b[0;31mSyntaxError\u001b[0m\u001b[0;31m:\u001b[0m invalid syntax\n"
     ]
    }
   ],
   "source": [
    "?[state, year, hos] <- [['US', [2025, false], '']]\n",
    "\n",
    ":put hos {state, year => hos}"
   ]
  },
  {
   "cell_type": "markdown",
   "metadata": {
    "ExecuteTime": {
     "start_time": "2023-08-30T03:59:24.711236Z"
    }
   },
   "source": [
    "As we have hinted, you retract facts by _putting_ a retraction. Now let's run the query again:"
   ]
  },
  {
   "cell_type": "code",
   "execution_count": 9,
   "metadata": {
    "ExecuteTime": {
     "end_time": "2023-08-30T05:12:16.534493Z",
     "start_time": "2023-08-30T05:12:15.608858Z"
    }
   },
   "outputs": [
    {
     "name": "stdout",
     "output_type": "stream",
     "text": [
      "Object `` not found.\n"
     ]
    }
   ],
   "source": [
    "?[hos, year] := *hos{state: 'US', year, hos @ 2099}"
   ]
  },
  {
   "cell_type": "markdown",
   "metadata": {
    "ExecuteTime": {
     "start_time": "2023-08-30T03:59:24.724892Z"
    }
   },
   "source": [
    "Since the database does not contain facts on or after 2025, your query returns empty.\n",
    "\n",
    "This functionality is flexible: you can mix different periods in the same query:"
   ]
  },
  {
   "cell_type": "code",
   "execution_count": 10,
   "metadata": {
    "ExecuteTime": {
     "start_time": "2023-08-30T05:12:15.623995Z"
    }
   },
   "outputs": [
    {
     "ename": "IndentationError",
     "evalue": "unexpected indent (<ipython-input-10-b731005b7af7>, line 2)",
     "output_type": "error",
     "traceback": [
      "\u001b[0;36m  File \u001b[0;32m\"<ipython-input-10-b731005b7af7>\"\u001b[0;36m, line \u001b[0;32m2\u001b[0m\n\u001b[0;31m    *hos{state: 'US', hos: hos2010 @ 2010}\u001b[0m\n\u001b[0m    ^\u001b[0m\n\u001b[0;31mIndentationError\u001b[0m\u001b[0;31m:\u001b[0m unexpected indent\n"
     ]
    }
   ],
   "source": [
    "?[hos2018, hos2010] := *hos{state: 'US', hos: hos2018 @ 2018}, \n",
    "                       *hos{state: 'US', hos: hos2010 @ 2010}"
   ]
  },
  {
   "cell_type": "markdown",
   "metadata": {
    "ExecuteTime": {
     "start_time": "2023-08-30T03:59:24.738266Z"
    }
   },
   "source": [
    "As the relation `hos` is just a normal relation, you can still `rm` facts from it, in which case the facts are irretrievably gone. Whether that's desirable is up to you: the database gives you the choice of how you want to use it, and trusts that you know how to use it correctly for your use case.\n",
    "\n",
    "First let's create a new stored relation to store people's moods:"
   ]
  },
  {
   "cell_type": "code",
   "execution_count": 11,
   "metadata": {
    "ExecuteTime": {
     "start_time": "2023-08-30T05:12:15.638488Z"
    }
   },
   "outputs": [
    {
     "ename": "SyntaxError",
     "evalue": "invalid syntax (<ipython-input-11-6b0ee918cabe>, line 1)",
     "output_type": "error",
     "traceback": [
      "\u001b[0;36m  File \u001b[0;32m\"<ipython-input-11-6b0ee918cabe>\"\u001b[0;36m, line \u001b[0;32m1\u001b[0m\n\u001b[0;31m    :create mood {name: String, at: Validity => mood: String}\u001b[0m\n\u001b[0m    ^\u001b[0m\n\u001b[0;31mSyntaxError\u001b[0m\u001b[0;31m:\u001b[0m invalid syntax\n"
     ]
    }
   ],
   "source": [
    ":create mood {name: String, at: Validity => mood: String}"
   ]
  },
  {
   "cell_type": "markdown",
   "metadata": {
    "ExecuteTime": {
     "start_time": "2023-08-30T03:59:24.751682Z"
    }
   },
   "source": [
    "I want to record my mood now:"
   ]
  },
  {
   "cell_type": "code",
   "execution_count": 12,
   "metadata": {
    "ExecuteTime": {
     "start_time": "2023-08-30T05:12:15.658266Z"
    }
   },
   "outputs": [
    {
     "ename": "SyntaxError",
     "evalue": "invalid syntax (<ipython-input-12-f78cb7e4ad91>, line 2)",
     "output_type": "error",
     "traceback": [
      "\u001b[0;36m  File \u001b[0;32m\"<ipython-input-12-f78cb7e4ad91>\"\u001b[0;36m, line \u001b[0;32m2\u001b[0m\n\u001b[0;31m    :put mood {name, at => mood}\u001b[0m\n\u001b[0m    ^\u001b[0m\n\u001b[0;31mSyntaxError\u001b[0m\u001b[0;31m:\u001b[0m invalid syntax\n"
     ]
    }
   ],
   "source": [
    "?[name, at, mood] <- [['me', 'ASSERT', 'curious']]\n",
    ":put mood {name, at => mood}"
   ]
  },
  {
   "cell_type": "markdown",
   "metadata": {
    "ExecuteTime": {
     "start_time": "2023-08-30T03:59:24.765395Z"
    }
   },
   "source": [
    "Instead of giving a list of two elements as we have done above, we have simply used the string `ASSERT`, and the system will know that we mean an assertion of a _current_ fact, and you guessed it, the value used is the current UNIX Epoch."
   ]
  },
  {
   "cell_type": "code",
   "execution_count": 13,
   "metadata": {
    "ExecuteTime": {
     "end_time": "2023-08-30T05:12:16.781857Z",
     "start_time": "2023-08-30T05:12:15.677511Z"
    }
   },
   "outputs": [
    {
     "name": "stdout",
     "output_type": "stream",
     "text": [
      "Object `` not found.\n"
     ]
    }
   ],
   "source": [
    "?[name, at, mood] := *mood{name, at, mood}"
   ]
  },
  {
   "cell_type": "code",
   "execution_count": 14,
   "metadata": {
    "ExecuteTime": {
     "start_time": "2023-08-30T05:12:15.683982Z"
    }
   },
   "outputs": [
    {
     "ename": "IndentationError",
     "evalue": "unexpected indent (<ipython-input-14-acc3aceecab7>, line 2)",
     "output_type": "error",
     "traceback": [
      "\u001b[0;36m  File \u001b[0;32m\"<ipython-input-14-acc3aceecab7>\"\u001b[0;36m, line \u001b[0;32m2\u001b[0m\n\u001b[0;31m    time = format_timestamp(at)\u001b[0m\n\u001b[0m    ^\u001b[0m\n\u001b[0;31mIndentationError\u001b[0m\u001b[0;31m:\u001b[0m unexpected indent\n"
     ]
    }
   ],
   "source": [
    "?[name, time, mood] := *mood{name, at, mood}, \n",
    "                       time = format_timestamp(at)"
   ]
  },
  {
   "cell_type": "markdown",
   "metadata": {
    "ExecuteTime": {
     "start_time": "2023-08-30T03:59:24.778571Z"
    }
   },
   "source": [
    "To query for current facts, use the string `NOW` in the validity specification:"
   ]
  },
  {
   "cell_type": "code",
   "execution_count": 15,
   "metadata": {
    "ExecuteTime": {
     "start_time": "2023-08-30T05:12:15.693611Z"
    }
   },
   "outputs": [
    {
     "ename": "IndentationError",
     "evalue": "unexpected indent (<ipython-input-15-acc3aceecab7>, line 2)",
     "output_type": "error",
     "traceback": [
      "\u001b[0;36m  File \u001b[0;32m\"<ipython-input-15-acc3aceecab7>\"\u001b[0;36m, line \u001b[0;32m2\u001b[0m\n\u001b[0;31m    time = format_timestamp(at)\u001b[0m\n\u001b[0m    ^\u001b[0m\n\u001b[0;31mIndentationError\u001b[0m\u001b[0;31m:\u001b[0m unexpected indent\n"
     ]
    }
   ],
   "source": [
    "?[name, time, mood] := *mood{name, at, mood @ 'NOW'}, \n",
    "                       time = format_timestamp(at)"
   ]
  },
  {
   "cell_type": "markdown",
   "metadata": {
    "ExecuteTime": {
     "start_time": "2023-08-30T03:59:24.792075Z"
    }
   },
   "source": [
    "You can put in facts with manual timestamps as before, so it is possible that your database contains facts about the future.\n",
    "Let's do just that. Instead of giving a mysterious string of numerals, you can use a string for the timestamp:"
   ]
  },
  {
   "cell_type": "code",
   "execution_count": 16,
   "metadata": {
    "ExecuteTime": {
     "start_time": "2023-08-30T05:12:15.707328Z"
    }
   },
   "outputs": [
    {
     "ename": "SyntaxError",
     "evalue": "invalid syntax (<ipython-input-16-f78cb7e4ad91>, line 2)",
     "output_type": "error",
     "traceback": [
      "\u001b[0;36m  File \u001b[0;32m\"<ipython-input-16-f78cb7e4ad91>\"\u001b[0;36m, line \u001b[0;32m2\u001b[0m\n\u001b[0;31m    :put mood {name, at => mood}\u001b[0m\n\u001b[0m    ^\u001b[0m\n\u001b[0;31mSyntaxError\u001b[0m\u001b[0;31m:\u001b[0m invalid syntax\n"
     ]
    }
   ],
   "source": [
    "?[name, at, mood] <- [['me', '2030-01-01T00:00:00.000+00:00', 'hopeful']]\n",
    ":put mood {name, at => mood}"
   ]
  },
  {
   "cell_type": "markdown",
   "metadata": {
    "ExecuteTime": {
     "start_time": "2023-08-30T03:59:24.805500Z"
    }
   },
   "source": [
    "Since this is in the future, it shouldn't affect `NOW`:"
   ]
  },
  {
   "cell_type": "code",
   "execution_count": 17,
   "metadata": {
    "ExecuteTime": {
     "start_time": "2023-08-30T05:12:15.722918Z"
    }
   },
   "outputs": [
    {
     "ename": "IndentationError",
     "evalue": "unexpected indent (<ipython-input-17-acc3aceecab7>, line 2)",
     "output_type": "error",
     "traceback": [
      "\u001b[0;36m  File \u001b[0;32m\"<ipython-input-17-acc3aceecab7>\"\u001b[0;36m, line \u001b[0;32m2\u001b[0m\n\u001b[0;31m    time = format_timestamp(at)\u001b[0m\n\u001b[0m    ^\u001b[0m\n\u001b[0;31mIndentationError\u001b[0m\u001b[0;31m:\u001b[0m unexpected indent\n"
     ]
    }
   ],
   "source": [
    "?[name, time, mood] := *mood{name, at, mood @ 'NOW'}, \n",
    "                       time = format_timestamp(at)"
   ]
  },
  {
   "cell_type": "markdown",
   "metadata": {
    "ExecuteTime": {
     "start_time": "2023-08-30T03:59:24.818928Z"
    }
   },
   "source": [
    "In this case, there is also `END` for the validity specification, meaning to extract facts at the end of time:"
   ]
  },
  {
   "cell_type": "code",
   "execution_count": 18,
   "metadata": {
    "ExecuteTime": {
     "start_time": "2023-08-30T05:12:15.737938Z"
    }
   },
   "outputs": [
    {
     "ename": "IndentationError",
     "evalue": "unexpected indent (<ipython-input-18-acc3aceecab7>, line 2)",
     "output_type": "error",
     "traceback": [
      "\u001b[0;36m  File \u001b[0;32m\"<ipython-input-18-acc3aceecab7>\"\u001b[0;36m, line \u001b[0;32m2\u001b[0m\n\u001b[0;31m    time = format_timestamp(at)\u001b[0m\n\u001b[0m    ^\u001b[0m\n\u001b[0;31mIndentationError\u001b[0m\u001b[0;31m:\u001b[0m unexpected indent\n"
     ]
    }
   ],
   "source": [
    "?[name, time, mood] := *mood{name, at, mood @ 'END'}, \n",
    "                       time = format_timestamp(at)"
   ]
  },
  {
   "cell_type": "markdown",
   "metadata": {
    "ExecuteTime": {
     "start_time": "2023-08-30T03:59:24.832249Z"
    }
   },
   "source": [
    "Retraction at the current timestamp can be done with the string `RETRACT`:"
   ]
  },
  {
   "cell_type": "code",
   "execution_count": 19,
   "metadata": {
    "ExecuteTime": {
     "start_time": "2023-08-30T05:12:15.753713Z"
    }
   },
   "outputs": [
    {
     "ename": "SyntaxError",
     "evalue": "invalid syntax (<ipython-input-19-f78cb7e4ad91>, line 2)",
     "output_type": "error",
     "traceback": [
      "\u001b[0;36m  File \u001b[0;32m\"<ipython-input-19-f78cb7e4ad91>\"\u001b[0;36m, line \u001b[0;32m2\u001b[0m\n\u001b[0;31m    :put mood {name, at => mood}\u001b[0m\n\u001b[0m    ^\u001b[0m\n\u001b[0;31mSyntaxError\u001b[0m\u001b[0;31m:\u001b[0m invalid syntax\n"
     ]
    }
   ],
   "source": [
    "?[name, at, mood] <- [['me', 'RETRACT', '']]\n",
    ":put mood {name, at => mood}"
   ]
  },
  {
   "cell_type": "markdown",
   "metadata": {
    "ExecuteTime": {
     "start_time": "2023-08-30T03:59:24.845644Z"
    }
   },
   "source": [
    "Retraction placed in the future can also be done with stringy timestamps by prefixing with `~`:"
   ]
  },
  {
   "cell_type": "code",
   "execution_count": 20,
   "metadata": {
    "ExecuteTime": {
     "start_time": "2023-08-30T05:12:15.768983Z"
    }
   },
   "outputs": [
    {
     "ename": "SyntaxError",
     "evalue": "invalid syntax (<ipython-input-20-f78cb7e4ad91>, line 2)",
     "output_type": "error",
     "traceback": [
      "\u001b[0;36m  File \u001b[0;32m\"<ipython-input-20-f78cb7e4ad91>\"\u001b[0;36m, line \u001b[0;32m2\u001b[0m\n\u001b[0;31m    :put mood {name, at => mood}\u001b[0m\n\u001b[0m    ^\u001b[0m\n\u001b[0;31mSyntaxError\u001b[0m\u001b[0;31m:\u001b[0m invalid syntax\n"
     ]
    }
   ],
   "source": [
    "?[name, at, mood] <- [['me', '~9999-01-01T00:00:00.000+00:00', 'who cares']]\n",
    ":put mood {name, at => mood}"
   ]
  },
  {
   "cell_type": "markdown",
   "metadata": {
    "ExecuteTime": {
     "start_time": "2023-08-30T03:59:24.859119Z"
    }
   },
   "source": [
    "Now let's look at the complete history:"
   ]
  },
  {
   "cell_type": "code",
   "execution_count": 21,
   "metadata": {
    "ExecuteTime": {
     "start_time": "2023-08-30T05:12:15.785725Z"
    }
   },
   "outputs": [
    {
     "ename": "IndentationError",
     "evalue": "unexpected indent (<ipython-input-21-d3907a742b72>, line 2)",
     "output_type": "error",
     "traceback": [
      "\u001b[0;36m  File \u001b[0;32m\"<ipython-input-21-d3907a742b72>\"\u001b[0;36m, line \u001b[0;32m2\u001b[0m\n\u001b[0;31m    time = format_timestamp(at),\u001b[0m\n\u001b[0m    ^\u001b[0m\n\u001b[0;31mIndentationError\u001b[0m\u001b[0;31m:\u001b[0m unexpected indent\n"
     ]
    }
   ],
   "source": [
    "?[name, time, is_assert, mood] := *mood{name, at, mood}, \n",
    "                                  time = format_timestamp(at), \n",
    "                                  is_assert = to_bool(at)"
   ]
  },
  {
   "cell_type": "markdown",
   "metadata": {
    "ExecuteTime": {
     "start_time": "2023-08-30T03:59:24.872425Z"
    }
   },
   "source": [
    "This time-travel facility is much faster than what you get if you try to implement it directly with Datalog: see the [note](releases/v0.4.md) for more details. Some further technical details of time travel is discussed in its own [chapter](timetravel.rst)."
   ]
  },
  {
   "cell_type": "code",
   "execution_count": 22,
   "metadata": {
    "ExecuteTime": {
     "start_time": "2023-08-30T05:12:15.812584Z"
    }
   },
   "outputs": [
    {
     "ename": "SyntaxError",
     "evalue": "invalid syntax (<ipython-input-22-33bbb141e2d6>, line 1)",
     "output_type": "error",
     "traceback": [
      "\u001b[0;36m  File \u001b[0;32m\"<ipython-input-22-33bbb141e2d6>\"\u001b[0;36m, line \u001b[0;32m1\u001b[0m\n\u001b[0;31m    ::remove mood, hos\u001b[0m\n\u001b[0m    ^\u001b[0m\n\u001b[0;31mSyntaxError\u001b[0m\u001b[0;31m:\u001b[0m invalid syntax\n"
     ]
    }
   ],
   "source": [
    "::remove mood, hos"
   ]
  },
  {
   "cell_type": "markdown",
   "metadata": {},
   "source": [
    "## Extended example: the air routes dataset\n",
    "\n",
    "Now you have a basic understanding of using the various constructs of Cozo, let's deal with a small real-world dataset, with about 3700 nodes and 57000 edges.\n",
    "\n",
    "The data we are going to use, and many examples that we will present, are adapted from the book [Practical Gremlin](https://kelvinlawrence.net/book/Gremlin-Graph-Guide.html). Gremlin is an imperative query language for graphs, a very different take compared to Datalog.\n",
    "\n",
    "First, let's create the stored relations we want (wrapping queries in braces allows you to execute several queries together atomically):"
   ]
  },
  {
   "cell_type": "code",
   "execution_count": 54,
   "metadata": {},
   "outputs": [
    {
     "data": {
      "text/html": [
       "<style type=\"text/css\">\n",
       "#T_104de_row0_col0 {\n",
       "  color: black;\n",
       "}\n",
       "</style>\n",
       "<table id=\"T_104de\">\n",
       "  <thead>\n",
       "    <tr>\n",
       "      <th class=\"blank level0\" >&nbsp;</th>\n",
       "      <th id=\"T_104de_level0_col0\" class=\"col_heading level0 col0\" >status</th>\n",
       "    </tr>\n",
       "  </thead>\n",
       "  <tbody>\n",
       "    <tr>\n",
       "      <th id=\"T_104de_level0_row0\" class=\"row_heading level0 row0\" >0</th>\n",
       "      <td id=\"T_104de_row0_col0\" class=\"data row0 col0\" >OK</td>\n",
       "    </tr>\n",
       "  </tbody>\n",
       "</table>\n"
      ],
      "text/plain": [
       "<pandas.io.formats.style.Styler at 0x11f55e410>"
      ]
     },
     "execution_count": 54,
     "metadata": {},
     "output_type": "execute_result"
    }
   ],
   "source": [
    "{:create airport {\n",
    "    code: String \n",
    "    => \n",
    "    icao: String, \n",
    "    desc: String, \n",
    "    region: String, \n",
    "    runways: Int, \n",
    "    longest: Float, \n",
    "    elev: Float, \n",
    "    country: String, \n",
    "    city: String, \n",
    "    lat: Float, \n",
    "    lon: Float\n",
    "}}\n",
    "{:create country {\n",
    "    code: String\n",
    "    =>\n",
    "    desc: String\n",
    "}}\n",
    "{:create continent {\n",
    "    code: String\n",
    "    =>\n",
    "    desc: String\n",
    "}}\n",
    "{:create contain { entity: String, contained: String }}\n",
    "{:create route { fr: String, to: String => dist: Float }}"
   ]
  },
  {
   "cell_type": "markdown",
   "metadata": {},
   "source": [
    "The next command applies only if you are using Jupyter notebooks: it downloads a JSON file containing the data and imports it into the database.\n",
    "The commented out line shows how to do the same thing with a local file. If you are using the Cozo WASM interface, click the \"Import from URL\" or the \"Import from File\" icon,\n",
    "and paste in the address."
   ]
  },
  {
   "cell_type": "code",
   "execution_count": 56,
   "metadata": {},
   "outputs": [],
   "source": [
    "%cozo_import_remote_file 'https://raw.githubusercontent.com/cozodb/cozo/dev/cozo-core/tests/air-routes.json'\n",
    "# %cozo_import_local_file '../../cozo/cozo-core/tests/air-routes.json'"
   ]
  },
  {
   "cell_type": "markdown",
   "metadata": {},
   "source": [
    "If you feel that the above is too much magic, [here](./data_import.ipynb) is how you can achieve the same thing by parsing CSV files.\n",
    "\n",
    "Let's verify all the relations we want are there:"
   ]
  },
  {
   "cell_type": "code",
   "execution_count": 57,
   "metadata": {},
   "outputs": [
    {
     "data": {
      "text/html": [
       "<style type=\"text/css\">\n",
       "#T_21966_row0_col0, #T_21966_row0_col2, #T_21966_row1_col0, #T_21966_row1_col2, #T_21966_row2_col0, #T_21966_row2_col2, #T_21966_row3_col0, #T_21966_row3_col2, #T_21966_row4_col0, #T_21966_row4_col2 {\n",
       "  color: black;\n",
       "}\n",
       "#T_21966_row0_col1, #T_21966_row0_col3, #T_21966_row0_col4, #T_21966_row0_col5, #T_21966_row0_col6, #T_21966_row0_col7, #T_21966_row1_col1, #T_21966_row1_col3, #T_21966_row1_col4, #T_21966_row1_col5, #T_21966_row1_col6, #T_21966_row1_col7, #T_21966_row2_col1, #T_21966_row2_col3, #T_21966_row2_col4, #T_21966_row2_col5, #T_21966_row2_col6, #T_21966_row2_col7, #T_21966_row3_col1, #T_21966_row3_col3, #T_21966_row3_col4, #T_21966_row3_col5, #T_21966_row3_col6, #T_21966_row3_col7, #T_21966_row4_col1, #T_21966_row4_col3, #T_21966_row4_col4, #T_21966_row4_col5, #T_21966_row4_col6, #T_21966_row4_col7 {\n",
       "  color: #307fc1;\n",
       "}\n",
       "</style>\n",
       "<table id=\"T_21966\">\n",
       "  <thead>\n",
       "    <tr>\n",
       "      <th class=\"blank level0\" >&nbsp;</th>\n",
       "      <th id=\"T_21966_level0_col0\" class=\"col_heading level0 col0\" >name</th>\n",
       "      <th id=\"T_21966_level0_col1\" class=\"col_heading level0 col1\" >arity</th>\n",
       "      <th id=\"T_21966_level0_col2\" class=\"col_heading level0 col2\" >access_level</th>\n",
       "      <th id=\"T_21966_level0_col3\" class=\"col_heading level0 col3\" >n_keys</th>\n",
       "      <th id=\"T_21966_level0_col4\" class=\"col_heading level0 col4\" >n_non_keys</th>\n",
       "      <th id=\"T_21966_level0_col5\" class=\"col_heading level0 col5\" >n_put_triggers</th>\n",
       "      <th id=\"T_21966_level0_col6\" class=\"col_heading level0 col6\" >n_rm_triggers</th>\n",
       "      <th id=\"T_21966_level0_col7\" class=\"col_heading level0 col7\" >n_replace_triggers</th>\n",
       "    </tr>\n",
       "  </thead>\n",
       "  <tbody>\n",
       "    <tr>\n",
       "      <th id=\"T_21966_level0_row0\" class=\"row_heading level0 row0\" >0</th>\n",
       "      <td id=\"T_21966_row0_col0\" class=\"data row0 col0\" >airport</td>\n",
       "      <td id=\"T_21966_row0_col1\" class=\"data row0 col1\" >11</td>\n",
       "      <td id=\"T_21966_row0_col2\" class=\"data row0 col2\" >normal</td>\n",
       "      <td id=\"T_21966_row0_col3\" class=\"data row0 col3\" >1</td>\n",
       "      <td id=\"T_21966_row0_col4\" class=\"data row0 col4\" >10</td>\n",
       "      <td id=\"T_21966_row0_col5\" class=\"data row0 col5\" >0</td>\n",
       "      <td id=\"T_21966_row0_col6\" class=\"data row0 col6\" >0</td>\n",
       "      <td id=\"T_21966_row0_col7\" class=\"data row0 col7\" >0</td>\n",
       "    </tr>\n",
       "    <tr>\n",
       "      <th id=\"T_21966_level0_row1\" class=\"row_heading level0 row1\" >1</th>\n",
       "      <td id=\"T_21966_row1_col0\" class=\"data row1 col0\" >contain</td>\n",
       "      <td id=\"T_21966_row1_col1\" class=\"data row1 col1\" >2</td>\n",
       "      <td id=\"T_21966_row1_col2\" class=\"data row1 col2\" >normal</td>\n",
       "      <td id=\"T_21966_row1_col3\" class=\"data row1 col3\" >2</td>\n",
       "      <td id=\"T_21966_row1_col4\" class=\"data row1 col4\" >0</td>\n",
       "      <td id=\"T_21966_row1_col5\" class=\"data row1 col5\" >0</td>\n",
       "      <td id=\"T_21966_row1_col6\" class=\"data row1 col6\" >0</td>\n",
       "      <td id=\"T_21966_row1_col7\" class=\"data row1 col7\" >0</td>\n",
       "    </tr>\n",
       "    <tr>\n",
       "      <th id=\"T_21966_level0_row2\" class=\"row_heading level0 row2\" >2</th>\n",
       "      <td id=\"T_21966_row2_col0\" class=\"data row2 col0\" >continent</td>\n",
       "      <td id=\"T_21966_row2_col1\" class=\"data row2 col1\" >2</td>\n",
       "      <td id=\"T_21966_row2_col2\" class=\"data row2 col2\" >normal</td>\n",
       "      <td id=\"T_21966_row2_col3\" class=\"data row2 col3\" >1</td>\n",
       "      <td id=\"T_21966_row2_col4\" class=\"data row2 col4\" >1</td>\n",
       "      <td id=\"T_21966_row2_col5\" class=\"data row2 col5\" >0</td>\n",
       "      <td id=\"T_21966_row2_col6\" class=\"data row2 col6\" >0</td>\n",
       "      <td id=\"T_21966_row2_col7\" class=\"data row2 col7\" >0</td>\n",
       "    </tr>\n",
       "    <tr>\n",
       "      <th id=\"T_21966_level0_row3\" class=\"row_heading level0 row3\" >3</th>\n",
       "      <td id=\"T_21966_row3_col0\" class=\"data row3 col0\" >country</td>\n",
       "      <td id=\"T_21966_row3_col1\" class=\"data row3 col1\" >2</td>\n",
       "      <td id=\"T_21966_row3_col2\" class=\"data row3 col2\" >normal</td>\n",
       "      <td id=\"T_21966_row3_col3\" class=\"data row3 col3\" >1</td>\n",
       "      <td id=\"T_21966_row3_col4\" class=\"data row3 col4\" >1</td>\n",
       "      <td id=\"T_21966_row3_col5\" class=\"data row3 col5\" >0</td>\n",
       "      <td id=\"T_21966_row3_col6\" class=\"data row3 col6\" >0</td>\n",
       "      <td id=\"T_21966_row3_col7\" class=\"data row3 col7\" >0</td>\n",
       "    </tr>\n",
       "    <tr>\n",
       "      <th id=\"T_21966_level0_row4\" class=\"row_heading level0 row4\" >4</th>\n",
       "      <td id=\"T_21966_row4_col0\" class=\"data row4 col0\" >route</td>\n",
       "      <td id=\"T_21966_row4_col1\" class=\"data row4 col1\" >3</td>\n",
       "      <td id=\"T_21966_row4_col2\" class=\"data row4 col2\" >normal</td>\n",
       "      <td id=\"T_21966_row4_col3\" class=\"data row4 col3\" >2</td>\n",
       "      <td id=\"T_21966_row4_col4\" class=\"data row4 col4\" >1</td>\n",
       "      <td id=\"T_21966_row4_col5\" class=\"data row4 col5\" >0</td>\n",
       "      <td id=\"T_21966_row4_col6\" class=\"data row4 col6\" >0</td>\n",
       "      <td id=\"T_21966_row4_col7\" class=\"data row4 col7\" >0</td>\n",
       "    </tr>\n",
       "  </tbody>\n",
       "</table>\n"
      ],
      "text/plain": [
       "<pandas.io.formats.style.Styler at 0x11f538ac0>"
      ]
     },
     "execution_count": 57,
     "metadata": {},
     "output_type": "execute_result"
    }
   ],
   "source": [
    "::relations"
   ]
  },
  {
   "cell_type": "markdown",
   "metadata": {},
   "source": [
    "While we are at it, let's lock all these tables to prevent accidentally changing their contents:"
   ]
  },
  {
   "cell_type": "code",
   "execution_count": 58,
   "metadata": {},
   "outputs": [
    {
     "data": {
      "text/html": [
       "<style type=\"text/css\">\n",
       "#T_3cccd_row0_col0 {\n",
       "  color: black;\n",
       "}\n",
       "</style>\n",
       "<table id=\"T_3cccd\">\n",
       "  <thead>\n",
       "    <tr>\n",
       "      <th class=\"blank level0\" >&nbsp;</th>\n",
       "      <th id=\"T_3cccd_level0_col0\" class=\"col_heading level0 col0\" >status</th>\n",
       "    </tr>\n",
       "  </thead>\n",
       "  <tbody>\n",
       "    <tr>\n",
       "      <th id=\"T_3cccd_level0_row0\" class=\"row_heading level0 row0\" >0</th>\n",
       "      <td id=\"T_3cccd_row0_col0\" class=\"data row0 col0\" >OK</td>\n",
       "    </tr>\n",
       "  </tbody>\n",
       "</table>\n"
      ],
      "text/plain": [
       "<pandas.io.formats.style.Styler at 0x1062ad870>"
      ]
     },
     "execution_count": 58,
     "metadata": {},
     "output_type": "execute_result"
    }
   ],
   "source": [
    "::access_level read_only airport, contain, continent, country, route"
   ]
  },
  {
   "cell_type": "markdown",
   "metadata": {},
   "source": [
    "More information about what this does is explained [here](https://cozodb.github.io/current/manual/sysops.html#ops-for-stored-relations).\n",
    "\n",
    "Let's just look at some data. Start with airports:"
   ]
  },
  {
   "cell_type": "code",
   "execution_count": 59,
   "metadata": {},
   "outputs": [
    {
     "data": {
      "text/html": [
       "<style type=\"text/css\">\n",
       "#T_0bd4c_row0_col0, #T_0bd4c_row0_col1, #T_0bd4c_row0_col2, #T_0bd4c_row0_col3, #T_0bd4c_row1_col0, #T_0bd4c_row1_col1, #T_0bd4c_row1_col2, #T_0bd4c_row1_col3, #T_0bd4c_row2_col0, #T_0bd4c_row2_col1, #T_0bd4c_row2_col2, #T_0bd4c_row2_col3, #T_0bd4c_row3_col0, #T_0bd4c_row3_col1, #T_0bd4c_row3_col2, #T_0bd4c_row3_col3, #T_0bd4c_row4_col0, #T_0bd4c_row4_col1, #T_0bd4c_row4_col2, #T_0bd4c_row4_col3 {\n",
       "  color: black;\n",
       "}\n",
       "#T_0bd4c_row0_col4, #T_0bd4c_row0_col5, #T_0bd4c_row0_col6, #T_0bd4c_row1_col4, #T_0bd4c_row1_col5, #T_0bd4c_row1_col6, #T_0bd4c_row2_col4, #T_0bd4c_row2_col5, #T_0bd4c_row2_col6, #T_0bd4c_row3_col4, #T_0bd4c_row3_col5, #T_0bd4c_row3_col6, #T_0bd4c_row4_col4, #T_0bd4c_row4_col5, #T_0bd4c_row4_col6 {\n",
       "  color: #307fc1;\n",
       "}\n",
       "</style>\n",
       "<table id=\"T_0bd4c\">\n",
       "  <thead>\n",
       "    <tr>\n",
       "      <th class=\"blank level0\" >&nbsp;</th>\n",
       "      <th id=\"T_0bd4c_level0_col0\" class=\"col_heading level0 col0\" >code</th>\n",
       "      <th id=\"T_0bd4c_level0_col1\" class=\"col_heading level0 col1\" >city</th>\n",
       "      <th id=\"T_0bd4c_level0_col2\" class=\"col_heading level0 col2\" >desc</th>\n",
       "      <th id=\"T_0bd4c_level0_col3\" class=\"col_heading level0 col3\" >region</th>\n",
       "      <th id=\"T_0bd4c_level0_col4\" class=\"col_heading level0 col4\" >runways</th>\n",
       "      <th id=\"T_0bd4c_level0_col5\" class=\"col_heading level0 col5\" >lat</th>\n",
       "      <th id=\"T_0bd4c_level0_col6\" class=\"col_heading level0 col6\" >lon</th>\n",
       "    </tr>\n",
       "  </thead>\n",
       "  <tbody>\n",
       "    <tr>\n",
       "      <th id=\"T_0bd4c_level0_row0\" class=\"row_heading level0 row0\" >0</th>\n",
       "      <td id=\"T_0bd4c_row0_col0\" class=\"data row0 col0\" >AAA</td>\n",
       "      <td id=\"T_0bd4c_row0_col1\" class=\"data row0 col1\" >Anaa</td>\n",
       "      <td id=\"T_0bd4c_row0_col2\" class=\"data row0 col2\" >Anaa Airport</td>\n",
       "      <td id=\"T_0bd4c_row0_col3\" class=\"data row0 col3\" >PF-U-A</td>\n",
       "      <td id=\"T_0bd4c_row0_col4\" class=\"data row0 col4\" >1</td>\n",
       "      <td id=\"T_0bd4c_row0_col5\" class=\"data row0 col5\" >-17.352600</td>\n",
       "      <td id=\"T_0bd4c_row0_col6\" class=\"data row0 col6\" >-145.509995</td>\n",
       "    </tr>\n",
       "    <tr>\n",
       "      <th id=\"T_0bd4c_level0_row1\" class=\"row_heading level0 row1\" >1</th>\n",
       "      <td id=\"T_0bd4c_row1_col0\" class=\"data row1 col0\" >AAE</td>\n",
       "      <td id=\"T_0bd4c_row1_col1\" class=\"data row1 col1\" >Annabah</td>\n",
       "      <td id=\"T_0bd4c_row1_col2\" class=\"data row1 col2\" >Annaba Airport</td>\n",
       "      <td id=\"T_0bd4c_row1_col3\" class=\"data row1 col3\" >DZ-36</td>\n",
       "      <td id=\"T_0bd4c_row1_col4\" class=\"data row1 col4\" >2</td>\n",
       "      <td id=\"T_0bd4c_row1_col5\" class=\"data row1 col5\" >36.822201</td>\n",
       "      <td id=\"T_0bd4c_row1_col6\" class=\"data row1 col6\" >7.809170</td>\n",
       "    </tr>\n",
       "    <tr>\n",
       "      <th id=\"T_0bd4c_level0_row2\" class=\"row_heading level0 row2\" >2</th>\n",
       "      <td id=\"T_0bd4c_row2_col0\" class=\"data row2 col0\" >AAL</td>\n",
       "      <td id=\"T_0bd4c_row2_col1\" class=\"data row2 col1\" >Aalborg</td>\n",
       "      <td id=\"T_0bd4c_row2_col2\" class=\"data row2 col2\" >Aalborg Airport</td>\n",
       "      <td id=\"T_0bd4c_row2_col3\" class=\"data row2 col3\" >DK-81</td>\n",
       "      <td id=\"T_0bd4c_row2_col4\" class=\"data row2 col4\" >2</td>\n",
       "      <td id=\"T_0bd4c_row2_col5\" class=\"data row2 col5\" >57.092759</td>\n",
       "      <td id=\"T_0bd4c_row2_col6\" class=\"data row2 col6\" >9.849243</td>\n",
       "    </tr>\n",
       "    <tr>\n",
       "      <th id=\"T_0bd4c_level0_row3\" class=\"row_heading level0 row3\" >3</th>\n",
       "      <td id=\"T_0bd4c_row3_col0\" class=\"data row3 col0\" >AAN</td>\n",
       "      <td id=\"T_0bd4c_row3_col1\" class=\"data row3 col1\" >Al Ain</td>\n",
       "      <td id=\"T_0bd4c_row3_col2\" class=\"data row3 col2\" >Al Ain International Airport</td>\n",
       "      <td id=\"T_0bd4c_row3_col3\" class=\"data row3 col3\" >AE-AZ</td>\n",
       "      <td id=\"T_0bd4c_row3_col4\" class=\"data row3 col4\" >1</td>\n",
       "      <td id=\"T_0bd4c_row3_col5\" class=\"data row3 col5\" >24.261700</td>\n",
       "      <td id=\"T_0bd4c_row3_col6\" class=\"data row3 col6\" >55.609200</td>\n",
       "    </tr>\n",
       "    <tr>\n",
       "      <th id=\"T_0bd4c_level0_row4\" class=\"row_heading level0 row4\" >4</th>\n",
       "      <td id=\"T_0bd4c_row4_col0\" class=\"data row4 col0\" >AAQ</td>\n",
       "      <td id=\"T_0bd4c_row4_col1\" class=\"data row4 col1\" >Anapa</td>\n",
       "      <td id=\"T_0bd4c_row4_col2\" class=\"data row4 col2\" >Anapa Airport</td>\n",
       "      <td id=\"T_0bd4c_row4_col3\" class=\"data row4 col3\" >RU-KDA</td>\n",
       "      <td id=\"T_0bd4c_row4_col4\" class=\"data row4 col4\" >1</td>\n",
       "      <td id=\"T_0bd4c_row4_col5\" class=\"data row4 col5\" >45.002102</td>\n",
       "      <td id=\"T_0bd4c_row4_col6\" class=\"data row4 col6\" >37.347301</td>\n",
       "    </tr>\n",
       "  </tbody>\n",
       "</table>\n"
      ],
      "text/plain": [
       "<pandas.io.formats.style.Styler at 0x11f539ea0>"
      ]
     },
     "execution_count": 59,
     "metadata": {},
     "output_type": "execute_result"
    }
   ],
   "source": [
    "?[code, city, desc, region, runways, lat, lon] := *airport{code, city, desc, region, runways, lat, lon}\n",
    "    \n",
    ":limit 5"
   ]
  },
  {
   "cell_type": "markdown",
   "metadata": {},
   "source": [
    "Airports with the most runways:"
   ]
  },
  {
   "cell_type": "code",
   "execution_count": 60,
   "metadata": {},
   "outputs": [
    {
     "data": {
      "text/html": [
       "<style type=\"text/css\">\n",
       "#T_dcb16_row0_col0, #T_dcb16_row0_col1, #T_dcb16_row0_col2, #T_dcb16_row0_col3, #T_dcb16_row1_col0, #T_dcb16_row1_col1, #T_dcb16_row1_col2, #T_dcb16_row1_col3, #T_dcb16_row2_col0, #T_dcb16_row2_col1, #T_dcb16_row2_col2, #T_dcb16_row2_col3, #T_dcb16_row3_col0, #T_dcb16_row3_col1, #T_dcb16_row3_col2, #T_dcb16_row3_col3, #T_dcb16_row4_col0, #T_dcb16_row4_col1, #T_dcb16_row4_col2, #T_dcb16_row4_col3, #T_dcb16_row5_col0, #T_dcb16_row5_col1, #T_dcb16_row5_col2, #T_dcb16_row5_col3, #T_dcb16_row6_col0, #T_dcb16_row6_col1, #T_dcb16_row6_col2, #T_dcb16_row6_col3, #T_dcb16_row7_col0, #T_dcb16_row7_col1, #T_dcb16_row7_col2, #T_dcb16_row7_col3, #T_dcb16_row8_col0, #T_dcb16_row8_col1, #T_dcb16_row8_col2, #T_dcb16_row8_col3, #T_dcb16_row9_col0, #T_dcb16_row9_col1, #T_dcb16_row9_col2, #T_dcb16_row9_col3 {\n",
       "  color: black;\n",
       "}\n",
       "#T_dcb16_row0_col4, #T_dcb16_row0_col5, #T_dcb16_row0_col6, #T_dcb16_row1_col4, #T_dcb16_row1_col5, #T_dcb16_row1_col6, #T_dcb16_row2_col4, #T_dcb16_row2_col5, #T_dcb16_row2_col6, #T_dcb16_row3_col4, #T_dcb16_row3_col5, #T_dcb16_row3_col6, #T_dcb16_row4_col4, #T_dcb16_row4_col5, #T_dcb16_row4_col6, #T_dcb16_row5_col4, #T_dcb16_row5_col5, #T_dcb16_row5_col6, #T_dcb16_row6_col4, #T_dcb16_row6_col5, #T_dcb16_row6_col6, #T_dcb16_row7_col4, #T_dcb16_row7_col5, #T_dcb16_row7_col6, #T_dcb16_row8_col4, #T_dcb16_row8_col5, #T_dcb16_row8_col6, #T_dcb16_row9_col4, #T_dcb16_row9_col5, #T_dcb16_row9_col6 {\n",
       "  color: #307fc1;\n",
       "}\n",
       "</style>\n",
       "<table id=\"T_dcb16\">\n",
       "  <thead>\n",
       "    <tr>\n",
       "      <th class=\"blank level0\" >&nbsp;</th>\n",
       "      <th id=\"T_dcb16_level0_col0\" class=\"col_heading level0 col0\" >code</th>\n",
       "      <th id=\"T_dcb16_level0_col1\" class=\"col_heading level0 col1\" >city</th>\n",
       "      <th id=\"T_dcb16_level0_col2\" class=\"col_heading level0 col2\" >desc</th>\n",
       "      <th id=\"T_dcb16_level0_col3\" class=\"col_heading level0 col3\" >region</th>\n",
       "      <th id=\"T_dcb16_level0_col4\" class=\"col_heading level0 col4\" >runways</th>\n",
       "      <th id=\"T_dcb16_level0_col5\" class=\"col_heading level0 col5\" >lat</th>\n",
       "      <th id=\"T_dcb16_level0_col6\" class=\"col_heading level0 col6\" >lon</th>\n",
       "    </tr>\n",
       "  </thead>\n",
       "  <tbody>\n",
       "    <tr>\n",
       "      <th id=\"T_dcb16_level0_row0\" class=\"row_heading level0 row0\" >0</th>\n",
       "      <td id=\"T_dcb16_row0_col0\" class=\"data row0 col0\" >DFW</td>\n",
       "      <td id=\"T_dcb16_row0_col1\" class=\"data row0 col1\" >Dallas</td>\n",
       "      <td id=\"T_dcb16_row0_col2\" class=\"data row0 col2\" >Dallas/Fort Worth International Airport</td>\n",
       "      <td id=\"T_dcb16_row0_col3\" class=\"data row0 col3\" >US-TX</td>\n",
       "      <td id=\"T_dcb16_row0_col4\" class=\"data row0 col4\" >7</td>\n",
       "      <td id=\"T_dcb16_row0_col5\" class=\"data row0 col5\" >32.896801</td>\n",
       "      <td id=\"T_dcb16_row0_col6\" class=\"data row0 col6\" >-97.038002</td>\n",
       "    </tr>\n",
       "    <tr>\n",
       "      <th id=\"T_dcb16_level0_row1\" class=\"row_heading level0 row1\" >1</th>\n",
       "      <td id=\"T_dcb16_row1_col0\" class=\"data row1 col0\" >ORD</td>\n",
       "      <td id=\"T_dcb16_row1_col1\" class=\"data row1 col1\" >Chicago</td>\n",
       "      <td id=\"T_dcb16_row1_col2\" class=\"data row1 col2\" >Chicago O'Hare International Airport</td>\n",
       "      <td id=\"T_dcb16_row1_col3\" class=\"data row1 col3\" >US-IL</td>\n",
       "      <td id=\"T_dcb16_row1_col4\" class=\"data row1 col4\" >7</td>\n",
       "      <td id=\"T_dcb16_row1_col5\" class=\"data row1 col5\" >41.978600</td>\n",
       "      <td id=\"T_dcb16_row1_col6\" class=\"data row1 col6\" >-87.904800</td>\n",
       "    </tr>\n",
       "    <tr>\n",
       "      <th id=\"T_dcb16_level0_row2\" class=\"row_heading level0 row2\" >2</th>\n",
       "      <td id=\"T_dcb16_row2_col0\" class=\"data row2 col0\" >AMS</td>\n",
       "      <td id=\"T_dcb16_row2_col1\" class=\"data row2 col1\" >Amsterdam</td>\n",
       "      <td id=\"T_dcb16_row2_col2\" class=\"data row2 col2\" >Amsterdam Airport Schiphol</td>\n",
       "      <td id=\"T_dcb16_row2_col3\" class=\"data row2 col3\" >NL-NH</td>\n",
       "      <td id=\"T_dcb16_row2_col4\" class=\"data row2 col4\" >6</td>\n",
       "      <td id=\"T_dcb16_row2_col5\" class=\"data row2 col5\" >52.308601</td>\n",
       "      <td id=\"T_dcb16_row2_col6\" class=\"data row2 col6\" >4.763890</td>\n",
       "    </tr>\n",
       "    <tr>\n",
       "      <th id=\"T_dcb16_level0_row3\" class=\"row_heading level0 row3\" >3</th>\n",
       "      <td id=\"T_dcb16_row3_col0\" class=\"data row3 col0\" >BOS</td>\n",
       "      <td id=\"T_dcb16_row3_col1\" class=\"data row3 col1\" >Boston</td>\n",
       "      <td id=\"T_dcb16_row3_col2\" class=\"data row3 col2\" >Boston Logan</td>\n",
       "      <td id=\"T_dcb16_row3_col3\" class=\"data row3 col3\" >US-MA</td>\n",
       "      <td id=\"T_dcb16_row3_col4\" class=\"data row3 col4\" >6</td>\n",
       "      <td id=\"T_dcb16_row3_col5\" class=\"data row3 col5\" >42.364300</td>\n",
       "      <td id=\"T_dcb16_row3_col6\" class=\"data row3 col6\" >-71.005203</td>\n",
       "    </tr>\n",
       "    <tr>\n",
       "      <th id=\"T_dcb16_level0_row4\" class=\"row_heading level0 row4\" >4</th>\n",
       "      <td id=\"T_dcb16_row4_col0\" class=\"data row4 col0\" >DEN</td>\n",
       "      <td id=\"T_dcb16_row4_col1\" class=\"data row4 col1\" >Denver</td>\n",
       "      <td id=\"T_dcb16_row4_col2\" class=\"data row4 col2\" >Denver International Airport</td>\n",
       "      <td id=\"T_dcb16_row4_col3\" class=\"data row4 col3\" >US-CO</td>\n",
       "      <td id=\"T_dcb16_row4_col4\" class=\"data row4 col4\" >6</td>\n",
       "      <td id=\"T_dcb16_row4_col5\" class=\"data row4 col5\" >39.861698</td>\n",
       "      <td id=\"T_dcb16_row4_col6\" class=\"data row4 col6\" >-104.672997</td>\n",
       "    </tr>\n",
       "    <tr>\n",
       "      <th id=\"T_dcb16_level0_row5\" class=\"row_heading level0 row5\" >5</th>\n",
       "      <td id=\"T_dcb16_row5_col0\" class=\"data row5 col0\" >DTW</td>\n",
       "      <td id=\"T_dcb16_row5_col1\" class=\"data row5 col1\" >Detroit</td>\n",
       "      <td id=\"T_dcb16_row5_col2\" class=\"data row5 col2\" >Detroit Metropolitan, Wayne County</td>\n",
       "      <td id=\"T_dcb16_row5_col3\" class=\"data row5 col3\" >US-MI</td>\n",
       "      <td id=\"T_dcb16_row5_col4\" class=\"data row5 col4\" >6</td>\n",
       "      <td id=\"T_dcb16_row5_col5\" class=\"data row5 col5\" >42.212399</td>\n",
       "      <td id=\"T_dcb16_row5_col6\" class=\"data row5 col6\" >-83.353401</td>\n",
       "    </tr>\n",
       "    <tr>\n",
       "      <th id=\"T_dcb16_level0_row6\" class=\"row_heading level0 row6\" >6</th>\n",
       "      <td id=\"T_dcb16_row6_col0\" class=\"data row6 col0\" >ATL</td>\n",
       "      <td id=\"T_dcb16_row6_col1\" class=\"data row6 col1\" >Atlanta</td>\n",
       "      <td id=\"T_dcb16_row6_col2\" class=\"data row6 col2\" >Hartsfield - Jackson Atlanta International Airport</td>\n",
       "      <td id=\"T_dcb16_row6_col3\" class=\"data row6 col3\" >US-GA</td>\n",
       "      <td id=\"T_dcb16_row6_col4\" class=\"data row6 col4\" >5</td>\n",
       "      <td id=\"T_dcb16_row6_col5\" class=\"data row6 col5\" >33.636700</td>\n",
       "      <td id=\"T_dcb16_row6_col6\" class=\"data row6 col6\" >-84.428101</td>\n",
       "    </tr>\n",
       "    <tr>\n",
       "      <th id=\"T_dcb16_level0_row7\" class=\"row_heading level0 row7\" >7</th>\n",
       "      <td id=\"T_dcb16_row7_col0\" class=\"data row7 col0\" >GIS</td>\n",
       "      <td id=\"T_dcb16_row7_col1\" class=\"data row7 col1\" >Gisborne</td>\n",
       "      <td id=\"T_dcb16_row7_col2\" class=\"data row7 col2\" >Gisborne Airport</td>\n",
       "      <td id=\"T_dcb16_row7_col3\" class=\"data row7 col3\" >NZ-GIS</td>\n",
       "      <td id=\"T_dcb16_row7_col4\" class=\"data row7 col4\" >5</td>\n",
       "      <td id=\"T_dcb16_row7_col5\" class=\"data row7 col5\" >-38.663300</td>\n",
       "      <td id=\"T_dcb16_row7_col6\" class=\"data row7 col6\" >177.977997</td>\n",
       "    </tr>\n",
       "    <tr>\n",
       "      <th id=\"T_dcb16_level0_row8\" class=\"row_heading level0 row8\" >8</th>\n",
       "      <td id=\"T_dcb16_row8_col0\" class=\"data row8 col0\" >HLZ</td>\n",
       "      <td id=\"T_dcb16_row8_col1\" class=\"data row8 col1\" >Hamilton</td>\n",
       "      <td id=\"T_dcb16_row8_col2\" class=\"data row8 col2\" >Hamilton International Airport</td>\n",
       "      <td id=\"T_dcb16_row8_col3\" class=\"data row8 col3\" >NZ-WKO</td>\n",
       "      <td id=\"T_dcb16_row8_col4\" class=\"data row8 col4\" >5</td>\n",
       "      <td id=\"T_dcb16_row8_col5\" class=\"data row8 col5\" >-37.866699</td>\n",
       "      <td id=\"T_dcb16_row8_col6\" class=\"data row8 col6\" >175.332001</td>\n",
       "    </tr>\n",
       "    <tr>\n",
       "      <th id=\"T_dcb16_level0_row9\" class=\"row_heading level0 row9\" >9</th>\n",
       "      <td id=\"T_dcb16_row9_col0\" class=\"data row9 col0\" >IAH</td>\n",
       "      <td id=\"T_dcb16_row9_col1\" class=\"data row9 col1\" >Houston</td>\n",
       "      <td id=\"T_dcb16_row9_col2\" class=\"data row9 col2\" >George Bush Intercontinental</td>\n",
       "      <td id=\"T_dcb16_row9_col3\" class=\"data row9 col3\" >US-TX</td>\n",
       "      <td id=\"T_dcb16_row9_col4\" class=\"data row9 col4\" >5</td>\n",
       "      <td id=\"T_dcb16_row9_col5\" class=\"data row9 col5\" >29.984400</td>\n",
       "      <td id=\"T_dcb16_row9_col6\" class=\"data row9 col6\" >-95.341400</td>\n",
       "    </tr>\n",
       "  </tbody>\n",
       "</table>\n"
      ],
      "text/plain": [
       "<pandas.io.formats.style.Styler at 0x1062af790>"
      ]
     },
     "execution_count": 60,
     "metadata": {},
     "output_type": "execute_result"
    }
   ],
   "source": [
    "?[code, city, desc, region, runways, lat, lon] := *airport{code, city, desc, region, runways, lat, lon}\n",
    "\n",
    ":order -runways\n",
    ":limit 10"
   ]
  },
  {
   "cell_type": "markdown",
   "metadata": {},
   "source": [
    "How many airports are there in total?"
   ]
  },
  {
   "cell_type": "code",
   "execution_count": 61,
   "metadata": {},
   "outputs": [
    {
     "data": {
      "text/html": [
       "<style type=\"text/css\">\n",
       "#T_58993_row0_col0 {\n",
       "  color: #307fc1;\n",
       "}\n",
       "</style>\n",
       "<table id=\"T_58993\">\n",
       "  <thead>\n",
       "    <tr>\n",
       "      <th class=\"blank level0\" >&nbsp;</th>\n",
       "      <th id=\"T_58993_level0_col0\" class=\"col_heading level0 col0\" >count(code)</th>\n",
       "    </tr>\n",
       "  </thead>\n",
       "  <tbody>\n",
       "    <tr>\n",
       "      <th id=\"T_58993_level0_row0\" class=\"row_heading level0 row0\" >0</th>\n",
       "      <td id=\"T_58993_row0_col0\" class=\"data row0 col0\" >3504</td>\n",
       "    </tr>\n",
       "  </tbody>\n",
       "</table>\n"
      ],
      "text/plain": [
       "<pandas.io.formats.style.Styler at 0x11f5383a0>"
      ]
     },
     "execution_count": 61,
     "metadata": {},
     "output_type": "execute_result"
    }
   ],
   "source": [
    "?[count(code)] := *airport{code}"
   ]
  },
  {
   "cell_type": "markdown",
   "metadata": {},
   "source": [
    "Let's get a distribution of the initials of the airport codes:"
   ]
  },
  {
   "cell_type": "code",
   "execution_count": 62,
   "metadata": {},
   "outputs": [
    {
     "data": {
      "text/html": [
       "<style type=\"text/css\">\n",
       "#T_3948a_row0_col0, #T_3948a_row1_col0, #T_3948a_row2_col0, #T_3948a_row3_col0, #T_3948a_row4_col0, #T_3948a_row5_col0, #T_3948a_row6_col0, #T_3948a_row7_col0, #T_3948a_row8_col0, #T_3948a_row9_col0, #T_3948a_row10_col0, #T_3948a_row11_col0, #T_3948a_row12_col0, #T_3948a_row13_col0, #T_3948a_row14_col0, #T_3948a_row15_col0, #T_3948a_row16_col0, #T_3948a_row17_col0, #T_3948a_row18_col0, #T_3948a_row19_col0, #T_3948a_row20_col0, #T_3948a_row21_col0, #T_3948a_row22_col0, #T_3948a_row23_col0, #T_3948a_row24_col0, #T_3948a_row25_col0 {\n",
       "  color: #307fc1;\n",
       "}\n",
       "#T_3948a_row0_col1, #T_3948a_row1_col1, #T_3948a_row2_col1, #T_3948a_row3_col1, #T_3948a_row4_col1, #T_3948a_row5_col1, #T_3948a_row6_col1, #T_3948a_row7_col1, #T_3948a_row8_col1, #T_3948a_row9_col1, #T_3948a_row10_col1, #T_3948a_row11_col1, #T_3948a_row12_col1, #T_3948a_row13_col1, #T_3948a_row14_col1, #T_3948a_row15_col1, #T_3948a_row16_col1, #T_3948a_row17_col1, #T_3948a_row18_col1, #T_3948a_row19_col1, #T_3948a_row20_col1, #T_3948a_row21_col1, #T_3948a_row22_col1, #T_3948a_row23_col1, #T_3948a_row24_col1, #T_3948a_row25_col1 {\n",
       "  color: black;\n",
       "}\n",
       "</style>\n",
       "<table id=\"T_3948a\">\n",
       "  <thead>\n",
       "    <tr>\n",
       "      <th class=\"blank level0\" >&nbsp;</th>\n",
       "      <th id=\"T_3948a_level0_col0\" class=\"col_heading level0 col0\" >count(initial)</th>\n",
       "      <th id=\"T_3948a_level0_col1\" class=\"col_heading level0 col1\" >initial</th>\n",
       "    </tr>\n",
       "  </thead>\n",
       "  <tbody>\n",
       "    <tr>\n",
       "      <th id=\"T_3948a_level0_row0\" class=\"row_heading level0 row0\" >0</th>\n",
       "      <td id=\"T_3948a_row0_col0\" class=\"data row0 col0\" >212</td>\n",
       "      <td id=\"T_3948a_row0_col1\" class=\"data row0 col1\" >A</td>\n",
       "    </tr>\n",
       "    <tr>\n",
       "      <th id=\"T_3948a_level0_row1\" class=\"row_heading level0 row1\" >1</th>\n",
       "      <td id=\"T_3948a_row1_col0\" class=\"data row1 col0\" >235</td>\n",
       "      <td id=\"T_3948a_row1_col1\" class=\"data row1 col1\" >B</td>\n",
       "    </tr>\n",
       "    <tr>\n",
       "      <th id=\"T_3948a_level0_row2\" class=\"row_heading level0 row2\" >2</th>\n",
       "      <td id=\"T_3948a_row2_col0\" class=\"data row2 col0\" >214</td>\n",
       "      <td id=\"T_3948a_row2_col1\" class=\"data row2 col1\" >C</td>\n",
       "    </tr>\n",
       "    <tr>\n",
       "      <th id=\"T_3948a_level0_row3\" class=\"row_heading level0 row3\" >3</th>\n",
       "      <td id=\"T_3948a_row3_col0\" class=\"data row3 col0\" >116</td>\n",
       "      <td id=\"T_3948a_row3_col1\" class=\"data row3 col1\" >D</td>\n",
       "    </tr>\n",
       "    <tr>\n",
       "      <th id=\"T_3948a_level0_row4\" class=\"row_heading level0 row4\" >4</th>\n",
       "      <td id=\"T_3948a_row4_col0\" class=\"data row4 col0\" >95</td>\n",
       "      <td id=\"T_3948a_row4_col1\" class=\"data row4 col1\" >E</td>\n",
       "    </tr>\n",
       "    <tr>\n",
       "      <th id=\"T_3948a_level0_row5\" class=\"row_heading level0 row5\" >5</th>\n",
       "      <td id=\"T_3948a_row5_col0\" class=\"data row5 col0\" >76</td>\n",
       "      <td id=\"T_3948a_row5_col1\" class=\"data row5 col1\" >F</td>\n",
       "    </tr>\n",
       "    <tr>\n",
       "      <th id=\"T_3948a_level0_row6\" class=\"row_heading level0 row6\" >6</th>\n",
       "      <td id=\"T_3948a_row6_col0\" class=\"data row6 col0\" >135</td>\n",
       "      <td id=\"T_3948a_row6_col1\" class=\"data row6 col1\" >G</td>\n",
       "    </tr>\n",
       "    <tr>\n",
       "      <th id=\"T_3948a_level0_row7\" class=\"row_heading level0 row7\" >7</th>\n",
       "      <td id=\"T_3948a_row7_col0\" class=\"data row7 col0\" >129</td>\n",
       "      <td id=\"T_3948a_row7_col1\" class=\"data row7 col1\" >H</td>\n",
       "    </tr>\n",
       "    <tr>\n",
       "      <th id=\"T_3948a_level0_row8\" class=\"row_heading level0 row8\" >8</th>\n",
       "      <td id=\"T_3948a_row8_col0\" class=\"data row8 col0\" >112</td>\n",
       "      <td id=\"T_3948a_row8_col1\" class=\"data row8 col1\" >I</td>\n",
       "    </tr>\n",
       "    <tr>\n",
       "      <th id=\"T_3948a_level0_row9\" class=\"row_heading level0 row9\" >9</th>\n",
       "      <td id=\"T_3948a_row9_col0\" class=\"data row9 col0\" >80</td>\n",
       "      <td id=\"T_3948a_row9_col1\" class=\"data row9 col1\" >J</td>\n",
       "    </tr>\n",
       "    <tr>\n",
       "      <th id=\"T_3948a_level0_row10\" class=\"row_heading level0 row10\" >10</th>\n",
       "      <td id=\"T_3948a_row10_col0\" class=\"data row10 col0\" >197</td>\n",
       "      <td id=\"T_3948a_row10_col1\" class=\"data row10 col1\" >K</td>\n",
       "    </tr>\n",
       "    <tr>\n",
       "      <th id=\"T_3948a_level0_row11\" class=\"row_heading level0 row11\" >11</th>\n",
       "      <td id=\"T_3948a_row11_col0\" class=\"data row11 col0\" >184</td>\n",
       "      <td id=\"T_3948a_row11_col1\" class=\"data row11 col1\" >L</td>\n",
       "    </tr>\n",
       "    <tr>\n",
       "      <th id=\"T_3948a_level0_row12\" class=\"row_heading level0 row12\" >12</th>\n",
       "      <td id=\"T_3948a_row12_col0\" class=\"data row12 col0\" >228</td>\n",
       "      <td id=\"T_3948a_row12_col1\" class=\"data row12 col1\" >M</td>\n",
       "    </tr>\n",
       "    <tr>\n",
       "      <th id=\"T_3948a_level0_row13\" class=\"row_heading level0 row13\" >13</th>\n",
       "      <td id=\"T_3948a_row13_col0\" class=\"data row13 col0\" >111</td>\n",
       "      <td id=\"T_3948a_row13_col1\" class=\"data row13 col1\" >N</td>\n",
       "    </tr>\n",
       "    <tr>\n",
       "      <th id=\"T_3948a_level0_row14\" class=\"row_heading level0 row14\" >14</th>\n",
       "      <td id=\"T_3948a_row14_col0\" class=\"data row14 col0\" >89</td>\n",
       "      <td id=\"T_3948a_row14_col1\" class=\"data row14 col1\" >O</td>\n",
       "    </tr>\n",
       "    <tr>\n",
       "      <th id=\"T_3948a_level0_row15\" class=\"row_heading level0 row15\" >15</th>\n",
       "      <td id=\"T_3948a_row15_col0\" class=\"data row15 col0\" >203</td>\n",
       "      <td id=\"T_3948a_row15_col1\" class=\"data row15 col1\" >P</td>\n",
       "    </tr>\n",
       "    <tr>\n",
       "      <th id=\"T_3948a_level0_row16\" class=\"row_heading level0 row16\" >16</th>\n",
       "      <td id=\"T_3948a_row16_col0\" class=\"data row16 col0\" >7</td>\n",
       "      <td id=\"T_3948a_row16_col1\" class=\"data row16 col1\" >Q</td>\n",
       "    </tr>\n",
       "    <tr>\n",
       "      <th id=\"T_3948a_level0_row17\" class=\"row_heading level0 row17\" >17</th>\n",
       "      <td id=\"T_3948a_row17_col0\" class=\"data row17 col0\" >121</td>\n",
       "      <td id=\"T_3948a_row17_col1\" class=\"data row17 col1\" >R</td>\n",
       "    </tr>\n",
       "    <tr>\n",
       "      <th id=\"T_3948a_level0_row18\" class=\"row_heading level0 row18\" >18</th>\n",
       "      <td id=\"T_3948a_row18_col0\" class=\"data row18 col0\" >245</td>\n",
       "      <td id=\"T_3948a_row18_col1\" class=\"data row18 col1\" >S</td>\n",
       "    </tr>\n",
       "    <tr>\n",
       "      <th id=\"T_3948a_level0_row19\" class=\"row_heading level0 row19\" >19</th>\n",
       "      <td id=\"T_3948a_row19_col0\" class=\"data row19 col0\" >205</td>\n",
       "      <td id=\"T_3948a_row19_col1\" class=\"data row19 col1\" >T</td>\n",
       "    </tr>\n",
       "    <tr>\n",
       "      <th id=\"T_3948a_level0_row20\" class=\"row_heading level0 row20\" >20</th>\n",
       "      <td id=\"T_3948a_row20_col0\" class=\"data row20 col0\" >77</td>\n",
       "      <td id=\"T_3948a_row20_col1\" class=\"data row20 col1\" >U</td>\n",
       "    </tr>\n",
       "    <tr>\n",
       "      <th id=\"T_3948a_level0_row21\" class=\"row_heading level0 row21\" >21</th>\n",
       "      <td id=\"T_3948a_row21_col0\" class=\"data row21 col0\" >86</td>\n",
       "      <td id=\"T_3948a_row21_col1\" class=\"data row21 col1\" >V</td>\n",
       "    </tr>\n",
       "    <tr>\n",
       "      <th id=\"T_3948a_level0_row22\" class=\"row_heading level0 row22\" >22</th>\n",
       "      <td id=\"T_3948a_row22_col0\" class=\"data row22 col0\" >59</td>\n",
       "      <td id=\"T_3948a_row22_col1\" class=\"data row22 col1\" >W</td>\n",
       "    </tr>\n",
       "    <tr>\n",
       "      <th id=\"T_3948a_level0_row23\" class=\"row_heading level0 row23\" >23</th>\n",
       "      <td id=\"T_3948a_row23_col0\" class=\"data row23 col0\" >28</td>\n",
       "      <td id=\"T_3948a_row23_col1\" class=\"data row23 col1\" >X</td>\n",
       "    </tr>\n",
       "    <tr>\n",
       "      <th id=\"T_3948a_level0_row24\" class=\"row_heading level0 row24\" >24</th>\n",
       "      <td id=\"T_3948a_row24_col0\" class=\"data row24 col0\" >211</td>\n",
       "      <td id=\"T_3948a_row24_col1\" class=\"data row24 col1\" >Y</td>\n",
       "    </tr>\n",
       "    <tr>\n",
       "      <th id=\"T_3948a_level0_row25\" class=\"row_heading level0 row25\" >25</th>\n",
       "      <td id=\"T_3948a_row25_col0\" class=\"data row25 col0\" >49</td>\n",
       "      <td id=\"T_3948a_row25_col1\" class=\"data row25 col1\" >Z</td>\n",
       "    </tr>\n",
       "  </tbody>\n",
       "</table>\n"
      ],
      "text/plain": [
       "<pandas.io.formats.style.Styler at 0x11f53b2e0>"
      ]
     },
     "execution_count": 62,
     "metadata": {},
     "output_type": "execute_result"
    }
   ],
   "source": [
    "?[count(initial), initial] := *airport{code}, initial = first(chars(code))\n",
    "\n",
    ":order initial"
   ]
  },
  {
   "cell_type": "markdown",
   "metadata": {},
   "source": [
    "More useful are the statistics of runways:"
   ]
  },
  {
   "cell_type": "code",
   "execution_count": 63,
   "metadata": {},
   "outputs": [
    {
     "data": {
      "text/html": [
       "<style type=\"text/css\">\n",
       "#T_bc3b9_row0_col0, #T_bc3b9_row0_col1, #T_bc3b9_row0_col2, #T_bc3b9_row0_col3, #T_bc3b9_row0_col4, #T_bc3b9_row0_col5, #T_bc3b9_row0_col6 {\n",
       "  color: #307fc1;\n",
       "}\n",
       "</style>\n",
       "<table id=\"T_bc3b9\">\n",
       "  <thead>\n",
       "    <tr>\n",
       "      <th class=\"blank level0\" >&nbsp;</th>\n",
       "      <th id=\"T_bc3b9_level0_col0\" class=\"col_heading level0 col0\" >count(r)</th>\n",
       "      <th id=\"T_bc3b9_level0_col1\" class=\"col_heading level0 col1\" >count_unique(r)</th>\n",
       "      <th id=\"T_bc3b9_level0_col2\" class=\"col_heading level0 col2\" >sum(r)</th>\n",
       "      <th id=\"T_bc3b9_level0_col3\" class=\"col_heading level0 col3\" >min(r)</th>\n",
       "      <th id=\"T_bc3b9_level0_col4\" class=\"col_heading level0 col4\" >max(r)</th>\n",
       "      <th id=\"T_bc3b9_level0_col5\" class=\"col_heading level0 col5\" >mean(r)</th>\n",
       "      <th id=\"T_bc3b9_level0_col6\" class=\"col_heading level0 col6\" >std_dev(r)</th>\n",
       "    </tr>\n",
       "  </thead>\n",
       "  <tbody>\n",
       "    <tr>\n",
       "      <th id=\"T_bc3b9_level0_row0\" class=\"row_heading level0 row0\" >0</th>\n",
       "      <td id=\"T_bc3b9_row0_col0\" class=\"data row0 col0\" >3504</td>\n",
       "      <td id=\"T_bc3b9_row0_col1\" class=\"data row0 col1\" >7</td>\n",
       "      <td id=\"T_bc3b9_row0_col2\" class=\"data row0 col2\" >4980.000000</td>\n",
       "      <td id=\"T_bc3b9_row0_col3\" class=\"data row0 col3\" >1</td>\n",
       "      <td id=\"T_bc3b9_row0_col4\" class=\"data row0 col4\" >7</td>\n",
       "      <td id=\"T_bc3b9_row0_col5\" class=\"data row0 col5\" >1.421233</td>\n",
       "      <td id=\"T_bc3b9_row0_col6\" class=\"data row0 col6\" >0.743083</td>\n",
       "    </tr>\n",
       "  </tbody>\n",
       "</table>\n"
      ],
      "text/plain": [
       "<pandas.io.formats.style.Styler at 0x11f5398d0>"
      ]
     },
     "execution_count": 63,
     "metadata": {},
     "output_type": "execute_result"
    }
   ],
   "source": [
    "?[count(r), count_unique(r), sum(r), min(r), max(r), mean(r), std_dev(r)] := \n",
    "    *airport{runways: r}"
   ]
  },
  {
   "cell_type": "markdown",
   "metadata": {},
   "source": [
    "Using `country`, we can find countries with no airports:"
   ]
  },
  {
   "cell_type": "code",
   "execution_count": 64,
   "metadata": {},
   "outputs": [
    {
     "data": {
      "text/html": [
       "<style type=\"text/css\">\n",
       "#T_c6ed6_row0_col0, #T_c6ed6_row1_col0, #T_c6ed6_row2_col0, #T_c6ed6_row3_col0, #T_c6ed6_row4_col0 {\n",
       "  color: black;\n",
       "}\n",
       "</style>\n",
       "<table id=\"T_c6ed6\">\n",
       "  <thead>\n",
       "    <tr>\n",
       "      <th class=\"blank level0\" >&nbsp;</th>\n",
       "      <th id=\"T_c6ed6_level0_col0\" class=\"col_heading level0 col0\" >desc</th>\n",
       "    </tr>\n",
       "  </thead>\n",
       "  <tbody>\n",
       "    <tr>\n",
       "      <th id=\"T_c6ed6_level0_row0\" class=\"row_heading level0 row0\" >0</th>\n",
       "      <td id=\"T_c6ed6_row0_col0\" class=\"data row0 col0\" >Andorra</td>\n",
       "    </tr>\n",
       "    <tr>\n",
       "      <th id=\"T_c6ed6_level0_row1\" class=\"row_heading level0 row1\" >1</th>\n",
       "      <td id=\"T_c6ed6_row1_col0\" class=\"data row1 col0\" >Liechtenstein</td>\n",
       "    </tr>\n",
       "    <tr>\n",
       "      <th id=\"T_c6ed6_level0_row2\" class=\"row_heading level0 row2\" >2</th>\n",
       "      <td id=\"T_c6ed6_row2_col0\" class=\"data row2 col0\" >Monaco</td>\n",
       "    </tr>\n",
       "    <tr>\n",
       "      <th id=\"T_c6ed6_level0_row3\" class=\"row_heading level0 row3\" >3</th>\n",
       "      <td id=\"T_c6ed6_row3_col0\" class=\"data row3 col0\" >Pitcairn</td>\n",
       "    </tr>\n",
       "    <tr>\n",
       "      <th id=\"T_c6ed6_level0_row4\" class=\"row_heading level0 row4\" >4</th>\n",
       "      <td id=\"T_c6ed6_row4_col0\" class=\"data row4 col0\" >San Marino</td>\n",
       "    </tr>\n",
       "  </tbody>\n",
       "</table>\n"
      ],
      "text/plain": [
       "<pandas.io.formats.style.Styler at 0x11f538940>"
      ]
     },
     "execution_count": 64,
     "metadata": {},
     "output_type": "execute_result"
    }
   ],
   "source": [
    "?[desc] := *country{code, desc}, not *airport{country: code}"
   ]
  },
  {
   "cell_type": "markdown",
   "metadata": {},
   "source": [
    "The `route` relation by itself is rather boring:"
   ]
  },
  {
   "cell_type": "code",
   "execution_count": 65,
   "metadata": {},
   "outputs": [
    {
     "data": {
      "text/html": [
       "<style type=\"text/css\">\n",
       "#T_f573c_row0_col0, #T_f573c_row0_col1, #T_f573c_row1_col0, #T_f573c_row1_col1, #T_f573c_row2_col0, #T_f573c_row2_col1, #T_f573c_row3_col0, #T_f573c_row3_col1, #T_f573c_row4_col0, #T_f573c_row4_col1, #T_f573c_row5_col0, #T_f573c_row5_col1, #T_f573c_row6_col0, #T_f573c_row6_col1, #T_f573c_row7_col0, #T_f573c_row7_col1, #T_f573c_row8_col0, #T_f573c_row8_col1, #T_f573c_row9_col0, #T_f573c_row9_col1 {\n",
       "  color: black;\n",
       "}\n",
       "#T_f573c_row0_col2, #T_f573c_row1_col2, #T_f573c_row2_col2, #T_f573c_row3_col2, #T_f573c_row4_col2, #T_f573c_row5_col2, #T_f573c_row6_col2, #T_f573c_row7_col2, #T_f573c_row8_col2, #T_f573c_row9_col2 {\n",
       "  color: #307fc1;\n",
       "}\n",
       "</style>\n",
       "<table id=\"T_f573c\">\n",
       "  <thead>\n",
       "    <tr>\n",
       "      <th class=\"blank level0\" >&nbsp;</th>\n",
       "      <th id=\"T_f573c_level0_col0\" class=\"col_heading level0 col0\" >fr</th>\n",
       "      <th id=\"T_f573c_level0_col1\" class=\"col_heading level0 col1\" >to</th>\n",
       "      <th id=\"T_f573c_level0_col2\" class=\"col_heading level0 col2\" >dist</th>\n",
       "    </tr>\n",
       "  </thead>\n",
       "  <tbody>\n",
       "    <tr>\n",
       "      <th id=\"T_f573c_level0_row0\" class=\"row_heading level0 row0\" >0</th>\n",
       "      <td id=\"T_f573c_row0_col0\" class=\"data row0 col0\" >AAA</td>\n",
       "      <td id=\"T_f573c_row0_col1\" class=\"data row0 col1\" >FAC</td>\n",
       "      <td id=\"T_f573c_row0_col2\" class=\"data row0 col2\" >48.000000</td>\n",
       "    </tr>\n",
       "    <tr>\n",
       "      <th id=\"T_f573c_level0_row1\" class=\"row_heading level0 row1\" >1</th>\n",
       "      <td id=\"T_f573c_row1_col0\" class=\"data row1 col0\" >AAA</td>\n",
       "      <td id=\"T_f573c_row1_col1\" class=\"data row1 col1\" >MKP</td>\n",
       "      <td id=\"T_f573c_row1_col2\" class=\"data row1 col2\" >133.000000</td>\n",
       "    </tr>\n",
       "    <tr>\n",
       "      <th id=\"T_f573c_level0_row2\" class=\"row_heading level0 row2\" >2</th>\n",
       "      <td id=\"T_f573c_row2_col0\" class=\"data row2 col0\" >AAA</td>\n",
       "      <td id=\"T_f573c_row2_col1\" class=\"data row2 col1\" >PPT</td>\n",
       "      <td id=\"T_f573c_row2_col2\" class=\"data row2 col2\" >270.000000</td>\n",
       "    </tr>\n",
       "    <tr>\n",
       "      <th id=\"T_f573c_level0_row3\" class=\"row_heading level0 row3\" >3</th>\n",
       "      <td id=\"T_f573c_row3_col0\" class=\"data row3 col0\" >AAA</td>\n",
       "      <td id=\"T_f573c_row3_col1\" class=\"data row3 col1\" >RAR</td>\n",
       "      <td id=\"T_f573c_row3_col2\" class=\"data row3 col2\" >968.000000</td>\n",
       "    </tr>\n",
       "    <tr>\n",
       "      <th id=\"T_f573c_level0_row4\" class=\"row_heading level0 row4\" >4</th>\n",
       "      <td id=\"T_f573c_row4_col0\" class=\"data row4 col0\" >AAE</td>\n",
       "      <td id=\"T_f573c_row4_col1\" class=\"data row4 col1\" >ALG</td>\n",
       "      <td id=\"T_f573c_row4_col2\" class=\"data row4 col2\" >254.000000</td>\n",
       "    </tr>\n",
       "    <tr>\n",
       "      <th id=\"T_f573c_level0_row5\" class=\"row_heading level0 row5\" >5</th>\n",
       "      <td id=\"T_f573c_row5_col0\" class=\"data row5 col0\" >AAE</td>\n",
       "      <td id=\"T_f573c_row5_col1\" class=\"data row5 col1\" >CDG</td>\n",
       "      <td id=\"T_f573c_row5_col2\" class=\"data row5 col2\" >882.000000</td>\n",
       "    </tr>\n",
       "    <tr>\n",
       "      <th id=\"T_f573c_level0_row6\" class=\"row_heading level0 row6\" >6</th>\n",
       "      <td id=\"T_f573c_row6_col0\" class=\"data row6 col0\" >AAE</td>\n",
       "      <td id=\"T_f573c_row6_col1\" class=\"data row6 col1\" >IST</td>\n",
       "      <td id=\"T_f573c_row6_col2\" class=\"data row6 col2\" >1161.000000</td>\n",
       "    </tr>\n",
       "    <tr>\n",
       "      <th id=\"T_f573c_level0_row7\" class=\"row_heading level0 row7\" >7</th>\n",
       "      <td id=\"T_f573c_row7_col0\" class=\"data row7 col0\" >AAE</td>\n",
       "      <td id=\"T_f573c_row7_col1\" class=\"data row7 col1\" >LYS</td>\n",
       "      <td id=\"T_f573c_row7_col2\" class=\"data row7 col2\" >631.000000</td>\n",
       "    </tr>\n",
       "    <tr>\n",
       "      <th id=\"T_f573c_level0_row8\" class=\"row_heading level0 row8\" >8</th>\n",
       "      <td id=\"T_f573c_row8_col0\" class=\"data row8 col0\" >AAE</td>\n",
       "      <td id=\"T_f573c_row8_col1\" class=\"data row8 col1\" >MRS</td>\n",
       "      <td id=\"T_f573c_row8_col2\" class=\"data row8 col2\" >477.000000</td>\n",
       "    </tr>\n",
       "    <tr>\n",
       "      <th id=\"T_f573c_level0_row9\" class=\"row_heading level0 row9\" >9</th>\n",
       "      <td id=\"T_f573c_row9_col0\" class=\"data row9 col0\" >AAE</td>\n",
       "      <td id=\"T_f573c_row9_col1\" class=\"data row9 col1\" >ORN</td>\n",
       "      <td id=\"T_f573c_row9_col2\" class=\"data row9 col2\" >477.000000</td>\n",
       "    </tr>\n",
       "  </tbody>\n",
       "</table>\n"
      ],
      "text/plain": [
       "<pandas.io.formats.style.Styler at 0x11f55c5e0>"
      ]
     },
     "execution_count": 65,
     "metadata": {},
     "output_type": "execute_result"
    }
   ],
   "source": [
    "?[fr, to, dist] := *route{fr, to, dist}\n",
    "\n",
    ":limit 10"
   ]
  },
  {
   "cell_type": "markdown",
   "metadata": {},
   "source": [
    "It just records the starting and ending airports of each route, together with the distance. This relation only becomes useful when used as a graph.\n",
    "\n",
    "Airports with no routes:"
   ]
  },
  {
   "cell_type": "code",
   "execution_count": 66,
   "metadata": {},
   "outputs": [
    {
     "data": {
      "text/html": [
       "<style type=\"text/css\">\n",
       "#T_2c218_row0_col0, #T_2c218_row0_col1, #T_2c218_row1_col0, #T_2c218_row1_col1, #T_2c218_row2_col0, #T_2c218_row2_col1, #T_2c218_row3_col0, #T_2c218_row3_col1, #T_2c218_row4_col0, #T_2c218_row4_col1, #T_2c218_row5_col0, #T_2c218_row5_col1, #T_2c218_row6_col0, #T_2c218_row6_col1, #T_2c218_row7_col0, #T_2c218_row7_col1, #T_2c218_row8_col0, #T_2c218_row8_col1, #T_2c218_row9_col0, #T_2c218_row9_col1, #T_2c218_row10_col0, #T_2c218_row10_col1, #T_2c218_row11_col0, #T_2c218_row11_col1, #T_2c218_row12_col0, #T_2c218_row12_col1, #T_2c218_row13_col0, #T_2c218_row13_col1, #T_2c218_row14_col0, #T_2c218_row14_col1, #T_2c218_row15_col0, #T_2c218_row15_col1, #T_2c218_row16_col0, #T_2c218_row16_col1, #T_2c218_row17_col0, #T_2c218_row17_col1, #T_2c218_row18_col0, #T_2c218_row18_col1, #T_2c218_row19_col0, #T_2c218_row19_col1, #T_2c218_row20_col0, #T_2c218_row20_col1, #T_2c218_row21_col0, #T_2c218_row21_col1, #T_2c218_row22_col0, #T_2c218_row22_col1, #T_2c218_row23_col0, #T_2c218_row23_col1, #T_2c218_row24_col0, #T_2c218_row24_col1, #T_2c218_row25_col0, #T_2c218_row25_col1, #T_2c218_row26_col0, #T_2c218_row26_col1, #T_2c218_row27_col0, #T_2c218_row27_col1 {\n",
       "  color: black;\n",
       "}\n",
       "</style>\n",
       "<table id=\"T_2c218\">\n",
       "  <thead>\n",
       "    <tr>\n",
       "      <th class=\"blank level0\" >&nbsp;</th>\n",
       "      <th id=\"T_2c218_level0_col0\" class=\"col_heading level0 col0\" >code</th>\n",
       "      <th id=\"T_2c218_level0_col1\" class=\"col_heading level0 col1\" >desc</th>\n",
       "    </tr>\n",
       "  </thead>\n",
       "  <tbody>\n",
       "    <tr>\n",
       "      <th id=\"T_2c218_level0_row0\" class=\"row_heading level0 row0\" >0</th>\n",
       "      <td id=\"T_2c218_row0_col0\" class=\"data row0 col0\" >AFW</td>\n",
       "      <td id=\"T_2c218_row0_col1\" class=\"data row0 col1\" >Fort Worth Alliance Airport</td>\n",
       "    </tr>\n",
       "    <tr>\n",
       "      <th id=\"T_2c218_level0_row1\" class=\"row_heading level0 row1\" >1</th>\n",
       "      <td id=\"T_2c218_row1_col0\" class=\"data row1 col0\" >APA</td>\n",
       "      <td id=\"T_2c218_row1_col1\" class=\"data row1 col1\" >Centennial Airport</td>\n",
       "    </tr>\n",
       "    <tr>\n",
       "      <th id=\"T_2c218_level0_row2\" class=\"row_heading level0 row2\" >2</th>\n",
       "      <td id=\"T_2c218_row2_col0\" class=\"data row2 col0\" >APK</td>\n",
       "      <td id=\"T_2c218_row2_col1\" class=\"data row2 col1\" >Apataki Airport</td>\n",
       "    </tr>\n",
       "    <tr>\n",
       "      <th id=\"T_2c218_level0_row3\" class=\"row_heading level0 row3\" >3</th>\n",
       "      <td id=\"T_2c218_row3_col0\" class=\"data row3 col0\" >BID</td>\n",
       "      <td id=\"T_2c218_row3_col1\" class=\"data row3 col1\" >Block Island State Airport</td>\n",
       "    </tr>\n",
       "    <tr>\n",
       "      <th id=\"T_2c218_level0_row4\" class=\"row_heading level0 row4\" >4</th>\n",
       "      <td id=\"T_2c218_row4_col0\" class=\"data row4 col0\" >BVS</td>\n",
       "      <td id=\"T_2c218_row4_col1\" class=\"data row4 col1\" >Breves Airport</td>\n",
       "    </tr>\n",
       "    <tr>\n",
       "      <th id=\"T_2c218_level0_row5\" class=\"row_heading level0 row5\" >5</th>\n",
       "      <td id=\"T_2c218_row5_col0\" class=\"data row5 col0\" >BWU</td>\n",
       "      <td id=\"T_2c218_row5_col1\" class=\"data row5 col1\" >Sydney Bankstown Airport</td>\n",
       "    </tr>\n",
       "    <tr>\n",
       "      <th id=\"T_2c218_level0_row6\" class=\"row_heading level0 row6\" >6</th>\n",
       "      <td id=\"T_2c218_row6_col0\" class=\"data row6 col0\" >CRC</td>\n",
       "      <td id=\"T_2c218_row6_col1\" class=\"data row6 col1\" >Santa Ana Airport</td>\n",
       "    </tr>\n",
       "    <tr>\n",
       "      <th id=\"T_2c218_level0_row7\" class=\"row_heading level0 row7\" >7</th>\n",
       "      <td id=\"T_2c218_row7_col0\" class=\"data row7 col0\" >CVT</td>\n",
       "      <td id=\"T_2c218_row7_col1\" class=\"data row7 col1\" >Coventry Airport</td>\n",
       "    </tr>\n",
       "    <tr>\n",
       "      <th id=\"T_2c218_level0_row8\" class=\"row_heading level0 row8\" >8</th>\n",
       "      <td id=\"T_2c218_row8_col0\" class=\"data row8 col0\" >EKA</td>\n",
       "      <td id=\"T_2c218_row8_col1\" class=\"data row8 col1\" >Murray Field</td>\n",
       "    </tr>\n",
       "    <tr>\n",
       "      <th id=\"T_2c218_level0_row9\" class=\"row_heading level0 row9\" >9</th>\n",
       "      <td id=\"T_2c218_row9_col0\" class=\"data row9 col0\" >GYZ</td>\n",
       "      <td id=\"T_2c218_row9_col1\" class=\"data row9 col1\" >Gruyere Airport</td>\n",
       "    </tr>\n",
       "    <tr>\n",
       "      <th id=\"T_2c218_level0_row10\" class=\"row_heading level0 row10\" >10</th>\n",
       "      <td id=\"T_2c218_row10_col0\" class=\"data row10 col0\" >HFN</td>\n",
       "      <td id=\"T_2c218_row10_col1\" class=\"data row10 col1\" >Hornafjordur Airport</td>\n",
       "    </tr>\n",
       "    <tr>\n",
       "      <th id=\"T_2c218_level0_row11\" class=\"row_heading level0 row11\" >11</th>\n",
       "      <td id=\"T_2c218_row11_col0\" class=\"data row11 col0\" >HZK</td>\n",
       "      <td id=\"T_2c218_row11_col1\" class=\"data row11 col1\" >Husavik Airport</td>\n",
       "    </tr>\n",
       "    <tr>\n",
       "      <th id=\"T_2c218_level0_row12\" class=\"row_heading level0 row12\" >12</th>\n",
       "      <td id=\"T_2c218_row12_col0\" class=\"data row12 col0\" >ILG</td>\n",
       "      <td id=\"T_2c218_row12_col1\" class=\"data row12 col1\" >New Castle Airport</td>\n",
       "    </tr>\n",
       "    <tr>\n",
       "      <th id=\"T_2c218_level0_row13\" class=\"row_heading level0 row13\" >13</th>\n",
       "      <td id=\"T_2c218_row13_col0\" class=\"data row13 col0\" >INT</td>\n",
       "      <td id=\"T_2c218_row13_col1\" class=\"data row13 col1\" >Smith Reynolds Airport</td>\n",
       "    </tr>\n",
       "    <tr>\n",
       "      <th id=\"T_2c218_level0_row14\" class=\"row_heading level0 row14\" >14</th>\n",
       "      <td id=\"T_2c218_row14_col0\" class=\"data row14 col0\" >ISL</td>\n",
       "      <td id=\"T_2c218_row14_col1\" class=\"data row14 col1\" >Ataturk International Airport</td>\n",
       "    </tr>\n",
       "    <tr>\n",
       "      <th id=\"T_2c218_level0_row15\" class=\"row_heading level0 row15\" >15</th>\n",
       "      <td id=\"T_2c218_row15_col0\" class=\"data row15 col0\" >KGG</td>\n",
       "      <td id=\"T_2c218_row15_col1\" class=\"data row15 col1\" >Kédougou Airport</td>\n",
       "    </tr>\n",
       "    <tr>\n",
       "      <th id=\"T_2c218_level0_row16\" class=\"row_heading level0 row16\" >16</th>\n",
       "      <td id=\"T_2c218_row16_col0\" class=\"data row16 col0\" >NBW</td>\n",
       "      <td id=\"T_2c218_row16_col1\" class=\"data row16 col1\" >Leeward Point Field</td>\n",
       "    </tr>\n",
       "    <tr>\n",
       "      <th id=\"T_2c218_level0_row17\" class=\"row_heading level0 row17\" >17</th>\n",
       "      <td id=\"T_2c218_row17_col0\" class=\"data row17 col0\" >NFO</td>\n",
       "      <td id=\"T_2c218_row17_col1\" class=\"data row17 col1\" >Mata'aho Airport</td>\n",
       "    </tr>\n",
       "    <tr>\n",
       "      <th id=\"T_2c218_level0_row18\" class=\"row_heading level0 row18\" >18</th>\n",
       "      <td id=\"T_2c218_row18_col0\" class=\"data row18 col0\" >PSY</td>\n",
       "      <td id=\"T_2c218_row18_col1\" class=\"data row18 col1\" >Stanley Airport</td>\n",
       "    </tr>\n",
       "    <tr>\n",
       "      <th id=\"T_2c218_level0_row19\" class=\"row_heading level0 row19\" >19</th>\n",
       "      <td id=\"T_2c218_row19_col0\" class=\"data row19 col0\" >RIG</td>\n",
       "      <td id=\"T_2c218_row19_col1\" class=\"data row19 col1\" >Rio Grande Airport</td>\n",
       "    </tr>\n",
       "    <tr>\n",
       "      <th id=\"T_2c218_level0_row20\" class=\"row_heading level0 row20\" >20</th>\n",
       "      <td id=\"T_2c218_row20_col0\" class=\"data row20 col0\" >SFD</td>\n",
       "      <td id=\"T_2c218_row20_col1\" class=\"data row20 col1\" >San Fernando De Apure Airport</td>\n",
       "    </tr>\n",
       "    <tr>\n",
       "      <th id=\"T_2c218_level0_row21\" class=\"row_heading level0 row21\" >21</th>\n",
       "      <td id=\"T_2c218_row21_col0\" class=\"data row21 col0\" >SFH</td>\n",
       "      <td id=\"T_2c218_row21_col1\" class=\"data row21 col1\" >San Felipe International Airport</td>\n",
       "    </tr>\n",
       "    <tr>\n",
       "      <th id=\"T_2c218_level0_row22\" class=\"row_heading level0 row22\" >22</th>\n",
       "      <td id=\"T_2c218_row22_col0\" class=\"data row22 col0\" >SXF</td>\n",
       "      <td id=\"T_2c218_row22_col1\" class=\"data row22 col1\" >Berlin-Schönefeld International Airport *Closed*</td>\n",
       "    </tr>\n",
       "    <tr>\n",
       "      <th id=\"T_2c218_level0_row23\" class=\"row_heading level0 row23\" >23</th>\n",
       "      <td id=\"T_2c218_row23_col0\" class=\"data row23 col0\" >TUA</td>\n",
       "      <td id=\"T_2c218_row23_col1\" class=\"data row23 col1\" >Teniente Coronel Luis a Mantilla Airport</td>\n",
       "    </tr>\n",
       "    <tr>\n",
       "      <th id=\"T_2c218_level0_row24\" class=\"row_heading level0 row24\" >24</th>\n",
       "      <td id=\"T_2c218_row24_col0\" class=\"data row24 col0\" >TWB</td>\n",
       "      <td id=\"T_2c218_row24_col1\" class=\"data row24 col1\" >Toowoomba Airport</td>\n",
       "    </tr>\n",
       "    <tr>\n",
       "      <th id=\"T_2c218_level0_row25\" class=\"row_heading level0 row25\" >25</th>\n",
       "      <td id=\"T_2c218_row25_col0\" class=\"data row25 col0\" >TXL</td>\n",
       "      <td id=\"T_2c218_row25_col1\" class=\"data row25 col1\" >Berlin, Tegel International Airport *Closed*</td>\n",
       "    </tr>\n",
       "    <tr>\n",
       "      <th id=\"T_2c218_level0_row26\" class=\"row_heading level0 row26\" >26</th>\n",
       "      <td id=\"T_2c218_row26_col0\" class=\"data row26 col0\" >VCV</td>\n",
       "      <td id=\"T_2c218_row26_col1\" class=\"data row26 col1\" >Southern California Logistics Airport</td>\n",
       "    </tr>\n",
       "    <tr>\n",
       "      <th id=\"T_2c218_level0_row27\" class=\"row_heading level0 row27\" >27</th>\n",
       "      <td id=\"T_2c218_row27_col0\" class=\"data row27 col0\" >YEI</td>\n",
       "      <td id=\"T_2c218_row27_col1\" class=\"data row27 col1\" >Bursa Yenişehir Airport</td>\n",
       "    </tr>\n",
       "  </tbody>\n",
       "</table>\n"
      ],
      "text/plain": [
       "<pandas.io.formats.style.Styler at 0x11f54f520>"
      ]
     },
     "execution_count": 66,
     "metadata": {},
     "output_type": "execute_result"
    }
   ],
   "source": [
    "?[code, desc] := *airport{code, desc}, not *route{fr: code}, not *route{to: code}"
   ]
  },
  {
   "cell_type": "markdown",
   "metadata": {},
   "source": [
    "Airports with the most out routes:"
   ]
  },
  {
   "cell_type": "code",
   "execution_count": 67,
   "metadata": {},
   "outputs": [
    {
     "data": {
      "text/html": [
       "<style type=\"text/css\">\n",
       "#T_6e425_row0_col0, #T_6e425_row1_col0, #T_6e425_row2_col0, #T_6e425_row3_col0, #T_6e425_row4_col0 {\n",
       "  color: black;\n",
       "}\n",
       "#T_6e425_row0_col1, #T_6e425_row1_col1, #T_6e425_row2_col1, #T_6e425_row3_col1, #T_6e425_row4_col1 {\n",
       "  color: #307fc1;\n",
       "}\n",
       "</style>\n",
       "<table id=\"T_6e425\">\n",
       "  <thead>\n",
       "    <tr>\n",
       "      <th class=\"blank level0\" >&nbsp;</th>\n",
       "      <th id=\"T_6e425_level0_col0\" class=\"col_heading level0 col0\" >code</th>\n",
       "      <th id=\"T_6e425_level0_col1\" class=\"col_heading level0 col1\" >n</th>\n",
       "    </tr>\n",
       "  </thead>\n",
       "  <tbody>\n",
       "    <tr>\n",
       "      <th id=\"T_6e425_level0_row0\" class=\"row_heading level0 row0\" >0</th>\n",
       "      <td id=\"T_6e425_row0_col0\" class=\"data row0 col0\" >FRA</td>\n",
       "      <td id=\"T_6e425_row0_col1\" class=\"data row0 col1\" >310</td>\n",
       "    </tr>\n",
       "    <tr>\n",
       "      <th id=\"T_6e425_level0_row1\" class=\"row_heading level0 row1\" >1</th>\n",
       "      <td id=\"T_6e425_row1_col0\" class=\"data row1 col0\" >IST</td>\n",
       "      <td id=\"T_6e425_row1_col1\" class=\"data row1 col1\" >309</td>\n",
       "    </tr>\n",
       "    <tr>\n",
       "      <th id=\"T_6e425_level0_row2\" class=\"row_heading level0 row2\" >2</th>\n",
       "      <td id=\"T_6e425_row2_col0\" class=\"data row2 col0\" >CDG</td>\n",
       "      <td id=\"T_6e425_row2_col1\" class=\"data row2 col1\" >293</td>\n",
       "    </tr>\n",
       "    <tr>\n",
       "      <th id=\"T_6e425_level0_row3\" class=\"row_heading level0 row3\" >3</th>\n",
       "      <td id=\"T_6e425_row3_col0\" class=\"data row3 col0\" >AMS</td>\n",
       "      <td id=\"T_6e425_row3_col1\" class=\"data row3 col1\" >283</td>\n",
       "    </tr>\n",
       "    <tr>\n",
       "      <th id=\"T_6e425_level0_row4\" class=\"row_heading level0 row4\" >4</th>\n",
       "      <td id=\"T_6e425_row4_col0\" class=\"data row4 col0\" >MUC</td>\n",
       "      <td id=\"T_6e425_row4_col1\" class=\"data row4 col1\" >270</td>\n",
       "    </tr>\n",
       "  </tbody>\n",
       "</table>\n"
      ],
      "text/plain": [
       "<pandas.io.formats.style.Styler at 0x11f55cb80>"
      ]
     },
     "execution_count": 67,
     "metadata": {},
     "output_type": "execute_result"
    }
   ],
   "source": [
    "route_count[fr, count(fr)] := *route{fr}\n",
    "?[code, n] := route_count[code, n]\n",
    "\n",
    ":sort -n\n",
    ":limit 5"
   ]
  },
  {
   "cell_type": "markdown",
   "metadata": {},
   "source": [
    "How many routes are there from the European Union to the US?"
   ]
  },
  {
   "cell_type": "code",
   "execution_count": 68,
   "metadata": {},
   "outputs": [
    {
     "data": {
      "text/html": [
       "<style type=\"text/css\">\n",
       "#T_9a356_row0_col0 {\n",
       "  color: #307fc1;\n",
       "}\n",
       "</style>\n",
       "<table id=\"T_9a356\">\n",
       "  <thead>\n",
       "    <tr>\n",
       "      <th class=\"blank level0\" >&nbsp;</th>\n",
       "      <th id=\"T_9a356_level0_col0\" class=\"col_heading level0 col0\" >n</th>\n",
       "    </tr>\n",
       "  </thead>\n",
       "  <tbody>\n",
       "    <tr>\n",
       "      <th id=\"T_9a356_level0_row0\" class=\"row_heading level0 row0\" >0</th>\n",
       "      <td id=\"T_9a356_row0_col0\" class=\"data row0 col0\" >435</td>\n",
       "    </tr>\n",
       "  </tbody>\n",
       "</table>\n"
      ],
      "text/plain": [
       "<pandas.io.formats.style.Styler at 0x11f54d600>"
      ]
     },
     "execution_count": 68,
     "metadata": {},
     "output_type": "execute_result"
    }
   ],
   "source": [
    "routes[unique(r)] := *contain['EU', fr],\n",
    "                     *route{fr, to},\n",
    "                     *airport{code: to, country: 'US'},\n",
    "                     r = [fr, to]\n",
    "?[n] := routes[rs], n = length(rs)"
   ]
  },
  {
   "cell_type": "markdown",
   "metadata": {},
   "source": [
    "How many airports are there in the US with routes from the EU?"
   ]
  },
  {
   "cell_type": "code",
   "execution_count": 69,
   "metadata": {},
   "outputs": [
    {
     "data": {
      "text/html": [
       "<style type=\"text/css\">\n",
       "#T_90af7_row0_col0 {\n",
       "  color: #307fc1;\n",
       "}\n",
       "</style>\n",
       "<table id=\"T_90af7\">\n",
       "  <thead>\n",
       "    <tr>\n",
       "      <th class=\"blank level0\" >&nbsp;</th>\n",
       "      <th id=\"T_90af7_level0_col0\" class=\"col_heading level0 col0\" >count_unique(to)</th>\n",
       "    </tr>\n",
       "  </thead>\n",
       "  <tbody>\n",
       "    <tr>\n",
       "      <th id=\"T_90af7_level0_row0\" class=\"row_heading level0 row0\" >0</th>\n",
       "      <td id=\"T_90af7_row0_col0\" class=\"data row0 col0\" >45</td>\n",
       "    </tr>\n",
       "  </tbody>\n",
       "</table>\n"
      ],
      "text/plain": [
       "<pandas.io.formats.style.Styler at 0x11f54cb50>"
      ]
     },
     "execution_count": 69,
     "metadata": {},
     "output_type": "execute_result"
    }
   ],
   "source": [
    "?[count_unique(to)] := *contain['EU', fr],\n",
    "                       *route{fr, to},\n",
    "                       *airport{code: to, country: 'US'}\n"
   ]
  },
  {
   "cell_type": "markdown",
   "metadata": {},
   "source": [
    "How many routes are there for each airport in London, UK?"
   ]
  },
  {
   "cell_type": "code",
   "execution_count": 70,
   "metadata": {},
   "outputs": [
    {
     "data": {
      "text/html": [
       "<style type=\"text/css\">\n",
       "#T_a2a8b_row0_col0, #T_a2a8b_row1_col0, #T_a2a8b_row2_col0, #T_a2a8b_row3_col0, #T_a2a8b_row4_col0 {\n",
       "  color: black;\n",
       "}\n",
       "#T_a2a8b_row0_col1, #T_a2a8b_row1_col1, #T_a2a8b_row2_col1, #T_a2a8b_row3_col1, #T_a2a8b_row4_col1 {\n",
       "  color: #307fc1;\n",
       "}\n",
       "</style>\n",
       "<table id=\"T_a2a8b\">\n",
       "  <thead>\n",
       "    <tr>\n",
       "      <th class=\"blank level0\" >&nbsp;</th>\n",
       "      <th id=\"T_a2a8b_level0_col0\" class=\"col_heading level0 col0\" >code</th>\n",
       "      <th id=\"T_a2a8b_level0_col1\" class=\"col_heading level0 col1\" >count(code)</th>\n",
       "    </tr>\n",
       "  </thead>\n",
       "  <tbody>\n",
       "    <tr>\n",
       "      <th id=\"T_a2a8b_level0_row0\" class=\"row_heading level0 row0\" >0</th>\n",
       "      <td id=\"T_a2a8b_row0_col0\" class=\"data row0 col0\" >LCY</td>\n",
       "      <td id=\"T_a2a8b_row0_col1\" class=\"data row0 col1\" >51</td>\n",
       "    </tr>\n",
       "    <tr>\n",
       "      <th id=\"T_a2a8b_level0_row1\" class=\"row_heading level0 row1\" >1</th>\n",
       "      <td id=\"T_a2a8b_row1_col0\" class=\"data row1 col0\" >LGW</td>\n",
       "      <td id=\"T_a2a8b_row1_col1\" class=\"data row1 col1\" >232</td>\n",
       "    </tr>\n",
       "    <tr>\n",
       "      <th id=\"T_a2a8b_level0_row2\" class=\"row_heading level0 row2\" >2</th>\n",
       "      <td id=\"T_a2a8b_row2_col0\" class=\"data row2 col0\" >LHR</td>\n",
       "      <td id=\"T_a2a8b_row2_col1\" class=\"data row2 col1\" >221</td>\n",
       "    </tr>\n",
       "    <tr>\n",
       "      <th id=\"T_a2a8b_level0_row3\" class=\"row_heading level0 row3\" >3</th>\n",
       "      <td id=\"T_a2a8b_row3_col0\" class=\"data row3 col0\" >LTN</td>\n",
       "      <td id=\"T_a2a8b_row3_col1\" class=\"data row3 col1\" >130</td>\n",
       "    </tr>\n",
       "    <tr>\n",
       "      <th id=\"T_a2a8b_level0_row4\" class=\"row_heading level0 row4\" >4</th>\n",
       "      <td id=\"T_a2a8b_row4_col0\" class=\"data row4 col0\" >STN</td>\n",
       "      <td id=\"T_a2a8b_row4_col1\" class=\"data row4 col1\" >211</td>\n",
       "    </tr>\n",
       "  </tbody>\n",
       "</table>\n"
      ],
      "text/plain": [
       "<pandas.io.formats.style.Styler at 0x11f54c520>"
      ]
     },
     "execution_count": 70,
     "metadata": {},
     "output_type": "execute_result"
    }
   ],
   "source": [
    "?[code, count(code)] := *airport{code, city: 'London', region: 'GB-ENG'}, *route{fr: code}"
   ]
  },
  {
   "cell_type": "markdown",
   "metadata": {},
   "source": [
    "We need to specify the region, because there is another city called London, not in the UK.\n",
    "\n",
    "How many airports are reachable from London, UK in two hops?"
   ]
  },
  {
   "cell_type": "code",
   "execution_count": 71,
   "metadata": {},
   "outputs": [
    {
     "data": {
      "text/html": [
       "<style type=\"text/css\">\n",
       "#T_c8d7c_row0_col0 {\n",
       "  color: #307fc1;\n",
       "}\n",
       "</style>\n",
       "<table id=\"T_c8d7c\">\n",
       "  <thead>\n",
       "    <tr>\n",
       "      <th class=\"blank level0\" >&nbsp;</th>\n",
       "      <th id=\"T_c8d7c_level0_col0\" class=\"col_heading level0 col0\" >count_unique(a3)</th>\n",
       "    </tr>\n",
       "  </thead>\n",
       "  <tbody>\n",
       "    <tr>\n",
       "      <th id=\"T_c8d7c_level0_row0\" class=\"row_heading level0 row0\" >0</th>\n",
       "      <td id=\"T_c8d7c_row0_col0\" class=\"data row0 col0\" >2353</td>\n",
       "    </tr>\n",
       "  </tbody>\n",
       "</table>\n"
      ],
      "text/plain": [
       "<pandas.io.formats.style.Styler at 0x11f54ee90>"
      ]
     },
     "execution_count": 71,
     "metadata": {},
     "output_type": "execute_result"
    }
   ],
   "source": [
    "lon_uk_airports[code] := *airport{code, city: 'London', region: 'GB-ENG'}\n",
    "one_hop[to] := lon_uk_airports[fr], *route{fr, to}, not lon_uk_airports[to];\n",
    "?[count_unique(a3)] := one_hop[a2], *route{fr: a2, to: a3}, not lon_uk_airports[a3];"
   ]
  },
  {
   "cell_type": "markdown",
   "metadata": {},
   "source": [
    "What are the cities directly reachable from LGW (London Gatwick), but furthermost away?"
   ]
  },
  {
   "cell_type": "code",
   "execution_count": 72,
   "metadata": {},
   "outputs": [
    {
     "data": {
      "text/html": [
       "<style type=\"text/css\">\n",
       "#T_1705b_row0_col0, #T_1705b_row1_col0, #T_1705b_row2_col0, #T_1705b_row3_col0, #T_1705b_row4_col0, #T_1705b_row5_col0, #T_1705b_row6_col0, #T_1705b_row7_col0, #T_1705b_row8_col0, #T_1705b_row9_col0 {\n",
       "  color: black;\n",
       "}\n",
       "#T_1705b_row0_col1, #T_1705b_row1_col1, #T_1705b_row2_col1, #T_1705b_row3_col1, #T_1705b_row4_col1, #T_1705b_row5_col1, #T_1705b_row6_col1, #T_1705b_row7_col1, #T_1705b_row8_col1, #T_1705b_row9_col1 {\n",
       "  color: #307fc1;\n",
       "}\n",
       "</style>\n",
       "<table id=\"T_1705b\">\n",
       "  <thead>\n",
       "    <tr>\n",
       "      <th class=\"blank level0\" >&nbsp;</th>\n",
       "      <th id=\"T_1705b_level0_col0\" class=\"col_heading level0 col0\" >city</th>\n",
       "      <th id=\"T_1705b_level0_col1\" class=\"col_heading level0 col1\" >dist</th>\n",
       "    </tr>\n",
       "  </thead>\n",
       "  <tbody>\n",
       "    <tr>\n",
       "      <th id=\"T_1705b_level0_row0\" class=\"row_heading level0 row0\" >0</th>\n",
       "      <td id=\"T_1705b_row0_col0\" class=\"data row0 col0\" >Buenos Aires</td>\n",
       "      <td id=\"T_1705b_row0_col1\" class=\"data row0 col1\" >6908.000000</td>\n",
       "    </tr>\n",
       "    <tr>\n",
       "      <th id=\"T_1705b_level0_row1\" class=\"row_heading level0 row1\" >1</th>\n",
       "      <td id=\"T_1705b_row1_col0\" class=\"data row1 col0\" >Singapore</td>\n",
       "      <td id=\"T_1705b_row1_col1\" class=\"data row1 col1\" >6751.000000</td>\n",
       "    </tr>\n",
       "    <tr>\n",
       "      <th id=\"T_1705b_level0_row2\" class=\"row_heading level0 row2\" >2</th>\n",
       "      <td id=\"T_1705b_row2_col0\" class=\"data row2 col0\" >Langkawi</td>\n",
       "      <td id=\"T_1705b_row2_col1\" class=\"data row2 col1\" >6299.000000</td>\n",
       "    </tr>\n",
       "    <tr>\n",
       "      <th id=\"T_1705b_level0_row3\" class=\"row_heading level0 row3\" >3</th>\n",
       "      <td id=\"T_1705b_row3_col0\" class=\"data row3 col0\" >Duong Dong</td>\n",
       "      <td id=\"T_1705b_row3_col1\" class=\"data row3 col1\" >6264.000000</td>\n",
       "    </tr>\n",
       "    <tr>\n",
       "      <th id=\"T_1705b_level0_row4\" class=\"row_heading level0 row4\" >4</th>\n",
       "      <td id=\"T_1705b_row4_col0\" class=\"data row4 col0\" >Taipei</td>\n",
       "      <td id=\"T_1705b_row4_col1\" class=\"data row4 col1\" >6080.000000</td>\n",
       "    </tr>\n",
       "    <tr>\n",
       "      <th id=\"T_1705b_level0_row5\" class=\"row_heading level0 row5\" >5</th>\n",
       "      <td id=\"T_1705b_row5_col0\" class=\"data row5 col0\" >Port Louis</td>\n",
       "      <td id=\"T_1705b_row5_col1\" class=\"data row5 col1\" >6053.000000</td>\n",
       "    </tr>\n",
       "    <tr>\n",
       "      <th id=\"T_1705b_level0_row6\" class=\"row_heading level0 row6\" >6</th>\n",
       "      <td id=\"T_1705b_row6_col0\" class=\"data row6 col0\" >Rayong</td>\n",
       "      <td id=\"T_1705b_row6_col1\" class=\"data row6 col1\" >6008.000000</td>\n",
       "    </tr>\n",
       "    <tr>\n",
       "      <th id=\"T_1705b_level0_row7\" class=\"row_heading level0 row7\" >7</th>\n",
       "      <td id=\"T_1705b_row7_col0\" class=\"data row7 col0\" >Cape Town</td>\n",
       "      <td id=\"T_1705b_row7_col1\" class=\"data row7 col1\" >5987.000000</td>\n",
       "    </tr>\n",
       "    <tr>\n",
       "      <th id=\"T_1705b_level0_row8\" class=\"row_heading level0 row8\" >8</th>\n",
       "      <td id=\"T_1705b_row8_col0\" class=\"data row8 col0\" >Hong Kong</td>\n",
       "      <td id=\"T_1705b_row8_col1\" class=\"data row8 col1\" >5982.000000</td>\n",
       "    </tr>\n",
       "    <tr>\n",
       "      <th id=\"T_1705b_level0_row9\" class=\"row_heading level0 row9\" >9</th>\n",
       "      <td id=\"T_1705b_row9_col0\" class=\"data row9 col0\" >Shanghai</td>\n",
       "      <td id=\"T_1705b_row9_col1\" class=\"data row9 col1\" >5745.000000</td>\n",
       "    </tr>\n",
       "  </tbody>\n",
       "</table>\n"
      ],
      "text/plain": [
       "<pandas.io.formats.style.Styler at 0x11f55e350>"
      ]
     },
     "execution_count": 72,
     "metadata": {},
     "output_type": "execute_result"
    }
   ],
   "source": [
    "?[city, dist] := *route{fr: 'LGW', to, dist},\n",
    "                 *airport{code: to, city}\n",
    ":order -dist\n",
    ":limit 10"
   ]
  },
  {
   "cell_type": "markdown",
   "metadata": {},
   "source": [
    "What airports are within 0.1 degrees of the Greenwich meridian?"
   ]
  },
  {
   "cell_type": "code",
   "execution_count": 73,
   "metadata": {},
   "outputs": [
    {
     "data": {
      "text/html": [
       "<style type=\"text/css\">\n",
       "#T_1869f_row0_col0, #T_1869f_row0_col1, #T_1869f_row1_col0, #T_1869f_row1_col1, #T_1869f_row2_col0, #T_1869f_row2_col1, #T_1869f_row3_col0, #T_1869f_row3_col1 {\n",
       "  color: black;\n",
       "}\n",
       "#T_1869f_row0_col2, #T_1869f_row0_col3, #T_1869f_row1_col2, #T_1869f_row1_col3, #T_1869f_row2_col2, #T_1869f_row2_col3, #T_1869f_row3_col2, #T_1869f_row3_col3 {\n",
       "  color: #307fc1;\n",
       "}\n",
       "</style>\n",
       "<table id=\"T_1869f\">\n",
       "  <thead>\n",
       "    <tr>\n",
       "      <th class=\"blank level0\" >&nbsp;</th>\n",
       "      <th id=\"T_1869f_level0_col0\" class=\"col_heading level0 col0\" >code</th>\n",
       "      <th id=\"T_1869f_level0_col1\" class=\"col_heading level0 col1\" >desc</th>\n",
       "      <th id=\"T_1869f_level0_col2\" class=\"col_heading level0 col2\" >lon</th>\n",
       "      <th id=\"T_1869f_level0_col3\" class=\"col_heading level0 col3\" >lat</th>\n",
       "    </tr>\n",
       "  </thead>\n",
       "  <tbody>\n",
       "    <tr>\n",
       "      <th id=\"T_1869f_level0_row0\" class=\"row_heading level0 row0\" >0</th>\n",
       "      <td id=\"T_1869f_row0_col0\" class=\"data row0 col0\" >CDT</td>\n",
       "      <td id=\"T_1869f_row0_col1\" class=\"data row0 col1\" >Castellon De La Plana Airport</td>\n",
       "      <td id=\"T_1869f_row0_col2\" class=\"data row0 col2\" >0.026111</td>\n",
       "      <td id=\"T_1869f_row0_col3\" class=\"data row0 col3\" >39.999199</td>\n",
       "    </tr>\n",
       "    <tr>\n",
       "      <th id=\"T_1869f_level0_row1\" class=\"row_heading level0 row1\" >1</th>\n",
       "      <td id=\"T_1869f_row1_col0\" class=\"data row1 col0\" >LCY</td>\n",
       "      <td id=\"T_1869f_row1_col1\" class=\"data row1 col1\" >London City Airport</td>\n",
       "      <td id=\"T_1869f_row1_col2\" class=\"data row1 col2\" >0.055278</td>\n",
       "      <td id=\"T_1869f_row1_col3\" class=\"data row1 col3\" >51.505278</td>\n",
       "    </tr>\n",
       "    <tr>\n",
       "      <th id=\"T_1869f_level0_row2\" class=\"row_heading level0 row2\" >2</th>\n",
       "      <td id=\"T_1869f_row2_col0\" class=\"data row2 col0\" >LDE</td>\n",
       "      <td id=\"T_1869f_row2_col1\" class=\"data row2 col1\" >Tarbes-Lourdes-Pyrénées Airport</td>\n",
       "      <td id=\"T_1869f_row2_col2\" class=\"data row2 col2\" >-0.006439</td>\n",
       "      <td id=\"T_1869f_row2_col3\" class=\"data row2 col3\" >43.178699</td>\n",
       "    </tr>\n",
       "    <tr>\n",
       "      <th id=\"T_1869f_level0_row3\" class=\"row_heading level0 row3\" >3</th>\n",
       "      <td id=\"T_1869f_row3_col0\" class=\"data row3 col0\" >LEH</td>\n",
       "      <td id=\"T_1869f_row3_col1\" class=\"data row3 col1\" >Le Havre Octeville Airport</td>\n",
       "      <td id=\"T_1869f_row3_col2\" class=\"data row3 col2\" >0.088056</td>\n",
       "      <td id=\"T_1869f_row3_col3\" class=\"data row3 col3\" >49.533901</td>\n",
       "    </tr>\n",
       "  </tbody>\n",
       "</table>\n"
      ],
      "text/plain": [
       "<pandas.io.formats.style.Styler at 0x11f54cd00>"
      ]
     },
     "execution_count": 73,
     "metadata": {},
     "output_type": "execute_result"
    }
   ],
   "source": [
    "?[code, desc, lon, lat] := *airport{lon, lat, code, desc}, lon > -0.1, lon < 0.1"
   ]
  },
  {
   "cell_type": "markdown",
   "metadata": {},
   "source": [
    "Airports in a box drawn around London Heathrow, UK:"
   ]
  },
  {
   "cell_type": "code",
   "execution_count": 74,
   "metadata": {},
   "outputs": [
    {
     "data": {
      "text/html": [
       "<style type=\"text/css\">\n",
       "#T_3b349_row0_col0, #T_3b349_row0_col1, #T_3b349_row1_col0, #T_3b349_row1_col1, #T_3b349_row2_col0, #T_3b349_row2_col1, #T_3b349_row3_col0, #T_3b349_row3_col1, #T_3b349_row4_col0, #T_3b349_row4_col1, #T_3b349_row5_col0, #T_3b349_row5_col1 {\n",
       "  color: black;\n",
       "}\n",
       "</style>\n",
       "<table id=\"T_3b349\">\n",
       "  <thead>\n",
       "    <tr>\n",
       "      <th class=\"blank level0\" >&nbsp;</th>\n",
       "      <th id=\"T_3b349_level0_col0\" class=\"col_heading level0 col0\" >code</th>\n",
       "      <th id=\"T_3b349_level0_col1\" class=\"col_heading level0 col1\" >desc</th>\n",
       "    </tr>\n",
       "  </thead>\n",
       "  <tbody>\n",
       "    <tr>\n",
       "      <th id=\"T_3b349_level0_row0\" class=\"row_heading level0 row0\" >0</th>\n",
       "      <td id=\"T_3b349_row0_col0\" class=\"data row0 col0\" >LCY</td>\n",
       "      <td id=\"T_3b349_row0_col1\" class=\"data row0 col1\" >London City Airport</td>\n",
       "    </tr>\n",
       "    <tr>\n",
       "      <th id=\"T_3b349_level0_row1\" class=\"row_heading level0 row1\" >1</th>\n",
       "      <td id=\"T_3b349_row1_col0\" class=\"data row1 col0\" >LGW</td>\n",
       "      <td id=\"T_3b349_row1_col1\" class=\"data row1 col1\" >London Gatwick</td>\n",
       "    </tr>\n",
       "    <tr>\n",
       "      <th id=\"T_3b349_level0_row2\" class=\"row_heading level0 row2\" >2</th>\n",
       "      <td id=\"T_3b349_row2_col0\" class=\"data row2 col0\" >LHR</td>\n",
       "      <td id=\"T_3b349_row2_col1\" class=\"data row2 col1\" >London Heathrow</td>\n",
       "    </tr>\n",
       "    <tr>\n",
       "      <th id=\"T_3b349_level0_row3\" class=\"row_heading level0 row3\" >3</th>\n",
       "      <td id=\"T_3b349_row3_col0\" class=\"data row3 col0\" >LTN</td>\n",
       "      <td id=\"T_3b349_row3_col1\" class=\"data row3 col1\" >London Luton Airport</td>\n",
       "    </tr>\n",
       "    <tr>\n",
       "      <th id=\"T_3b349_level0_row4\" class=\"row_heading level0 row4\" >4</th>\n",
       "      <td id=\"T_3b349_row4_col0\" class=\"data row4 col0\" >SOU</td>\n",
       "      <td id=\"T_3b349_row4_col1\" class=\"data row4 col1\" >Southampton Airport</td>\n",
       "    </tr>\n",
       "    <tr>\n",
       "      <th id=\"T_3b349_level0_row5\" class=\"row_heading level0 row5\" >5</th>\n",
       "      <td id=\"T_3b349_row5_col0\" class=\"data row5 col0\" >STN</td>\n",
       "      <td id=\"T_3b349_row5_col1\" class=\"data row5 col1\" >London Stansted Airport</td>\n",
       "    </tr>\n",
       "  </tbody>\n",
       "</table>\n"
      ],
      "text/plain": [
       "<pandas.io.formats.style.Styler at 0x11f54c8e0>"
      ]
     },
     "execution_count": 74,
     "metadata": {},
     "output_type": "execute_result"
    }
   ],
   "source": [
    "h_box[lon, lat] := *airport{code: 'LHR', lon, lat}\n",
    "?[code, desc] := h_box[lhr_lon, lhr_lat], *airport{code, lon, lat, desc},\n",
    "                 abs(lhr_lon - lon) < 1, abs(lhr_lat - lat) < 1"
   ]
  },
  {
   "cell_type": "markdown",
   "metadata": {},
   "source": [
    "For some spherical geometry: what is the angle subtended by SFO and NRT on the surface of the earth?"
   ]
  },
  {
   "cell_type": "code",
   "execution_count": 75,
   "metadata": {},
   "outputs": [
    {
     "data": {
      "text/html": [
       "<style type=\"text/css\">\n",
       "#T_1677f_row0_col0 {\n",
       "  color: #307fc1;\n",
       "}\n",
       "</style>\n",
       "<table id=\"T_1677f\">\n",
       "  <thead>\n",
       "    <tr>\n",
       "      <th class=\"blank level0\" >&nbsp;</th>\n",
       "      <th id=\"T_1677f_level0_col0\" class=\"col_heading level0 col0\" >deg_diff</th>\n",
       "    </tr>\n",
       "  </thead>\n",
       "  <tbody>\n",
       "    <tr>\n",
       "      <th id=\"T_1677f_level0_row0\" class=\"row_heading level0 row0\" >0</th>\n",
       "      <td id=\"T_1677f_row0_col0\" class=\"data row0 col0\" >73.992112</td>\n",
       "    </tr>\n",
       "  </tbody>\n",
       "</table>\n"
      ],
      "text/plain": [
       "<pandas.io.formats.style.Styler at 0x11f57f4c0>"
      ]
     },
     "execution_count": 75,
     "metadata": {},
     "output_type": "execute_result"
    }
   ],
   "source": [
    "?[deg_diff] := *airport{code: 'SFO', lat: a_lat, lon: a_lon},\n",
    "               *airport{code: 'NRT', lat: b_lat, lon: b_lon},\n",
    "               deg_diff = rad_to_deg(haversine_deg_input(a_lat, a_lon, b_lat, b_lon))"
   ]
  },
  {
   "cell_type": "markdown",
   "metadata": {},
   "source": [
    "We mentioned before that aggregations in Cozo are powerful. They are powerful because they can be used in recursions (some restrictions apply).\n",
    "\n",
    "Let's find the distance of the _shortest route_ between two airports. One wayis to enumerate all the routes between the two airports, and then apply `min` aggregation to the results. This cannot be implemented as stated, since the routes may contain cycles and hence there can be an infinite number of routes between two airports.\n",
    "\n",
    "Instead, think recursively. If we already have all the shortest routes between all nodes, we derive an _equation_ satisfied by the shortest route: the shortest route between `a` and `b` is either the distance of a direct route, or the sum of the shortest distance from `a` to `c` and the distance of a direct route from `c` to `d`. We apply our `min` aggregation to this recursive set instead.\n",
    "\n",
    "Write it out and it works. For exmaple, the shortest routes between the airports `LHR` and `YPO`:"
   ]
  },
  {
   "cell_type": "code",
   "execution_count": 76,
   "metadata": {},
   "outputs": [
    {
     "data": {
      "text/html": [
       "<style type=\"text/css\">\n",
       "#T_901b9_row0_col0 {\n",
       "  color: #307fc1;\n",
       "}\n",
       "</style>\n",
       "<table id=\"T_901b9\">\n",
       "  <thead>\n",
       "    <tr>\n",
       "      <th class=\"blank level0\" >&nbsp;</th>\n",
       "      <th id=\"T_901b9_level0_col0\" class=\"col_heading level0 col0\" >dist</th>\n",
       "    </tr>\n",
       "  </thead>\n",
       "  <tbody>\n",
       "    <tr>\n",
       "      <th id=\"T_901b9_level0_row0\" class=\"row_heading level0 row0\" >0</th>\n",
       "      <td id=\"T_901b9_row0_col0\" class=\"data row0 col0\" >4147.000000</td>\n",
       "    </tr>\n",
       "  </tbody>\n",
       "</table>\n"
      ],
      "text/plain": [
       "<pandas.io.formats.style.Styler at 0x11f57f580>"
      ]
     },
     "execution_count": 76,
     "metadata": {},
     "output_type": "execute_result"
    }
   ],
   "source": [
    "shortest[b, min(dist)] := *route{fr: 'LHR', to: b, dist} \n",
    "                          # Start with the airport 'LHR', retrieve a direct route from 'LHR' to b\n",
    "\n",
    "shortest[b, min(dist)] := shortest[c, d1], # Start with an existing shortest route from 'LHR' to c\n",
    "                          *route{fr: c, to: b, dist: d2},  # Retrieve a direct route from c to b\n",
    "                          dist = d1 + d2 # Add the distances\n",
    "\n",
    "?[dist] := shortest['YPO', dist] # Extract the answer for 'YPO'. \n",
    "                                 # We chose it since it is the hardest airport to get to from 'LHR'."
   ]
  },
  {
   "cell_type": "markdown",
   "metadata": {},
   "source": [
    "There is a caveat when you try to write similar queries. Say you try to write it in the following way (don't try to run it):\n",
    "\n",
    "```python\n",
    "shortest[a, b, min(dist)] := *route{fr: a, to: b, dist} \n",
    "shortest[a, b, min(dist)] := shortest[a, c, d1],\n",
    "                          *route{fr: c, to: b, dist: d2},\n",
    "                          dist = d1 + d2\n",
    "\n",
    "?[dist] := shortest['LHR', 'YPO', dist]\n",
    "```\n",
    "\n",
    "You will find that the query does not complete in a reasonable amount of time, despite it being equivalent to the original query. Why?\n",
    "\n",
    "In the changed query, you are asking the database to compute the all-pair shortest path, and then extract the answer to a particular shortest path. Normally Cozo would apply a technique called _magic set rewrite_ so that only the needed answer would be calculated. However, in the changed query the presence of the aggregation operator `min` prevents that. In this case, applying the rewrite to the variable `a` would still yield the correct answer, but rewriting in any other way would give complete nonsense, and in the more general case with recursive aggregations this is a can of worms.\n",
    "\n",
    "So as explained in the [manual](https://cozodb.github.io/current/manual/execution.html#magic-set-rewrites), magic set rewrites are only applied to rules without aggregations or recursions for the moment, until we are sure of the exact conditions under which the rewrites are safe. So for now at least the database executes the query as written, computing the result of the `shortest` rule containing more than ten million rows (to be exact, 3700 * 3700 = 13,690,000 rows) first!\n",
    "\n",
    "The bottom line is, be mindful of the cardinality of the return sets of recursive rules."
   ]
  },
  {
   "cell_type": "markdown",
   "metadata": {},
   "source": [
    "### A tour of graph algorithms\n",
    "\n",
    "Now let's investigate the graph using some graph algorithms.\n",
    "As we have mentioned before, the Cozo running in browsers through WASM does not have\n",
    "the graph algorithms module enabled, so to run the following examples you will \n",
    "need to use some other implementation (for example, [the Python one](https://github.com/cozodb/pycozo)).\n",
    "\n",
    "Since path-finding is such a common operation on graphs, Cozo has several fixed rules for that:"
   ]
  },
  {
   "cell_type": "code",
   "execution_count": 77,
   "metadata": {},
   "outputs": [
    {
     "data": {
      "text/html": [
       "<style type=\"text/css\">\n",
       "#T_06422_row0_col0, #T_06422_row0_col1 {\n",
       "  color: black;\n",
       "}\n",
       "#T_06422_row0_col2 {\n",
       "  color: #307fc1;\n",
       "}\n",
       "#T_06422_row0_col3 {\n",
       "  color: #bf5b3d;\n",
       "}\n",
       "</style>\n",
       "<table id=\"T_06422\">\n",
       "  <thead>\n",
       "    <tr>\n",
       "      <th class=\"blank level0\" >&nbsp;</th>\n",
       "      <th id=\"T_06422_level0_col0\" class=\"col_heading level0 col0\" >starting</th>\n",
       "      <th id=\"T_06422_level0_col1\" class=\"col_heading level0 col1\" >goal</th>\n",
       "      <th id=\"T_06422_level0_col2\" class=\"col_heading level0 col2\" >distance</th>\n",
       "      <th id=\"T_06422_level0_col3\" class=\"col_heading level0 col3\" >path</th>\n",
       "    </tr>\n",
       "  </thead>\n",
       "  <tbody>\n",
       "    <tr>\n",
       "      <th id=\"T_06422_level0_row0\" class=\"row_heading level0 row0\" >0</th>\n",
       "      <td id=\"T_06422_row0_col0\" class=\"data row0 col0\" >LHR</td>\n",
       "      <td id=\"T_06422_row0_col1\" class=\"data row0 col1\" >YPO</td>\n",
       "      <td id=\"T_06422_row0_col2\" class=\"data row0 col2\" >4147.000000</td>\n",
       "      <td id=\"T_06422_row0_col3\" class=\"data row0 col3\" >['LHR', 'YUL', 'YVO', 'YKQ', 'YMO', 'YFA', 'ZKE', 'YAT', 'YPO']</td>\n",
       "    </tr>\n",
       "  </tbody>\n",
       "</table>\n"
      ],
      "text/plain": [
       "<pandas.io.formats.style.Styler at 0x11f57d390>"
      ]
     },
     "execution_count": 77,
     "metadata": {},
     "output_type": "execute_result"
    }
   ],
   "source": [
    "starting[] <- [['LHR']]\n",
    "goal[] <- [['YPO']]\n",
    "?[starting, goal, distance, path] <~ ShortestPathDijkstra(*route[], starting[], goal[])"
   ]
  },
  {
   "cell_type": "markdown",
   "metadata": {},
   "source": [
    "Not only is it more efficient, but we also get a path for the shortest route.\n",
    "\n",
    "Not content with the shortest path, the following calculates ten the shortest paths:"
   ]
  },
  {
   "cell_type": "code",
   "execution_count": 78,
   "metadata": {},
   "outputs": [
    {
     "data": {
      "text/html": [
       "<style type=\"text/css\">\n",
       "#T_8112c_row0_col0, #T_8112c_row0_col1, #T_8112c_row1_col0, #T_8112c_row1_col1, #T_8112c_row2_col0, #T_8112c_row2_col1, #T_8112c_row3_col0, #T_8112c_row3_col1, #T_8112c_row4_col0, #T_8112c_row4_col1, #T_8112c_row5_col0, #T_8112c_row5_col1, #T_8112c_row6_col0, #T_8112c_row6_col1, #T_8112c_row7_col0, #T_8112c_row7_col1, #T_8112c_row8_col0, #T_8112c_row8_col1, #T_8112c_row9_col0, #T_8112c_row9_col1 {\n",
       "  color: black;\n",
       "}\n",
       "#T_8112c_row0_col2, #T_8112c_row1_col2, #T_8112c_row2_col2, #T_8112c_row3_col2, #T_8112c_row4_col2, #T_8112c_row5_col2, #T_8112c_row6_col2, #T_8112c_row7_col2, #T_8112c_row8_col2, #T_8112c_row9_col2 {\n",
       "  color: #307fc1;\n",
       "}\n",
       "#T_8112c_row0_col3, #T_8112c_row1_col3, #T_8112c_row2_col3, #T_8112c_row3_col3, #T_8112c_row4_col3, #T_8112c_row5_col3, #T_8112c_row6_col3, #T_8112c_row7_col3, #T_8112c_row8_col3, #T_8112c_row9_col3 {\n",
       "  color: #bf5b3d;\n",
       "}\n",
       "</style>\n",
       "<table id=\"T_8112c\">\n",
       "  <thead>\n",
       "    <tr>\n",
       "      <th class=\"blank level0\" >&nbsp;</th>\n",
       "      <th id=\"T_8112c_level0_col0\" class=\"col_heading level0 col0\" >starting</th>\n",
       "      <th id=\"T_8112c_level0_col1\" class=\"col_heading level0 col1\" >goal</th>\n",
       "      <th id=\"T_8112c_level0_col2\" class=\"col_heading level0 col2\" >distance</th>\n",
       "      <th id=\"T_8112c_level0_col3\" class=\"col_heading level0 col3\" >path</th>\n",
       "    </tr>\n",
       "  </thead>\n",
       "  <tbody>\n",
       "    <tr>\n",
       "      <th id=\"T_8112c_level0_row0\" class=\"row_heading level0 row0\" >0</th>\n",
       "      <td id=\"T_8112c_row0_col0\" class=\"data row0 col0\" >LHR</td>\n",
       "      <td id=\"T_8112c_row0_col1\" class=\"data row0 col1\" >YPO</td>\n",
       "      <td id=\"T_8112c_row0_col2\" class=\"data row0 col2\" >4147.000000</td>\n",
       "      <td id=\"T_8112c_row0_col3\" class=\"data row0 col3\" >['LHR', 'YUL', 'YVO', 'YKQ', 'YMO', 'YFA', 'ZKE', 'YAT', 'YPO']</td>\n",
       "    </tr>\n",
       "    <tr>\n",
       "      <th id=\"T_8112c_level0_row1\" class=\"row_heading level0 row1\" >1</th>\n",
       "      <td id=\"T_8112c_row1_col0\" class=\"data row1 col0\" >LHR</td>\n",
       "      <td id=\"T_8112c_row1_col1\" class=\"data row1 col1\" >YPO</td>\n",
       "      <td id=\"T_8112c_row1_col2\" class=\"data row1 col2\" >4150.000000</td>\n",
       "      <td id=\"T_8112c_row1_col3\" class=\"data row1 col3\" >['LHR', 'DUB', 'YUL', 'YVO', 'YKQ', 'YMO', 'YFA', 'ZKE', 'YAT', 'YPO']</td>\n",
       "    </tr>\n",
       "    <tr>\n",
       "      <th id=\"T_8112c_level0_row2\" class=\"row_heading level0 row2\" >2</th>\n",
       "      <td id=\"T_8112c_row2_col0\" class=\"data row2 col0\" >LHR</td>\n",
       "      <td id=\"T_8112c_row2_col1\" class=\"data row2 col1\" >YPO</td>\n",
       "      <td id=\"T_8112c_row2_col2\" class=\"data row2 col2\" >4164.000000</td>\n",
       "      <td id=\"T_8112c_row2_col3\" class=\"data row2 col3\" >['LHR', 'YUL', 'YMT', 'YKQ', 'YMO', 'YFA', 'ZKE', 'YAT', 'YPO']</td>\n",
       "    </tr>\n",
       "    <tr>\n",
       "      <th id=\"T_8112c_level0_row3\" class=\"row_heading level0 row3\" >3</th>\n",
       "      <td id=\"T_8112c_row3_col0\" class=\"data row3 col0\" >LHR</td>\n",
       "      <td id=\"T_8112c_row3_col1\" class=\"data row3 col1\" >YPO</td>\n",
       "      <td id=\"T_8112c_row3_col2\" class=\"data row3 col2\" >4167.000000</td>\n",
       "      <td id=\"T_8112c_row3_col3\" class=\"data row3 col3\" >['LHR', 'DUB', 'YUL', 'YMT', 'YKQ', 'YMO', 'YFA', 'ZKE', 'YAT', 'YPO']</td>\n",
       "    </tr>\n",
       "    <tr>\n",
       "      <th id=\"T_8112c_level0_row4\" class=\"row_heading level0 row4\" >4</th>\n",
       "      <td id=\"T_8112c_row4_col0\" class=\"data row4 col0\" >LHR</td>\n",
       "      <td id=\"T_8112c_row4_col1\" class=\"data row4 col1\" >YPO</td>\n",
       "      <td id=\"T_8112c_row4_col2\" class=\"data row4 col2\" >4187.000000</td>\n",
       "      <td id=\"T_8112c_row4_col3\" class=\"data row4 col3\" >['LHR', 'MAN', 'DUB', 'YUL', 'YVO', 'YKQ', 'YMO', 'YFA', 'ZKE', 'YAT', 'YPO']</td>\n",
       "    </tr>\n",
       "    <tr>\n",
       "      <th id=\"T_8112c_level0_row5\" class=\"row_heading level0 row5\" >5</th>\n",
       "      <td id=\"T_8112c_row5_col0\" class=\"data row5 col0\" >LHR</td>\n",
       "      <td id=\"T_8112c_row5_col1\" class=\"data row5 col1\" >YPO</td>\n",
       "      <td id=\"T_8112c_row5_col2\" class=\"data row5 col2\" >4202.000000</td>\n",
       "      <td id=\"T_8112c_row5_col3\" class=\"data row5 col3\" >['LHR', 'IOM', 'DUB', 'YUL', 'YVO', 'YKQ', 'YMO', 'YFA', 'ZKE', 'YAT', 'YPO']</td>\n",
       "    </tr>\n",
       "    <tr>\n",
       "      <th id=\"T_8112c_level0_row6\" class=\"row_heading level0 row6\" >6</th>\n",
       "      <td id=\"T_8112c_row6_col0\" class=\"data row6 col0\" >LHR</td>\n",
       "      <td id=\"T_8112c_row6_col1\" class=\"data row6 col1\" >YPO</td>\n",
       "      <td id=\"T_8112c_row6_col2\" class=\"data row6 col2\" >4204.000000</td>\n",
       "      <td id=\"T_8112c_row6_col3\" class=\"data row6 col3\" >['LHR', 'MAN', 'DUB', 'YUL', 'YMT', 'YKQ', 'YMO', 'YFA', 'ZKE', 'YAT', 'YPO']</td>\n",
       "    </tr>\n",
       "    <tr>\n",
       "      <th id=\"T_8112c_level0_row7\" class=\"row_heading level0 row7\" >7</th>\n",
       "      <td id=\"T_8112c_row7_col0\" class=\"data row7 col0\" >LHR</td>\n",
       "      <td id=\"T_8112c_row7_col1\" class=\"data row7 col1\" >YPO</td>\n",
       "      <td id=\"T_8112c_row7_col2\" class=\"data row7 col2\" >4209.000000</td>\n",
       "      <td id=\"T_8112c_row7_col3\" class=\"data row7 col3\" >['LHR', 'YUL', 'YMT', 'YNS', 'YKQ', 'YMO', 'YFA', 'ZKE', 'YAT', 'YPO']</td>\n",
       "    </tr>\n",
       "    <tr>\n",
       "      <th id=\"T_8112c_level0_row8\" class=\"row_heading level0 row8\" >8</th>\n",
       "      <td id=\"T_8112c_row8_col0\" class=\"data row8 col0\" >LHR</td>\n",
       "      <td id=\"T_8112c_row8_col1\" class=\"data row8 col1\" >YPO</td>\n",
       "      <td id=\"T_8112c_row8_col2\" class=\"data row8 col2\" >4211.000000</td>\n",
       "      <td id=\"T_8112c_row8_col3\" class=\"data row8 col3\" >['LHR', 'MAN', 'IOM', 'DUB', 'YUL', 'YVO', 'YKQ', 'YMO', 'YFA', 'ZKE', 'YAT', 'YPO']</td>\n",
       "    </tr>\n",
       "    <tr>\n",
       "      <th id=\"T_8112c_level0_row9\" class=\"row_heading level0 row9\" >9</th>\n",
       "      <td id=\"T_8112c_row9_col0\" class=\"data row9 col0\" >LHR</td>\n",
       "      <td id=\"T_8112c_row9_col1\" class=\"data row9 col1\" >YPO</td>\n",
       "      <td id=\"T_8112c_row9_col2\" class=\"data row9 col2\" >4212.000000</td>\n",
       "      <td id=\"T_8112c_row9_col3\" class=\"data row9 col3\" >['LHR', 'DUB', 'YUL', 'YMT', 'YNS', 'YKQ', 'YMO', 'YFA', 'ZKE', 'YAT', 'YPO']</td>\n",
       "    </tr>\n",
       "  </tbody>\n",
       "</table>\n"
      ],
      "text/plain": [
       "<pandas.io.formats.style.Styler at 0x11f57f8b0>"
      ]
     },
     "execution_count": 78,
     "metadata": {},
     "output_type": "execute_result"
    }
   ],
   "source": [
    "starting[] <- [['LHR']]\n",
    "goal[] <- [['YPO']]\n",
    "?[starting, goal, distance, path] <~ KShortestPathYen(*route[], starting[], goal[], k: 10)"
   ]
  },
  {
   "cell_type": "markdown",
   "metadata": {},
   "source": [
    "If efficiency is really important to you, you can use the A* algorithm with a good heuristic function:"
   ]
  },
  {
   "cell_type": "code",
   "execution_count": 79,
   "metadata": {},
   "outputs": [
    {
     "data": {
      "text/html": [
       "<style type=\"text/css\">\n",
       "#T_9ae30_row0_col0, #T_9ae30_row0_col1 {\n",
       "  color: black;\n",
       "}\n",
       "#T_9ae30_row0_col2 {\n",
       "  color: #307fc1;\n",
       "}\n",
       "#T_9ae30_row0_col3 {\n",
       "  color: #bf5b3d;\n",
       "}\n",
       "</style>\n",
       "<table id=\"T_9ae30\">\n",
       "  <thead>\n",
       "    <tr>\n",
       "      <th class=\"blank level0\" >&nbsp;</th>\n",
       "      <th id=\"T_9ae30_level0_col0\" class=\"col_heading level0 col0\" >_0</th>\n",
       "      <th id=\"T_9ae30_level0_col1\" class=\"col_heading level0 col1\" >_1</th>\n",
       "      <th id=\"T_9ae30_level0_col2\" class=\"col_heading level0 col2\" >_2</th>\n",
       "      <th id=\"T_9ae30_level0_col3\" class=\"col_heading level0 col3\" >_3</th>\n",
       "    </tr>\n",
       "  </thead>\n",
       "  <tbody>\n",
       "    <tr>\n",
       "      <th id=\"T_9ae30_level0_row0\" class=\"row_heading level0 row0\" >0</th>\n",
       "      <td id=\"T_9ae30_row0_col0\" class=\"data row0 col0\" >LHR</td>\n",
       "      <td id=\"T_9ae30_row0_col1\" class=\"data row0 col1\" >YPO</td>\n",
       "      <td id=\"T_9ae30_row0_col2\" class=\"data row0 col2\" >4147.000000</td>\n",
       "      <td id=\"T_9ae30_row0_col3\" class=\"data row0 col3\" >['LHR', 'YUL', 'YVO', 'YKQ', 'YMO', 'YFA', 'ZKE', 'YAT', 'YPO']</td>\n",
       "    </tr>\n",
       "  </tbody>\n",
       "</table>\n"
      ],
      "text/plain": [
       "<pandas.io.formats.style.Styler at 0x11f57cca0>"
      ]
     },
     "execution_count": 79,
     "metadata": {},
     "output_type": "execute_result"
    }
   ],
   "source": [
    "code_lat_lon[code, lat, lon] := *airport{code, lat, lon}\n",
    "starting[code, lat, lon] := code = 'LHR', *airport{code, lat, lon};\n",
    "goal[code, lat, lon] := code = 'YPO', *airport{code, lat, lon};\n",
    "?[] <~ ShortestPathAStar(*route[], \n",
    "                         code_lat_lon[node, lat1, lon1], \n",
    "                         starting[], \n",
    "                         goal[goal, lat2, lon2], \n",
    "                         heuristic: haversine_deg_input(lat1, lon1, lat2, lon2) * 3963);"
   ]
  },
  {
   "cell_type": "markdown",
   "metadata": {},
   "source": [
    "There's a lot more setup required in this case: we need to retrieve the latitudes and longitudes of airports and do processing on them first.\n",
    "The number `3963` above is the radius of the earth in miles.\n",
    "\n",
    "The most important airports, by PageRank:"
   ]
  },
  {
   "cell_type": "code",
   "execution_count": 82,
   "metadata": {},
   "outputs": [
    {
     "data": {
      "text/html": [
       "<style type=\"text/css\">\n",
       "#T_52db1_row0_col0, #T_52db1_row0_col1, #T_52db1_row1_col0, #T_52db1_row1_col1, #T_52db1_row2_col0, #T_52db1_row2_col1, #T_52db1_row3_col0, #T_52db1_row3_col1, #T_52db1_row4_col0, #T_52db1_row4_col1, #T_52db1_row5_col0, #T_52db1_row5_col1, #T_52db1_row6_col0, #T_52db1_row6_col1, #T_52db1_row7_col0, #T_52db1_row7_col1, #T_52db1_row8_col0, #T_52db1_row8_col1, #T_52db1_row9_col0, #T_52db1_row9_col1 {\n",
       "  color: black;\n",
       "}\n",
       "#T_52db1_row0_col2, #T_52db1_row1_col2, #T_52db1_row2_col2, #T_52db1_row3_col2, #T_52db1_row4_col2, #T_52db1_row5_col2, #T_52db1_row6_col2, #T_52db1_row7_col2, #T_52db1_row8_col2, #T_52db1_row9_col2 {\n",
       "  color: #307fc1;\n",
       "}\n",
       "</style>\n",
       "<table id=\"T_52db1\">\n",
       "  <thead>\n",
       "    <tr>\n",
       "      <th class=\"blank level0\" >&nbsp;</th>\n",
       "      <th id=\"T_52db1_level0_col0\" class=\"col_heading level0 col0\" >code</th>\n",
       "      <th id=\"T_52db1_level0_col1\" class=\"col_heading level0 col1\" >desc</th>\n",
       "      <th id=\"T_52db1_level0_col2\" class=\"col_heading level0 col2\" >score</th>\n",
       "    </tr>\n",
       "  </thead>\n",
       "  <tbody>\n",
       "    <tr>\n",
       "      <th id=\"T_52db1_level0_row0\" class=\"row_heading level0 row0\" >0</th>\n",
       "      <td id=\"T_52db1_row0_col0\" class=\"data row0 col0\" >IST</td>\n",
       "      <td id=\"T_52db1_row0_col1\" class=\"data row0 col1\" >Istanbul International Airport</td>\n",
       "      <td id=\"T_52db1_row0_col2\" class=\"data row0 col2\" >0.004889</td>\n",
       "    </tr>\n",
       "    <tr>\n",
       "      <th id=\"T_52db1_level0_row1\" class=\"row_heading level0 row1\" >1</th>\n",
       "      <td id=\"T_52db1_row1_col0\" class=\"data row1 col0\" >DFW</td>\n",
       "      <td id=\"T_52db1_row1_col1\" class=\"data row1 col1\" >Dallas/Fort Worth International Airport</td>\n",
       "      <td id=\"T_52db1_row1_col2\" class=\"data row1 col2\" >0.004696</td>\n",
       "    </tr>\n",
       "    <tr>\n",
       "      <th id=\"T_52db1_level0_row2\" class=\"row_heading level0 row2\" >2</th>\n",
       "      <td id=\"T_52db1_row2_col0\" class=\"data row2 col0\" >ORD</td>\n",
       "      <td id=\"T_52db1_row2_col1\" class=\"data row2 col1\" >Chicago O'Hare International Airport</td>\n",
       "      <td id=\"T_52db1_row2_col2\" class=\"data row2 col2\" >0.004452</td>\n",
       "    </tr>\n",
       "    <tr>\n",
       "      <th id=\"T_52db1_level0_row3\" class=\"row_heading level0 row3\" >3</th>\n",
       "      <td id=\"T_52db1_row3_col0\" class=\"data row3 col0\" >DEN</td>\n",
       "      <td id=\"T_52db1_row3_col1\" class=\"data row3 col1\" >Denver International Airport</td>\n",
       "      <td id=\"T_52db1_row3_col2\" class=\"data row3 col2\" >0.004252</td>\n",
       "    </tr>\n",
       "    <tr>\n",
       "      <th id=\"T_52db1_level0_row4\" class=\"row_heading level0 row4\" >4</th>\n",
       "      <td id=\"T_52db1_row4_col0\" class=\"data row4 col0\" >PEK</td>\n",
       "      <td id=\"T_52db1_row4_col1\" class=\"data row4 col1\" >Beijing Capital International Airport</td>\n",
       "      <td id=\"T_52db1_row4_col2\" class=\"data row4 col2\" >0.004044</td>\n",
       "    </tr>\n",
       "    <tr>\n",
       "      <th id=\"T_52db1_level0_row5\" class=\"row_heading level0 row5\" >5</th>\n",
       "      <td id=\"T_52db1_row5_col0\" class=\"data row5 col0\" >FRA</td>\n",
       "      <td id=\"T_52db1_row5_col1\" class=\"data row5 col1\" >Frankfurt am Main</td>\n",
       "      <td id=\"T_52db1_row5_col2\" class=\"data row5 col2\" >0.004027</td>\n",
       "    </tr>\n",
       "    <tr>\n",
       "      <th id=\"T_52db1_level0_row6\" class=\"row_heading level0 row6\" >6</th>\n",
       "      <td id=\"T_52db1_row6_col0\" class=\"data row6 col0\" >ATL</td>\n",
       "      <td id=\"T_52db1_row6_col1\" class=\"data row6 col1\" >Hartsfield - Jackson Atlanta International Airport</td>\n",
       "      <td id=\"T_52db1_row6_col2\" class=\"data row6 col2\" >0.004022</td>\n",
       "    </tr>\n",
       "    <tr>\n",
       "      <th id=\"T_52db1_level0_row7\" class=\"row_heading level0 row7\" >7</th>\n",
       "      <td id=\"T_52db1_row7_col0\" class=\"data row7 col0\" >DXB</td>\n",
       "      <td id=\"T_52db1_row7_col1\" class=\"data row7 col1\" >Dubai International Airport</td>\n",
       "      <td id=\"T_52db1_row7_col2\" class=\"data row7 col2\" >0.004002</td>\n",
       "    </tr>\n",
       "    <tr>\n",
       "      <th id=\"T_52db1_level0_row8\" class=\"row_heading level0 row8\" >8</th>\n",
       "      <td id=\"T_52db1_row8_col0\" class=\"data row8 col0\" >CDG</td>\n",
       "      <td id=\"T_52db1_row8_col1\" class=\"data row8 col1\" >Paris Charles de Gaulle</td>\n",
       "      <td id=\"T_52db1_row8_col2\" class=\"data row8 col2\" >0.003998</td>\n",
       "    </tr>\n",
       "    <tr>\n",
       "      <th id=\"T_52db1_level0_row9\" class=\"row_heading level0 row9\" >9</th>\n",
       "      <td id=\"T_52db1_row9_col0\" class=\"data row9 col0\" >DME</td>\n",
       "      <td id=\"T_52db1_row9_col1\" class=\"data row9 col1\" >Moscow, Domodedovo International Airport</td>\n",
       "      <td id=\"T_52db1_row9_col2\" class=\"data row9 col2\" >0.003817</td>\n",
       "    </tr>\n",
       "  </tbody>\n",
       "</table>\n"
      ],
      "text/plain": [
       "<pandas.io.formats.style.Styler at 0x11f57c400>"
      ]
     },
     "execution_count": 82,
     "metadata": {},
     "output_type": "execute_result"
    }
   ],
   "source": [
    "rank[code, score] <~ PageRank(*route[a, b])\n",
    "?[code, desc, score] := rank[code, score], *airport{code, desc}\n",
    "\n",
    ":limit 10;\n",
    ":order -score"
   ]
  },
  {
   "cell_type": "markdown",
   "metadata": {},
   "source": [
    "The following example takes a long time to run since it calculates the betweenness centrality: up to a few seconds, depending on your machine.\n",
    "Algorithms for calculating the betweenness centrality have high complexity."
   ]
  },
  {
   "cell_type": "code",
   "execution_count": 83,
   "metadata": {},
   "outputs": [
    {
     "data": {
      "text/html": [
       "<style type=\"text/css\">\n",
       "#T_57877_row0_col0, #T_57877_row0_col1, #T_57877_row1_col0, #T_57877_row1_col1, #T_57877_row2_col0, #T_57877_row2_col1, #T_57877_row3_col0, #T_57877_row3_col1, #T_57877_row4_col0, #T_57877_row4_col1, #T_57877_row5_col0, #T_57877_row5_col1, #T_57877_row6_col0, #T_57877_row6_col1, #T_57877_row7_col0, #T_57877_row7_col1, #T_57877_row8_col0, #T_57877_row8_col1, #T_57877_row9_col0, #T_57877_row9_col1 {\n",
       "  color: black;\n",
       "}\n",
       "#T_57877_row0_col2, #T_57877_row1_col2, #T_57877_row2_col2, #T_57877_row3_col2, #T_57877_row4_col2, #T_57877_row5_col2, #T_57877_row6_col2, #T_57877_row7_col2, #T_57877_row8_col2, #T_57877_row9_col2 {\n",
       "  color: #307fc1;\n",
       "}\n",
       "</style>\n",
       "<table id=\"T_57877\">\n",
       "  <thead>\n",
       "    <tr>\n",
       "      <th class=\"blank level0\" >&nbsp;</th>\n",
       "      <th id=\"T_57877_level0_col0\" class=\"col_heading level0 col0\" >code</th>\n",
       "      <th id=\"T_57877_level0_col1\" class=\"col_heading level0 col1\" >desc</th>\n",
       "      <th id=\"T_57877_level0_col2\" class=\"col_heading level0 col2\" >score</th>\n",
       "    </tr>\n",
       "  </thead>\n",
       "  <tbody>\n",
       "    <tr>\n",
       "      <th id=\"T_57877_level0_row0\" class=\"row_heading level0 row0\" >0</th>\n",
       "      <td id=\"T_57877_row0_col0\" class=\"data row0 col0\" >ANC</td>\n",
       "      <td id=\"T_57877_row0_col1\" class=\"data row0 col1\" >Anchorage Ted Stevens</td>\n",
       "      <td id=\"T_57877_row0_col2\" class=\"data row0 col2\" >1074868.250000</td>\n",
       "    </tr>\n",
       "    <tr>\n",
       "      <th id=\"T_57877_level0_row1\" class=\"row_heading level0 row1\" >1</th>\n",
       "      <td id=\"T_57877_row1_col0\" class=\"data row1 col0\" >KEF</td>\n",
       "      <td id=\"T_57877_row1_col1\" class=\"data row1 col1\" >Reykjavik, Keflavik International Airport</td>\n",
       "      <td id=\"T_57877_row1_col2\" class=\"data row1 col2\" >928450.437500</td>\n",
       "    </tr>\n",
       "    <tr>\n",
       "      <th id=\"T_57877_level0_row2\" class=\"row_heading level0 row2\" >2</th>\n",
       "      <td id=\"T_57877_row2_col0\" class=\"data row2 col0\" >HEL</td>\n",
       "      <td id=\"T_57877_row2_col1\" class=\"data row2 col1\" >Helsinki Ventaa</td>\n",
       "      <td id=\"T_57877_row2_col2\" class=\"data row2 col2\" >581588.500000</td>\n",
       "    </tr>\n",
       "    <tr>\n",
       "      <th id=\"T_57877_level0_row3\" class=\"row_heading level0 row3\" >3</th>\n",
       "      <td id=\"T_57877_row3_col0\" class=\"data row3 col0\" >PEK</td>\n",
       "      <td id=\"T_57877_row3_col1\" class=\"data row3 col1\" >Beijing Capital International Airport</td>\n",
       "      <td id=\"T_57877_row3_col2\" class=\"data row3 col2\" >532021.062500</td>\n",
       "    </tr>\n",
       "    <tr>\n",
       "      <th id=\"T_57877_level0_row4\" class=\"row_heading level0 row4\" >4</th>\n",
       "      <td id=\"T_57877_row4_col0\" class=\"data row4 col0\" >DEL</td>\n",
       "      <td id=\"T_57877_row4_col1\" class=\"data row4 col1\" >Indira Gandhi International Airport</td>\n",
       "      <td id=\"T_57877_row4_col2\" class=\"data row4 col2\" >472979.968750</td>\n",
       "    </tr>\n",
       "    <tr>\n",
       "      <th id=\"T_57877_level0_row5\" class=\"row_heading level0 row5\" >5</th>\n",
       "      <td id=\"T_57877_row5_col0\" class=\"data row5 col0\" >IST</td>\n",
       "      <td id=\"T_57877_row5_col1\" class=\"data row5 col1\" >Istanbul International Airport</td>\n",
       "      <td id=\"T_57877_row5_col2\" class=\"data row5 col2\" >457882.156250</td>\n",
       "    </tr>\n",
       "    <tr>\n",
       "      <th id=\"T_57877_level0_row6\" class=\"row_heading level0 row6\" >6</th>\n",
       "      <td id=\"T_57877_row6_col0\" class=\"data row6 col0\" >PKC</td>\n",
       "      <td id=\"T_57877_row6_col1\" class=\"data row6 col1\" >Yelizovo Airport</td>\n",
       "      <td id=\"T_57877_row6_col2\" class=\"data row6 col2\" >408571.000000</td>\n",
       "    </tr>\n",
       "    <tr>\n",
       "      <th id=\"T_57877_level0_row7\" class=\"row_heading level0 row7\" >7</th>\n",
       "      <td id=\"T_57877_row7_col0\" class=\"data row7 col0\" >MSP</td>\n",
       "      <td id=\"T_57877_row7_col1\" class=\"data row7 col1\" >Minneapolis-St.Paul International Airport</td>\n",
       "      <td id=\"T_57877_row7_col2\" class=\"data row7 col2\" >396433.250000</td>\n",
       "    </tr>\n",
       "    <tr>\n",
       "      <th id=\"T_57877_level0_row8\" class=\"row_heading level0 row8\" >8</th>\n",
       "      <td id=\"T_57877_row8_col0\" class=\"data row8 col0\" >LAX</td>\n",
       "      <td id=\"T_57877_row8_col1\" class=\"data row8 col1\" >Los Angeles International Airport</td>\n",
       "      <td id=\"T_57877_row8_col2\" class=\"data row8 col2\" >393309.968750</td>\n",
       "    </tr>\n",
       "    <tr>\n",
       "      <th id=\"T_57877_level0_row9\" class=\"row_heading level0 row9\" >9</th>\n",
       "      <td id=\"T_57877_row9_col0\" class=\"data row9 col0\" >DEN</td>\n",
       "      <td id=\"T_57877_row9_col1\" class=\"data row9 col1\" >Denver International Airport</td>\n",
       "      <td id=\"T_57877_row9_col2\" class=\"data row9 col2\" >374339.531250</td>\n",
       "    </tr>\n",
       "  </tbody>\n",
       "</table>\n"
      ],
      "text/plain": [
       "<pandas.io.formats.style.Styler at 0x11f57e0e0>"
      ]
     },
     "execution_count": 83,
     "metadata": {},
     "output_type": "execute_result"
    }
   ],
   "source": [
    "centrality[code, score] <~ BetweennessCentrality(*route[a, b])\n",
    "?[code, desc, score] := centrality[code, score], *airport{code, desc}\n",
    "\n",
    ":limit 10;\n",
    ":order -score"
   ]
  },
  {
   "cell_type": "markdown",
   "metadata": {},
   "source": [
    "These are the airports that, if disconnected from the network, cause the most disruption.\n",
    "As this example shows, some of the algorithms really struggle when you go beyond small or medium sized dataset.\n",
    "\n",
    "Community detection can collapse a graph into a _supergraph_.\n",
    "Here we store the result, since it has too many rows to display nicely:"
   ]
  },
  {
   "cell_type": "code",
   "execution_count": 84,
   "metadata": {},
   "outputs": [
    {
     "data": {
      "text/html": [
       "<style type=\"text/css\">\n",
       "#T_8555d_row0_col0 {\n",
       "  color: black;\n",
       "}\n",
       "</style>\n",
       "<table id=\"T_8555d\">\n",
       "  <thead>\n",
       "    <tr>\n",
       "      <th class=\"blank level0\" >&nbsp;</th>\n",
       "      <th id=\"T_8555d_level0_col0\" class=\"col_heading level0 col0\" >status</th>\n",
       "    </tr>\n",
       "  </thead>\n",
       "  <tbody>\n",
       "    <tr>\n",
       "      <th id=\"T_8555d_level0_row0\" class=\"row_heading level0 row0\" >0</th>\n",
       "      <td id=\"T_8555d_row0_col0\" class=\"data row0 col0\" >OK</td>\n",
       "    </tr>\n",
       "  </tbody>\n",
       "</table>\n"
      ],
      "text/plain": [
       "<pandas.io.formats.style.Styler at 0x11f54f7c0>"
      ]
     },
     "execution_count": 84,
     "metadata": {},
     "output_type": "execute_result"
    }
   ],
   "source": [
    "community[detailed_cluster, code] <~ CommunityDetectionLouvain(*route[a, b])\n",
    "?[code, cluster, detailed_cluster] := community[detailed_cluster, code], cluster = first(detailed_cluster)\n",
    "\n",
    ":replace community {code => cluster, detailed_cluster}"
   ]
  },
  {
   "cell_type": "markdown",
   "metadata": {},
   "source": [
    "We can look at the supernodes containing specific nodes. For example, the supernode for London Gatwick consists of mainly UK and other European airports, as you would expect:"
   ]
  },
  {
   "cell_type": "code",
   "execution_count": 85,
   "metadata": {},
   "outputs": [
    {
     "data": {
      "text/html": [
       "<style type=\"text/css\">\n",
       "#T_07ac4_row0_col0, #T_07ac4_row1_col0, #T_07ac4_row2_col0, #T_07ac4_row3_col0, #T_07ac4_row4_col0 {\n",
       "  color: black;\n",
       "}\n",
       "#T_07ac4_row0_col1, #T_07ac4_row1_col1, #T_07ac4_row2_col1, #T_07ac4_row3_col1, #T_07ac4_row4_col1 {\n",
       "  color: #307fc1;\n",
       "}\n",
       "</style>\n",
       "<table id=\"T_07ac4\">\n",
       "  <thead>\n",
       "    <tr>\n",
       "      <th class=\"blank level0\" >&nbsp;</th>\n",
       "      <th id=\"T_07ac4_level0_col0\" class=\"col_heading level0 col0\" >country</th>\n",
       "      <th id=\"T_07ac4_level0_col1\" class=\"col_heading level0 col1\" >count(code)</th>\n",
       "    </tr>\n",
       "  </thead>\n",
       "  <tbody>\n",
       "    <tr>\n",
       "      <th id=\"T_07ac4_level0_row0\" class=\"row_heading level0 row0\" >0</th>\n",
       "      <td id=\"T_07ac4_row0_col0\" class=\"data row0 col0\" >United Kingdom</td>\n",
       "      <td id=\"T_07ac4_row0_col1\" class=\"data row0 col1\" >54</td>\n",
       "    </tr>\n",
       "    <tr>\n",
       "      <th id=\"T_07ac4_level0_row1\" class=\"row_heading level0 row1\" >1</th>\n",
       "      <td id=\"T_07ac4_row1_col0\" class=\"data row1 col0\" >France</td>\n",
       "      <td id=\"T_07ac4_row1_col1\" class=\"data row1 col1\" >50</td>\n",
       "    </tr>\n",
       "    <tr>\n",
       "      <th id=\"T_07ac4_level0_row2\" class=\"row_heading level0 row2\" >2</th>\n",
       "      <td id=\"T_07ac4_row2_col0\" class=\"data row2 col0\" >Norway</td>\n",
       "      <td id=\"T_07ac4_row2_col1\" class=\"data row2 col1\" >49</td>\n",
       "    </tr>\n",
       "    <tr>\n",
       "      <th id=\"T_07ac4_level0_row3\" class=\"row_heading level0 row3\" >3</th>\n",
       "      <td id=\"T_07ac4_row3_col0\" class=\"data row3 col0\" >Spain</td>\n",
       "      <td id=\"T_07ac4_row3_col1\" class=\"data row3 col1\" >40</td>\n",
       "    </tr>\n",
       "    <tr>\n",
       "      <th id=\"T_07ac4_level0_row4\" class=\"row_heading level0 row4\" >4</th>\n",
       "      <td id=\"T_07ac4_row4_col0\" class=\"data row4 col0\" >Greece</td>\n",
       "      <td id=\"T_07ac4_row4_col1\" class=\"data row4 col1\" >38</td>\n",
       "    </tr>\n",
       "  </tbody>\n",
       "</table>\n"
      ],
      "text/plain": [
       "<pandas.io.formats.style.Styler at 0x11f54ca90>"
      ]
     },
     "execution_count": 85,
     "metadata": {},
     "output_type": "execute_result"
    }
   ],
   "source": [
    "community[code] := *community{code: 'LGW', cluster}, *community{code, cluster}\n",
    "?[country, count(code)] := \n",
    "    community[code], \n",
    "    *airport{code, desc, country: country_code}, \n",
    "    *country{code: country_code, desc: country},\n",
    "\n",
    ":order -count(code)\n",
    ":limit 5"
   ]
  },
  {
   "cell_type": "markdown",
   "metadata": {},
   "source": [
    "For `JFK` on the other hand, its supernode consists of mainly US airports:"
   ]
  },
  {
   "cell_type": "code",
   "execution_count": 86,
   "metadata": {},
   "outputs": [
    {
     "data": {
      "text/html": [
       "<style type=\"text/css\">\n",
       "#T_ab485_row0_col0, #T_ab485_row1_col0, #T_ab485_row2_col0, #T_ab485_row3_col0, #T_ab485_row4_col0 {\n",
       "  color: black;\n",
       "}\n",
       "#T_ab485_row0_col1, #T_ab485_row1_col1, #T_ab485_row2_col1, #T_ab485_row3_col1, #T_ab485_row4_col1 {\n",
       "  color: #307fc1;\n",
       "}\n",
       "</style>\n",
       "<table id=\"T_ab485\">\n",
       "  <thead>\n",
       "    <tr>\n",
       "      <th class=\"blank level0\" >&nbsp;</th>\n",
       "      <th id=\"T_ab485_level0_col0\" class=\"col_heading level0 col0\" >country</th>\n",
       "      <th id=\"T_ab485_level0_col1\" class=\"col_heading level0 col1\" >count(code)</th>\n",
       "    </tr>\n",
       "  </thead>\n",
       "  <tbody>\n",
       "    <tr>\n",
       "      <th id=\"T_ab485_level0_row0\" class=\"row_heading level0 row0\" >0</th>\n",
       "      <td id=\"T_ab485_row0_col0\" class=\"data row0 col0\" >United States</td>\n",
       "      <td id=\"T_ab485_row0_col1\" class=\"data row0 col1\" >444</td>\n",
       "    </tr>\n",
       "    <tr>\n",
       "      <th id=\"T_ab485_level0_row1\" class=\"row_heading level0 row1\" >1</th>\n",
       "      <td id=\"T_ab485_row1_col0\" class=\"data row1 col0\" >Canada</td>\n",
       "      <td id=\"T_ab485_row1_col1\" class=\"data row1 col1\" >111</td>\n",
       "    </tr>\n",
       "    <tr>\n",
       "      <th id=\"T_ab485_level0_row2\" class=\"row_heading level0 row2\" >2</th>\n",
       "      <td id=\"T_ab485_row2_col0\" class=\"data row2 col0\" >Brazil</td>\n",
       "      <td id=\"T_ab485_row2_col1\" class=\"data row2 col1\" >108</td>\n",
       "    </tr>\n",
       "    <tr>\n",
       "      <th id=\"T_ab485_level0_row3\" class=\"row_heading level0 row3\" >3</th>\n",
       "      <td id=\"T_ab485_row3_col0\" class=\"data row3 col0\" >Mexico</td>\n",
       "      <td id=\"T_ab485_row3_col1\" class=\"data row3 col1\" >57</td>\n",
       "    </tr>\n",
       "    <tr>\n",
       "      <th id=\"T_ab485_level0_row4\" class=\"row_heading level0 row4\" >4</th>\n",
       "      <td id=\"T_ab485_row4_col0\" class=\"data row4 col0\" >Colombia</td>\n",
       "      <td id=\"T_ab485_row4_col1\" class=\"data row4 col1\" >50</td>\n",
       "    </tr>\n",
       "  </tbody>\n",
       "</table>\n"
      ],
      "text/plain": [
       "<pandas.io.formats.style.Styler at 0x11f57f430>"
      ]
     },
     "execution_count": 86,
     "metadata": {},
     "output_type": "execute_result"
    }
   ],
   "source": [
    "community[code] := *community{code: 'JFK', cluster}, *community{code, cluster}\n",
    "?[country, count(code)] := \n",
    "    community[code], \n",
    "    *airport{code, desc, country: country_code}, \n",
    "    *country{code: country_code, desc: country},\n",
    "\n",
    ":order -count(code)\n",
    ":limit 5"
   ]
  },
  {
   "cell_type": "markdown",
   "metadata": {},
   "source": [
    "But it does not always work according to geography. For example, Frankfurt airport is in Germany:"
   ]
  },
  {
   "cell_type": "code",
   "execution_count": 87,
   "metadata": {},
   "outputs": [
    {
     "data": {
      "text/html": [
       "<style type=\"text/css\">\n",
       "#T_654c9_row0_col0, #T_654c9_row0_col1 {\n",
       "  color: black;\n",
       "}\n",
       "</style>\n",
       "<table id=\"T_654c9\">\n",
       "  <thead>\n",
       "    <tr>\n",
       "      <th class=\"blank level0\" >&nbsp;</th>\n",
       "      <th id=\"T_654c9_level0_col0\" class=\"col_heading level0 col0\" >desc</th>\n",
       "      <th id=\"T_654c9_level0_col1\" class=\"col_heading level0 col1\" >country_desc</th>\n",
       "    </tr>\n",
       "  </thead>\n",
       "  <tbody>\n",
       "    <tr>\n",
       "      <th id=\"T_654c9_level0_row0\" class=\"row_heading level0 row0\" >0</th>\n",
       "      <td id=\"T_654c9_row0_col0\" class=\"data row0 col0\" >Frankfurt am Main</td>\n",
       "      <td id=\"T_654c9_row0_col1\" class=\"data row0 col1\" >Germany</td>\n",
       "    </tr>\n",
       "  </tbody>\n",
       "</table>\n"
      ],
      "text/plain": [
       "<pandas.io.formats.style.Styler at 0x11f57e440>"
      ]
     },
     "execution_count": 87,
     "metadata": {},
     "output_type": "execute_result"
    }
   ],
   "source": [
    "?[desc, country_desc] := *airport{code: 'FRA', desc, country: country_code}, *country{code: country_code, desc: country_desc}"
   ]
  },
  {
   "cell_type": "markdown",
   "metadata": {},
   "source": [
    "But its supernode:"
   ]
  },
  {
   "cell_type": "code",
   "execution_count": 88,
   "metadata": {},
   "outputs": [
    {
     "data": {
      "text/html": [
       "<style type=\"text/css\">\n",
       "#T_515ac_row0_col0, #T_515ac_row1_col0, #T_515ac_row2_col0, #T_515ac_row3_col0, #T_515ac_row4_col0 {\n",
       "  color: black;\n",
       "}\n",
       "#T_515ac_row0_col1, #T_515ac_row1_col1, #T_515ac_row2_col1, #T_515ac_row3_col1, #T_515ac_row4_col1 {\n",
       "  color: #307fc1;\n",
       "}\n",
       "</style>\n",
       "<table id=\"T_515ac\">\n",
       "  <thead>\n",
       "    <tr>\n",
       "      <th class=\"blank level0\" >&nbsp;</th>\n",
       "      <th id=\"T_515ac_level0_col0\" class=\"col_heading level0 col0\" >country</th>\n",
       "      <th id=\"T_515ac_level0_col1\" class=\"col_heading level0 col1\" >count(code)</th>\n",
       "    </tr>\n",
       "  </thead>\n",
       "  <tbody>\n",
       "    <tr>\n",
       "      <th id=\"T_515ac_level0_row0\" class=\"row_heading level0 row0\" >0</th>\n",
       "      <td id=\"T_515ac_row0_col0\" class=\"data row0 col0\" >United States</td>\n",
       "      <td id=\"T_515ac_row0_col1\" class=\"data row0 col1\" >444</td>\n",
       "    </tr>\n",
       "    <tr>\n",
       "      <th id=\"T_515ac_level0_row1\" class=\"row_heading level0 row1\" >1</th>\n",
       "      <td id=\"T_515ac_row1_col0\" class=\"data row1 col0\" >Canada</td>\n",
       "      <td id=\"T_515ac_row1_col1\" class=\"data row1 col1\" >111</td>\n",
       "    </tr>\n",
       "    <tr>\n",
       "      <th id=\"T_515ac_level0_row2\" class=\"row_heading level0 row2\" >2</th>\n",
       "      <td id=\"T_515ac_row2_col0\" class=\"data row2 col0\" >Brazil</td>\n",
       "      <td id=\"T_515ac_row2_col1\" class=\"data row2 col1\" >108</td>\n",
       "    </tr>\n",
       "    <tr>\n",
       "      <th id=\"T_515ac_level0_row3\" class=\"row_heading level0 row3\" >3</th>\n",
       "      <td id=\"T_515ac_row3_col0\" class=\"data row3 col0\" >Mexico</td>\n",
       "      <td id=\"T_515ac_row3_col1\" class=\"data row3 col1\" >57</td>\n",
       "    </tr>\n",
       "    <tr>\n",
       "      <th id=\"T_515ac_level0_row4\" class=\"row_heading level0 row4\" >4</th>\n",
       "      <td id=\"T_515ac_row4_col0\" class=\"data row4 col0\" >Colombia</td>\n",
       "      <td id=\"T_515ac_row4_col1\" class=\"data row4 col1\" >50</td>\n",
       "    </tr>\n",
       "  </tbody>\n",
       "</table>\n"
      ],
      "text/plain": [
       "<pandas.io.formats.style.Styler at 0x11f57d9c0>"
      ]
     },
     "execution_count": 88,
     "metadata": {},
     "output_type": "execute_result"
    }
   ],
   "source": [
    "community[code] := *community{code: 'FRA', cluster}, *community{code, cluster}\n",
    "?[country, count(code)] := \n",
    "    community[code], \n",
    "    *airport{code, desc, country: country_code}, \n",
    "    *country{code: country_code, desc: country},\n",
    "\n",
    ":order -count(code)\n",
    ":limit 5"
   ]
  },
  {
   "cell_type": "markdown",
   "metadata": {},
   "source": [
    "Germany does not even appear in the top five. In fact, `FRA` is in the same supernode as `JFK`. What matters is the connectivity in the graph, not the geography.\n",
    "As another example:"
   ]
  },
  {
   "cell_type": "code",
   "execution_count": 89,
   "metadata": {},
   "outputs": [
    {
     "data": {
      "text/html": [
       "<style type=\"text/css\">\n",
       "#T_190e2_row0_col0, #T_190e2_row1_col0, #T_190e2_row2_col0, #T_190e2_row3_col0, #T_190e2_row4_col0 {\n",
       "  color: black;\n",
       "}\n",
       "#T_190e2_row0_col1, #T_190e2_row1_col1, #T_190e2_row2_col1, #T_190e2_row3_col1, #T_190e2_row4_col1 {\n",
       "  color: #307fc1;\n",
       "}\n",
       "</style>\n",
       "<table id=\"T_190e2\">\n",
       "  <thead>\n",
       "    <tr>\n",
       "      <th class=\"blank level0\" >&nbsp;</th>\n",
       "      <th id=\"T_190e2_level0_col0\" class=\"col_heading level0 col0\" >country</th>\n",
       "      <th id=\"T_190e2_level0_col1\" class=\"col_heading level0 col1\" >count(code)</th>\n",
       "    </tr>\n",
       "  </thead>\n",
       "  <tbody>\n",
       "    <tr>\n",
       "      <th id=\"T_190e2_level0_row0\" class=\"row_heading level0 row0\" >0</th>\n",
       "      <td id=\"T_190e2_row0_col0\" class=\"data row0 col0\" >China</td>\n",
       "      <td id=\"T_190e2_row0_col1\" class=\"data row0 col1\" >216</td>\n",
       "    </tr>\n",
       "    <tr>\n",
       "      <th id=\"T_190e2_level0_row1\" class=\"row_heading level0 row1\" >1</th>\n",
       "      <td id=\"T_190e2_row1_col0\" class=\"data row1 col0\" >Australia</td>\n",
       "      <td id=\"T_190e2_row1_col1\" class=\"data row1 col1\" >125</td>\n",
       "    </tr>\n",
       "    <tr>\n",
       "      <th id=\"T_190e2_level0_row2\" class=\"row_heading level0 row2\" >2</th>\n",
       "      <td id=\"T_190e2_row2_col0\" class=\"data row2 col0\" >Indonesia</td>\n",
       "      <td id=\"T_190e2_row2_col1\" class=\"data row2 col1\" >68</td>\n",
       "    </tr>\n",
       "    <tr>\n",
       "      <th id=\"T_190e2_level0_row3\" class=\"row_heading level0 row3\" >3</th>\n",
       "      <td id=\"T_190e2_row3_col0\" class=\"data row3 col0\" >Japan</td>\n",
       "      <td id=\"T_190e2_row3_col1\" class=\"data row3 col1\" >65</td>\n",
       "    </tr>\n",
       "    <tr>\n",
       "      <th id=\"T_190e2_level0_row4\" class=\"row_heading level0 row4\" >4</th>\n",
       "      <td id=\"T_190e2_row4_col0\" class=\"data row4 col0\" >Philippines</td>\n",
       "      <td id=\"T_190e2_row4_col1\" class=\"data row4 col1\" >40</td>\n",
       "    </tr>\n",
       "  </tbody>\n",
       "</table>\n"
      ],
      "text/plain": [
       "<pandas.io.formats.style.Styler at 0x11f57fd00>"
      ]
     },
     "execution_count": 89,
     "metadata": {},
     "output_type": "execute_result"
    }
   ],
   "source": [
    "community[code] := *community{code: 'SIN', cluster}, *community{code, cluster}\n",
    "?[country, count(code)] := \n",
    "    community[code], \n",
    "    *airport{code, desc, country: country_code}, \n",
    "    *country{code: country_code, desc: country},\n",
    "\n",
    ":order -count(code)\n",
    ":limit 5"
   ]
  },
  {
   "cell_type": "markdown",
   "metadata": {},
   "source": [
    "You'd expect `SIN` to be a Chinese airport. Wrong:"
   ]
  },
  {
   "cell_type": "code",
   "execution_count": 90,
   "metadata": {},
   "outputs": [
    {
     "data": {
      "text/html": [
       "<style type=\"text/css\">\n",
       "#T_91a48_row0_col0, #T_91a48_row0_col1 {\n",
       "  color: black;\n",
       "}\n",
       "</style>\n",
       "<table id=\"T_91a48\">\n",
       "  <thead>\n",
       "    <tr>\n",
       "      <th class=\"blank level0\" >&nbsp;</th>\n",
       "      <th id=\"T_91a48_level0_col0\" class=\"col_heading level0 col0\" >desc</th>\n",
       "      <th id=\"T_91a48_level0_col1\" class=\"col_heading level0 col1\" >country_desc</th>\n",
       "    </tr>\n",
       "  </thead>\n",
       "  <tbody>\n",
       "    <tr>\n",
       "      <th id=\"T_91a48_level0_row0\" class=\"row_heading level0 row0\" >0</th>\n",
       "      <td id=\"T_91a48_row0_col0\" class=\"data row0 col0\" >Singapore, Changi International Airport</td>\n",
       "      <td id=\"T_91a48_row0_col1\" class=\"data row0 col1\" >Singapore</td>\n",
       "    </tr>\n",
       "  </tbody>\n",
       "</table>\n"
      ],
      "text/plain": [
       "<pandas.io.formats.style.Styler at 0x11f870b50>"
      ]
     },
     "execution_count": 90,
     "metadata": {},
     "output_type": "execute_result"
    }
   ],
   "source": [
    "?[desc, country_desc] := *airport{code: 'SIN', desc, country: country_code}, *country{code: country_code, desc: country_desc}"
   ]
  },
  {
   "cell_type": "markdown",
   "metadata": {},
   "source": [
    "Finally, let's collapse the `route` relation into `super_route`:"
   ]
  },
  {
   "cell_type": "code",
   "execution_count": 91,
   "metadata": {},
   "outputs": [
    {
     "data": {
      "text/html": [
       "<style type=\"text/css\">\n",
       "#T_48bf9_row0_col0 {\n",
       "  color: black;\n",
       "}\n",
       "</style>\n",
       "<table id=\"T_48bf9\">\n",
       "  <thead>\n",
       "    <tr>\n",
       "      <th class=\"blank level0\" >&nbsp;</th>\n",
       "      <th id=\"T_48bf9_level0_col0\" class=\"col_heading level0 col0\" >status</th>\n",
       "    </tr>\n",
       "  </thead>\n",
       "  <tbody>\n",
       "    <tr>\n",
       "      <th id=\"T_48bf9_level0_row0\" class=\"row_heading level0 row0\" >0</th>\n",
       "      <td id=\"T_48bf9_row0_col0\" class=\"data row0 col0\" >OK</td>\n",
       "    </tr>\n",
       "  </tbody>\n",
       "</table>\n"
      ],
      "text/plain": [
       "<pandas.io.formats.style.Styler at 0x11f871690>"
      ]
     },
     "execution_count": 91,
     "metadata": {},
     "output_type": "execute_result"
    }
   ],
   "source": [
    "?[fr_cluster, to_cluster, count(dist), sum(dist)] := *route{fr, to, dist}, \n",
    "                                                     *community{code: fr, cluster: fr_cluster},\n",
    "                                                     *community{code: to, cluster: to_cluster}\n",
    ":replace super_route {fr_cluster, to_cluster => n_routes=count(dist), total_distance=sum(dist)}"
   ]
  },
  {
   "cell_type": "markdown",
   "metadata": {},
   "source": [
    "As expected, the \"diagonals\" where `fr_cluster == to_cluster` are larger in the `super_route` graph:"
   ]
  },
  {
   "cell_type": "code",
   "execution_count": 92,
   "metadata": {},
   "outputs": [
    {
     "data": {
      "text/html": [
       "<style type=\"text/css\">\n",
       "#T_90539_row0_col0, #T_90539_row0_col1, #T_90539_row0_col2, #T_90539_row0_col3, #T_90539_row1_col0, #T_90539_row1_col1, #T_90539_row1_col2, #T_90539_row1_col3, #T_90539_row2_col0, #T_90539_row2_col1, #T_90539_row2_col2, #T_90539_row2_col3, #T_90539_row3_col0, #T_90539_row3_col1, #T_90539_row3_col2, #T_90539_row3_col3, #T_90539_row4_col0, #T_90539_row4_col1, #T_90539_row4_col2, #T_90539_row4_col3, #T_90539_row5_col0, #T_90539_row5_col1, #T_90539_row5_col2, #T_90539_row5_col3, #T_90539_row6_col0, #T_90539_row6_col1, #T_90539_row6_col2, #T_90539_row6_col3, #T_90539_row7_col0, #T_90539_row7_col1, #T_90539_row7_col2, #T_90539_row7_col3, #T_90539_row8_col0, #T_90539_row8_col1, #T_90539_row8_col2, #T_90539_row8_col3, #T_90539_row9_col0, #T_90539_row9_col1, #T_90539_row9_col2, #T_90539_row9_col3, #T_90539_row10_col0, #T_90539_row10_col1, #T_90539_row10_col2, #T_90539_row10_col3, #T_90539_row11_col0, #T_90539_row11_col1, #T_90539_row11_col2, #T_90539_row11_col3, #T_90539_row12_col0, #T_90539_row12_col1, #T_90539_row12_col2, #T_90539_row12_col3, #T_90539_row13_col0, #T_90539_row13_col1, #T_90539_row13_col2, #T_90539_row13_col3, #T_90539_row14_col0, #T_90539_row14_col1, #T_90539_row14_col2, #T_90539_row14_col3, #T_90539_row15_col0, #T_90539_row15_col1, #T_90539_row15_col2, #T_90539_row15_col3 {\n",
       "  color: #307fc1;\n",
       "}\n",
       "</style>\n",
       "<table id=\"T_90539\">\n",
       "  <thead>\n",
       "    <tr>\n",
       "      <th class=\"blank level0\" >&nbsp;</th>\n",
       "      <th id=\"T_90539_level0_col0\" class=\"col_heading level0 col0\" >fr_cluster</th>\n",
       "      <th id=\"T_90539_level0_col1\" class=\"col_heading level0 col1\" >to_cluster</th>\n",
       "      <th id=\"T_90539_level0_col2\" class=\"col_heading level0 col2\" >n_routes</th>\n",
       "      <th id=\"T_90539_level0_col3\" class=\"col_heading level0 col3\" >total_distance</th>\n",
       "    </tr>\n",
       "  </thead>\n",
       "  <tbody>\n",
       "    <tr>\n",
       "      <th id=\"T_90539_level0_row0\" class=\"row_heading level0 row0\" >0</th>\n",
       "      <td id=\"T_90539_row0_col0\" class=\"data row0 col0\" >0</td>\n",
       "      <td id=\"T_90539_row0_col1\" class=\"data row0 col1\" >0</td>\n",
       "      <td id=\"T_90539_row0_col2\" class=\"data row0 col2\" >9041</td>\n",
       "      <td id=\"T_90539_row0_col3\" class=\"data row0 col3\" >8933554.000000</td>\n",
       "    </tr>\n",
       "    <tr>\n",
       "      <th id=\"T_90539_level0_row1\" class=\"row_heading level0 row1\" >1</th>\n",
       "      <td id=\"T_90539_row1_col0\" class=\"data row1 col0\" >0</td>\n",
       "      <td id=\"T_90539_row1_col1\" class=\"data row1 col1\" >1</td>\n",
       "      <td id=\"T_90539_row1_col2\" class=\"data row1 col2\" >434</td>\n",
       "      <td id=\"T_90539_row1_col3\" class=\"data row1 col3\" >1695379.000000</td>\n",
       "    </tr>\n",
       "    <tr>\n",
       "      <th id=\"T_90539_level0_row2\" class=\"row_heading level0 row2\" >2</th>\n",
       "      <td id=\"T_90539_row2_col0\" class=\"data row2 col0\" >0</td>\n",
       "      <td id=\"T_90539_row2_col1\" class=\"data row2 col1\" >2</td>\n",
       "      <td id=\"T_90539_row2_col2\" class=\"data row2 col2\" >228</td>\n",
       "      <td id=\"T_90539_row2_col3\" class=\"data row2 col3\" >761661.000000</td>\n",
       "    </tr>\n",
       "    <tr>\n",
       "      <th id=\"T_90539_level0_row3\" class=\"row_heading level0 row3\" >3</th>\n",
       "      <td id=\"T_90539_row3_col0\" class=\"data row3 col0\" >0</td>\n",
       "      <td id=\"T_90539_row3_col1\" class=\"data row3 col1\" >3</td>\n",
       "      <td id=\"T_90539_row3_col2\" class=\"data row3 col2\" >530</td>\n",
       "      <td id=\"T_90539_row3_col3\" class=\"data row3 col3\" >1681865.000000</td>\n",
       "    </tr>\n",
       "    <tr>\n",
       "      <th id=\"T_90539_level0_row4\" class=\"row_heading level0 row4\" >4</th>\n",
       "      <td id=\"T_90539_row4_col0\" class=\"data row4 col0\" >0</td>\n",
       "      <td id=\"T_90539_row4_col1\" class=\"data row4 col1\" >4</td>\n",
       "      <td id=\"T_90539_row4_col2\" class=\"data row4 col2\" >163</td>\n",
       "      <td id=\"T_90539_row4_col3\" class=\"data row4 col3\" >391892.000000</td>\n",
       "    </tr>\n",
       "    <tr>\n",
       "      <th id=\"T_90539_level0_row5\" class=\"row_heading level0 row5\" >5</th>\n",
       "      <td id=\"T_90539_row5_col0\" class=\"data row5 col0\" >0</td>\n",
       "      <td id=\"T_90539_row5_col1\" class=\"data row5 col1\" >8</td>\n",
       "      <td id=\"T_90539_row5_col2\" class=\"data row5 col2\" >3</td>\n",
       "      <td id=\"T_90539_row5_col3\" class=\"data row5 col3\" >300.000000</td>\n",
       "    </tr>\n",
       "    <tr>\n",
       "      <th id=\"T_90539_level0_row6\" class=\"row_heading level0 row6\" >6</th>\n",
       "      <td id=\"T_90539_row6_col0\" class=\"data row6 col0\" >0</td>\n",
       "      <td id=\"T_90539_row6_col1\" class=\"data row6 col1\" >11</td>\n",
       "      <td id=\"T_90539_row6_col2\" class=\"data row6 col2\" >2</td>\n",
       "      <td id=\"T_90539_row6_col3\" class=\"data row6 col3\" >283.000000</td>\n",
       "    </tr>\n",
       "    <tr>\n",
       "      <th id=\"T_90539_level0_row7\" class=\"row_heading level0 row7\" >7</th>\n",
       "      <td id=\"T_90539_row7_col0\" class=\"data row7 col0\" >0</td>\n",
       "      <td id=\"T_90539_row7_col1\" class=\"data row7 col1\" >19</td>\n",
       "      <td id=\"T_90539_row7_col2\" class=\"data row7 col2\" >1</td>\n",
       "      <td id=\"T_90539_row7_col3\" class=\"data row7 col3\" >238.000000</td>\n",
       "    </tr>\n",
       "    <tr>\n",
       "      <th id=\"T_90539_level0_row8\" class=\"row_heading level0 row8\" >8</th>\n",
       "      <td id=\"T_90539_row8_col0\" class=\"data row8 col0\" >0</td>\n",
       "      <td id=\"T_90539_row8_col1\" class=\"data row8 col1\" >21</td>\n",
       "      <td id=\"T_90539_row8_col2\" class=\"data row8 col2\" >2</td>\n",
       "      <td id=\"T_90539_row8_col3\" class=\"data row8 col3\" >705.000000</td>\n",
       "    </tr>\n",
       "    <tr>\n",
       "      <th id=\"T_90539_level0_row9\" class=\"row_heading level0 row9\" >9</th>\n",
       "      <td id=\"T_90539_row9_col0\" class=\"data row9 col0\" >0</td>\n",
       "      <td id=\"T_90539_row9_col1\" class=\"data row9 col1\" >22</td>\n",
       "      <td id=\"T_90539_row9_col2\" class=\"data row9 col2\" >1</td>\n",
       "      <td id=\"T_90539_row9_col3\" class=\"data row9 col3\" >975.000000</td>\n",
       "    </tr>\n",
       "    <tr>\n",
       "      <th id=\"T_90539_level0_row10\" class=\"row_heading level0 row10\" >10</th>\n",
       "      <td id=\"T_90539_row10_col0\" class=\"data row10 col0\" >1</td>\n",
       "      <td id=\"T_90539_row10_col1\" class=\"data row10 col1\" >0</td>\n",
       "      <td id=\"T_90539_row10_col2\" class=\"data row10 col2\" >434</td>\n",
       "      <td id=\"T_90539_row10_col3\" class=\"data row10 col3\" >1696858.000000</td>\n",
       "    </tr>\n",
       "    <tr>\n",
       "      <th id=\"T_90539_level0_row11\" class=\"row_heading level0 row11\" >11</th>\n",
       "      <td id=\"T_90539_row11_col0\" class=\"data row11 col0\" >1</td>\n",
       "      <td id=\"T_90539_row11_col1\" class=\"data row11 col1\" >1</td>\n",
       "      <td id=\"T_90539_row11_col2\" class=\"data row11 col2\" >4474</td>\n",
       "      <td id=\"T_90539_row11_col3\" class=\"data row11 col3\" >5142452.000000</td>\n",
       "    </tr>\n",
       "    <tr>\n",
       "      <th id=\"T_90539_level0_row12\" class=\"row_heading level0 row12\" >12</th>\n",
       "      <td id=\"T_90539_row12_col0\" class=\"data row12 col0\" >1</td>\n",
       "      <td id=\"T_90539_row12_col1\" class=\"data row12 col1\" >2</td>\n",
       "      <td id=\"T_90539_row12_col2\" class=\"data row12 col2\" >1160</td>\n",
       "      <td id=\"T_90539_row12_col3\" class=\"data row12 col3\" >1492734.000000</td>\n",
       "    </tr>\n",
       "    <tr>\n",
       "      <th id=\"T_90539_level0_row13\" class=\"row_heading level0 row13\" >13</th>\n",
       "      <td id=\"T_90539_row13_col0\" class=\"data row13 col0\" >1</td>\n",
       "      <td id=\"T_90539_row13_col1\" class=\"data row13 col1\" >3</td>\n",
       "      <td id=\"T_90539_row13_col2\" class=\"data row13 col2\" >526</td>\n",
       "      <td id=\"T_90539_row13_col3\" class=\"data row13 col3\" >1724591.000000</td>\n",
       "    </tr>\n",
       "    <tr>\n",
       "      <th id=\"T_90539_level0_row14\" class=\"row_heading level0 row14\" >14</th>\n",
       "      <td id=\"T_90539_row14_col0\" class=\"data row14 col0\" >1</td>\n",
       "      <td id=\"T_90539_row14_col1\" class=\"data row14 col1\" >4</td>\n",
       "      <td id=\"T_90539_row14_col2\" class=\"data row14 col2\" >223</td>\n",
       "      <td id=\"T_90539_row14_col3\" class=\"data row14 col3\" >361986.000000</td>\n",
       "    </tr>\n",
       "    <tr>\n",
       "      <th id=\"T_90539_level0_row15\" class=\"row_heading level0 row15\" >15</th>\n",
       "      <td id=\"T_90539_row15_col0\" class=\"data row15 col0\" >1</td>\n",
       "      <td id=\"T_90539_row15_col1\" class=\"data row15 col1\" >9</td>\n",
       "      <td id=\"T_90539_row15_col2\" class=\"data row15 col2\" >1</td>\n",
       "      <td id=\"T_90539_row15_col3\" class=\"data row15 col3\" >808.000000</td>\n",
       "    </tr>\n",
       "  </tbody>\n",
       "</table>\n"
      ],
      "text/plain": [
       "<pandas.io.formats.style.Styler at 0x11f870b20>"
      ]
     },
     "execution_count": 92,
     "metadata": {},
     "output_type": "execute_result"
    }
   ],
   "source": [
    "?[fr_cluster, to_cluster, n_routes, total_distance] := *super_route{fr_cluster, to_cluster, n_routes, total_distance}, fr_cluster < 2"
   ]
  },
  {
   "cell_type": "markdown",
   "metadata": {},
   "source": [
    "Now the super graph is small enough that all analytics algorithms return instantly:"
   ]
  },
  {
   "cell_type": "code",
   "execution_count": 93,
   "metadata": {},
   "outputs": [
    {
     "data": {
      "text/html": [
       "<style type=\"text/css\">\n",
       "#T_0a93f_row0_col0, #T_0a93f_row0_col1, #T_0a93f_row1_col0, #T_0a93f_row1_col1, #T_0a93f_row2_col0, #T_0a93f_row2_col1, #T_0a93f_row3_col0, #T_0a93f_row3_col1, #T_0a93f_row4_col0, #T_0a93f_row4_col1 {\n",
       "  color: #307fc1;\n",
       "}\n",
       "</style>\n",
       "<table id=\"T_0a93f\">\n",
       "  <thead>\n",
       "    <tr>\n",
       "      <th class=\"blank level0\" >&nbsp;</th>\n",
       "      <th id=\"T_0a93f_level0_col0\" class=\"col_heading level0 col0\" >cluster</th>\n",
       "      <th id=\"T_0a93f_level0_col1\" class=\"col_heading level0 col1\" >score</th>\n",
       "    </tr>\n",
       "  </thead>\n",
       "  <tbody>\n",
       "    <tr>\n",
       "      <th id=\"T_0a93f_level0_row0\" class=\"row_heading level0 row0\" >0</th>\n",
       "      <td id=\"T_0a93f_row0_col0\" class=\"data row0 col0\" >3</td>\n",
       "      <td id=\"T_0a93f_row0_col1\" class=\"data row0 col1\" >0.173309</td>\n",
       "    </tr>\n",
       "    <tr>\n",
       "      <th id=\"T_0a93f_level0_row1\" class=\"row_heading level0 row1\" >1</th>\n",
       "      <td id=\"T_0a93f_row1_col0\" class=\"data row1 col0\" >0</td>\n",
       "      <td id=\"T_0a93f_row1_col1\" class=\"data row1 col1\" >0.093072</td>\n",
       "    </tr>\n",
       "    <tr>\n",
       "      <th id=\"T_0a93f_level0_row2\" class=\"row_heading level0 row2\" >2</th>\n",
       "      <td id=\"T_0a93f_row2_col0\" class=\"data row2 col0\" >1</td>\n",
       "      <td id=\"T_0a93f_row2_col1\" class=\"data row2 col1\" >0.053465</td>\n",
       "    </tr>\n",
       "    <tr>\n",
       "      <th id=\"T_0a93f_level0_row3\" class=\"row_heading level0 row3\" >3</th>\n",
       "      <td id=\"T_0a93f_row3_col0\" class=\"data row3 col0\" >2</td>\n",
       "      <td id=\"T_0a93f_row3_col1\" class=\"data row3 col1\" >0.053389</td>\n",
       "    </tr>\n",
       "    <tr>\n",
       "      <th id=\"T_0a93f_level0_row4\" class=\"row_heading level0 row4\" >4</th>\n",
       "      <td id=\"T_0a93f_row4_col0\" class=\"data row4 col0\" >4</td>\n",
       "      <td id=\"T_0a93f_row4_col1\" class=\"data row4 col1\" >0.044654</td>\n",
       "    </tr>\n",
       "  </tbody>\n",
       "</table>\n"
      ],
      "text/plain": [
       "<pandas.io.formats.style.Styler at 0x11f872230>"
      ]
     },
     "execution_count": 93,
     "metadata": {},
     "output_type": "execute_result"
    }
   ],
   "source": [
    "?[cluster, score] <~ PageRank(*super_route[])\n",
    ":order -score\n",
    ":limit 5"
   ]
  },
  {
   "cell_type": "markdown",
   "metadata": {},
   "source": [
    "You can now go on to investigate the supernodes, give real-world interpretations to them, etc. \n",
    "For example, a naïve interpretation of the above PageRank result is that \n",
    "North America is (still) the most prosperous part of the world,\n",
    "followed by East Asia in the second place, South Asia in the third place, and Europe in the fourth place.\n",
    "\n",
    "That's it for the tutorial. Now, continue learning with the [Manual](https://cozodb.github.io/current/manual/index.html)!"
   ]
  },
  {
   "cell_type": "markdown",
   "metadata": {},
   "source": [
    "### A tour of graph algorithms\n",
    "\n",
    "Now let's investigate the graph using some graph algorithms.\n",
    "As we have mentioned before, the Cozo running in browsers through WASM does not have\n",
    "the graph algorithms module enabled, so to run the following examples you will \n",
    "need to use some other implementation (for example, [the Python one](https://github.com/cozodb/pycozo)).\n",
    "\n",
    "Since path-finding is such a common operation on graphs, Cozo has several fixed rules for that:"
   ]
  },
  {
   "cell_type": "code",
   "execution_count": 77,
   "metadata": {},
   "outputs": [
    {
     "data": {
      "text/html": [
       "<style type=\"text/css\">\n",
       "#T_06422_row0_col0, #T_06422_row0_col1 {\n",
       "  color: black;\n",
       "}\n",
       "#T_06422_row0_col2 {\n",
       "  color: #307fc1;\n",
       "}\n",
       "#T_06422_row0_col3 {\n",
       "  color: #bf5b3d;\n",
       "}\n",
       "</style>\n",
       "<table id=\"T_06422\">\n",
       "  <thead>\n",
       "    <tr>\n",
       "      <th class=\"blank level0\" >&nbsp;</th>\n",
       "      <th id=\"T_06422_level0_col0\" class=\"col_heading level0 col0\" >starting</th>\n",
       "      <th id=\"T_06422_level0_col1\" class=\"col_heading level0 col1\" >goal</th>\n",
       "      <th id=\"T_06422_level0_col2\" class=\"col_heading level0 col2\" >distance</th>\n",
       "      <th id=\"T_06422_level0_col3\" class=\"col_heading level0 col3\" >path</th>\n",
       "    </tr>\n",
       "  </thead>\n",
       "  <tbody>\n",
       "    <tr>\n",
       "      <th id=\"T_06422_level0_row0\" class=\"row_heading level0 row0\" >0</th>\n",
       "      <td id=\"T_06422_row0_col0\" class=\"data row0 col0\" >LHR</td>\n",
       "      <td id=\"T_06422_row0_col1\" class=\"data row0 col1\" >YPO</td>\n",
       "      <td id=\"T_06422_row0_col2\" class=\"data row0 col2\" >4147.000000</td>\n",
       "      <td id=\"T_06422_row0_col3\" class=\"data row0 col3\" >['LHR', 'YUL', 'YVO', 'YKQ', 'YMO', 'YFA', 'ZKE', 'YAT', 'YPO']</td>\n",
       "    </tr>\n",
       "  </tbody>\n",
       "</table>\n"
      ],
      "text/plain": [
       "<pandas.io.formats.style.Styler at 0x11f57d390>"
      ]
     },
     "execution_count": 77,
     "metadata": {},
     "output_type": "execute_result"
    }
   ],
   "source": [
    "starting[] <- [['LHR']]\n",
    "goal[] <- [['YPO']]\n",
    "?[starting, goal, distance, path] <~ ShortestPathDijkstra(*route[], starting[], goal[])"
   ]
  },
  {
   "cell_type": "markdown",
   "metadata": {},
   "source": [
    "Not only is it more efficient, but we also get a path for the shortest route.\n",
    "\n",
    "Not content with the shortest path, the following calculates ten the shortest paths:"
   ]
  },
  {
   "cell_type": "code",
   "execution_count": 78,
   "metadata": {},
   "outputs": [
    {
     "data": {
      "text/html": [
       "<style type=\"text/css\">\n",
       "#T_8112c_row0_col0, #T_8112c_row0_col1, #T_8112c_row1_col0, #T_8112c_row1_col1, #T_8112c_row2_col0, #T_8112c_row2_col1, #T_8112c_row3_col0, #T_8112c_row3_col1, #T_8112c_row4_col0, #T_8112c_row4_col1, #T_8112c_row5_col0, #T_8112c_row5_col1, #T_8112c_row6_col0, #T_8112c_row6_col1, #T_8112c_row7_col0, #T_8112c_row7_col1, #T_8112c_row8_col0, #T_8112c_row8_col1, #T_8112c_row9_col0, #T_8112c_row9_col1 {\n",
       "  color: black;\n",
       "}\n",
       "#T_8112c_row0_col2, #T_8112c_row1_col2, #T_8112c_row2_col2, #T_8112c_row3_col2, #T_8112c_row4_col2, #T_8112c_row5_col2, #T_8112c_row6_col2, #T_8112c_row7_col2, #T_8112c_row8_col2, #T_8112c_row9_col2 {\n",
       "  color: #307fc1;\n",
       "}\n",
       "#T_8112c_row0_col3, #T_8112c_row1_col3, #T_8112c_row2_col3, #T_8112c_row3_col3, #T_8112c_row4_col3, #T_8112c_row5_col3, #T_8112c_row6_col3, #T_8112c_row7_col3, #T_8112c_row8_col3, #T_8112c_row9_col3 {\n",
       "  color: #bf5b3d;\n",
       "}\n",
       "</style>\n",
       "<table id=\"T_8112c\">\n",
       "  <thead>\n",
       "    <tr>\n",
       "      <th class=\"blank level0\" >&nbsp;</th>\n",
       "      <th id=\"T_8112c_level0_col0\" class=\"col_heading level0 col0\" >starting</th>\n",
       "      <th id=\"T_8112c_level0_col1\" class=\"col_heading level0 col1\" >goal</th>\n",
       "      <th id=\"T_8112c_level0_col2\" class=\"col_heading level0 col2\" >distance</th>\n",
       "      <th id=\"T_8112c_level0_col3\" class=\"col_heading level0 col3\" >path</th>\n",
       "    </tr>\n",
       "  </thead>\n",
       "  <tbody>\n",
       "    <tr>\n",
       "      <th id=\"T_8112c_level0_row0\" class=\"row_heading level0 row0\" >0</th>\n",
       "      <td id=\"T_8112c_row0_col0\" class=\"data row0 col0\" >LHR</td>\n",
       "      <td id=\"T_8112c_row0_col1\" class=\"data row0 col1\" >YPO</td>\n",
       "      <td id=\"T_8112c_row0_col2\" class=\"data row0 col2\" >4147.000000</td>\n",
       "      <td id=\"T_8112c_row0_col3\" class=\"data row0 col3\" >['LHR', 'YUL', 'YVO', 'YKQ', 'YMO', 'YFA', 'ZKE', 'YAT', 'YPO']</td>\n",
       "    </tr>\n",
       "    <tr>\n",
       "      <th id=\"T_8112c_level0_row1\" class=\"row_heading level0 row1\" >1</th>\n",
       "      <td id=\"T_8112c_row1_col0\" class=\"data row1 col0\" >LHR</td>\n",
       "      <td id=\"T_8112c_row1_col1\" class=\"data row1 col1\" >YPO</td>\n",
       "      <td id=\"T_8112c_row1_col2\" class=\"data row1 col2\" >4150.000000</td>\n",
       "      <td id=\"T_8112c_row1_col3\" class=\"data row1 col3\" >['LHR', 'DUB', 'YUL', 'YVO', 'YKQ', 'YMO', 'YFA', 'ZKE', 'YAT', 'YPO']</td>\n",
       "    </tr>\n",
       "    <tr>\n",
       "      <th id=\"T_8112c_level0_row2\" class=\"row_heading level0 row2\" >2</th>\n",
       "      <td id=\"T_8112c_row2_col0\" class=\"data row2 col0\" >LHR</td>\n",
       "      <td id=\"T_8112c_row2_col1\" class=\"data row2 col1\" >YPO</td>\n",
       "      <td id=\"T_8112c_row2_col2\" class=\"data row2 col2\" >4164.000000</td>\n",
       "      <td id=\"T_8112c_row2_col3\" class=\"data row2 col3\" >['LHR', 'YUL', 'YMT', 'YKQ', 'YMO', 'YFA', 'ZKE', 'YAT', 'YPO']</td>\n",
       "    </tr>\n",
       "    <tr>\n",
       "      <th id=\"T_8112c_level0_row3\" class=\"row_heading level0 row3\" >3</th>\n",
       "      <td id=\"T_8112c_row3_col0\" class=\"data row3 col0\" >LHR</td>\n",
       "      <td id=\"T_8112c_row3_col1\" class=\"data row3 col1\" >YPO</td>\n",
       "      <td id=\"T_8112c_row3_col2\" class=\"data row3 col2\" >4167.000000</td>\n",
       "      <td id=\"T_8112c_row3_col3\" class=\"data row3 col3\" >['LHR', 'DUB', 'YUL', 'YMT', 'YKQ', 'YMO', 'YFA', 'ZKE', 'YAT', 'YPO']</td>\n",
       "    </tr>\n",
       "    <tr>\n",
       "      <th id=\"T_8112c_level0_row4\" class=\"row_heading level0 row4\" >4</th>\n",
       "      <td id=\"T_8112c_row4_col0\" class=\"data row4 col0\" >LHR</td>\n",
       "      <td id=\"T_8112c_row4_col1\" class=\"data row4 col1\" >YPO</td>\n",
       "      <td id=\"T_8112c_row4_col2\" class=\"data row4 col2\" >4187.000000</td>\n",
       "      <td id=\"T_8112c_row4_col3\" class=\"data row4 col3\" >['LHR', 'MAN', 'DUB', 'YUL', 'YVO', 'YKQ', 'YMO', 'YFA', 'ZKE', 'YAT', 'YPO']</td>\n",
       "    </tr>\n",
       "    <tr>\n",
       "      <th id=\"T_8112c_level0_row5\" class=\"row_heading level0 row5\" >5</th>\n",
       "      <td id=\"T_8112c_row5_col0\" class=\"data row5 col0\" >LHR</td>\n",
       "      <td id=\"T_8112c_row5_col1\" class=\"data row5 col1\" >YPO</td>\n",
       "      <td id=\"T_8112c_row5_col2\" class=\"data row5 col2\" >4202.000000</td>\n",
       "      <td id=\"T_8112c_row5_col3\" class=\"data row5 col3\" >['LHR', 'IOM', 'DUB', 'YUL', 'YVO', 'YKQ', 'YMO', 'YFA', 'ZKE', 'YAT', 'YPO']</td>\n",
       "    </tr>\n",
       "    <tr>\n",
       "      <th id=\"T_8112c_level0_row6\" class=\"row_heading level0 row6\" >6</th>\n",
       "      <td id=\"T_8112c_row6_col0\" class=\"data row6 col0\" >LHR</td>\n",
       "      <td id=\"T_8112c_row6_col1\" class=\"data row6 col1\" >YPO</td>\n",
       "      <td id=\"T_8112c_row6_col2\" class=\"data row6 col2\" >4204.000000</td>\n",
       "      <td id=\"T_8112c_row6_col3\" class=\"data row6 col3\" >['LHR', 'MAN', 'DUB', 'YUL', 'YMT', 'YKQ', 'YMO', 'YFA', 'ZKE', 'YAT', 'YPO']</td>\n",
       "    </tr>\n",
       "    <tr>\n",
       "      <th id=\"T_8112c_level0_row7\" class=\"row_heading level0 row7\" >7</th>\n",
       "      <td id=\"T_8112c_row7_col0\" class=\"data row7 col0\" >LHR</td>\n",
       "      <td id=\"T_8112c_row7_col1\" class=\"data row7 col1\" >YPO</td>\n",
       "      <td id=\"T_8112c_row7_col2\" class=\"data row7 col2\" >4209.000000</td>\n",
       "      <td id=\"T_8112c_row7_col3\" class=\"data row7 col3\" >['LHR', 'YUL', 'YMT', 'YNS', 'YKQ', 'YMO', 'YFA', 'ZKE', 'YAT', 'YPO']</td>\n",
       "    </tr>\n",
       "    <tr>\n",
       "      <th id=\"T_8112c_level0_row8\" class=\"row_heading level0 row8\" >8</th>\n",
       "      <td id=\"T_8112c_row8_col0\" class=\"data row8 col0\" >LHR</td>\n",
       "      <td id=\"T_8112c_row8_col1\" class=\"data row8 col1\" >YPO</td>\n",
       "      <td id=\"T_8112c_row8_col2\" class=\"data row8 col2\" >4211.000000</td>\n",
       "      <td id=\"T_8112c_row8_col3\" class=\"data row8 col3\" >['LHR', 'MAN', 'IOM', 'DUB', 'YUL', 'YVO', 'YKQ', 'YMO', 'YFA', 'ZKE', 'YAT', 'YPO']</td>\n",
       "    </tr>\n",
       "    <tr>\n",
       "      <th id=\"T_8112c_level0_row9\" class=\"row_heading level0 row9\" >9</th>\n",
       "      <td id=\"T_8112c_row9_col0\" class=\"data row9 col0\" >LHR</td>\n",
       "      <td id=\"T_8112c_row9_col1\" class=\"data row9 col1\" >YPO</td>\n",
       "      <td id=\"T_8112c_row9_col2\" class=\"data row9 col2\" >4212.000000</td>\n",
       "      <td id=\"T_8112c_row9_col3\" class=\"data row9 col3\" >['LHR', 'DUB', 'YUL', 'YMT', 'YNS', 'YKQ', 'YMO', 'YFA', 'ZKE', 'YAT', 'YPO']</td>\n",
       "    </tr>\n",
       "  </tbody>\n",
       "</table>\n"
      ],
      "text/plain": [
       "<pandas.io.formats.style.Styler at 0x11f57f8b0>"
      ]
     },
     "execution_count": 78,
     "metadata": {},
     "output_type": "execute_result"
    }
   ],
   "source": [
    "starting[] <- [['LHR']]\n",
    "goal[] <- [['YPO']]\n",
    "?[starting, goal, distance, path] <~ KShortestPathYen(*route[], starting[], goal[], k: 10)"
   ]
  },
  {
   "cell_type": "markdown",
   "metadata": {},
   "source": [
    "If efficiency is really important to you, you can use the A* algorithm with a good heuristic function:"
   ]
  },
  {
   "cell_type": "code",
   "execution_count": 79,
   "metadata": {},
   "outputs": [
    {
     "data": {
      "text/html": [
       "<style type=\"text/css\">\n",
       "#T_9ae30_row0_col0, #T_9ae30_row0_col1 {\n",
       "  color: black;\n",
       "}\n",
       "#T_9ae30_row0_col2 {\n",
       "  color: #307fc1;\n",
       "}\n",
       "#T_9ae30_row0_col3 {\n",
       "  color: #bf5b3d;\n",
       "}\n",
       "</style>\n",
       "<table id=\"T_9ae30\">\n",
       "  <thead>\n",
       "    <tr>\n",
       "      <th class=\"blank level0\" >&nbsp;</th>\n",
       "      <th id=\"T_9ae30_level0_col0\" class=\"col_heading level0 col0\" >_0</th>\n",
       "      <th id=\"T_9ae30_level0_col1\" class=\"col_heading level0 col1\" >_1</th>\n",
       "      <th id=\"T_9ae30_level0_col2\" class=\"col_heading level0 col2\" >_2</th>\n",
       "      <th id=\"T_9ae30_level0_col3\" class=\"col_heading level0 col3\" >_3</th>\n",
       "    </tr>\n",
       "  </thead>\n",
       "  <tbody>\n",
       "    <tr>\n",
       "      <th id=\"T_9ae30_level0_row0\" class=\"row_heading level0 row0\" >0</th>\n",
       "      <td id=\"T_9ae30_row0_col0\" class=\"data row0 col0\" >LHR</td>\n",
       "      <td id=\"T_9ae30_row0_col1\" class=\"data row0 col1\" >YPO</td>\n",
       "      <td id=\"T_9ae30_row0_col2\" class=\"data row0 col2\" >4147.000000</td>\n",
       "      <td id=\"T_9ae30_row0_col3\" class=\"data row0 col3\" >['LHR', 'YUL', 'YVO', 'YKQ', 'YMO', 'YFA', 'ZKE', 'YAT', 'YPO']</td>\n",
       "    </tr>\n",
       "  </tbody>\n",
       "</table>\n"
      ],
      "text/plain": [
       "<pandas.io.formats.style.Styler at 0x11f57cca0>"
      ]
     },
     "execution_count": 79,
     "metadata": {},
     "output_type": "execute_result"
    }
   ],
   "source": [
    "code_lat_lon[code, lat, lon] := *airport{code, lat, lon}\n",
    "starting[code, lat, lon] := code = 'LHR', *airport{code, lat, lon};\n",
    "goal[code, lat, lon] := code = 'YPO', *airport{code, lat, lon};\n",
    "?[] <~ ShortestPathAStar(*route[], \n",
    "                         code_lat_lon[node, lat1, lon1], \n",
    "                         starting[], \n",
    "                         goal[goal, lat2, lon2], \n",
    "                         heuristic: haversine_deg_input(lat1, lon1, lat2, lon2) * 3963);"
   ]
  },
  {
   "cell_type": "markdown",
   "metadata": {},
   "source": [
    "There's a lot more setup required in this case: we need to retrieve the latitudes and longitudes of airports and do processing on them first.\n",
    "The number `3963` above is the radius of the earth in miles.\n",
    "\n",
    "The most important airports, by PageRank:"
   ]
  },
  {
   "cell_type": "code",
   "execution_count": 82,
   "metadata": {},
   "outputs": [
    {
     "data": {
      "text/html": [
       "<style type=\"text/css\">\n",
       "#T_52db1_row0_col0, #T_52db1_row0_col1, #T_52db1_row1_col0, #T_52db1_row1_col1, #T_52db1_row2_col0, #T_52db1_row2_col1, #T_52db1_row3_col0, #T_52db1_row3_col1, #T_52db1_row4_col0, #T_52db1_row4_col1, #T_52db1_row5_col0, #T_52db1_row5_col1, #T_52db1_row6_col0, #T_52db1_row6_col1, #T_52db1_row7_col0, #T_52db1_row7_col1, #T_52db1_row8_col0, #T_52db1_row8_col1, #T_52db1_row9_col0, #T_52db1_row9_col1 {\n",
       "  color: black;\n",
       "}\n",
       "#T_52db1_row0_col2, #T_52db1_row1_col2, #T_52db1_row2_col2, #T_52db1_row3_col2, #T_52db1_row4_col2, #T_52db1_row5_col2, #T_52db1_row6_col2, #T_52db1_row7_col2, #T_52db1_row8_col2, #T_52db1_row9_col2 {\n",
       "  color: #307fc1;\n",
       "}\n",
       "</style>\n",
       "<table id=\"T_52db1\">\n",
       "  <thead>\n",
       "    <tr>\n",
       "      <th class=\"blank level0\" >&nbsp;</th>\n",
       "      <th id=\"T_52db1_level0_col0\" class=\"col_heading level0 col0\" >code</th>\n",
       "      <th id=\"T_52db1_level0_col1\" class=\"col_heading level0 col1\" >desc</th>\n",
       "      <th id=\"T_52db1_level0_col2\" class=\"col_heading level0 col2\" >score</th>\n",
       "    </tr>\n",
       "  </thead>\n",
       "  <tbody>\n",
       "    <tr>\n",
       "      <th id=\"T_52db1_level0_row0\" class=\"row_heading level0 row0\" >0</th>\n",
       "      <td id=\"T_52db1_row0_col0\" class=\"data row0 col0\" >IST</td>\n",
       "      <td id=\"T_52db1_row0_col1\" class=\"data row0 col1\" >Istanbul International Airport</td>\n",
       "      <td id=\"T_52db1_row0_col2\" class=\"data row0 col2\" >0.004889</td>\n",
       "    </tr>\n",
       "    <tr>\n",
       "      <th id=\"T_52db1_level0_row1\" class=\"row_heading level0 row1\" >1</th>\n",
       "      <td id=\"T_52db1_row1_col0\" class=\"data row1 col0\" >DFW</td>\n",
       "      <td id=\"T_52db1_row1_col1\" class=\"data row1 col1\" >Dallas/Fort Worth International Airport</td>\n",
       "      <td id=\"T_52db1_row1_col2\" class=\"data row1 col2\" >0.004696</td>\n",
       "    </tr>\n",
       "    <tr>\n",
       "      <th id=\"T_52db1_level0_row2\" class=\"row_heading level0 row2\" >2</th>\n",
       "      <td id=\"T_52db1_row2_col0\" class=\"data row2 col0\" >ORD</td>\n",
       "      <td id=\"T_52db1_row2_col1\" class=\"data row2 col1\" >Chicago O'Hare International Airport</td>\n",
       "      <td id=\"T_52db1_row2_col2\" class=\"data row2 col2\" >0.004452</td>\n",
       "    </tr>\n",
       "    <tr>\n",
       "      <th id=\"T_52db1_level0_row3\" class=\"row_heading level0 row3\" >3</th>\n",
       "      <td id=\"T_52db1_row3_col0\" class=\"data row3 col0\" >DEN</td>\n",
       "      <td id=\"T_52db1_row3_col1\" class=\"data row3 col1\" >Denver International Airport</td>\n",
       "      <td id=\"T_52db1_row3_col2\" class=\"data row3 col2\" >0.004252</td>\n",
       "    </tr>\n",
       "    <tr>\n",
       "      <th id=\"T_52db1_level0_row4\" class=\"row_heading level0 row4\" >4</th>\n",
       "      <td id=\"T_52db1_row4_col0\" class=\"data row4 col0\" >PEK</td>\n",
       "      <td id=\"T_52db1_row4_col1\" class=\"data row4 col1\" >Beijing Capital International Airport</td>\n",
       "      <td id=\"T_52db1_row4_col2\" class=\"data row4 col2\" >0.004044</td>\n",
       "    </tr>\n",
       "    <tr>\n",
       "      <th id=\"T_52db1_level0_row5\" class=\"row_heading level0 row5\" >5</th>\n",
       "      <td id=\"T_52db1_row5_col0\" class=\"data row5 col0\" >FRA</td>\n",
       "      <td id=\"T_52db1_row5_col1\" class=\"data row5 col1\" >Frankfurt am Main</td>\n",
       "      <td id=\"T_52db1_row5_col2\" class=\"data row5 col2\" >0.004027</td>\n",
       "    </tr>\n",
       "    <tr>\n",
       "      <th id=\"T_52db1_level0_row6\" class=\"row_heading level0 row6\" >6</th>\n",
       "      <td id=\"T_52db1_row6_col0\" class=\"data row6 col0\" >ATL</td>\n",
       "      <td id=\"T_52db1_row6_col1\" class=\"data row6 col1\" >Hartsfield - Jackson Atlanta International Airport</td>\n",
       "      <td id=\"T_52db1_row6_col2\" class=\"data row6 col2\" >0.004022</td>\n",
       "    </tr>\n",
       "    <tr>\n",
       "      <th id=\"T_52db1_level0_row7\" class=\"row_heading level0 row7\" >7</th>\n",
       "      <td id=\"T_52db1_row7_col0\" class=\"data row7 col0\" >DXB</td>\n",
       "      <td id=\"T_52db1_row7_col1\" class=\"data row7 col1\" >Dubai International Airport</td>\n",
       "      <td id=\"T_52db1_row7_col2\" class=\"data row7 col2\" >0.004002</td>\n",
       "    </tr>\n",
       "    <tr>\n",
       "      <th id=\"T_52db1_level0_row8\" class=\"row_heading level0 row8\" >8</th>\n",
       "      <td id=\"T_52db1_row8_col0\" class=\"data row8 col0\" >CDG</td>\n",
       "      <td id=\"T_52db1_row8_col1\" class=\"data row8 col1\" >Paris Charles de Gaulle</td>\n",
       "      <td id=\"T_52db1_row8_col2\" class=\"data row8 col2\" >0.003998</td>\n",
       "    </tr>\n",
       "    <tr>\n",
       "      <th id=\"T_52db1_level0_row9\" class=\"row_heading level0 row9\" >9</th>\n",
       "      <td id=\"T_52db1_row9_col0\" class=\"data row9 col0\" >DME</td>\n",
       "      <td id=\"T_52db1_row9_col1\" class=\"data row9 col1\" >Moscow, Domodedovo International Airport</td>\n",
       "      <td id=\"T_52db1_row9_col2\" class=\"data row9 col2\" >0.003817</td>\n",
       "    </tr>\n",
       "  </tbody>\n",
       "</table>\n"
      ],
      "text/plain": [
       "<pandas.io.formats.style.Styler at 0x11f57c400>"
      ]
     },
     "execution_count": 82,
     "metadata": {},
     "output_type": "execute_result"
    }
   ],
   "source": [
    "rank[code, score] <~ PageRank(*route[a, b])\n",
    "?[code, desc, score] := rank[code, score], *airport{code, desc}\n",
    "\n",
    ":limit 10;\n",
    ":order -score"
   ]
  },
  {
   "cell_type": "markdown",
   "metadata": {},
   "source": [
    "The following example takes a long time to run since it calculates the betweenness centrality: up to a few seconds, depending on your machine.\n",
    "Algorithms for calculating the betweenness centrality have high complexity."
   ]
  },
  {
   "cell_type": "code",
   "execution_count": 83,
   "metadata": {},
   "outputs": [
    {
     "data": {
      "text/html": [
       "<style type=\"text/css\">\n",
       "#T_57877_row0_col0, #T_57877_row0_col1, #T_57877_row1_col0, #T_57877_row1_col1, #T_57877_row2_col0, #T_57877_row2_col1, #T_57877_row3_col0, #T_57877_row3_col1, #T_57877_row4_col0, #T_57877_row4_col1, #T_57877_row5_col0, #T_57877_row5_col1, #T_57877_row6_col0, #T_57877_row6_col1, #T_57877_row7_col0, #T_57877_row7_col1, #T_57877_row8_col0, #T_57877_row8_col1, #T_57877_row9_col0, #T_57877_row9_col1 {\n",
       "  color: black;\n",
       "}\n",
       "#T_57877_row0_col2, #T_57877_row1_col2, #T_57877_row2_col2, #T_57877_row3_col2, #T_57877_row4_col2, #T_57877_row5_col2, #T_57877_row6_col2, #T_57877_row7_col2, #T_57877_row8_col2, #T_57877_row9_col2 {\n",
       "  color: #307fc1;\n",
       "}\n",
       "</style>\n",
       "<table id=\"T_57877\">\n",
       "  <thead>\n",
       "    <tr>\n",
       "      <th class=\"blank level0\" >&nbsp;</th>\n",
       "      <th id=\"T_57877_level0_col0\" class=\"col_heading level0 col0\" >code</th>\n",
       "      <th id=\"T_57877_level0_col1\" class=\"col_heading level0 col1\" >desc</th>\n",
       "      <th id=\"T_57877_level0_col2\" class=\"col_heading level0 col2\" >score</th>\n",
       "    </tr>\n",
       "  </thead>\n",
       "  <tbody>\n",
       "    <tr>\n",
       "      <th id=\"T_57877_level0_row0\" class=\"row_heading level0 row0\" >0</th>\n",
       "      <td id=\"T_57877_row0_col0\" class=\"data row0 col0\" >ANC</td>\n",
       "      <td id=\"T_57877_row0_col1\" class=\"data row0 col1\" >Anchorage Ted Stevens</td>\n",
       "      <td id=\"T_57877_row0_col2\" class=\"data row0 col2\" >1074868.250000</td>\n",
       "    </tr>\n",
       "    <tr>\n",
       "      <th id=\"T_57877_level0_row1\" class=\"row_heading level0 row1\" >1</th>\n",
       "      <td id=\"T_57877_row1_col0\" class=\"data row1 col0\" >KEF</td>\n",
       "      <td id=\"T_57877_row1_col1\" class=\"data row1 col1\" >Reykjavik, Keflavik International Airport</td>\n",
       "      <td id=\"T_57877_row1_col2\" class=\"data row1 col2\" >928450.437500</td>\n",
       "    </tr>\n",
       "    <tr>\n",
       "      <th id=\"T_57877_level0_row2\" class=\"row_heading level0 row2\" >2</th>\n",
       "      <td id=\"T_57877_row2_col0\" class=\"data row2 col0\" >HEL</td>\n",
       "      <td id=\"T_57877_row2_col1\" class=\"data row2 col1\" >Helsinki Ventaa</td>\n",
       "      <td id=\"T_57877_row2_col2\" class=\"data row2 col2\" >581588.500000</td>\n",
       "    </tr>\n",
       "    <tr>\n",
       "      <th id=\"T_57877_level0_row3\" class=\"row_heading level0 row3\" >3</th>\n",
       "      <td id=\"T_57877_row3_col0\" class=\"data row3 col0\" >PEK</td>\n",
       "      <td id=\"T_57877_row3_col1\" class=\"data row3 col1\" >Beijing Capital International Airport</td>\n",
       "      <td id=\"T_57877_row3_col2\" class=\"data row3 col2\" >532021.062500</td>\n",
       "    </tr>\n",
       "    <tr>\n",
       "      <th id=\"T_57877_level0_row4\" class=\"row_heading level0 row4\" >4</th>\n",
       "      <td id=\"T_57877_row4_col0\" class=\"data row4 col0\" >DEL</td>\n",
       "      <td id=\"T_57877_row4_col1\" class=\"data row4 col1\" >Indira Gandhi International Airport</td>\n",
       "      <td id=\"T_57877_row4_col2\" class=\"data row4 col2\" >472979.968750</td>\n",
       "    </tr>\n",
       "    <tr>\n",
       "      <th id=\"T_57877_level0_row5\" class=\"row_heading level0 row5\" >5</th>\n",
       "      <td id=\"T_57877_row5_col0\" class=\"data row5 col0\" >IST</td>\n",
       "      <td id=\"T_57877_row5_col1\" class=\"data row5 col1\" >Istanbul International Airport</td>\n",
       "      <td id=\"T_57877_row5_col2\" class=\"data row5 col2\" >457882.156250</td>\n",
       "    </tr>\n",
       "    <tr>\n",
       "      <th id=\"T_57877_level0_row6\" class=\"row_heading level0 row6\" >6</th>\n",
       "      <td id=\"T_57877_row6_col0\" class=\"data row6 col0\" >PKC</td>\n",
       "      <td id=\"T_57877_row6_col1\" class=\"data row6 col1\" >Yelizovo Airport</td>\n",
       "      <td id=\"T_57877_row6_col2\" class=\"data row6 col2\" >408571.000000</td>\n",
       "    </tr>\n",
       "    <tr>\n",
       "      <th id=\"T_57877_level0_row7\" class=\"row_heading level0 row7\" >7</th>\n",
       "      <td id=\"T_57877_row7_col0\" class=\"data row7 col0\" >MSP</td>\n",
       "      <td id=\"T_57877_row7_col1\" class=\"data row7 col1\" >Minneapolis-St.Paul International Airport</td>\n",
       "      <td id=\"T_57877_row7_col2\" class=\"data row7 col2\" >396433.250000</td>\n",
       "    </tr>\n",
       "    <tr>\n",
       "      <th id=\"T_57877_level0_row8\" class=\"row_heading level0 row8\" >8</th>\n",
       "      <td id=\"T_57877_row8_col0\" class=\"data row8 col0\" >LAX</td>\n",
       "      <td id=\"T_57877_row8_col1\" class=\"data row8 col1\" >Los Angeles International Airport</td>\n",
       "      <td id=\"T_57877_row8_col2\" class=\"data row8 col2\" >393309.968750</td>\n",
       "    </tr>\n",
       "    <tr>\n",
       "      <th id=\"T_57877_level0_row9\" class=\"row_heading level0 row9\" >9</th>\n",
       "      <td id=\"T_57877_row9_col0\" class=\"data row9 col0\" >DEN</td>\n",
       "      <td id=\"T_57877_row9_col1\" class=\"data row9 col1\" >Denver International Airport</td>\n",
       "      <td id=\"T_57877_row9_col2\" class=\"data row9 col2\" >374339.531250</td>\n",
       "    </tr>\n",
       "  </tbody>\n",
       "</table>\n"
      ],
      "text/plain": [
       "<pandas.io.formats.style.Styler at 0x11f57e0e0>"
      ]
     },
     "execution_count": 83,
     "metadata": {},
     "output_type": "execute_result"
    }
   ],
   "source": [
    "centrality[code, score] <~ BetweennessCentrality(*route[a, b])\n",
    "?[code, desc, score] := centrality[code, score], *airport{code, desc}\n",
    "\n",
    ":limit 10;\n",
    ":order -score"
   ]
  },
  {
   "cell_type": "markdown",
   "metadata": {},
   "source": [
    "These are the airports that, if disconnected from the network, cause the most disruption.\n",
    "As this example shows, some of the algorithms really struggle when you go beyond small or medium sized dataset.\n",
    "\n",
    "Community detection can collapse a graph into a _supergraph_.\n",
    "Here we store the result, since it has too many rows to display nicely:"
   ]
  },
  {
   "cell_type": "code",
   "execution_count": 84,
   "metadata": {},
   "outputs": [
    {
     "data": {
      "text/html": [
       "<style type=\"text/css\">\n",
       "#T_8555d_row0_col0 {\n",
       "  color: black;\n",
       "}\n",
       "</style>\n",
       "<table id=\"T_8555d\">\n",
       "  <thead>\n",
       "    <tr>\n",
       "      <th class=\"blank level0\" >&nbsp;</th>\n",
       "      <th id=\"T_8555d_level0_col0\" class=\"col_heading level0 col0\" >status</th>\n",
       "    </tr>\n",
       "  </thead>\n",
       "  <tbody>\n",
       "    <tr>\n",
       "      <th id=\"T_8555d_level0_row0\" class=\"row_heading level0 row0\" >0</th>\n",
       "      <td id=\"T_8555d_row0_col0\" class=\"data row0 col0\" >OK</td>\n",
       "    </tr>\n",
       "  </tbody>\n",
       "</table>\n"
      ],
      "text/plain": [
       "<pandas.io.formats.style.Styler at 0x11f54f7c0>"
      ]
     },
     "execution_count": 84,
     "metadata": {},
     "output_type": "execute_result"
    }
   ],
   "source": [
    "community[detailed_cluster, code] <~ CommunityDetectionLouvain(*route[a, b])\n",
    "?[code, cluster, detailed_cluster] := community[detailed_cluster, code], cluster = first(detailed_cluster)\n",
    "\n",
    ":replace community {code => cluster, detailed_cluster}"
   ]
  },
  {
   "cell_type": "markdown",
   "metadata": {},
   "source": [
    "We can look at the supernodes containing specific nodes. For example, the supernode for London Gatwick consists of mainly UK and other European airports, as you would expect:"
   ]
  },
  {
   "cell_type": "code",
   "execution_count": 85,
   "metadata": {},
   "outputs": [
    {
     "data": {
      "text/html": [
       "<style type=\"text/css\">\n",
       "#T_07ac4_row0_col0, #T_07ac4_row1_col0, #T_07ac4_row2_col0, #T_07ac4_row3_col0, #T_07ac4_row4_col0 {\n",
       "  color: black;\n",
       "}\n",
       "#T_07ac4_row0_col1, #T_07ac4_row1_col1, #T_07ac4_row2_col1, #T_07ac4_row3_col1, #T_07ac4_row4_col1 {\n",
       "  color: #307fc1;\n",
       "}\n",
       "</style>\n",
       "<table id=\"T_07ac4\">\n",
       "  <thead>\n",
       "    <tr>\n",
       "      <th class=\"blank level0\" >&nbsp;</th>\n",
       "      <th id=\"T_07ac4_level0_col0\" class=\"col_heading level0 col0\" >country</th>\n",
       "      <th id=\"T_07ac4_level0_col1\" class=\"col_heading level0 col1\" >count(code)</th>\n",
       "    </tr>\n",
       "  </thead>\n",
       "  <tbody>\n",
       "    <tr>\n",
       "      <th id=\"T_07ac4_level0_row0\" class=\"row_heading level0 row0\" >0</th>\n",
       "      <td id=\"T_07ac4_row0_col0\" class=\"data row0 col0\" >United Kingdom</td>\n",
       "      <td id=\"T_07ac4_row0_col1\" class=\"data row0 col1\" >54</td>\n",
       "    </tr>\n",
       "    <tr>\n",
       "      <th id=\"T_07ac4_level0_row1\" class=\"row_heading level0 row1\" >1</th>\n",
       "      <td id=\"T_07ac4_row1_col0\" class=\"data row1 col0\" >France</td>\n",
       "      <td id=\"T_07ac4_row1_col1\" class=\"data row1 col1\" >50</td>\n",
       "    </tr>\n",
       "    <tr>\n",
       "      <th id=\"T_07ac4_level0_row2\" class=\"row_heading level0 row2\" >2</th>\n",
       "      <td id=\"T_07ac4_row2_col0\" class=\"data row2 col0\" >Norway</td>\n",
       "      <td id=\"T_07ac4_row2_col1\" class=\"data row2 col1\" >49</td>\n",
       "    </tr>\n",
       "    <tr>\n",
       "      <th id=\"T_07ac4_level0_row3\" class=\"row_heading level0 row3\" >3</th>\n",
       "      <td id=\"T_07ac4_row3_col0\" class=\"data row3 col0\" >Spain</td>\n",
       "      <td id=\"T_07ac4_row3_col1\" class=\"data row3 col1\" >40</td>\n",
       "    </tr>\n",
       "    <tr>\n",
       "      <th id=\"T_07ac4_level0_row4\" class=\"row_heading level0 row4\" >4</th>\n",
       "      <td id=\"T_07ac4_row4_col0\" class=\"data row4 col0\" >Greece</td>\n",
       "      <td id=\"T_07ac4_row4_col1\" class=\"data row4 col1\" >38</td>\n",
       "    </tr>\n",
       "  </tbody>\n",
       "</table>\n"
      ],
      "text/plain": [
       "<pandas.io.formats.style.Styler at 0x11f54ca90>"
      ]
     },
     "execution_count": 85,
     "metadata": {},
     "output_type": "execute_result"
    }
   ],
   "source": [
    "community[code] := *community{code: 'LGW', cluster}, *community{code, cluster}\n",
    "?[country, count(code)] := \n",
    "    community[code], \n",
    "    *airport{code, desc, country: country_code}, \n",
    "    *country{code: country_code, desc: country},\n",
    "\n",
    ":order -count(code)\n",
    ":limit 5"
   ]
  },
  {
   "cell_type": "markdown",
   "metadata": {},
   "source": [
    "For `JFK` on the other hand, its supernode consists of mainly US airports:"
   ]
  },
  {
   "cell_type": "code",
   "execution_count": 86,
   "metadata": {},
   "outputs": [
    {
     "data": {
      "text/html": [
       "<style type=\"text/css\">\n",
       "#T_ab485_row0_col0, #T_ab485_row1_col0, #T_ab485_row2_col0, #T_ab485_row3_col0, #T_ab485_row4_col0 {\n",
       "  color: black;\n",
       "}\n",
       "#T_ab485_row0_col1, #T_ab485_row1_col1, #T_ab485_row2_col1, #T_ab485_row3_col1, #T_ab485_row4_col1 {\n",
       "  color: #307fc1;\n",
       "}\n",
       "</style>\n",
       "<table id=\"T_ab485\">\n",
       "  <thead>\n",
       "    <tr>\n",
       "      <th class=\"blank level0\" >&nbsp;</th>\n",
       "      <th id=\"T_ab485_level0_col0\" class=\"col_heading level0 col0\" >country</th>\n",
       "      <th id=\"T_ab485_level0_col1\" class=\"col_heading level0 col1\" >count(code)</th>\n",
       "    </tr>\n",
       "  </thead>\n",
       "  <tbody>\n",
       "    <tr>\n",
       "      <th id=\"T_ab485_level0_row0\" class=\"row_heading level0 row0\" >0</th>\n",
       "      <td id=\"T_ab485_row0_col0\" class=\"data row0 col0\" >United States</td>\n",
       "      <td id=\"T_ab485_row0_col1\" class=\"data row0 col1\" >444</td>\n",
       "    </tr>\n",
       "    <tr>\n",
       "      <th id=\"T_ab485_level0_row1\" class=\"row_heading level0 row1\" >1</th>\n",
       "      <td id=\"T_ab485_row1_col0\" class=\"data row1 col0\" >Canada</td>\n",
       "      <td id=\"T_ab485_row1_col1\" class=\"data row1 col1\" >111</td>\n",
       "    </tr>\n",
       "    <tr>\n",
       "      <th id=\"T_ab485_level0_row2\" class=\"row_heading level0 row2\" >2</th>\n",
       "      <td id=\"T_ab485_row2_col0\" class=\"data row2 col0\" >Brazil</td>\n",
       "      <td id=\"T_ab485_row2_col1\" class=\"data row2 col1\" >108</td>\n",
       "    </tr>\n",
       "    <tr>\n",
       "      <th id=\"T_ab485_level0_row3\" class=\"row_heading level0 row3\" >3</th>\n",
       "      <td id=\"T_ab485_row3_col0\" class=\"data row3 col0\" >Mexico</td>\n",
       "      <td id=\"T_ab485_row3_col1\" class=\"data row3 col1\" >57</td>\n",
       "    </tr>\n",
       "    <tr>\n",
       "      <th id=\"T_ab485_level0_row4\" class=\"row_heading level0 row4\" >4</th>\n",
       "      <td id=\"T_ab485_row4_col0\" class=\"data row4 col0\" >Colombia</td>\n",
       "      <td id=\"T_ab485_row4_col1\" class=\"data row4 col1\" >50</td>\n",
       "    </tr>\n",
       "  </tbody>\n",
       "</table>\n"
      ],
      "text/plain": [
       "<pandas.io.formats.style.Styler at 0x11f57f430>"
      ]
     },
     "execution_count": 86,
     "metadata": {},
     "output_type": "execute_result"
    }
   ],
   "source": [
    "community[code] := *community{code: 'JFK', cluster}, *community{code, cluster}\n",
    "?[country, count(code)] := \n",
    "    community[code], \n",
    "    *airport{code, desc, country: country_code}, \n",
    "    *country{code: country_code, desc: country},\n",
    "\n",
    ":order -count(code)\n",
    ":limit 5"
   ]
  },
  {
   "cell_type": "markdown",
   "metadata": {},
   "source": [
    "But it does not always work according to geography. For example, Frankfurt airport is in Germany:"
   ]
  },
  {
   "cell_type": "code",
   "execution_count": 87,
   "metadata": {},
   "outputs": [
    {
     "data": {
      "text/html": [
       "<style type=\"text/css\">\n",
       "#T_654c9_row0_col0, #T_654c9_row0_col1 {\n",
       "  color: black;\n",
       "}\n",
       "</style>\n",
       "<table id=\"T_654c9\">\n",
       "  <thead>\n",
       "    <tr>\n",
       "      <th class=\"blank level0\" >&nbsp;</th>\n",
       "      <th id=\"T_654c9_level0_col0\" class=\"col_heading level0 col0\" >desc</th>\n",
       "      <th id=\"T_654c9_level0_col1\" class=\"col_heading level0 col1\" >country_desc</th>\n",
       "    </tr>\n",
       "  </thead>\n",
       "  <tbody>\n",
       "    <tr>\n",
       "      <th id=\"T_654c9_level0_row0\" class=\"row_heading level0 row0\" >0</th>\n",
       "      <td id=\"T_654c9_row0_col0\" class=\"data row0 col0\" >Frankfurt am Main</td>\n",
       "      <td id=\"T_654c9_row0_col1\" class=\"data row0 col1\" >Germany</td>\n",
       "    </tr>\n",
       "  </tbody>\n",
       "</table>\n"
      ],
      "text/plain": [
       "<pandas.io.formats.style.Styler at 0x11f57e440>"
      ]
     },
     "execution_count": 87,
     "metadata": {},
     "output_type": "execute_result"
    }
   ],
   "source": [
    "?[desc, country_desc] := *airport{code: 'FRA', desc, country: country_code}, *country{code: country_code, desc: country_desc}"
   ]
  },
  {
   "cell_type": "markdown",
   "metadata": {},
   "source": [
    "But its supernode:"
   ]
  },
  {
   "cell_type": "code",
   "execution_count": 88,
   "metadata": {},
   "outputs": [
    {
     "data": {
      "text/html": [
       "<style type=\"text/css\">\n",
       "#T_515ac_row0_col0, #T_515ac_row1_col0, #T_515ac_row2_col0, #T_515ac_row3_col0, #T_515ac_row4_col0 {\n",
       "  color: black;\n",
       "}\n",
       "#T_515ac_row0_col1, #T_515ac_row1_col1, #T_515ac_row2_col1, #T_515ac_row3_col1, #T_515ac_row4_col1 {\n",
       "  color: #307fc1;\n",
       "}\n",
       "</style>\n",
       "<table id=\"T_515ac\">\n",
       "  <thead>\n",
       "    <tr>\n",
       "      <th class=\"blank level0\" >&nbsp;</th>\n",
       "      <th id=\"T_515ac_level0_col0\" class=\"col_heading level0 col0\" >country</th>\n",
       "      <th id=\"T_515ac_level0_col1\" class=\"col_heading level0 col1\" >count(code)</th>\n",
       "    </tr>\n",
       "  </thead>\n",
       "  <tbody>\n",
       "    <tr>\n",
       "      <th id=\"T_515ac_level0_row0\" class=\"row_heading level0 row0\" >0</th>\n",
       "      <td id=\"T_515ac_row0_col0\" class=\"data row0 col0\" >United States</td>\n",
       "      <td id=\"T_515ac_row0_col1\" class=\"data row0 col1\" >444</td>\n",
       "    </tr>\n",
       "    <tr>\n",
       "      <th id=\"T_515ac_level0_row1\" class=\"row_heading level0 row1\" >1</th>\n",
       "      <td id=\"T_515ac_row1_col0\" class=\"data row1 col0\" >Canada</td>\n",
       "      <td id=\"T_515ac_row1_col1\" class=\"data row1 col1\" >111</td>\n",
       "    </tr>\n",
       "    <tr>\n",
       "      <th id=\"T_515ac_level0_row2\" class=\"row_heading level0 row2\" >2</th>\n",
       "      <td id=\"T_515ac_row2_col0\" class=\"data row2 col0\" >Brazil</td>\n",
       "      <td id=\"T_515ac_row2_col1\" class=\"data row2 col1\" >108</td>\n",
       "    </tr>\n",
       "    <tr>\n",
       "      <th id=\"T_515ac_level0_row3\" class=\"row_heading level0 row3\" >3</th>\n",
       "      <td id=\"T_515ac_row3_col0\" class=\"data row3 col0\" >Mexico</td>\n",
       "      <td id=\"T_515ac_row3_col1\" class=\"data row3 col1\" >57</td>\n",
       "    </tr>\n",
       "    <tr>\n",
       "      <th id=\"T_515ac_level0_row4\" class=\"row_heading level0 row4\" >4</th>\n",
       "      <td id=\"T_515ac_row4_col0\" class=\"data row4 col0\" >Colombia</td>\n",
       "      <td id=\"T_515ac_row4_col1\" class=\"data row4 col1\" >50</td>\n",
       "    </tr>\n",
       "  </tbody>\n",
       "</table>\n"
      ],
      "text/plain": [
       "<pandas.io.formats.style.Styler at 0x11f57d9c0>"
      ]
     },
     "execution_count": 88,
     "metadata": {},
     "output_type": "execute_result"
    }
   ],
   "source": [
    "community[code] := *community{code: 'FRA', cluster}, *community{code, cluster}\n",
    "?[country, count(code)] := \n",
    "    community[code], \n",
    "    *airport{code, desc, country: country_code}, \n",
    "    *country{code: country_code, desc: country},\n",
    "\n",
    ":order -count(code)\n",
    ":limit 5"
   ]
  },
  {
   "cell_type": "markdown",
   "metadata": {},
   "source": [
    "Germany does not even appear in the top five. In fact, `FRA` is in the same supernode as `JFK`. What matters is the connectivity in the graph, not the geography.\n",
    "As another example:"
   ]
  },
  {
   "cell_type": "code",
   "execution_count": 89,
   "metadata": {},
   "outputs": [
    {
     "data": {
      "text/html": [
       "<style type=\"text/css\">\n",
       "#T_190e2_row0_col0, #T_190e2_row1_col0, #T_190e2_row2_col0, #T_190e2_row3_col0, #T_190e2_row4_col0 {\n",
       "  color: black;\n",
       "}\n",
       "#T_190e2_row0_col1, #T_190e2_row1_col1, #T_190e2_row2_col1, #T_190e2_row3_col1, #T_190e2_row4_col1 {\n",
       "  color: #307fc1;\n",
       "}\n",
       "</style>\n",
       "<table id=\"T_190e2\">\n",
       "  <thead>\n",
       "    <tr>\n",
       "      <th class=\"blank level0\" >&nbsp;</th>\n",
       "      <th id=\"T_190e2_level0_col0\" class=\"col_heading level0 col0\" >country</th>\n",
       "      <th id=\"T_190e2_level0_col1\" class=\"col_heading level0 col1\" >count(code)</th>\n",
       "    </tr>\n",
       "  </thead>\n",
       "  <tbody>\n",
       "    <tr>\n",
       "      <th id=\"T_190e2_level0_row0\" class=\"row_heading level0 row0\" >0</th>\n",
       "      <td id=\"T_190e2_row0_col0\" class=\"data row0 col0\" >China</td>\n",
       "      <td id=\"T_190e2_row0_col1\" class=\"data row0 col1\" >216</td>\n",
       "    </tr>\n",
       "    <tr>\n",
       "      <th id=\"T_190e2_level0_row1\" class=\"row_heading level0 row1\" >1</th>\n",
       "      <td id=\"T_190e2_row1_col0\" class=\"data row1 col0\" >Australia</td>\n",
       "      <td id=\"T_190e2_row1_col1\" class=\"data row1 col1\" >125</td>\n",
       "    </tr>\n",
       "    <tr>\n",
       "      <th id=\"T_190e2_level0_row2\" class=\"row_heading level0 row2\" >2</th>\n",
       "      <td id=\"T_190e2_row2_col0\" class=\"data row2 col0\" >Indonesia</td>\n",
       "      <td id=\"T_190e2_row2_col1\" class=\"data row2 col1\" >68</td>\n",
       "    </tr>\n",
       "    <tr>\n",
       "      <th id=\"T_190e2_level0_row3\" class=\"row_heading level0 row3\" >3</th>\n",
       "      <td id=\"T_190e2_row3_col0\" class=\"data row3 col0\" >Japan</td>\n",
       "      <td id=\"T_190e2_row3_col1\" class=\"data row3 col1\" >65</td>\n",
       "    </tr>\n",
       "    <tr>\n",
       "      <th id=\"T_190e2_level0_row4\" class=\"row_heading level0 row4\" >4</th>\n",
       "      <td id=\"T_190e2_row4_col0\" class=\"data row4 col0\" >Philippines</td>\n",
       "      <td id=\"T_190e2_row4_col1\" class=\"data row4 col1\" >40</td>\n",
       "    </tr>\n",
       "  </tbody>\n",
       "</table>\n"
      ],
      "text/plain": [
       "<pandas.io.formats.style.Styler at 0x11f57fd00>"
      ]
     },
     "execution_count": 89,
     "metadata": {},
     "output_type": "execute_result"
    }
   ],
   "source": [
    "community[code] := *community{code: 'SIN', cluster}, *community{code, cluster}\n",
    "?[country, count(code)] := \n",
    "    community[code], \n",
    "    *airport{code, desc, country: country_code}, \n",
    "    *country{code: country_code, desc: country},\n",
    "\n",
    ":order -count(code)\n",
    ":limit 5"
   ]
  },
  {
   "cell_type": "markdown",
   "metadata": {},
   "source": [
    "You'd expect `SIN` to be a Chinese airport. Wrong:"
   ]
  },
  {
   "cell_type": "code",
   "execution_count": 90,
   "metadata": {},
   "outputs": [
    {
     "data": {
      "text/html": [
       "<style type=\"text/css\">\n",
       "#T_91a48_row0_col0, #T_91a48_row0_col1 {\n",
       "  color: black;\n",
       "}\n",
       "</style>\n",
       "<table id=\"T_91a48\">\n",
       "  <thead>\n",
       "    <tr>\n",
       "      <th class=\"blank level0\" >&nbsp;</th>\n",
       "      <th id=\"T_91a48_level0_col0\" class=\"col_heading level0 col0\" >desc</th>\n",
       "      <th id=\"T_91a48_level0_col1\" class=\"col_heading level0 col1\" >country_desc</th>\n",
       "    </tr>\n",
       "  </thead>\n",
       "  <tbody>\n",
       "    <tr>\n",
       "      <th id=\"T_91a48_level0_row0\" class=\"row_heading level0 row0\" >0</th>\n",
       "      <td id=\"T_91a48_row0_col0\" class=\"data row0 col0\" >Singapore, Changi International Airport</td>\n",
       "      <td id=\"T_91a48_row0_col1\" class=\"data row0 col1\" >Singapore</td>\n",
       "    </tr>\n",
       "  </tbody>\n",
       "</table>\n"
      ],
      "text/plain": [
       "<pandas.io.formats.style.Styler at 0x11f870b50>"
      ]
     },
     "execution_count": 90,
     "metadata": {},
     "output_type": "execute_result"
    }
   ],
   "source": [
    "?[desc, country_desc] := *airport{code: 'SIN', desc, country: country_code}, *country{code: country_code, desc: country_desc}"
   ]
  },
  {
   "cell_type": "markdown",
   "metadata": {},
   "source": [
    "Finally, let's collapse the `route` relation into `super_route`:"
   ]
  },
  {
   "cell_type": "code",
   "execution_count": 91,
   "metadata": {},
   "outputs": [
    {
     "data": {
      "text/html": [
       "<style type=\"text/css\">\n",
       "#T_48bf9_row0_col0 {\n",
       "  color: black;\n",
       "}\n",
       "</style>\n",
       "<table id=\"T_48bf9\">\n",
       "  <thead>\n",
       "    <tr>\n",
       "      <th class=\"blank level0\" >&nbsp;</th>\n",
       "      <th id=\"T_48bf9_level0_col0\" class=\"col_heading level0 col0\" >status</th>\n",
       "    </tr>\n",
       "  </thead>\n",
       "  <tbody>\n",
       "    <tr>\n",
       "      <th id=\"T_48bf9_level0_row0\" class=\"row_heading level0 row0\" >0</th>\n",
       "      <td id=\"T_48bf9_row0_col0\" class=\"data row0 col0\" >OK</td>\n",
       "    </tr>\n",
       "  </tbody>\n",
       "</table>\n"
      ],
      "text/plain": [
       "<pandas.io.formats.style.Styler at 0x11f871690>"
      ]
     },
     "execution_count": 91,
     "metadata": {},
     "output_type": "execute_result"
    }
   ],
   "source": [
    "?[fr_cluster, to_cluster, count(dist), sum(dist)] := *route{fr, to, dist}, \n",
    "                                                     *community{code: fr, cluster: fr_cluster},\n",
    "                                                     *community{code: to, cluster: to_cluster}\n",
    ":replace super_route {fr_cluster, to_cluster => n_routes=count(dist), total_distance=sum(dist)}"
   ]
  },
  {
   "cell_type": "markdown",
   "metadata": {},
   "source": [
    "As expected, the \"diagonals\" where `fr_cluster == to_cluster` are larger in the `super_route` graph:"
   ]
  },
  {
   "cell_type": "code",
   "execution_count": 92,
   "metadata": {},
   "outputs": [
    {
     "data": {
      "text/html": [
       "<style type=\"text/css\">\n",
       "#T_90539_row0_col0, #T_90539_row0_col1, #T_90539_row0_col2, #T_90539_row0_col3, #T_90539_row1_col0, #T_90539_row1_col1, #T_90539_row1_col2, #T_90539_row1_col3, #T_90539_row2_col0, #T_90539_row2_col1, #T_90539_row2_col2, #T_90539_row2_col3, #T_90539_row3_col0, #T_90539_row3_col1, #T_90539_row3_col2, #T_90539_row3_col3, #T_90539_row4_col0, #T_90539_row4_col1, #T_90539_row4_col2, #T_90539_row4_col3, #T_90539_row5_col0, #T_90539_row5_col1, #T_90539_row5_col2, #T_90539_row5_col3, #T_90539_row6_col0, #T_90539_row6_col1, #T_90539_row6_col2, #T_90539_row6_col3, #T_90539_row7_col0, #T_90539_row7_col1, #T_90539_row7_col2, #T_90539_row7_col3, #T_90539_row8_col0, #T_90539_row8_col1, #T_90539_row8_col2, #T_90539_row8_col3, #T_90539_row9_col0, #T_90539_row9_col1, #T_90539_row9_col2, #T_90539_row9_col3, #T_90539_row10_col0, #T_90539_row10_col1, #T_90539_row10_col2, #T_90539_row10_col3, #T_90539_row11_col0, #T_90539_row11_col1, #T_90539_row11_col2, #T_90539_row11_col3, #T_90539_row12_col0, #T_90539_row12_col1, #T_90539_row12_col2, #T_90539_row12_col3, #T_90539_row13_col0, #T_90539_row13_col1, #T_90539_row13_col2, #T_90539_row13_col3, #T_90539_row14_col0, #T_90539_row14_col1, #T_90539_row14_col2, #T_90539_row14_col3, #T_90539_row15_col0, #T_90539_row15_col1, #T_90539_row15_col2, #T_90539_row15_col3 {\n",
       "  color: #307fc1;\n",
       "}\n",
       "</style>\n",
       "<table id=\"T_90539\">\n",
       "  <thead>\n",
       "    <tr>\n",
       "      <th class=\"blank level0\" >&nbsp;</th>\n",
       "      <th id=\"T_90539_level0_col0\" class=\"col_heading level0 col0\" >fr_cluster</th>\n",
       "      <th id=\"T_90539_level0_col1\" class=\"col_heading level0 col1\" >to_cluster</th>\n",
       "      <th id=\"T_90539_level0_col2\" class=\"col_heading level0 col2\" >n_routes</th>\n",
       "      <th id=\"T_90539_level0_col3\" class=\"col_heading level0 col3\" >total_distance</th>\n",
       "    </tr>\n",
       "  </thead>\n",
       "  <tbody>\n",
       "    <tr>\n",
       "      <th id=\"T_90539_level0_row0\" class=\"row_heading level0 row0\" >0</th>\n",
       "      <td id=\"T_90539_row0_col0\" class=\"data row0 col0\" >0</td>\n",
       "      <td id=\"T_90539_row0_col1\" class=\"data row0 col1\" >0</td>\n",
       "      <td id=\"T_90539_row0_col2\" class=\"data row0 col2\" >9041</td>\n",
       "      <td id=\"T_90539_row0_col3\" class=\"data row0 col3\" >8933554.000000</td>\n",
       "    </tr>\n",
       "    <tr>\n",
       "      <th id=\"T_90539_level0_row1\" class=\"row_heading level0 row1\" >1</th>\n",
       "      <td id=\"T_90539_row1_col0\" class=\"data row1 col0\" >0</td>\n",
       "      <td id=\"T_90539_row1_col1\" class=\"data row1 col1\" >1</td>\n",
       "      <td id=\"T_90539_row1_col2\" class=\"data row1 col2\" >434</td>\n",
       "      <td id=\"T_90539_row1_col3\" class=\"data row1 col3\" >1695379.000000</td>\n",
       "    </tr>\n",
       "    <tr>\n",
       "      <th id=\"T_90539_level0_row2\" class=\"row_heading level0 row2\" >2</th>\n",
       "      <td id=\"T_90539_row2_col0\" class=\"data row2 col0\" >0</td>\n",
       "      <td id=\"T_90539_row2_col1\" class=\"data row2 col1\" >2</td>\n",
       "      <td id=\"T_90539_row2_col2\" class=\"data row2 col2\" >228</td>\n",
       "      <td id=\"T_90539_row2_col3\" class=\"data row2 col3\" >761661.000000</td>\n",
       "    </tr>\n",
       "    <tr>\n",
       "      <th id=\"T_90539_level0_row3\" class=\"row_heading level0 row3\" >3</th>\n",
       "      <td id=\"T_90539_row3_col0\" class=\"data row3 col0\" >0</td>\n",
       "      <td id=\"T_90539_row3_col1\" class=\"data row3 col1\" >3</td>\n",
       "      <td id=\"T_90539_row3_col2\" class=\"data row3 col2\" >530</td>\n",
       "      <td id=\"T_90539_row3_col3\" class=\"data row3 col3\" >1681865.000000</td>\n",
       "    </tr>\n",
       "    <tr>\n",
       "      <th id=\"T_90539_level0_row4\" class=\"row_heading level0 row4\" >4</th>\n",
       "      <td id=\"T_90539_row4_col0\" class=\"data row4 col0\" >0</td>\n",
       "      <td id=\"T_90539_row4_col1\" class=\"data row4 col1\" >4</td>\n",
       "      <td id=\"T_90539_row4_col2\" class=\"data row4 col2\" >163</td>\n",
       "      <td id=\"T_90539_row4_col3\" class=\"data row4 col3\" >391892.000000</td>\n",
       "    </tr>\n",
       "    <tr>\n",
       "      <th id=\"T_90539_level0_row5\" class=\"row_heading level0 row5\" >5</th>\n",
       "      <td id=\"T_90539_row5_col0\" class=\"data row5 col0\" >0</td>\n",
       "      <td id=\"T_90539_row5_col1\" class=\"data row5 col1\" >8</td>\n",
       "      <td id=\"T_90539_row5_col2\" class=\"data row5 col2\" >3</td>\n",
       "      <td id=\"T_90539_row5_col3\" class=\"data row5 col3\" >300.000000</td>\n",
       "    </tr>\n",
       "    <tr>\n",
       "      <th id=\"T_90539_level0_row6\" class=\"row_heading level0 row6\" >6</th>\n",
       "      <td id=\"T_90539_row6_col0\" class=\"data row6 col0\" >0</td>\n",
       "      <td id=\"T_90539_row6_col1\" class=\"data row6 col1\" >11</td>\n",
       "      <td id=\"T_90539_row6_col2\" class=\"data row6 col2\" >2</td>\n",
       "      <td id=\"T_90539_row6_col3\" class=\"data row6 col3\" >283.000000</td>\n",
       "    </tr>\n",
       "    <tr>\n",
       "      <th id=\"T_90539_level0_row7\" class=\"row_heading level0 row7\" >7</th>\n",
       "      <td id=\"T_90539_row7_col0\" class=\"data row7 col0\" >0</td>\n",
       "      <td id=\"T_90539_row7_col1\" class=\"data row7 col1\" >19</td>\n",
       "      <td id=\"T_90539_row7_col2\" class=\"data row7 col2\" >1</td>\n",
       "      <td id=\"T_90539_row7_col3\" class=\"data row7 col3\" >238.000000</td>\n",
       "    </tr>\n",
       "    <tr>\n",
       "      <th id=\"T_90539_level0_row8\" class=\"row_heading level0 row8\" >8</th>\n",
       "      <td id=\"T_90539_row8_col0\" class=\"data row8 col0\" >0</td>\n",
       "      <td id=\"T_90539_row8_col1\" class=\"data row8 col1\" >21</td>\n",
       "      <td id=\"T_90539_row8_col2\" class=\"data row8 col2\" >2</td>\n",
       "      <td id=\"T_90539_row8_col3\" class=\"data row8 col3\" >705.000000</td>\n",
       "    </tr>\n",
       "    <tr>\n",
       "      <th id=\"T_90539_level0_row9\" class=\"row_heading level0 row9\" >9</th>\n",
       "      <td id=\"T_90539_row9_col0\" class=\"data row9 col0\" >0</td>\n",
       "      <td id=\"T_90539_row9_col1\" class=\"data row9 col1\" >22</td>\n",
       "      <td id=\"T_90539_row9_col2\" class=\"data row9 col2\" >1</td>\n",
       "      <td id=\"T_90539_row9_col3\" class=\"data row9 col3\" >975.000000</td>\n",
       "    </tr>\n",
       "    <tr>\n",
       "      <th id=\"T_90539_level0_row10\" class=\"row_heading level0 row10\" >10</th>\n",
       "      <td id=\"T_90539_row10_col0\" class=\"data row10 col0\" >1</td>\n",
       "      <td id=\"T_90539_row10_col1\" class=\"data row10 col1\" >0</td>\n",
       "      <td id=\"T_90539_row10_col2\" class=\"data row10 col2\" >434</td>\n",
       "      <td id=\"T_90539_row10_col3\" class=\"data row10 col3\" >1696858.000000</td>\n",
       "    </tr>\n",
       "    <tr>\n",
       "      <th id=\"T_90539_level0_row11\" class=\"row_heading level0 row11\" >11</th>\n",
       "      <td id=\"T_90539_row11_col0\" class=\"data row11 col0\" >1</td>\n",
       "      <td id=\"T_90539_row11_col1\" class=\"data row11 col1\" >1</td>\n",
       "      <td id=\"T_90539_row11_col2\" class=\"data row11 col2\" >4474</td>\n",
       "      <td id=\"T_90539_row11_col3\" class=\"data row11 col3\" >5142452.000000</td>\n",
       "    </tr>\n",
       "    <tr>\n",
       "      <th id=\"T_90539_level0_row12\" class=\"row_heading level0 row12\" >12</th>\n",
       "      <td id=\"T_90539_row12_col0\" class=\"data row12 col0\" >1</td>\n",
       "      <td id=\"T_90539_row12_col1\" class=\"data row12 col1\" >2</td>\n",
       "      <td id=\"T_90539_row12_col2\" class=\"data row12 col2\" >1160</td>\n",
       "      <td id=\"T_90539_row12_col3\" class=\"data row12 col3\" >1492734.000000</td>\n",
       "    </tr>\n",
       "    <tr>\n",
       "      <th id=\"T_90539_level0_row13\" class=\"row_heading level0 row13\" >13</th>\n",
       "      <td id=\"T_90539_row13_col0\" class=\"data row13 col0\" >1</td>\n",
       "      <td id=\"T_90539_row13_col1\" class=\"data row13 col1\" >3</td>\n",
       "      <td id=\"T_90539_row13_col2\" class=\"data row13 col2\" >526</td>\n",
       "      <td id=\"T_90539_row13_col3\" class=\"data row13 col3\" >1724591.000000</td>\n",
       "    </tr>\n",
       "    <tr>\n",
       "      <th id=\"T_90539_level0_row14\" class=\"row_heading level0 row14\" >14</th>\n",
       "      <td id=\"T_90539_row14_col0\" class=\"data row14 col0\" >1</td>\n",
       "      <td id=\"T_90539_row14_col1\" class=\"data row14 col1\" >4</td>\n",
       "      <td id=\"T_90539_row14_col2\" class=\"data row14 col2\" >223</td>\n",
       "      <td id=\"T_90539_row14_col3\" class=\"data row14 col3\" >361986.000000</td>\n",
       "    </tr>\n",
       "    <tr>\n",
       "      <th id=\"T_90539_level0_row15\" class=\"row_heading level0 row15\" >15</th>\n",
       "      <td id=\"T_90539_row15_col0\" class=\"data row15 col0\" >1</td>\n",
       "      <td id=\"T_90539_row15_col1\" class=\"data row15 col1\" >9</td>\n",
       "      <td id=\"T_90539_row15_col2\" class=\"data row15 col2\" >1</td>\n",
       "      <td id=\"T_90539_row15_col3\" class=\"data row15 col3\" >808.000000</td>\n",
       "    </tr>\n",
       "  </tbody>\n",
       "</table>\n"
      ],
      "text/plain": [
       "<pandas.io.formats.style.Styler at 0x11f870b20>"
      ]
     },
     "execution_count": 92,
     "metadata": {},
     "output_type": "execute_result"
    }
   ],
   "source": [
    "?[fr_cluster, to_cluster, n_routes, total_distance] := *super_route{fr_cluster, to_cluster, n_routes, total_distance}, fr_cluster < 2"
   ]
  },
  {
   "cell_type": "markdown",
   "metadata": {},
   "source": [
    "Now the super graph is small enough that all analytics algorithms return instantly:"
   ]
  },
  {
   "cell_type": "code",
   "execution_count": 93,
   "metadata": {},
   "outputs": [
    {
     "data": {
      "text/html": [
       "<style type=\"text/css\">\n",
       "#T_0a93f_row0_col0, #T_0a93f_row0_col1, #T_0a93f_row1_col0, #T_0a93f_row1_col1, #T_0a93f_row2_col0, #T_0a93f_row2_col1, #T_0a93f_row3_col0, #T_0a93f_row3_col1, #T_0a93f_row4_col0, #T_0a93f_row4_col1 {\n",
       "  color: #307fc1;\n",
       "}\n",
       "</style>\n",
       "<table id=\"T_0a93f\">\n",
       "  <thead>\n",
       "    <tr>\n",
       "      <th class=\"blank level0\" >&nbsp;</th>\n",
       "      <th id=\"T_0a93f_level0_col0\" class=\"col_heading level0 col0\" >cluster</th>\n",
       "      <th id=\"T_0a93f_level0_col1\" class=\"col_heading level0 col1\" >score</th>\n",
       "    </tr>\n",
       "  </thead>\n",
       "  <tbody>\n",
       "    <tr>\n",
       "      <th id=\"T_0a93f_level0_row0\" class=\"row_heading level0 row0\" >0</th>\n",
       "      <td id=\"T_0a93f_row0_col0\" class=\"data row0 col0\" >3</td>\n",
       "      <td id=\"T_0a93f_row0_col1\" class=\"data row0 col1\" >0.173309</td>\n",
       "    </tr>\n",
       "    <tr>\n",
       "      <th id=\"T_0a93f_level0_row1\" class=\"row_heading level0 row1\" >1</th>\n",
       "      <td id=\"T_0a93f_row1_col0\" class=\"data row1 col0\" >0</td>\n",
       "      <td id=\"T_0a93f_row1_col1\" class=\"data row1 col1\" >0.093072</td>\n",
       "    </tr>\n",
       "    <tr>\n",
       "      <th id=\"T_0a93f_level0_row2\" class=\"row_heading level0 row2\" >2</th>\n",
       "      <td id=\"T_0a93f_row2_col0\" class=\"data row2 col0\" >1</td>\n",
       "      <td id=\"T_0a93f_row2_col1\" class=\"data row2 col1\" >0.053465</td>\n",
       "    </tr>\n",
       "    <tr>\n",
       "      <th id=\"T_0a93f_level0_row3\" class=\"row_heading level0 row3\" >3</th>\n",
       "      <td id=\"T_0a93f_row3_col0\" class=\"data row3 col0\" >2</td>\n",
       "      <td id=\"T_0a93f_row3_col1\" class=\"data row3 col1\" >0.053389</td>\n",
       "    </tr>\n",
       "    <tr>\n",
       "      <th id=\"T_0a93f_level0_row4\" class=\"row_heading level0 row4\" >4</th>\n",
       "      <td id=\"T_0a93f_row4_col0\" class=\"data row4 col0\" >4</td>\n",
       "      <td id=\"T_0a93f_row4_col1\" class=\"data row4 col1\" >0.044654</td>\n",
       "    </tr>\n",
       "  </tbody>\n",
       "</table>\n"
      ],
      "text/plain": [
       "<pandas.io.formats.style.Styler at 0x11f872230>"
      ]
     },
     "execution_count": 93,
     "metadata": {},
     "output_type": "execute_result"
    }
   ],
   "source": [
    "?[cluster, score] <~ PageRank(*super_route[])\n",
    ":order -score\n",
    ":limit 5"
   ]
  },
  {
   "cell_type": "markdown",
   "metadata": {},
   "source": [
    "You can now go on to investigate the supernodes, give real-world interpretations to them, etc. \n",
    "For example, a naïve interpretation of the above PageRank result is that \n",
    "North America is (still) the most prosperous part of the world,\n",
    "followed by East Asia in the second place, South Asia in the third place, and Europe in the fourth place.\n",
    "\n",
    "That's it for the tutorial. Now, continue learning with the [Manual](https://cozodb.github.io/current/manual/index.html)!"
   ]
  }
 ],
 "metadata": {
  "kernelspec": {
   "display_name": "Python 2",
   "language": "python",
   "name": "python2"
  },
  "language_info": {
   "codemirror_mode": {
    "name": "ipython",
    "version": 2
   },
   "file_extension": ".py",
   "mimetype": "text/x-python",
   "name": "python",
   "nbconvert_exporter": "python",
   "pygments_lexer": "ipython2",
   "version": "2.7.18"
  }
 },
 "nbformat": 4,
 "nbformat_minor": 5
}
